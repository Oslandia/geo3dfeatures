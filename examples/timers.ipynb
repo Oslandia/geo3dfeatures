{
 "cells": [
  {
   "cell_type": "markdown",
   "metadata": {},
   "source": [
    "# Chronométrage de la génération de features"
   ]
  },
  {
   "cell_type": "markdown",
   "metadata": {},
   "source": [
    "Nous essayons de déterminer dans ce notebook quelles sont les étapes les plus chronophages de la génération de features, entre lecture, calcul des propriétés géométriques des points dans un nuage de points 3D, et écriture sur le disque."
   ]
  },
  {
   "cell_type": "markdown",
   "metadata": {},
   "source": [
    "Les chronométrages ont été effectués via le module `pstats`, pour un ensemble de configuration croisant différents paramètres :\n",
    "- nombre de points pour lesquels les propriétés ont été calculées (5000, 10000, 50000, 100000);\n",
    "- nombre de points dans le voisinage du point d'intérêt servant au calcul des propriétés géométriques (20, 50, 100);\n",
    "- ensemble des propriétés considérées (alphabeta pour les coordonnées barycentriques d'après CANUPO, eigenvalues pour les métriques tirées des valeurs propres du nuage de point local, full pour l'ensemble des métriques)."
   ]
  },
  {
   "cell_type": "markdown",
   "metadata": {},
   "source": [
    "## Introduction"
   ]
  },
  {
   "cell_type": "markdown",
   "metadata": {},
   "source": [
    "Import des modules de travail, et lecture du fichier contenant les chronométrages :"
   ]
  },
  {
   "cell_type": "code",
   "execution_count": 2,
   "metadata": {},
   "outputs": [],
   "source": [
    "import pandas as pd\n",
    "import matplotlib.pyplot as plt\n",
    "import numpy as np\n",
    "from pathlib import Path\n",
    "import seaborn as sns\n",
    "\n",
    "%matplotlib inline"
   ]
  },
  {
   "cell_type": "code",
   "execution_count": 3,
   "metadata": {},
   "outputs": [],
   "source": [
    "TIMER_FILE = Path(\"..\", \"data\", \"profiling\", \"190305\", \"timers\", \"timers.csv\")"
   ]
  },
  {
   "cell_type": "code",
   "execution_count": 5,
   "metadata": {},
   "outputs": [],
   "source": [
    "timers = pd.read_csv(str(TIMER_FILE))"
   ]
  },
  {
   "cell_type": "code",
   "execution_count": 6,
   "metadata": {},
   "outputs": [
    {
     "data": {
      "text/plain": [
       "(528, 9)"
      ]
     },
     "execution_count": 6,
     "metadata": {},
     "output_type": "execute_result"
    }
   ],
   "source": [
    "timers.shape"
   ]
  },
  {
   "cell_type": "code",
   "execution_count": 7,
   "metadata": {},
   "outputs": [
    {
     "data": {
      "text/plain": [
       "Index(['function', 'nb_points', 'nb_neighbors', 'feature_set', 'nb_calls',\n",
       "       'total_time', 'total_time_per_call', 'cum_time', 'cum_time_per_call'],\n",
       "      dtype='object')"
      ]
     },
     "execution_count": 7,
     "metadata": {},
     "output_type": "execute_result"
    }
   ],
   "source": [
    "timers.columns"
   ]
  },
  {
   "cell_type": "markdown",
   "metadata": {},
   "source": [
    "## Quelles fonctions ?"
   ]
  },
  {
   "cell_type": "markdown",
   "metadata": {},
   "source": [
    "On note tout d'abord que les fonctions impliquées diffèrent en fonction de l'ensemble des propriétés:"
   ]
  },
  {
   "cell_type": "code",
   "execution_count": 8,
   "metadata": {},
   "outputs": [
    {
     "data": {
      "text/plain": [
       "nb_points  nb_neighbors  feature_set\n",
       "5000       20            alphabeta      12\n",
       "                         eigenvalues    13\n",
       "                         full           19\n",
       "           50            alphabeta      12\n",
       "                         eigenvalues    13\n",
       "                         full           19\n",
       "           100           alphabeta      12\n",
       "                         eigenvalues    13\n",
       "                         full           19\n",
       "10000      20            alphabeta      12\n",
       "                         eigenvalues    13\n",
       "                         full           19\n",
       "           50            alphabeta      12\n",
       "                         eigenvalues    13\n",
       "                         full           19\n",
       "           100           alphabeta      12\n",
       "                         eigenvalues    13\n",
       "                         full           19\n",
       "50000      20            alphabeta      12\n",
       "                         eigenvalues    13\n",
       "                         full           19\n",
       "           50            alphabeta      12\n",
       "                         eigenvalues    13\n",
       "                         full           19\n",
       "           100           alphabeta      12\n",
       "                         eigenvalues    13\n",
       "                         full           19\n",
       "100000     20            alphabeta      12\n",
       "                         eigenvalues    13\n",
       "                         full           19\n",
       "           50            alphabeta      12\n",
       "                         eigenvalues    13\n",
       "                         full           19\n",
       "           100           alphabeta      12\n",
       "                         eigenvalues    13\n",
       "                         full           19\n",
       "Name: function, dtype: int64"
      ]
     },
     "execution_count": 8,
     "metadata": {},
     "output_type": "execute_result"
    }
   ],
   "source": [
    "grouped_timers = timers.groupby([\"nb_points\", \"nb_neighbors\", \"feature_set\"])\n",
    "grouped_timers[\"function\"].count()"
   ]
  },
  {
   "cell_type": "markdown",
   "metadata": {},
   "source": [
    "Il y aurait 12 fonctions différentes impliquées pour le set `alphabeta`, 13 pour le set `eigenvalues` et 19 pour le set `full`."
   ]
  },
  {
   "cell_type": "markdown",
   "metadata": {},
   "source": [
    "En détail :"
   ]
  },
  {
   "cell_type": "code",
   "execution_count": 9,
   "metadata": {},
   "outputs": [
    {
     "data": {
      "text/plain": [
       "array(['features.py:53(normalized_eigenvalues)',\n",
       "       'features.py:71(triangle_variance_space)',\n",
       "       'features.py:6(<module>)', 'extract.py:49(build_neighborhood)',\n",
       "       'extract.py:72(fitted_pca)', 'extract.py:89(alphabeta_features)',\n",
       "       'extract.py:14(<module>)', 'extract.py:34(compute_tree)',\n",
       "       '__init__.py:4(<module>)', 'io.py:14(xyz)',\n",
       "       'io.py:82(write_features)', 'io.py:5(<module>)'], dtype=object)"
      ]
     },
     "execution_count": 9,
     "metadata": {},
     "output_type": "execute_result"
    }
   ],
   "source": [
    "timers.loc[timers[\"feature_set\"] == \"alphabeta\"][\"function\"].unique()"
   ]
  },
  {
   "cell_type": "markdown",
   "metadata": {},
   "source": [
    "Pour le set `alphabeta`, on trouve les fonctions de la pile d'exécution (auxquelles s'ajoutent les modules sollicités) :\n",
    "- la lecture du fichier matérialisée par la fonction `io.py:14(xyz)`.\n",
    "- l'extraction de features réalisée au sein de la fonction `extract.py:89(alphabeta_features)`. Cette fonction appelle `extract.py:34(compute_tree)`, puis boucle sur l'ensemble des points considéré en appelant `extract.py:49(build_neighborhood)`, `extract.py:72(fitted_pca)` et `features.py:71(triangle_variance_space)`, cette dernière appelant `features.py:54(normalized_eigenvalues)`.\n",
    "- l'écriture du résultat via `io.py:82(write_features)`."
   ]
  },
  {
   "cell_type": "code",
   "execution_count": 10,
   "metadata": {},
   "outputs": [
    {
     "data": {
      "text/plain": [
       "array(['features.py:53(normalized_eigenvalues)',\n",
       "       'features.py:71(triangle_variance_space)',\n",
       "       'features.py:114(compute_3D_features)', 'features.py:6(<module>)',\n",
       "       'extract.py:49(build_neighborhood)', 'extract.py:72(fitted_pca)',\n",
       "       'extract.py:132(eigen_features)', 'extract.py:14(<module>)',\n",
       "       'extract.py:34(compute_tree)', '__init__.py:4(<module>)',\n",
       "       'io.py:14(xyz)', 'io.py:82(write_features)', 'io.py:5(<module>)'],\n",
       "      dtype=object)"
      ]
     },
     "execution_count": 10,
     "metadata": {},
     "output_type": "execute_result"
    }
   ],
   "source": [
    "timers.loc[timers[\"feature_set\"] == \"eigenvalues\"][\"function\"].unique()"
   ]
  },
  {
   "cell_type": "markdown",
   "metadata": {},
   "source": [
    "Par rapport au premier ensemble de fonctions, le set `eigenvalues` amène quelques différences :\n",
    "- `extract.py:132(eigen_features)` remplace `extract.py:89(alphabeta_features)`\n",
    "- `features.py:114(compute_3D_features)` apparaît dans la pile d'exécution, cette fonction calculant à chaque itération les métriques liées aux valeurs propres du nuage de point local."
   ]
  },
  {
   "cell_type": "code",
   "execution_count": 11,
   "metadata": {},
   "outputs": [
    {
     "data": {
      "text/plain": [
       "array(['features.py:12(accumulation_2d_neighborhood)',\n",
       "       'features.py:53(normalized_eigenvalues)',\n",
       "       'features.py:71(triangle_variance_space)',\n",
       "       'features.py:114(compute_3D_features)',\n",
       "       'features.py:147(compute_2D_features)',\n",
       "       'features.py:167(compute_3D_properties)',\n",
       "       'features.py:210(<listcomp>)',\n",
       "       'features.py:194(compute_2D_properties)',\n",
       "       'features.py:217(verticality_coefficient)',\n",
       "       'features.py:6(<module>)', 'extract.py:49(build_neighborhood)',\n",
       "       'extract.py:72(fitted_pca)', 'extract.py:191(all_features)',\n",
       "       'extract.py:14(<module>)', 'extract.py:34(compute_tree)',\n",
       "       '__init__.py:4(<module>)', 'io.py:14(xyz)',\n",
       "       'io.py:82(write_features)', 'io.py:5(<module>)'], dtype=object)"
      ]
     },
     "execution_count": 11,
     "metadata": {},
     "output_type": "execute_result"
    }
   ],
   "source": [
    "timers.loc[timers[\"feature_set\"] == \"full\"][\"function\"].unique()"
   ]
  },
  {
   "cell_type": "markdown",
   "metadata": {},
   "source": [
    "Enfin, le troisième ensemble de fonction, lié au set `full` est le plus fourni. Par rapport aux sets précédents, on a les changements suivants :\n",
    "- `extract.py:191(all_features)` remplace `extract.py:89(alphabeta_features)`;\n",
    "- `features.py:12(accumulation_2d_neighborhood)` est appelé une fois avant l'itération principale de la fonction, pour calculer des métriques via un quadrillage de l'espace (x, y) du nuage de point;\n",
    "- de nouvelles fonctions sont appelées à chaque itération pour donner des features complémentaires: `features.py:12(compute_3D_properties)`, `features.py:12(verticality_coefficient)`, `features.py:12(compute_3D_features)`, `features.py:12(compute_2D_properties)` et `features.py:12(compute_2D_features)`."
   ]
  },
  {
   "cell_type": "markdown",
   "metadata": {},
   "source": [
    "## Temps par expérience"
   ]
  },
  {
   "cell_type": "markdown",
   "metadata": {},
   "source": [
    "Pour avoir une idée globale du temps passé pour chaque expérience, nous pouvons faire la somme de tous les temps totaux passés dans les fonctions de lecture, traitement et écriture :"
   ]
  },
  {
   "cell_type": "code",
   "execution_count": 12,
   "metadata": {},
   "outputs": [],
   "source": [
    "functions_of_interest = ['io.py:14(xyz)', 'extract.py:89(alphabeta_features)', 'extract.py:132(eigen_features)', 'extract.py:191(all_features)', 'io.py:82(write_features)']"
   ]
  },
  {
   "cell_type": "code",
   "execution_count": 13,
   "metadata": {},
   "outputs": [],
   "source": [
    "function_mask = [f in functions_of_interest for f in timers[\"function\"]]\n",
    "simplified_timers = timers.loc[function_mask]"
   ]
  },
  {
   "cell_type": "code",
   "execution_count": 14,
   "metadata": {},
   "outputs": [
    {
     "data": {
      "text/html": [
       "<div>\n",
       "<style scoped>\n",
       "    .dataframe tbody tr th:only-of-type {\n",
       "        vertical-align: middle;\n",
       "    }\n",
       "\n",
       "    .dataframe tbody tr th {\n",
       "        vertical-align: top;\n",
       "    }\n",
       "\n",
       "    .dataframe thead th {\n",
       "        text-align: right;\n",
       "    }\n",
       "</style>\n",
       "<table border=\"1\" class=\"dataframe\">\n",
       "  <thead>\n",
       "    <tr style=\"text-align: right;\">\n",
       "      <th></th>\n",
       "      <th>feature_set</th>\n",
       "      <th>alphabeta</th>\n",
       "      <th>eigenvalues</th>\n",
       "      <th>full</th>\n",
       "    </tr>\n",
       "    <tr>\n",
       "      <th>nb_points</th>\n",
       "      <th>nb_neighbors</th>\n",
       "      <th></th>\n",
       "      <th></th>\n",
       "      <th></th>\n",
       "    </tr>\n",
       "  </thead>\n",
       "  <tbody>\n",
       "    <tr>\n",
       "      <th rowspan=\"3\" valign=\"top\">5000</th>\n",
       "      <th>20</th>\n",
       "      <td>33.917278</td>\n",
       "      <td>38.670586</td>\n",
       "      <td>36.510942</td>\n",
       "    </tr>\n",
       "    <tr>\n",
       "      <th>50</th>\n",
       "      <td>30.250447</td>\n",
       "      <td>31.188630</td>\n",
       "      <td>47.818995</td>\n",
       "    </tr>\n",
       "    <tr>\n",
       "      <th>100</th>\n",
       "      <td>32.925083</td>\n",
       "      <td>30.327588</td>\n",
       "      <td>39.920557</td>\n",
       "    </tr>\n",
       "    <tr>\n",
       "      <th rowspan=\"3\" valign=\"top\">10000</th>\n",
       "      <th>20</th>\n",
       "      <td>34.833878</td>\n",
       "      <td>36.829354</td>\n",
       "      <td>45.750073</td>\n",
       "    </tr>\n",
       "    <tr>\n",
       "      <th>50</th>\n",
       "      <td>35.772916</td>\n",
       "      <td>34.965960</td>\n",
       "      <td>48.340574</td>\n",
       "    </tr>\n",
       "    <tr>\n",
       "      <th>100</th>\n",
       "      <td>34.599573</td>\n",
       "      <td>34.785107</td>\n",
       "      <td>52.283653</td>\n",
       "    </tr>\n",
       "    <tr>\n",
       "      <th rowspan=\"3\" valign=\"top\">50000</th>\n",
       "      <th>20</th>\n",
       "      <td>74.945274</td>\n",
       "      <td>79.875861</td>\n",
       "      <td>134.185629</td>\n",
       "    </tr>\n",
       "    <tr>\n",
       "      <th>50</th>\n",
       "      <td>78.322971</td>\n",
       "      <td>89.554890</td>\n",
       "      <td>129.542335</td>\n",
       "    </tr>\n",
       "    <tr>\n",
       "      <th>100</th>\n",
       "      <td>66.890594</td>\n",
       "      <td>72.881896</td>\n",
       "      <td>132.189104</td>\n",
       "    </tr>\n",
       "    <tr>\n",
       "      <th rowspan=\"3\" valign=\"top\">100000</th>\n",
       "      <th>20</th>\n",
       "      <td>107.119141</td>\n",
       "      <td>115.613795</td>\n",
       "      <td>206.562024</td>\n",
       "    </tr>\n",
       "    <tr>\n",
       "      <th>50</th>\n",
       "      <td>112.687156</td>\n",
       "      <td>124.592306</td>\n",
       "      <td>224.388601</td>\n",
       "    </tr>\n",
       "    <tr>\n",
       "      <th>100</th>\n",
       "      <td>114.047209</td>\n",
       "      <td>126.291243</td>\n",
       "      <td>246.949532</td>\n",
       "    </tr>\n",
       "  </tbody>\n",
       "</table>\n",
       "</div>"
      ],
      "text/plain": [
       "feature_set              alphabeta  eigenvalues        full\n",
       "nb_points nb_neighbors                                     \n",
       "5000      20             33.917278    38.670586   36.510942\n",
       "          50             30.250447    31.188630   47.818995\n",
       "          100            32.925083    30.327588   39.920557\n",
       "10000     20             34.833878    36.829354   45.750073\n",
       "          50             35.772916    34.965960   48.340574\n",
       "          100            34.599573    34.785107   52.283653\n",
       "50000     20             74.945274    79.875861  134.185629\n",
       "          50             78.322971    89.554890  129.542335\n",
       "          100            66.890594    72.881896  132.189104\n",
       "100000    20            107.119141   115.613795  206.562024\n",
       "          50            112.687156   124.592306  224.388601\n",
       "          100           114.047209   126.291243  246.949532"
      ]
     },
     "execution_count": 14,
     "metadata": {},
     "output_type": "execute_result"
    }
   ],
   "source": [
    "cum_times = simplified_timers.groupby([\"nb_points\", \"nb_neighbors\", \"feature_set\"])[\"cum_time\"].sum()\n",
    "cum_times.unstack()"
   ]
  },
  {
   "cell_type": "markdown",
   "metadata": {},
   "source": [
    "Le temps passé à générer des features est :\n",
    "- moins que linéaire par rapport au nombre de points considérés\n",
    "- indépendant de la taille du voisinage\n",
    "- très impacté par les features complémentaires (set `full`)"
   ]
  },
  {
   "cell_type": "code",
   "execution_count": 20,
   "metadata": {},
   "outputs": [],
   "source": [
    "grouped_simplified_timers = simplified_timers.groupby([\"nb_points\", \"nb_neighbors\", \"feature_set\", \"function\"])[\"cum_time\"].sum().unstack()"
   ]
  },
  {
   "cell_type": "code",
   "execution_count": 21,
   "metadata": {},
   "outputs": [],
   "source": [
    "grouped_simplified_timers[\"generate_features\"] = np.nan\n",
    "grouped_simplified_timers.reset_index(inplace=True)\n",
    "grouped_simplified_timers.loc[grouped_simplified_timers[\"feature_set\"]==\"alphabeta\", \"generate_features\"] = grouped_simplified_timers[\"extract.py:89(alphabeta_features)\"]\n",
    "grouped_simplified_timers.loc[grouped_simplified_timers[\"feature_set\"]==\"eigenvalues\", \"generate_features\"] = grouped_simplified_timers[\"extract.py:132(eigen_features)\"]\n",
    "grouped_simplified_timers.loc[grouped_simplified_timers[\"feature_set\"]==\"full\", \"generate_features\"] = grouped_simplified_timers[\"extract.py:191(all_features)\"]\n",
    "grouped_simplified_timers.set_index([\"nb_points\", \"nb_neighbors\", \"feature_set\"], inplace=True)\n",
    "grouped_simplified_timers[\"reading\"] = grouped_simplified_timers[\"io.py:14(xyz)\"]\n",
    "grouped_simplified_timers[\"writing\"] = grouped_simplified_timers[\"io.py:82(write_features)\"]\n",
    "grouped_simplified_timers.drop(functions_of_interest, axis=1, inplace=True)"
   ]
  },
  {
   "cell_type": "code",
   "execution_count": 22,
   "metadata": {},
   "outputs": [
    {
     "data": {
      "text/html": [
       "<div>\n",
       "<style scoped>\n",
       "    .dataframe tbody tr th:only-of-type {\n",
       "        vertical-align: middle;\n",
       "    }\n",
       "\n",
       "    .dataframe tbody tr th {\n",
       "        vertical-align: top;\n",
       "    }\n",
       "\n",
       "    .dataframe thead th {\n",
       "        text-align: right;\n",
       "    }\n",
       "</style>\n",
       "<table border=\"1\" class=\"dataframe\">\n",
       "  <thead>\n",
       "    <tr style=\"text-align: right;\">\n",
       "      <th></th>\n",
       "      <th></th>\n",
       "      <th>function</th>\n",
       "      <th>generate_features</th>\n",
       "      <th>reading</th>\n",
       "      <th>writing</th>\n",
       "    </tr>\n",
       "    <tr>\n",
       "      <th>nb_points</th>\n",
       "      <th>nb_neighbors</th>\n",
       "      <th>feature_set</th>\n",
       "      <th></th>\n",
       "      <th></th>\n",
       "      <th></th>\n",
       "    </tr>\n",
       "  </thead>\n",
       "  <tbody>\n",
       "    <tr>\n",
       "      <th rowspan=\"9\" valign=\"top\">5000</th>\n",
       "      <th rowspan=\"3\" valign=\"top\">20</th>\n",
       "      <th>alphabeta</th>\n",
       "      <td>3.031627</td>\n",
       "      <td>27.671021</td>\n",
       "      <td>3.214630</td>\n",
       "    </tr>\n",
       "    <tr>\n",
       "      <th>eigenvalues</th>\n",
       "      <td>2.894964</td>\n",
       "      <td>32.617737</td>\n",
       "      <td>3.157885</td>\n",
       "    </tr>\n",
       "    <tr>\n",
       "      <th>full</th>\n",
       "      <td>5.203451</td>\n",
       "      <td>25.702532</td>\n",
       "      <td>5.604959</td>\n",
       "    </tr>\n",
       "    <tr>\n",
       "      <th rowspan=\"3\" valign=\"top\">50</th>\n",
       "      <th>alphabeta</th>\n",
       "      <td>2.765034</td>\n",
       "      <td>24.556400</td>\n",
       "      <td>2.929013</td>\n",
       "    </tr>\n",
       "    <tr>\n",
       "      <th>eigenvalues</th>\n",
       "      <td>2.818049</td>\n",
       "      <td>25.300700</td>\n",
       "      <td>3.069881</td>\n",
       "    </tr>\n",
       "    <tr>\n",
       "      <th>full</th>\n",
       "      <td>8.097293</td>\n",
       "      <td>31.081850</td>\n",
       "      <td>8.639852</td>\n",
       "    </tr>\n",
       "    <tr>\n",
       "      <th rowspan=\"3\" valign=\"top\">100</th>\n",
       "      <th>alphabeta</th>\n",
       "      <td>2.591862</td>\n",
       "      <td>27.594154</td>\n",
       "      <td>2.739067</td>\n",
       "    </tr>\n",
       "    <tr>\n",
       "      <th>eigenvalues</th>\n",
       "      <td>2.917289</td>\n",
       "      <td>24.248616</td>\n",
       "      <td>3.161683</td>\n",
       "    </tr>\n",
       "    <tr>\n",
       "      <th>full</th>\n",
       "      <td>6.848668</td>\n",
       "      <td>25.785906</td>\n",
       "      <td>7.285983</td>\n",
       "    </tr>\n",
       "    <tr>\n",
       "      <th rowspan=\"9\" valign=\"top\">10000</th>\n",
       "      <th rowspan=\"3\" valign=\"top\">20</th>\n",
       "      <th>alphabeta</th>\n",
       "      <td>4.747783</td>\n",
       "      <td>25.046597</td>\n",
       "      <td>5.039498</td>\n",
       "    </tr>\n",
       "    <tr>\n",
       "      <th>eigenvalues</th>\n",
       "      <td>5.323941</td>\n",
       "      <td>25.696569</td>\n",
       "      <td>5.808844</td>\n",
       "    </tr>\n",
       "    <tr>\n",
       "      <th>full</th>\n",
       "      <td>10.580346</td>\n",
       "      <td>23.791228</td>\n",
       "      <td>11.378499</td>\n",
       "    </tr>\n",
       "    <tr>\n",
       "      <th rowspan=\"3\" valign=\"top\">50</th>\n",
       "      <th>alphabeta</th>\n",
       "      <td>4.973614</td>\n",
       "      <td>25.538758</td>\n",
       "      <td>5.260544</td>\n",
       "    </tr>\n",
       "    <tr>\n",
       "      <th>eigenvalues</th>\n",
       "      <td>5.116935</td>\n",
       "      <td>24.284902</td>\n",
       "      <td>5.564123</td>\n",
       "    </tr>\n",
       "    <tr>\n",
       "      <th>full</th>\n",
       "      <td>11.305259</td>\n",
       "      <td>24.928671</td>\n",
       "      <td>12.106644</td>\n",
       "    </tr>\n",
       "    <tr>\n",
       "      <th rowspan=\"3\" valign=\"top\">100</th>\n",
       "      <th>alphabeta</th>\n",
       "      <td>4.794587</td>\n",
       "      <td>24.744774</td>\n",
       "      <td>5.060212</td>\n",
       "    </tr>\n",
       "    <tr>\n",
       "      <th>eigenvalues</th>\n",
       "      <td>5.316896</td>\n",
       "      <td>23.686394</td>\n",
       "      <td>5.781817</td>\n",
       "    </tr>\n",
       "    <tr>\n",
       "      <th>full</th>\n",
       "      <td>13.140783</td>\n",
       "      <td>25.176658</td>\n",
       "      <td>13.966212</td>\n",
       "    </tr>\n",
       "    <tr>\n",
       "      <th rowspan=\"9\" valign=\"top\">50000</th>\n",
       "      <th rowspan=\"3\" valign=\"top\">20</th>\n",
       "      <th>alphabeta</th>\n",
       "      <td>25.082383</td>\n",
       "      <td>23.295356</td>\n",
       "      <td>26.567535</td>\n",
       "    </tr>\n",
       "    <tr>\n",
       "      <th>eigenvalues</th>\n",
       "      <td>26.848184</td>\n",
       "      <td>23.832128</td>\n",
       "      <td>29.195549</td>\n",
       "    </tr>\n",
       "    <tr>\n",
       "      <th>full</th>\n",
       "      <td>53.032816</td>\n",
       "      <td>24.040330</td>\n",
       "      <td>57.112483</td>\n",
       "    </tr>\n",
       "    <tr>\n",
       "      <th rowspan=\"3\" valign=\"top\">50</th>\n",
       "      <th>alphabeta</th>\n",
       "      <td>26.239921</td>\n",
       "      <td>24.368349</td>\n",
       "      <td>27.714701</td>\n",
       "    </tr>\n",
       "    <tr>\n",
       "      <th>eigenvalues</th>\n",
       "      <td>30.566350</td>\n",
       "      <td>25.848630</td>\n",
       "      <td>33.139910</td>\n",
       "    </tr>\n",
       "    <tr>\n",
       "      <th>full</th>\n",
       "      <td>51.975119</td>\n",
       "      <td>21.917078</td>\n",
       "      <td>55.650138</td>\n",
       "    </tr>\n",
       "    <tr>\n",
       "      <th rowspan=\"3\" valign=\"top\">100</th>\n",
       "      <th>alphabeta</th>\n",
       "      <td>22.513927</td>\n",
       "      <td>20.667431</td>\n",
       "      <td>23.709236</td>\n",
       "    </tr>\n",
       "    <tr>\n",
       "      <th>eigenvalues</th>\n",
       "      <td>25.150052</td>\n",
       "      <td>20.518900</td>\n",
       "      <td>27.212944</td>\n",
       "    </tr>\n",
       "    <tr>\n",
       "      <th>full</th>\n",
       "      <td>54.053946</td>\n",
       "      <td>20.727239</td>\n",
       "      <td>57.407919</td>\n",
       "    </tr>\n",
       "    <tr>\n",
       "      <th rowspan=\"9\" valign=\"top\">100000</th>\n",
       "      <th rowspan=\"3\" valign=\"top\">20</th>\n",
       "      <th>alphabeta</th>\n",
       "      <td>41.897812</td>\n",
       "      <td>20.894373</td>\n",
       "      <td>44.326956</td>\n",
       "    </tr>\n",
       "    <tr>\n",
       "      <th>eigenvalues</th>\n",
       "      <td>45.072496</td>\n",
       "      <td>21.458356</td>\n",
       "      <td>49.082943</td>\n",
       "    </tr>\n",
       "    <tr>\n",
       "      <th>full</th>\n",
       "      <td>89.601829</td>\n",
       "      <td>20.545545</td>\n",
       "      <td>96.414650</td>\n",
       "    </tr>\n",
       "    <tr>\n",
       "      <th rowspan=\"3\" valign=\"top\">50</th>\n",
       "      <th>alphabeta</th>\n",
       "      <td>44.299710</td>\n",
       "      <td>21.578583</td>\n",
       "      <td>46.808863</td>\n",
       "    </tr>\n",
       "    <tr>\n",
       "      <th>eigenvalues</th>\n",
       "      <td>49.777086</td>\n",
       "      <td>20.787755</td>\n",
       "      <td>54.027465</td>\n",
       "    </tr>\n",
       "    <tr>\n",
       "      <th>full</th>\n",
       "      <td>98.467173</td>\n",
       "      <td>20.568291</td>\n",
       "      <td>105.353137</td>\n",
       "    </tr>\n",
       "    <tr>\n",
       "      <th rowspan=\"3\" valign=\"top\">100</th>\n",
       "      <th>alphabeta</th>\n",
       "      <td>45.465699</td>\n",
       "      <td>20.695589</td>\n",
       "      <td>47.885921</td>\n",
       "    </tr>\n",
       "    <tr>\n",
       "      <th>eigenvalues</th>\n",
       "      <td>50.814991</td>\n",
       "      <td>20.552322</td>\n",
       "      <td>54.923930</td>\n",
       "    </tr>\n",
       "    <tr>\n",
       "      <th>full</th>\n",
       "      <td>109.040466</td>\n",
       "      <td>22.212009</td>\n",
       "      <td>115.697057</td>\n",
       "    </tr>\n",
       "  </tbody>\n",
       "</table>\n",
       "</div>"
      ],
      "text/plain": [
       "function                            generate_features    reading     writing\n",
       "nb_points nb_neighbors feature_set                                          \n",
       "5000      20           alphabeta             3.031627  27.671021    3.214630\n",
       "                       eigenvalues           2.894964  32.617737    3.157885\n",
       "                       full                  5.203451  25.702532    5.604959\n",
       "          50           alphabeta             2.765034  24.556400    2.929013\n",
       "                       eigenvalues           2.818049  25.300700    3.069881\n",
       "                       full                  8.097293  31.081850    8.639852\n",
       "          100          alphabeta             2.591862  27.594154    2.739067\n",
       "                       eigenvalues           2.917289  24.248616    3.161683\n",
       "                       full                  6.848668  25.785906    7.285983\n",
       "10000     20           alphabeta             4.747783  25.046597    5.039498\n",
       "                       eigenvalues           5.323941  25.696569    5.808844\n",
       "                       full                 10.580346  23.791228   11.378499\n",
       "          50           alphabeta             4.973614  25.538758    5.260544\n",
       "                       eigenvalues           5.116935  24.284902    5.564123\n",
       "                       full                 11.305259  24.928671   12.106644\n",
       "          100          alphabeta             4.794587  24.744774    5.060212\n",
       "                       eigenvalues           5.316896  23.686394    5.781817\n",
       "                       full                 13.140783  25.176658   13.966212\n",
       "50000     20           alphabeta            25.082383  23.295356   26.567535\n",
       "                       eigenvalues          26.848184  23.832128   29.195549\n",
       "                       full                 53.032816  24.040330   57.112483\n",
       "          50           alphabeta            26.239921  24.368349   27.714701\n",
       "                       eigenvalues          30.566350  25.848630   33.139910\n",
       "                       full                 51.975119  21.917078   55.650138\n",
       "          100          alphabeta            22.513927  20.667431   23.709236\n",
       "                       eigenvalues          25.150052  20.518900   27.212944\n",
       "                       full                 54.053946  20.727239   57.407919\n",
       "100000    20           alphabeta            41.897812  20.894373   44.326956\n",
       "                       eigenvalues          45.072496  21.458356   49.082943\n",
       "                       full                 89.601829  20.545545   96.414650\n",
       "          50           alphabeta            44.299710  21.578583   46.808863\n",
       "                       eigenvalues          49.777086  20.787755   54.027465\n",
       "                       full                 98.467173  20.568291  105.353137\n",
       "          100          alphabeta            45.465699  20.695589   47.885921\n",
       "                       eigenvalues          50.814991  20.552322   54.923930\n",
       "                       full                109.040466  22.212009  115.697057"
      ]
     },
     "execution_count": 22,
     "metadata": {},
     "output_type": "execute_result"
    }
   ],
   "source": [
    "grouped_simplified_timers"
   ]
  },
  {
   "cell_type": "markdown",
   "metadata": {},
   "source": [
    "La dernière table montre un complément d'information intéressant. Il est possible de voir que le processus de lecture prend environ 25 secondes quelle que soit la configuration pour le nuage de points considérés (~1.9 millions de points)."
   ]
  },
  {
   "cell_type": "markdown",
   "metadata": {},
   "source": [
    "Ensuite, le processus d'écriture s'avère suivre de très près le processus de génération de features: et pour cause, la génération de features s'effectue via un générateur Python, ainsi l'opération n'est faite que lorsque l'itérateur est utilisé (pendant l'écriture)."
   ]
  },
  {
   "cell_type": "markdown",
   "metadata": {},
   "source": [
    "La majeure partie du temps passé correspond à la génération de features elle-même. Décomposons ce processus..."
   ]
  },
  {
   "cell_type": "code",
   "execution_count": 23,
   "metadata": {},
   "outputs": [
    {
     "data": {
      "text/plain": [
       "array(['features.py:53(normalized_eigenvalues)',\n",
       "       'features.py:71(triangle_variance_space)',\n",
       "       'features.py:6(<module>)', 'extract.py:49(build_neighborhood)',\n",
       "       'extract.py:72(fitted_pca)', 'extract.py:89(alphabeta_features)',\n",
       "       'extract.py:14(<module>)', 'extract.py:34(compute_tree)',\n",
       "       '__init__.py:4(<module>)', 'io.py:14(xyz)',\n",
       "       'io.py:82(write_features)', 'io.py:5(<module>)',\n",
       "       'features.py:114(compute_3D_features)',\n",
       "       'extract.py:132(eigen_features)',\n",
       "       'features.py:12(accumulation_2d_neighborhood)',\n",
       "       'features.py:147(compute_2D_features)',\n",
       "       'features.py:167(compute_3D_properties)',\n",
       "       'features.py:210(<listcomp>)',\n",
       "       'features.py:194(compute_2D_properties)',\n",
       "       'features.py:217(verticality_coefficient)',\n",
       "       'extract.py:191(all_features)'], dtype=object)"
      ]
     },
     "execution_count": 23,
     "metadata": {},
     "output_type": "execute_result"
    }
   ],
   "source": [
    "timers.function.unique()"
   ]
  },
  {
   "cell_type": "code",
   "execution_count": 27,
   "metadata": {},
   "outputs": [],
   "source": [
    "gen_feature_functions = [\"extract.py:72(fitted_pca)\",\n",
    "                         \"features.py:71(triangle_variance_space)\",\n",
    "                         \"extract.py:49(build_neighborhood)\",\n",
    "                         \"features.py:114(compute_3D_features)\",\n",
    "                         \"features.py:12(accumulation_2d_neighborhood)\",\n",
    "                         \"features.py:147(compute_2D_features)\",\n",
    "                         \"features.py:167(compute_3D_properties)\",\n",
    "                         \"features.py:194(compute_2D_properties)\",\n",
    "                         \"features.py:217(verticality_coefficient)\"]"
   ]
  },
  {
   "cell_type": "code",
   "execution_count": 28,
   "metadata": {},
   "outputs": [],
   "source": [
    "gen_feature_mask = [f in gen_feature_functions for f in timers[\"function\"]]\n",
    "gen_feature_timers = timers.loc[gen_feature_mask]"
   ]
  },
  {
   "cell_type": "code",
   "execution_count": 29,
   "metadata": {},
   "outputs": [
    {
     "data": {
      "text/html": [
       "<div>\n",
       "<style scoped>\n",
       "    .dataframe tbody tr th:only-of-type {\n",
       "        vertical-align: middle;\n",
       "    }\n",
       "\n",
       "    .dataframe tbody tr th {\n",
       "        vertical-align: top;\n",
       "    }\n",
       "\n",
       "    .dataframe thead th {\n",
       "        text-align: right;\n",
       "    }\n",
       "</style>\n",
       "<table border=\"1\" class=\"dataframe\">\n",
       "  <thead>\n",
       "    <tr style=\"text-align: right;\">\n",
       "      <th></th>\n",
       "      <th>feature_set</th>\n",
       "      <th>alphabeta</th>\n",
       "      <th>eigenvalues</th>\n",
       "      <th>full</th>\n",
       "    </tr>\n",
       "    <tr>\n",
       "      <th>nb_points</th>\n",
       "      <th>nb_neighbors</th>\n",
       "      <th></th>\n",
       "      <th></th>\n",
       "      <th></th>\n",
       "    </tr>\n",
       "  </thead>\n",
       "  <tbody>\n",
       "    <tr>\n",
       "      <th rowspan=\"3\" valign=\"top\">5000</th>\n",
       "      <th>20</th>\n",
       "      <td>2.883882</td>\n",
       "      <td>2.701654</td>\n",
       "      <td>4.939235</td>\n",
       "    </tr>\n",
       "    <tr>\n",
       "      <th>50</th>\n",
       "      <td>2.623806</td>\n",
       "      <td>2.624390</td>\n",
       "      <td>7.689498</td>\n",
       "    </tr>\n",
       "    <tr>\n",
       "      <th>100</th>\n",
       "      <td>2.451504</td>\n",
       "      <td>2.708717</td>\n",
       "      <td>6.522615</td>\n",
       "    </tr>\n",
       "    <tr>\n",
       "      <th rowspan=\"3\" valign=\"top\">10000</th>\n",
       "      <th>20</th>\n",
       "      <td>4.520155</td>\n",
       "      <td>4.967975</td>\n",
       "      <td>10.037736</td>\n",
       "    </tr>\n",
       "    <tr>\n",
       "      <th>50</th>\n",
       "      <td>4.721734</td>\n",
       "      <td>4.765252</td>\n",
       "      <td>10.742058</td>\n",
       "    </tr>\n",
       "    <tr>\n",
       "      <th>100</th>\n",
       "      <td>4.533276</td>\n",
       "      <td>4.932460</td>\n",
       "      <td>12.516148</td>\n",
       "    </tr>\n",
       "    <tr>\n",
       "      <th rowspan=\"3\" valign=\"top\">50000</th>\n",
       "      <th>20</th>\n",
       "      <td>23.893435</td>\n",
       "      <td>25.074239</td>\n",
       "      <td>50.312509</td>\n",
       "    </tr>\n",
       "    <tr>\n",
       "      <th>50</th>\n",
       "      <td>24.928739</td>\n",
       "      <td>28.500660</td>\n",
       "      <td>49.411940</td>\n",
       "    </tr>\n",
       "    <tr>\n",
       "      <th>100</th>\n",
       "      <td>21.307121</td>\n",
       "      <td>23.350591</td>\n",
       "      <td>51.597121</td>\n",
       "    </tr>\n",
       "    <tr>\n",
       "      <th rowspan=\"3\" valign=\"top\">100000</th>\n",
       "      <th>20</th>\n",
       "      <td>39.897907</td>\n",
       "      <td>42.126910</td>\n",
       "      <td>85.130328</td>\n",
       "    </tr>\n",
       "    <tr>\n",
       "      <th>50</th>\n",
       "      <td>42.047445</td>\n",
       "      <td>46.399878</td>\n",
       "      <td>93.693939</td>\n",
       "    </tr>\n",
       "    <tr>\n",
       "      <th>100</th>\n",
       "      <td>42.999794</td>\n",
       "      <td>47.305132</td>\n",
       "      <td>103.977357</td>\n",
       "    </tr>\n",
       "  </tbody>\n",
       "</table>\n",
       "</div>"
      ],
      "text/plain": [
       "feature_set             alphabeta  eigenvalues        full\n",
       "nb_points nb_neighbors                                    \n",
       "5000      20             2.883882     2.701654    4.939235\n",
       "          50             2.623806     2.624390    7.689498\n",
       "          100            2.451504     2.708717    6.522615\n",
       "10000     20             4.520155     4.967975   10.037736\n",
       "          50             4.721734     4.765252   10.742058\n",
       "          100            4.533276     4.932460   12.516148\n",
       "50000     20            23.893435    25.074239   50.312509\n",
       "          50            24.928739    28.500660   49.411940\n",
       "          100           21.307121    23.350591   51.597121\n",
       "100000    20            39.897907    42.126910   85.130328\n",
       "          50            42.047445    46.399878   93.693939\n",
       "          100           42.999794    47.305132  103.977357"
      ]
     },
     "execution_count": 29,
     "metadata": {},
     "output_type": "execute_result"
    }
   ],
   "source": [
    "cum_times = gen_feature_timers.groupby([\"nb_points\", \"nb_neighbors\", \"feature_set\"])[\"cum_time\"].sum()\n",
    "cum_times.unstack()"
   ]
  },
  {
   "cell_type": "markdown",
   "metadata": {},
   "source": [
    "Ces chiffres doivent être comparés avec ceux de la colonnes `generate_features`, dans la table précédente : on obtient le temps nécessaire pour la génération de features, une fois mis de côté le temps de calcul initial du KDTree."
   ]
  },
  {
   "cell_type": "markdown",
   "metadata": {},
   "source": [
    "### Ensemble `alphabeta`"
   ]
  },
  {
   "cell_type": "code",
   "execution_count": 30,
   "metadata": {},
   "outputs": [],
   "source": [
    "alphabeta_feature_timers = gen_feature_timers[gen_feature_timers[\"feature_set\"] == \"alphabeta\"]"
   ]
  },
  {
   "cell_type": "code",
   "execution_count": 31,
   "metadata": {},
   "outputs": [
    {
     "data": {
      "text/html": [
       "<div>\n",
       "<style scoped>\n",
       "    .dataframe tbody tr th:only-of-type {\n",
       "        vertical-align: middle;\n",
       "    }\n",
       "\n",
       "    .dataframe tbody tr th {\n",
       "        vertical-align: top;\n",
       "    }\n",
       "\n",
       "    .dataframe thead th {\n",
       "        text-align: right;\n",
       "    }\n",
       "</style>\n",
       "<table border=\"1\" class=\"dataframe\">\n",
       "  <thead>\n",
       "    <tr style=\"text-align: right;\">\n",
       "      <th></th>\n",
       "      <th>function</th>\n",
       "      <th>extract.py:49(build_neighborhood)</th>\n",
       "      <th>extract.py:72(fitted_pca)</th>\n",
       "      <th>features.py:71(triangle_variance_space)</th>\n",
       "    </tr>\n",
       "    <tr>\n",
       "      <th>nb_points</th>\n",
       "      <th>nb_neighbors</th>\n",
       "      <th></th>\n",
       "      <th></th>\n",
       "      <th></th>\n",
       "    </tr>\n",
       "  </thead>\n",
       "  <tbody>\n",
       "    <tr>\n",
       "      <th rowspan=\"3\" valign=\"top\">5000</th>\n",
       "      <th>20</th>\n",
       "      <td>0.666848</td>\n",
       "      <td>2.111396</td>\n",
       "      <td>0.105638</td>\n",
       "    </tr>\n",
       "    <tr>\n",
       "      <th>50</th>\n",
       "      <td>0.638065</td>\n",
       "      <td>1.892034</td>\n",
       "      <td>0.093707</td>\n",
       "    </tr>\n",
       "    <tr>\n",
       "      <th>100</th>\n",
       "      <td>0.638613</td>\n",
       "      <td>1.727674</td>\n",
       "      <td>0.085217</td>\n",
       "    </tr>\n",
       "    <tr>\n",
       "      <th rowspan=\"3\" valign=\"top\">10000</th>\n",
       "      <th>20</th>\n",
       "      <td>1.065521</td>\n",
       "      <td>3.287496</td>\n",
       "      <td>0.167138</td>\n",
       "    </tr>\n",
       "    <tr>\n",
       "      <th>50</th>\n",
       "      <td>1.176896</td>\n",
       "      <td>3.373028</td>\n",
       "      <td>0.171810</td>\n",
       "    </tr>\n",
       "    <tr>\n",
       "      <th>100</th>\n",
       "      <td>1.192320</td>\n",
       "      <td>3.181518</td>\n",
       "      <td>0.159438</td>\n",
       "    </tr>\n",
       "    <tr>\n",
       "      <th rowspan=\"3\" valign=\"top\">50000</th>\n",
       "      <th>20</th>\n",
       "      <td>6.253655</td>\n",
       "      <td>16.790404</td>\n",
       "      <td>0.849376</td>\n",
       "    </tr>\n",
       "    <tr>\n",
       "      <th>50</th>\n",
       "      <td>6.836914</td>\n",
       "      <td>17.237785</td>\n",
       "      <td>0.854040</td>\n",
       "    </tr>\n",
       "    <tr>\n",
       "      <th>100</th>\n",
       "      <td>6.137875</td>\n",
       "      <td>14.459647</td>\n",
       "      <td>0.709599</td>\n",
       "    </tr>\n",
       "    <tr>\n",
       "      <th rowspan=\"3\" valign=\"top\">100000</th>\n",
       "      <th>20</th>\n",
       "      <td>10.586164</td>\n",
       "      <td>27.921291</td>\n",
       "      <td>1.390452</td>\n",
       "    </tr>\n",
       "    <tr>\n",
       "      <th>50</th>\n",
       "      <td>11.786569</td>\n",
       "      <td>28.830917</td>\n",
       "      <td>1.429959</td>\n",
       "    </tr>\n",
       "    <tr>\n",
       "      <th>100</th>\n",
       "      <td>12.857360</td>\n",
       "      <td>28.741204</td>\n",
       "      <td>1.401230</td>\n",
       "    </tr>\n",
       "  </tbody>\n",
       "</table>\n",
       "</div>"
      ],
      "text/plain": [
       "function                extract.py:49(build_neighborhood)  \\\n",
       "nb_points nb_neighbors                                      \n",
       "5000      20                                     0.666848   \n",
       "          50                                     0.638065   \n",
       "          100                                    0.638613   \n",
       "10000     20                                     1.065521   \n",
       "          50                                     1.176896   \n",
       "          100                                    1.192320   \n",
       "50000     20                                     6.253655   \n",
       "          50                                     6.836914   \n",
       "          100                                    6.137875   \n",
       "100000    20                                    10.586164   \n",
       "          50                                    11.786569   \n",
       "          100                                   12.857360   \n",
       "\n",
       "function                extract.py:72(fitted_pca)  \\\n",
       "nb_points nb_neighbors                              \n",
       "5000      20                             2.111396   \n",
       "          50                             1.892034   \n",
       "          100                            1.727674   \n",
       "10000     20                             3.287496   \n",
       "          50                             3.373028   \n",
       "          100                            3.181518   \n",
       "50000     20                            16.790404   \n",
       "          50                            17.237785   \n",
       "          100                           14.459647   \n",
       "100000    20                            27.921291   \n",
       "          50                            28.830917   \n",
       "          100                           28.741204   \n",
       "\n",
       "function                features.py:71(triangle_variance_space)  \n",
       "nb_points nb_neighbors                                           \n",
       "5000      20                                           0.105638  \n",
       "          50                                           0.093707  \n",
       "          100                                          0.085217  \n",
       "10000     20                                           0.167138  \n",
       "          50                                           0.171810  \n",
       "          100                                          0.159438  \n",
       "50000     20                                           0.849376  \n",
       "          50                                           0.854040  \n",
       "          100                                          0.709599  \n",
       "100000    20                                           1.390452  \n",
       "          50                                           1.429959  \n",
       "          100                                          1.401230  "
      ]
     },
     "execution_count": 31,
     "metadata": {},
     "output_type": "execute_result"
    }
   ],
   "source": [
    "alphabeta_feature_timers.groupby([\"nb_points\", \"nb_neighbors\", \"function\"])[\"cum_time\"].mean().unstack()"
   ]
  },
  {
   "cell_type": "markdown",
   "metadata": {},
   "source": [
    "Pour le set de features `alphabeta`, seulement trois fonctions sont appelées durant la génération des features : `build_neighborhood` correspond à l'extraction des points voisins à partir du KDTree, `fitted_pca` retourne le modèle d'ACP pour le point courant et son voisinage alors que `triangle_variance_space` retourne les features."
   ]
  },
  {
   "cell_type": "markdown",
   "metadata": {},
   "source": [
    "Ces trois fonctions semblent peu influencées par la taille du voisinage, mais sont très sensibles au nombre de points considérés (relation linéaire)."
   ]
  },
  {
   "cell_type": "markdown",
   "metadata": {},
   "source": [
    "### Ensemble `eigenvalues`"
   ]
  },
  {
   "cell_type": "code",
   "execution_count": 32,
   "metadata": {},
   "outputs": [],
   "source": [
    "eigen_feature_timers = gen_feature_timers[gen_feature_timers[\"feature_set\"] == \"eigenvalues\"]"
   ]
  },
  {
   "cell_type": "code",
   "execution_count": 33,
   "metadata": {
    "scrolled": true
   },
   "outputs": [
    {
     "data": {
      "text/html": [
       "<div>\n",
       "<style scoped>\n",
       "    .dataframe tbody tr th:only-of-type {\n",
       "        vertical-align: middle;\n",
       "    }\n",
       "\n",
       "    .dataframe tbody tr th {\n",
       "        vertical-align: top;\n",
       "    }\n",
       "\n",
       "    .dataframe thead th {\n",
       "        text-align: right;\n",
       "    }\n",
       "</style>\n",
       "<table border=\"1\" class=\"dataframe\">\n",
       "  <thead>\n",
       "    <tr style=\"text-align: right;\">\n",
       "      <th></th>\n",
       "      <th>function</th>\n",
       "      <th>extract.py:49(build_neighborhood)</th>\n",
       "      <th>extract.py:72(fitted_pca)</th>\n",
       "      <th>features.py:114(compute_3D_features)</th>\n",
       "      <th>features.py:71(triangle_variance_space)</th>\n",
       "    </tr>\n",
       "    <tr>\n",
       "      <th>nb_points</th>\n",
       "      <th>nb_neighbors</th>\n",
       "      <th></th>\n",
       "      <th></th>\n",
       "      <th></th>\n",
       "      <th></th>\n",
       "    </tr>\n",
       "  </thead>\n",
       "  <tbody>\n",
       "    <tr>\n",
       "      <th rowspan=\"3\" valign=\"top\">5000</th>\n",
       "      <th>20</th>\n",
       "      <td>0.582090</td>\n",
       "      <td>1.849706</td>\n",
       "      <td>0.188372</td>\n",
       "      <td>0.081486</td>\n",
       "    </tr>\n",
       "    <tr>\n",
       "      <th>50</th>\n",
       "      <td>0.593153</td>\n",
       "      <td>1.768257</td>\n",
       "      <td>0.184813</td>\n",
       "      <td>0.078167</td>\n",
       "    </tr>\n",
       "    <tr>\n",
       "      <th>100</th>\n",
       "      <td>0.653883</td>\n",
       "      <td>1.795736</td>\n",
       "      <td>0.180166</td>\n",
       "      <td>0.078932</td>\n",
       "    </tr>\n",
       "    <tr>\n",
       "      <th rowspan=\"3\" valign=\"top\">10000</th>\n",
       "      <th>20</th>\n",
       "      <td>1.089402</td>\n",
       "      <td>3.376685</td>\n",
       "      <td>0.349829</td>\n",
       "      <td>0.152059</td>\n",
       "    </tr>\n",
       "    <tr>\n",
       "      <th>50</th>\n",
       "      <td>1.100301</td>\n",
       "      <td>3.196011</td>\n",
       "      <td>0.327061</td>\n",
       "      <td>0.141879</td>\n",
       "    </tr>\n",
       "    <tr>\n",
       "      <th>100</th>\n",
       "      <td>1.214367</td>\n",
       "      <td>3.245469</td>\n",
       "      <td>0.329503</td>\n",
       "      <td>0.143121</td>\n",
       "    </tr>\n",
       "    <tr>\n",
       "      <th rowspan=\"3\" valign=\"top\">50000</th>\n",
       "      <th>20</th>\n",
       "      <td>6.075627</td>\n",
       "      <td>16.573238</td>\n",
       "      <td>1.689105</td>\n",
       "      <td>0.736269</td>\n",
       "    </tr>\n",
       "    <tr>\n",
       "      <th>50</th>\n",
       "      <td>7.260714</td>\n",
       "      <td>18.606694</td>\n",
       "      <td>1.843076</td>\n",
       "      <td>0.790176</td>\n",
       "    </tr>\n",
       "    <tr>\n",
       "      <th>100</th>\n",
       "      <td>6.295449</td>\n",
       "      <td>14.929509</td>\n",
       "      <td>1.488165</td>\n",
       "      <td>0.637468</td>\n",
       "    </tr>\n",
       "    <tr>\n",
       "      <th rowspan=\"3\" valign=\"top\">100000</th>\n",
       "      <th>20</th>\n",
       "      <td>10.296721</td>\n",
       "      <td>27.763479</td>\n",
       "      <td>2.841289</td>\n",
       "      <td>1.225421</td>\n",
       "    </tr>\n",
       "    <tr>\n",
       "      <th>50</th>\n",
       "      <td>12.027178</td>\n",
       "      <td>29.912629</td>\n",
       "      <td>3.133066</td>\n",
       "      <td>1.327005</td>\n",
       "    </tr>\n",
       "    <tr>\n",
       "      <th>100</th>\n",
       "      <td>13.233902</td>\n",
       "      <td>29.832417</td>\n",
       "      <td>2.966142</td>\n",
       "      <td>1.272671</td>\n",
       "    </tr>\n",
       "  </tbody>\n",
       "</table>\n",
       "</div>"
      ],
      "text/plain": [
       "function                extract.py:49(build_neighborhood)  \\\n",
       "nb_points nb_neighbors                                      \n",
       "5000      20                                     0.582090   \n",
       "          50                                     0.593153   \n",
       "          100                                    0.653883   \n",
       "10000     20                                     1.089402   \n",
       "          50                                     1.100301   \n",
       "          100                                    1.214367   \n",
       "50000     20                                     6.075627   \n",
       "          50                                     7.260714   \n",
       "          100                                    6.295449   \n",
       "100000    20                                    10.296721   \n",
       "          50                                    12.027178   \n",
       "          100                                   13.233902   \n",
       "\n",
       "function                extract.py:72(fitted_pca)  \\\n",
       "nb_points nb_neighbors                              \n",
       "5000      20                             1.849706   \n",
       "          50                             1.768257   \n",
       "          100                            1.795736   \n",
       "10000     20                             3.376685   \n",
       "          50                             3.196011   \n",
       "          100                            3.245469   \n",
       "50000     20                            16.573238   \n",
       "          50                            18.606694   \n",
       "          100                           14.929509   \n",
       "100000    20                            27.763479   \n",
       "          50                            29.912629   \n",
       "          100                           29.832417   \n",
       "\n",
       "function                features.py:114(compute_3D_features)  \\\n",
       "nb_points nb_neighbors                                         \n",
       "5000      20                                        0.188372   \n",
       "          50                                        0.184813   \n",
       "          100                                       0.180166   \n",
       "10000     20                                        0.349829   \n",
       "          50                                        0.327061   \n",
       "          100                                       0.329503   \n",
       "50000     20                                        1.689105   \n",
       "          50                                        1.843076   \n",
       "          100                                       1.488165   \n",
       "100000    20                                        2.841289   \n",
       "          50                                        3.133066   \n",
       "          100                                       2.966142   \n",
       "\n",
       "function                features.py:71(triangle_variance_space)  \n",
       "nb_points nb_neighbors                                           \n",
       "5000      20                                           0.081486  \n",
       "          50                                           0.078167  \n",
       "          100                                          0.078932  \n",
       "10000     20                                           0.152059  \n",
       "          50                                           0.141879  \n",
       "          100                                          0.143121  \n",
       "50000     20                                           0.736269  \n",
       "          50                                           0.790176  \n",
       "          100                                          0.637468  \n",
       "100000    20                                           1.225421  \n",
       "          50                                           1.327005  \n",
       "          100                                          1.272671  "
      ]
     },
     "execution_count": 33,
     "metadata": {},
     "output_type": "execute_result"
    }
   ],
   "source": [
    "grouped_eigen_feature_timers = eigen_feature_timers.groupby([\"nb_points\", \"nb_neighbors\", \"function\"])[\"cum_time\"].mean().unstack()\n",
    "grouped_eigen_feature_timers"
   ]
  },
  {
   "cell_type": "markdown",
   "metadata": {},
   "source": [
    "En plus des trois fonctions décrites pour l'ensemble de features `alphabeta`, s'ajoute la fonction `compute_3D_features`, qui donne un ensemble de features tirés des valeurs propres du nuage de point local."
   ]
  },
  {
   "cell_type": "markdown",
   "metadata": {},
   "source": [
    "Globalement, les conclusions sont les mêmes que précédemment : la relation linéaire avec le nombre de points explique l'essentiel des évolutions en termes de temps de calcul. A noter que les trois premières fonctions présentent des temps d'exécution très proches de ceux obtenus pour le précédent ensemble de features."
   ]
  },
  {
   "cell_type": "markdown",
   "metadata": {},
   "source": [
    "### Ensemble `full`"
   ]
  },
  {
   "cell_type": "code",
   "execution_count": 34,
   "metadata": {},
   "outputs": [],
   "source": [
    "full_feature_timers = gen_feature_timers[gen_feature_timers[\"feature_set\"] == \"full\"]"
   ]
  },
  {
   "cell_type": "code",
   "execution_count": 35,
   "metadata": {},
   "outputs": [],
   "source": [
    "grouped_full_feature_timers = full_feature_timers.groupby([\"nb_points\", \"nb_neighbors\", \"function\"])[\"cum_time\"].mean().unstack()"
   ]
  },
  {
   "cell_type": "code",
   "execution_count": 36,
   "metadata": {},
   "outputs": [
    {
     "data": {
      "text/plain": [
       "Index(['extract.py:49(build_neighborhood)', 'extract.py:72(fitted_pca)',\n",
       "       'features.py:114(compute_3D_features)',\n",
       "       'features.py:71(triangle_variance_space)'],\n",
       "      dtype='object', name='function')"
      ]
     },
     "execution_count": 36,
     "metadata": {},
     "output_type": "execute_result"
    }
   ],
   "source": [
    "columns1 = grouped_eigen_feature_timers.columns\n",
    "columns1"
   ]
  },
  {
   "cell_type": "code",
   "execution_count": 37,
   "metadata": {},
   "outputs": [
    {
     "data": {
      "text/html": [
       "<div>\n",
       "<style scoped>\n",
       "    .dataframe tbody tr th:only-of-type {\n",
       "        vertical-align: middle;\n",
       "    }\n",
       "\n",
       "    .dataframe tbody tr th {\n",
       "        vertical-align: top;\n",
       "    }\n",
       "\n",
       "    .dataframe thead th {\n",
       "        text-align: right;\n",
       "    }\n",
       "</style>\n",
       "<table border=\"1\" class=\"dataframe\">\n",
       "  <thead>\n",
       "    <tr style=\"text-align: right;\">\n",
       "      <th></th>\n",
       "      <th>function</th>\n",
       "      <th>extract.py:49(build_neighborhood)</th>\n",
       "      <th>extract.py:72(fitted_pca)</th>\n",
       "      <th>features.py:114(compute_3D_features)</th>\n",
       "      <th>features.py:71(triangle_variance_space)</th>\n",
       "    </tr>\n",
       "    <tr>\n",
       "      <th>nb_points</th>\n",
       "      <th>nb_neighbors</th>\n",
       "      <th></th>\n",
       "      <th></th>\n",
       "      <th></th>\n",
       "      <th></th>\n",
       "    </tr>\n",
       "  </thead>\n",
       "  <tbody>\n",
       "    <tr>\n",
       "      <th rowspan=\"3\" valign=\"top\">5000</th>\n",
       "      <th>20</th>\n",
       "      <td>0.584747</td>\n",
       "      <td>3.262472</td>\n",
       "      <td>0.186838</td>\n",
       "      <td>0.076203</td>\n",
       "    </tr>\n",
       "    <tr>\n",
       "      <th>50</th>\n",
       "      <td>0.889035</td>\n",
       "      <td>4.921885</td>\n",
       "      <td>0.263964</td>\n",
       "      <td>0.104285</td>\n",
       "    </tr>\n",
       "    <tr>\n",
       "      <th>100</th>\n",
       "      <td>0.744704</td>\n",
       "      <td>3.686633</td>\n",
       "      <td>0.201848</td>\n",
       "      <td>0.083210</td>\n",
       "    </tr>\n",
       "    <tr>\n",
       "      <th rowspan=\"3\" valign=\"top\">10000</th>\n",
       "      <th>20</th>\n",
       "      <td>1.221401</td>\n",
       "      <td>6.642590</td>\n",
       "      <td>0.376594</td>\n",
       "      <td>0.158858</td>\n",
       "    </tr>\n",
       "    <tr>\n",
       "      <th>50</th>\n",
       "      <td>1.306848</td>\n",
       "      <td>6.666435</td>\n",
       "      <td>0.369945</td>\n",
       "      <td>0.151908</td>\n",
       "    </tr>\n",
       "    <tr>\n",
       "      <th>100</th>\n",
       "      <td>1.475224</td>\n",
       "      <td>7.100738</td>\n",
       "      <td>0.378342</td>\n",
       "      <td>0.157090</td>\n",
       "    </tr>\n",
       "    <tr>\n",
       "      <th rowspan=\"3\" valign=\"top\">50000</th>\n",
       "      <th>20</th>\n",
       "      <td>6.770058</td>\n",
       "      <td>33.070090</td>\n",
       "      <td>1.850875</td>\n",
       "      <td>0.774454</td>\n",
       "    </tr>\n",
       "    <tr>\n",
       "      <th>50</th>\n",
       "      <td>6.549261</td>\n",
       "      <td>30.685021</td>\n",
       "      <td>1.667820</td>\n",
       "      <td>0.688580</td>\n",
       "    </tr>\n",
       "    <tr>\n",
       "      <th>100</th>\n",
       "      <td>6.662202</td>\n",
       "      <td>28.665797</td>\n",
       "      <td>1.561730</td>\n",
       "      <td>0.652538</td>\n",
       "    </tr>\n",
       "    <tr>\n",
       "      <th rowspan=\"3\" valign=\"top\">100000</th>\n",
       "      <th>20</th>\n",
       "      <td>11.560107</td>\n",
       "      <td>55.931526</td>\n",
       "      <td>3.113225</td>\n",
       "      <td>1.300205</td>\n",
       "    </tr>\n",
       "    <tr>\n",
       "      <th>50</th>\n",
       "      <td>12.820015</td>\n",
       "      <td>57.578174</td>\n",
       "      <td>3.204749</td>\n",
       "      <td>1.309006</td>\n",
       "    </tr>\n",
       "    <tr>\n",
       "      <th>100</th>\n",
       "      <td>14.031776</td>\n",
       "      <td>57.635793</td>\n",
       "      <td>3.138887</td>\n",
       "      <td>1.296433</td>\n",
       "    </tr>\n",
       "  </tbody>\n",
       "</table>\n",
       "</div>"
      ],
      "text/plain": [
       "function                extract.py:49(build_neighborhood)  \\\n",
       "nb_points nb_neighbors                                      \n",
       "5000      20                                     0.584747   \n",
       "          50                                     0.889035   \n",
       "          100                                    0.744704   \n",
       "10000     20                                     1.221401   \n",
       "          50                                     1.306848   \n",
       "          100                                    1.475224   \n",
       "50000     20                                     6.770058   \n",
       "          50                                     6.549261   \n",
       "          100                                    6.662202   \n",
       "100000    20                                    11.560107   \n",
       "          50                                    12.820015   \n",
       "          100                                   14.031776   \n",
       "\n",
       "function                extract.py:72(fitted_pca)  \\\n",
       "nb_points nb_neighbors                              \n",
       "5000      20                             3.262472   \n",
       "          50                             4.921885   \n",
       "          100                            3.686633   \n",
       "10000     20                             6.642590   \n",
       "          50                             6.666435   \n",
       "          100                            7.100738   \n",
       "50000     20                            33.070090   \n",
       "          50                            30.685021   \n",
       "          100                           28.665797   \n",
       "100000    20                            55.931526   \n",
       "          50                            57.578174   \n",
       "          100                           57.635793   \n",
       "\n",
       "function                features.py:114(compute_3D_features)  \\\n",
       "nb_points nb_neighbors                                         \n",
       "5000      20                                        0.186838   \n",
       "          50                                        0.263964   \n",
       "          100                                       0.201848   \n",
       "10000     20                                        0.376594   \n",
       "          50                                        0.369945   \n",
       "          100                                       0.378342   \n",
       "50000     20                                        1.850875   \n",
       "          50                                        1.667820   \n",
       "          100                                       1.561730   \n",
       "100000    20                                        3.113225   \n",
       "          50                                        3.204749   \n",
       "          100                                       3.138887   \n",
       "\n",
       "function                features.py:71(triangle_variance_space)  \n",
       "nb_points nb_neighbors                                           \n",
       "5000      20                                           0.076203  \n",
       "          50                                           0.104285  \n",
       "          100                                          0.083210  \n",
       "10000     20                                           0.158858  \n",
       "          50                                           0.151908  \n",
       "          100                                          0.157090  \n",
       "50000     20                                           0.774454  \n",
       "          50                                           0.688580  \n",
       "          100                                          0.652538  \n",
       "100000    20                                           1.300205  \n",
       "          50                                           1.309006  \n",
       "          100                                          1.296433  "
      ]
     },
     "execution_count": 37,
     "metadata": {},
     "output_type": "execute_result"
    }
   ],
   "source": [
    "grouped_full_feature_timers[columns1]"
   ]
  },
  {
   "cell_type": "markdown",
   "metadata": {},
   "source": [
    "En reprenant les fonctions déjà rencontrées dans l'ensemble précédent, il est possible de voir que :\n",
    "- la relation linéaire entre le nombre de points et le temps d'exécution est là aussi visible ;\n",
    "- le nombre de voisin n'occasionne pas d'écart significatif, mais la taille du jeu de donneés est certainement trop faible pour mettre en valeur un écart potentiel ;\n",
    "- les temps d'exécution entre cet ensemble de features et les précédents, bien que du même ordre de grandeur, montrent une augmentation notable, en particulier pour l'ACP qui est appelée deux fois pour le dernier ensemble de features (données 3D, et projection 2D sur le plan (x, y))."
   ]
  },
  {
   "cell_type": "markdown",
   "metadata": {},
   "source": [
    "En réalité, la majeure partie de l'écart entre ce set de features et les précédents vient des fonctions qui ne sont appelées que pour l'ensemble `full`."
   ]
  },
  {
   "cell_type": "code",
   "execution_count": 38,
   "metadata": {},
   "outputs": [
    {
     "data": {
      "text/html": [
       "<div>\n",
       "<style scoped>\n",
       "    .dataframe tbody tr th:only-of-type {\n",
       "        vertical-align: middle;\n",
       "    }\n",
       "\n",
       "    .dataframe tbody tr th {\n",
       "        vertical-align: top;\n",
       "    }\n",
       "\n",
       "    .dataframe thead th {\n",
       "        text-align: right;\n",
       "    }\n",
       "</style>\n",
       "<table border=\"1\" class=\"dataframe\">\n",
       "  <thead>\n",
       "    <tr style=\"text-align: right;\">\n",
       "      <th></th>\n",
       "      <th>function</th>\n",
       "      <th>features.py:12(accumulation_2d_neighborhood)</th>\n",
       "      <th>features.py:147(compute_2D_features)</th>\n",
       "      <th>features.py:167(compute_3D_properties)</th>\n",
       "      <th>features.py:194(compute_2D_properties)</th>\n",
       "      <th>features.py:217(verticality_coefficient)</th>\n",
       "    </tr>\n",
       "    <tr>\n",
       "      <th>nb_points</th>\n",
       "      <th>nb_neighbors</th>\n",
       "      <th></th>\n",
       "      <th></th>\n",
       "      <th></th>\n",
       "      <th></th>\n",
       "      <th></th>\n",
       "    </tr>\n",
       "  </thead>\n",
       "  <tbody>\n",
       "    <tr>\n",
       "      <th rowspan=\"3\" valign=\"top\">5000</th>\n",
       "      <th>20</th>\n",
       "      <td>0.053837</td>\n",
       "      <td>0.047396</td>\n",
       "      <td>0.418493</td>\n",
       "      <td>0.293939</td>\n",
       "      <td>0.015310</td>\n",
       "    </tr>\n",
       "    <tr>\n",
       "      <th>50</th>\n",
       "      <td>0.046490</td>\n",
       "      <td>0.069062</td>\n",
       "      <td>0.589565</td>\n",
       "      <td>0.783812</td>\n",
       "      <td>0.021400</td>\n",
       "    </tr>\n",
       "    <tr>\n",
       "      <th>100</th>\n",
       "      <td>0.048939</td>\n",
       "      <td>0.051467</td>\n",
       "      <td>0.467712</td>\n",
       "      <td>1.221619</td>\n",
       "      <td>0.016483</td>\n",
       "    </tr>\n",
       "    <tr>\n",
       "      <th rowspan=\"3\" valign=\"top\">10000</th>\n",
       "      <th>20</th>\n",
       "      <td>0.047879</td>\n",
       "      <td>0.095117</td>\n",
       "      <td>0.882870</td>\n",
       "      <td>0.580258</td>\n",
       "      <td>0.032169</td>\n",
       "    </tr>\n",
       "    <tr>\n",
       "      <th>50</th>\n",
       "      <td>0.049700</td>\n",
       "      <td>0.094568</td>\n",
       "      <td>0.855348</td>\n",
       "      <td>1.217085</td>\n",
       "      <td>0.030221</td>\n",
       "    </tr>\n",
       "    <tr>\n",
       "      <th>100</th>\n",
       "      <td>0.042889</td>\n",
       "      <td>0.097152</td>\n",
       "      <td>0.891338</td>\n",
       "      <td>2.341283</td>\n",
       "      <td>0.032092</td>\n",
       "    </tr>\n",
       "    <tr>\n",
       "      <th rowspan=\"3\" valign=\"top\">50000</th>\n",
       "      <th>20</th>\n",
       "      <td>0.056489</td>\n",
       "      <td>0.475255</td>\n",
       "      <td>4.251118</td>\n",
       "      <td>2.908412</td>\n",
       "      <td>0.155758</td>\n",
       "    </tr>\n",
       "    <tr>\n",
       "      <th>50</th>\n",
       "      <td>0.057595</td>\n",
       "      <td>0.434323</td>\n",
       "      <td>3.900452</td>\n",
       "      <td>5.288038</td>\n",
       "      <td>0.140850</td>\n",
       "    </tr>\n",
       "    <tr>\n",
       "      <th>100</th>\n",
       "      <td>0.063678</td>\n",
       "      <td>0.405489</td>\n",
       "      <td>3.663972</td>\n",
       "      <td>9.791665</td>\n",
       "      <td>0.130050</td>\n",
       "    </tr>\n",
       "    <tr>\n",
       "      <th rowspan=\"3\" valign=\"top\">100000</th>\n",
       "      <th>20</th>\n",
       "      <td>0.078077</td>\n",
       "      <td>0.800875</td>\n",
       "      <td>7.296432</td>\n",
       "      <td>4.789681</td>\n",
       "      <td>0.260200</td>\n",
       "    </tr>\n",
       "    <tr>\n",
       "      <th>50</th>\n",
       "      <td>0.078083</td>\n",
       "      <td>0.810407</td>\n",
       "      <td>7.546354</td>\n",
       "      <td>10.083455</td>\n",
       "      <td>0.263696</td>\n",
       "    </tr>\n",
       "    <tr>\n",
       "      <th>100</th>\n",
       "      <td>0.078933</td>\n",
       "      <td>0.821260</td>\n",
       "      <td>7.214797</td>\n",
       "      <td>19.504321</td>\n",
       "      <td>0.255157</td>\n",
       "    </tr>\n",
       "  </tbody>\n",
       "</table>\n",
       "</div>"
      ],
      "text/plain": [
       "function                features.py:12(accumulation_2d_neighborhood)  \\\n",
       "nb_points nb_neighbors                                                 \n",
       "5000      20                                                0.053837   \n",
       "          50                                                0.046490   \n",
       "          100                                               0.048939   \n",
       "10000     20                                                0.047879   \n",
       "          50                                                0.049700   \n",
       "          100                                               0.042889   \n",
       "50000     20                                                0.056489   \n",
       "          50                                                0.057595   \n",
       "          100                                               0.063678   \n",
       "100000    20                                                0.078077   \n",
       "          50                                                0.078083   \n",
       "          100                                               0.078933   \n",
       "\n",
       "function                features.py:147(compute_2D_features)  \\\n",
       "nb_points nb_neighbors                                         \n",
       "5000      20                                        0.047396   \n",
       "          50                                        0.069062   \n",
       "          100                                       0.051467   \n",
       "10000     20                                        0.095117   \n",
       "          50                                        0.094568   \n",
       "          100                                       0.097152   \n",
       "50000     20                                        0.475255   \n",
       "          50                                        0.434323   \n",
       "          100                                       0.405489   \n",
       "100000    20                                        0.800875   \n",
       "          50                                        0.810407   \n",
       "          100                                       0.821260   \n",
       "\n",
       "function                features.py:167(compute_3D_properties)  \\\n",
       "nb_points nb_neighbors                                           \n",
       "5000      20                                          0.418493   \n",
       "          50                                          0.589565   \n",
       "          100                                         0.467712   \n",
       "10000     20                                          0.882870   \n",
       "          50                                          0.855348   \n",
       "          100                                         0.891338   \n",
       "50000     20                                          4.251118   \n",
       "          50                                          3.900452   \n",
       "          100                                         3.663972   \n",
       "100000    20                                          7.296432   \n",
       "          50                                          7.546354   \n",
       "          100                                         7.214797   \n",
       "\n",
       "function                features.py:194(compute_2D_properties)  \\\n",
       "nb_points nb_neighbors                                           \n",
       "5000      20                                          0.293939   \n",
       "          50                                          0.783812   \n",
       "          100                                         1.221619   \n",
       "10000     20                                          0.580258   \n",
       "          50                                          1.217085   \n",
       "          100                                         2.341283   \n",
       "50000     20                                          2.908412   \n",
       "          50                                          5.288038   \n",
       "          100                                         9.791665   \n",
       "100000    20                                          4.789681   \n",
       "          50                                         10.083455   \n",
       "          100                                        19.504321   \n",
       "\n",
       "function                features.py:217(verticality_coefficient)  \n",
       "nb_points nb_neighbors                                            \n",
       "5000      20                                            0.015310  \n",
       "          50                                            0.021400  \n",
       "          100                                           0.016483  \n",
       "10000     20                                            0.032169  \n",
       "          50                                            0.030221  \n",
       "          100                                           0.032092  \n",
       "50000     20                                            0.155758  \n",
       "          50                                            0.140850  \n",
       "          100                                           0.130050  \n",
       "100000    20                                            0.260200  \n",
       "          50                                            0.263696  \n",
       "          100                                           0.255157  "
      ]
     },
     "execution_count": 38,
     "metadata": {},
     "output_type": "execute_result"
    }
   ],
   "source": [
    "grouped_full_feature_timers.drop(columns1, axis=1)"
   ]
  },
  {
   "cell_type": "markdown",
   "metadata": {},
   "source": [
    "A la vue de ces derniers chiffres, les conclusions suivantes s'imposent :\n",
    "- la fonction `accumulation_2d_neighborhood` a un faible coût, légèrement dépendant du nombre de points.\n",
    "- les temps d'exécution des fonctions `compute_2D_features`,  `verticality_coefficient`, `compute_3D_properties` et `compute_2D_properties` présentent une relation linéaire avec le nombre de points. Les deux dernières sont plus coûteuses en temps de calcul, leur intérêt devra donc être évalué avec d'autant plus de soin au moment du clustering. A noter que `compute_2D_properties` est également impactée par la quantité de points dans le voisinage (elle contient un calcul des distances du point d'intérêt vis-à-vis de chacun de ses voisins)."
   ]
  },
  {
   "cell_type": "markdown",
   "metadata": {},
   "source": [
    "## Résumé graphique"
   ]
  },
  {
   "cell_type": "markdown",
   "metadata": {},
   "source": [
    "### Temps total"
   ]
  },
  {
   "cell_type": "code",
   "execution_count": 39,
   "metadata": {},
   "outputs": [],
   "source": [
    "graph_functions = [\"extract.py:72(fitted_pca)\",\n",
    "                   \"features.py:71(triangle_variance_space)\",\n",
    "                   \"extract.py:49(build_neighborhood)\",\n",
    "                   \"features.py:114(compute_3D_features)\",\n",
    "                   \"features.py:12(accumulation_2d_neighborhood)\",\n",
    "                   \"features.py:147(compute_2D_features)\",\n",
    "                   \"features.py:167(compute_3D_properties)\",\n",
    "                   \"features.py:194(compute_2D_properties)\",\n",
    "                   \"features.py:217(verticality_coefficient)\",\n",
    "                   \"io.py:14(xyz)\",\n",
    "                   \"io.py:82(write_features)\"]"
   ]
  },
  {
   "cell_type": "code",
   "execution_count": 42,
   "metadata": {},
   "outputs": [],
   "source": [
    "graph_mask = np.logical_and(np.logical_and(timers[\"nb_points\"] == 100000, timers[\"feature_set\"] == \"full\"),\n",
    "                            [f in graph_functions for f in timers[\"function\"]])\n",
    "graph_timers = timers.loc[graph_mask]\n",
    "graph_timers.drop([\"nb_points\", \"feature_set\"], axis=1, inplace=True)"
   ]
  },
  {
   "cell_type": "code",
   "execution_count": 50,
   "metadata": {},
   "outputs": [
    {
     "name": "stderr",
     "output_type": "stream",
     "text": [
      "/home/rde/.virtualenvs/univers/lib/python3.7/site-packages/seaborn/categorical.py:3692: UserWarning: The `size` paramter has been renamed to `height`; please update your code.\n",
      "  warnings.warn(msg, UserWarning)\n"
     ]
    },
    {
     "data": {
      "image/png": "[encoded data removed]",
      "text/plain": [
       "<Figure size 720x720 with 1 Axes>"
      ]
     },
     "metadata": {
      "needs_background": "light"
     },
     "output_type": "display_data"
    }
   ],
   "source": [
    "g = sns.catplot(\"cum_time\", \"function\", data=graph_timers, kind=\"bar\", size=10, height=2)"
   ]
  },
  {
   "cell_type": "code",
   "execution_count": 51,
   "metadata": {},
   "outputs": [],
   "source": [
    "g.savefig(\"../docs/images/generation_feature_cum_time.png\")"
   ]
  },
  {
   "cell_type": "markdown",
   "metadata": {},
   "source": [
    "### Temps par itération"
   ]
  },
  {
   "cell_type": "code",
   "execution_count": 44,
   "metadata": {},
   "outputs": [],
   "source": [
    "graph_iter_functions = [\"extract.py:72(fitted_pca)\",\n",
    "                        \"features.py:71(triangle_variance_space)\",\n",
    "                        \"extract.py:49(build_neighborhood)\",\n",
    "                        \"features.py:114(compute_3D_features)\",\n",
    "                        \"features.py:147(compute_2D_features)\",\n",
    "                        \"features.py:167(compute_3D_properties)\",\n",
    "                        \"features.py:194(compute_2D_properties)\",\n",
    "                        \"features.py:217(verticality_coefficient)\"]"
   ]
  },
  {
   "cell_type": "code",
   "execution_count": 45,
   "metadata": {},
   "outputs": [],
   "source": [
    "graph_iter_mask = np.logical_and(timers[\"feature_set\"] == \"full\",\n",
    "                                 [f in graph_iter_functions for f in timers[\"function\"]])\n",
    "graph_iter_timers = timers.loc[graph_iter_mask]\n",
    "graph_iter_timers.drop([\"feature_set\"], axis=1, inplace=True)"
   ]
  },
  {
   "cell_type": "code",
   "execution_count": 46,
   "metadata": {},
   "outputs": [
    {
     "name": "stderr",
     "output_type": "stream",
     "text": [
      "/home/rde/.virtualenvs/univers/lib/python3.7/site-packages/seaborn/categorical.py:3692: UserWarning: The `size` paramter has been renamed to `height`; please update your code.\n",
      "  warnings.warn(msg, UserWarning)\n"
     ]
    },
    {
     "data": {
      "image/png": "[encoded data removed]",
      "text/plain": [
       "<Figure size 720x720 with 1 Axes>"
      ]
     },
     "metadata": {
      "needs_background": "light"
     },
     "output_type": "display_data"
    }
   ],
   "source": [
    "g = sns.catplot(\"cum_time_per_call\", \"function\", data=graph_iter_timers, kind=\"bar\", size=10, height=2)"
   ]
  },
  {
   "cell_type": "code",
   "execution_count": 49,
   "metadata": {},
   "outputs": [],
   "source": [
    "g.savefig(\"../docs/images/generation_feature_cum_time_per_call.png\")"
   ]
  },
  {
   "cell_type": "code",
   "execution_count": null,
   "metadata": {},
   "outputs": [],
   "source": []
  }
 ],
 "metadata": {
  "kernelspec": {
   "display_name": "Python 3",
   "language": "python",
   "name": "python3"
  },
  "language_info": {
   "codemirror_mode": {
    "name": "ipython",
    "version": 3
   },
   "file_extension": ".py",
   "mimetype": "text/x-python",
   "name": "python",
   "nbconvert_exporter": "python",
   "pygments_lexer": "ipython3",
   "version": "3.7.0b3"
  }
 },
 "nbformat": 4,
 "nbformat_minor": 2
}
