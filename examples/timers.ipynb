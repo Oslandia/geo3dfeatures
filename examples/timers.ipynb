{
 "cells": [
  {
   "cell_type": "markdown",
   "metadata": {},
   "source": [
    "# Chronométrage de la génération de features"
   ]
  },
  {
   "cell_type": "markdown",
   "metadata": {},
   "source": [
    "Nous essayons de déterminer dans ce notebook quelles sont les étapes les plus chronophages de la génération de features, entre lecture, calcul des propriétés géométriques des points dans un nuage de points 3D, et écriture sur le disque."
   ]
  },
  {
   "cell_type": "markdown",
   "metadata": {},
   "source": [
    "Les chronométrages ont été effectués via le module `pstats`, pour un ensemble de configuration croisant différents paramètres :\n",
    "- nombre de points pour lesquels les propriétés ont été calculées (1000, 5000, 10000, 50000);\n",
    "- nombre de points dans le voisinage du point d'intérêt servant au calcul des propriétés géométriques (20, 50, 100);\n",
    "- ensemble des propriétés considérées (alphabeta pour les coordonnées barycentriques d'après CANUPO, eigenvalues pour les métriques tirées des valeurs propres du nuage de point local, full pour l'ensemble des métriques)."
   ]
  },
  {
   "cell_type": "markdown",
   "metadata": {},
   "source": [
    "## Introduction"
   ]
  },
  {
   "cell_type": "markdown",
   "metadata": {},
   "source": [
    "Import des modules de travail, et lecture du fichier contenant les chronométrages :"
   ]
  },
  {
   "cell_type": "code",
   "execution_count": 1,
   "metadata": {},
   "outputs": [],
   "source": [
    "import pandas as pd\n",
    "import matplotlib.pyplot as plt\n",
    "import numpy as np\n",
    "from pathlib import Path\n",
    "import seaborn as sns\n",
    "\n",
    "%matplotlib inline"
   ]
  },
  {
   "cell_type": "code",
   "execution_count": 2,
   "metadata": {},
   "outputs": [],
   "source": [
    "TIMER_FILE = Path(\"..\", \"data\", \"timers\", \"timers.csv\")"
   ]
  },
  {
   "cell_type": "code",
   "execution_count": 3,
   "metadata": {},
   "outputs": [],
   "source": [
    "timers = pd.read_csv(str(TIMER_FILE))"
   ]
  },
  {
   "cell_type": "code",
   "execution_count": 4,
   "metadata": {},
   "outputs": [
    {
     "data": {
      "text/plain": [
       "(468, 9)"
      ]
     },
     "execution_count": 4,
     "metadata": {},
     "output_type": "execute_result"
    }
   ],
   "source": [
    "timers.shape"
   ]
  },
  {
   "cell_type": "code",
   "execution_count": 5,
   "metadata": {},
   "outputs": [
    {
     "data": {
      "text/plain": [
       "Index(['function', 'nb_points', 'nb_neighbors', 'feature_set', 'nb_calls',\n",
       "       'total_time', 'total_time_per_call', 'cum_time', 'cum_time_per_call'],\n",
       "      dtype='object')"
      ]
     },
     "execution_count": 5,
     "metadata": {},
     "output_type": "execute_result"
    }
   ],
   "source": [
    "timers.columns"
   ]
  },
  {
   "cell_type": "markdown",
   "metadata": {},
   "source": [
    "## Quelles fonctions ?"
   ]
  },
  {
   "cell_type": "markdown",
   "metadata": {},
   "source": [
    "On note tout d'abord que les fonctions impliquées diffèrent en fonction de l'ensemble des propriétés:"
   ]
  },
  {
   "cell_type": "code",
   "execution_count": 6,
   "metadata": {},
   "outputs": [
    {
     "data": {
      "text/plain": [
       "nb_points  nb_neighbors  feature_set\n",
       "1000       20            alphabeta      10\n",
       "                         eigenvalues    11\n",
       "                         full           18\n",
       "           50            alphabeta      10\n",
       "                         eigenvalues    11\n",
       "                         full           18\n",
       "           100           alphabeta      10\n",
       "                         eigenvalues    11\n",
       "                         full           18\n",
       "5000       20            alphabeta      10\n",
       "                         eigenvalues    11\n",
       "                         full           18\n",
       "           50            alphabeta      10\n",
       "                         eigenvalues    11\n",
       "                         full           18\n",
       "           100           alphabeta      10\n",
       "                         eigenvalues    11\n",
       "                         full           18\n",
       "10000      20            alphabeta      10\n",
       "                         eigenvalues    11\n",
       "                         full           18\n",
       "           50            alphabeta      10\n",
       "                         eigenvalues    11\n",
       "                         full           18\n",
       "           100           alphabeta      10\n",
       "                         eigenvalues    11\n",
       "                         full           18\n",
       "50000      20            alphabeta      10\n",
       "                         eigenvalues    11\n",
       "                         full           18\n",
       "           50            alphabeta      10\n",
       "                         eigenvalues    11\n",
       "                         full           18\n",
       "           100           alphabeta      10\n",
       "                         eigenvalues    11\n",
       "                         full           18\n",
       "Name: function, dtype: int64"
      ]
     },
     "execution_count": 6,
     "metadata": {},
     "output_type": "execute_result"
    }
   ],
   "source": [
    "grouped_timers = timers.groupby([\"nb_points\", \"nb_neighbors\", \"feature_set\"])\n",
    "grouped_timers[\"function\"].count()"
   ]
  },
  {
   "cell_type": "markdown",
   "metadata": {},
   "source": [
    "Il y aurait 10 fonctions différentes impliquées pour le set `alphabeta`, 11 pour le set `eigenvalues` et 18 pour le set `full`."
   ]
  },
  {
   "cell_type": "markdown",
   "metadata": {},
   "source": [
    "En détail :"
   ]
  },
  {
   "cell_type": "code",
   "execution_count": 7,
   "metadata": {},
   "outputs": [
    {
     "data": {
      "text/plain": [
       "array(['features.py:54(normalized_eigenvalues)',\n",
       "       'features.py:72(triangle_variance_space)',\n",
       "       'features.py:6(<module>)', 'extract.py:81(alphabeta_features)',\n",
       "       'extract.py:14(<module>)', 'extract.py:33(build_neighborhood)',\n",
       "       '__init__.py:4(<module>)', 'io.py:14(xyz)',\n",
       "       'io.py:82(write_features)', 'io.py:5(<module>)'], dtype=object)"
      ]
     },
     "execution_count": 7,
     "metadata": {},
     "output_type": "execute_result"
    }
   ],
   "source": [
    "timers.loc[timers[\"feature_set\"] == \"alphabeta\"][\"function\"].unique()"
   ]
  },
  {
   "cell_type": "markdown",
   "metadata": {},
   "source": [
    "Pour le set `alphabeta`, on trouve les fonctions de la pile d'exécution (auxquelles s'ajoutent les modules sollicités) :\n",
    "- la lecture du fichier matérialisée par la fonction `io.py:14(xyz)`.\n",
    "- l'extraction de features réalisée au sein de la fonction `extract.py:81(alphabeta_features)`. Cette fonction boucle sur l'ensemble des points considéré en appelant `extract.py:33(build_neighborhood)` et `features.py:72(triangle_variance_space)`, cette dernière appelant `features.py:54(normalized_eigenvalues)`.\n",
    "- l'écriture du résultat via `io.py:82(write_features)`."
   ]
  },
  {
   "cell_type": "code",
   "execution_count": 8,
   "metadata": {},
   "outputs": [
    {
     "data": {
      "text/plain": [
       "array(['features.py:54(normalized_eigenvalues)',\n",
       "       'features.py:72(triangle_variance_space)',\n",
       "       'features.py:115(compute_3D_features)', 'features.py:6(<module>)',\n",
       "       'extract.py:124(eigen_features)', 'extract.py:14(<module>)',\n",
       "       'extract.py:33(build_neighborhood)', '__init__.py:4(<module>)',\n",
       "       'io.py:14(xyz)', 'io.py:82(write_features)', 'io.py:5(<module>)'],\n",
       "      dtype=object)"
      ]
     },
     "execution_count": 8,
     "metadata": {},
     "output_type": "execute_result"
    }
   ],
   "source": [
    "timers.loc[timers[\"feature_set\"] == \"eigenvalues\"][\"function\"].unique()"
   ]
  },
  {
   "cell_type": "markdown",
   "metadata": {},
   "source": [
    "Par rapport au premier ensemble de fonctions, le set `eigenvalues` amène quelques différences :\n",
    "- `extract.py:124(eigen_features)` remplace `extract.py:124(alphabeta_features)`\n",
    "- `features.py:115(compute_3D_features)` apparaît dans la pile d'exécution, cette fonction calculant à chaque itération les métriques liées aux valeurs propres du nuage de point local."
   ]
  },
  {
   "cell_type": "code",
   "execution_count": 9,
   "metadata": {},
   "outputs": [
    {
     "data": {
      "text/plain": [
       "array(['features.py:12(accumulation_2d_neighborhood)',\n",
       "       'features.py:54(normalized_eigenvalues)',\n",
       "       'features.py:72(triangle_variance_space)',\n",
       "       'features.py:115(compute_3D_features)',\n",
       "       'features.py:148(compute_2D_features)',\n",
       "       'features.py:168(compute_3D_properties)',\n",
       "       'features.py:211(<listcomp>)',\n",
       "       'features.py:195(compute_2D_properties)',\n",
       "       'features.py:218(verticality_coefficient)',\n",
       "       'features.py:6(<module>)',\n",
       "       'extract.py:56(retrieve_accumulation_features)',\n",
       "       'extract.py:183(all_features)', 'extract.py:14(<module>)',\n",
       "       'extract.py:33(build_neighborhood)', '__init__.py:4(<module>)',\n",
       "       'io.py:14(xyz)', 'io.py:82(write_features)', 'io.py:5(<module>)'],\n",
       "      dtype=object)"
      ]
     },
     "execution_count": 9,
     "metadata": {},
     "output_type": "execute_result"
    }
   ],
   "source": [
    "timers.loc[timers[\"feature_set\"] == \"full\"][\"function\"].unique()"
   ]
  },
  {
   "cell_type": "markdown",
   "metadata": {},
   "source": [
    "Enfin, le troisième ensemble de fonction, lié au set `full` est le plus fourni. Par rapport aux sets précédents, on a les changements suivants :\n",
    "- `extract.py:183(all_features)` remplace `extract.py:183(alphabeta_features)`;\n",
    "- `features.py:12(accumulation_2d_neighborhood)` est appelé une fois avant l'itération principale de la fonction, pour calculer des métriques via un quadrillage de l'espace (x, y) du nuage de point;\n",
    "- de nouvelles fonctions sont appelées à chaque itération pour donner des features complémentaires: `features.py:12(compute_3D_properties)`, `features.py:12(verticality_coefficient)`, `features.py:12(compute_3D_features)`, `features.py:12(compute_2D_properties)` et `features.py:12(compute_2D_features)`."
   ]
  },
  {
   "cell_type": "markdown",
   "metadata": {},
   "source": [
    "## Temps par expérience"
   ]
  },
  {
   "cell_type": "markdown",
   "metadata": {},
   "source": [
    "Pour avoir une idée globale du temps passé pour chaque expérience, nous pouvons faire la somme de tous les temps totaux passés dans les fonctions de lecture, traitement et écriture :"
   ]
  },
  {
   "cell_type": "code",
   "execution_count": 19,
   "metadata": {},
   "outputs": [],
   "source": [
    "functions_of_interest = ['io.py:14(xyz)', 'extract.py:81(alphabeta_features)', 'extract.py:124(eigen_features)', 'extract.py:183(all_features)', 'io.py:82(write_features)']"
   ]
  },
  {
   "cell_type": "code",
   "execution_count": 20,
   "metadata": {},
   "outputs": [],
   "source": [
    "function_mask = [f in functions_of_interest for f in timers[\"function\"]]\n",
    "simplified_timers = timers.loc[function_mask]"
   ]
  },
  {
   "cell_type": "code",
   "execution_count": 12,
   "metadata": {},
   "outputs": [
    {
     "data": {
      "text/html": [
       "<div>\n",
       "<style scoped>\n",
       "    .dataframe tbody tr th:only-of-type {\n",
       "        vertical-align: middle;\n",
       "    }\n",
       "\n",
       "    .dataframe tbody tr th {\n",
       "        vertical-align: top;\n",
       "    }\n",
       "\n",
       "    .dataframe thead th {\n",
       "        text-align: right;\n",
       "    }\n",
       "</style>\n",
       "<table border=\"1\" class=\"dataframe\">\n",
       "  <thead>\n",
       "    <tr style=\"text-align: right;\">\n",
       "      <th></th>\n",
       "      <th>feature_set</th>\n",
       "      <th>alphabeta</th>\n",
       "      <th>eigenvalues</th>\n",
       "      <th>full</th>\n",
       "    </tr>\n",
       "    <tr>\n",
       "      <th>nb_points</th>\n",
       "      <th>nb_neighbors</th>\n",
       "      <th></th>\n",
       "      <th></th>\n",
       "      <th></th>\n",
       "    </tr>\n",
       "  </thead>\n",
       "  <tbody>\n",
       "    <tr>\n",
       "      <th rowspan=\"3\" valign=\"top\">1000</th>\n",
       "      <th>20</th>\n",
       "      <td>26.478788</td>\n",
       "      <td>26.196040</td>\n",
       "      <td>30.645282</td>\n",
       "    </tr>\n",
       "    <tr>\n",
       "      <th>50</th>\n",
       "      <td>25.914649</td>\n",
       "      <td>23.110696</td>\n",
       "      <td>31.768578</td>\n",
       "    </tr>\n",
       "    <tr>\n",
       "      <th>100</th>\n",
       "      <td>30.445594</td>\n",
       "      <td>26.227598</td>\n",
       "      <td>29.818169</td>\n",
       "    </tr>\n",
       "    <tr>\n",
       "      <th rowspan=\"3\" valign=\"top\">5000</th>\n",
       "      <th>20</th>\n",
       "      <td>31.153421</td>\n",
       "      <td>27.752998</td>\n",
       "      <td>60.380399</td>\n",
       "    </tr>\n",
       "    <tr>\n",
       "      <th>50</th>\n",
       "      <td>29.774537</td>\n",
       "      <td>29.647207</td>\n",
       "      <td>65.286655</td>\n",
       "    </tr>\n",
       "    <tr>\n",
       "      <th>100</th>\n",
       "      <td>30.473887</td>\n",
       "      <td>28.284505</td>\n",
       "      <td>56.601221</td>\n",
       "    </tr>\n",
       "    <tr>\n",
       "      <th rowspan=\"3\" valign=\"top\">10000</th>\n",
       "      <th>20</th>\n",
       "      <td>36.488174</td>\n",
       "      <td>30.176354</td>\n",
       "      <td>94.185584</td>\n",
       "    </tr>\n",
       "    <tr>\n",
       "      <th>50</th>\n",
       "      <td>35.269245</td>\n",
       "      <td>33.990484</td>\n",
       "      <td>96.177401</td>\n",
       "    </tr>\n",
       "    <tr>\n",
       "      <th>100</th>\n",
       "      <td>32.443674</td>\n",
       "      <td>31.553712</td>\n",
       "      <td>91.261590</td>\n",
       "    </tr>\n",
       "    <tr>\n",
       "      <th rowspan=\"3\" valign=\"top\">50000</th>\n",
       "      <th>20</th>\n",
       "      <td>79.203627</td>\n",
       "      <td>52.591695</td>\n",
       "      <td>376.803155</td>\n",
       "    </tr>\n",
       "    <tr>\n",
       "      <th>50</th>\n",
       "      <td>81.290296</td>\n",
       "      <td>60.459978</td>\n",
       "      <td>385.406615</td>\n",
       "    </tr>\n",
       "    <tr>\n",
       "      <th>100</th>\n",
       "      <td>91.660552</td>\n",
       "      <td>66.997818</td>\n",
       "      <td>439.409376</td>\n",
       "    </tr>\n",
       "  </tbody>\n",
       "</table>\n",
       "</div>"
      ],
      "text/plain": [
       "feature_set             alphabeta  eigenvalues        full\n",
       "nb_points nb_neighbors                                    \n",
       "1000      20            26.478788    26.196040   30.645282\n",
       "          50            25.914649    23.110696   31.768578\n",
       "          100           30.445594    26.227598   29.818169\n",
       "5000      20            31.153421    27.752998   60.380399\n",
       "          50            29.774537    29.647207   65.286655\n",
       "          100           30.473887    28.284505   56.601221\n",
       "10000     20            36.488174    30.176354   94.185584\n",
       "          50            35.269245    33.990484   96.177401\n",
       "          100           32.443674    31.553712   91.261590\n",
       "50000     20            79.203627    52.591695  376.803155\n",
       "          50            81.290296    60.459978  385.406615\n",
       "          100           91.660552    66.997818  439.409376"
      ]
     },
     "execution_count": 12,
     "metadata": {},
     "output_type": "execute_result"
    }
   ],
   "source": [
    "cum_times = simplified_timers.groupby([\"nb_points\", \"nb_neighbors\", \"feature_set\"])[\"cum_time\"].sum()\n",
    "cum_times.unstack()"
   ]
  },
  {
   "cell_type": "markdown",
   "metadata": {},
   "source": [
    "Le temps passé à générer des features est :\n",
    "- clairement linéaire par rapport au nombre de points considérés\n",
    "- indépendant de la taille du voisinage\n",
    "- très impacté par les features complémentaires (set `full`)"
   ]
  },
  {
   "cell_type": "code",
   "execution_count": 63,
   "metadata": {},
   "outputs": [],
   "source": [
    "grouped_simplified_timers = simplified_timers.groupby([\"nb_points\", \"nb_neighbors\", \"feature_set\", \"function\"])[\"cum_time\"].sum().unstack()"
   ]
  },
  {
   "cell_type": "code",
   "execution_count": 64,
   "metadata": {},
   "outputs": [],
   "source": [
    "grouped_simplified_timers[\"generate_features\"] = np.nan\n",
    "grouped_simplified_timers.reset_index(inplace=True)\n",
    "grouped_simplified_timers.loc[grouped_simplified_timers[\"feature_set\"]==\"alphabeta\", \"generate_features\"] = grouped_simplified_timers[\"extract.py:81(alphabeta_features)\"]\n",
    "grouped_simplified_timers.loc[grouped_simplified_timers[\"feature_set\"]==\"eigenvalues\", \"generate_features\"] = grouped_simplified_timers[\"extract.py:124(eigen_features)\"]\n",
    "grouped_simplified_timers.loc[grouped_simplified_timers[\"feature_set\"]==\"full\", \"generate_features\"] = grouped_simplified_timers[\"extract.py:183(all_features)\"]\n",
    "grouped_simplified_timers.set_index([\"nb_points\", \"nb_neighbors\", \"feature_set\"], inplace=True)\n",
    "grouped_simplified_timers[\"reading\"] = grouped_simplified_timers[\"io.py:14(xyz)\"]\n",
    "grouped_simplified_timers[\"writing\"] = grouped_simplified_timers[\"io.py:82(write_features)\"]\n",
    "grouped_simplified_timers.drop(functions_of_interest, axis=1, inplace=True)"
   ]
  },
  {
   "cell_type": "code",
   "execution_count": 65,
   "metadata": {},
   "outputs": [
    {
     "data": {
      "text/html": [
       "<div>\n",
       "<style scoped>\n",
       "    .dataframe tbody tr th:only-of-type {\n",
       "        vertical-align: middle;\n",
       "    }\n",
       "\n",
       "    .dataframe tbody tr th {\n",
       "        vertical-align: top;\n",
       "    }\n",
       "\n",
       "    .dataframe thead th {\n",
       "        text-align: right;\n",
       "    }\n",
       "</style>\n",
       "<table border=\"1\" class=\"dataframe\">\n",
       "  <thead>\n",
       "    <tr style=\"text-align: right;\">\n",
       "      <th></th>\n",
       "      <th></th>\n",
       "      <th>function</th>\n",
       "      <th>generate_features</th>\n",
       "      <th>reading</th>\n",
       "      <th>writing</th>\n",
       "    </tr>\n",
       "    <tr>\n",
       "      <th>nb_points</th>\n",
       "      <th>nb_neighbors</th>\n",
       "      <th>feature_set</th>\n",
       "      <th></th>\n",
       "      <th></th>\n",
       "      <th></th>\n",
       "    </tr>\n",
       "  </thead>\n",
       "  <tbody>\n",
       "    <tr>\n",
       "      <th rowspan=\"9\" valign=\"top\">1000</th>\n",
       "      <th rowspan=\"3\" valign=\"top\">20</th>\n",
       "      <th>alphabeta</th>\n",
       "      <td>0.563383</td>\n",
       "      <td>25.319025</td>\n",
       "      <td>0.596380</td>\n",
       "    </tr>\n",
       "    <tr>\n",
       "      <th>eigenvalues</th>\n",
       "      <td>0.577630</td>\n",
       "      <td>25.567744</td>\n",
       "      <td>0.628296</td>\n",
       "    </tr>\n",
       "    <tr>\n",
       "      <th>full</th>\n",
       "      <td>5.753856</td>\n",
       "      <td>24.810084</td>\n",
       "      <td>5.835198</td>\n",
       "    </tr>\n",
       "    <tr>\n",
       "      <th rowspan=\"3\" valign=\"top\">50</th>\n",
       "      <th>alphabeta</th>\n",
       "      <td>0.569643</td>\n",
       "      <td>24.743241</td>\n",
       "      <td>0.601765</td>\n",
       "    </tr>\n",
       "    <tr>\n",
       "      <th>eigenvalues</th>\n",
       "      <td>0.591920</td>\n",
       "      <td>22.469605</td>\n",
       "      <td>0.641091</td>\n",
       "    </tr>\n",
       "    <tr>\n",
       "      <th>full</th>\n",
       "      <td>7.975307</td>\n",
       "      <td>23.688777</td>\n",
       "      <td>8.079801</td>\n",
       "    </tr>\n",
       "    <tr>\n",
       "      <th rowspan=\"3\" valign=\"top\">100</th>\n",
       "      <th>alphabeta</th>\n",
       "      <td>0.612698</td>\n",
       "      <td>29.185628</td>\n",
       "      <td>0.647268</td>\n",
       "    </tr>\n",
       "    <tr>\n",
       "      <th>eigenvalues</th>\n",
       "      <td>0.571058</td>\n",
       "      <td>25.608794</td>\n",
       "      <td>0.618804</td>\n",
       "    </tr>\n",
       "    <tr>\n",
       "      <th>full</th>\n",
       "      <td>6.948681</td>\n",
       "      <td>22.779123</td>\n",
       "      <td>7.039046</td>\n",
       "    </tr>\n",
       "    <tr>\n",
       "      <th rowspan=\"9\" valign=\"top\">5000</th>\n",
       "      <th rowspan=\"3\" valign=\"top\">20</th>\n",
       "      <th>alphabeta</th>\n",
       "      <td>2.796817</td>\n",
       "      <td>25.400110</td>\n",
       "      <td>2.956494</td>\n",
       "    </tr>\n",
       "    <tr>\n",
       "      <th>eigenvalues</th>\n",
       "      <td>2.744897</td>\n",
       "      <td>24.775271</td>\n",
       "      <td>2.977727</td>\n",
       "    </tr>\n",
       "    <tr>\n",
       "      <th>full</th>\n",
       "      <td>34.754727</td>\n",
       "      <td>25.147198</td>\n",
       "      <td>35.233201</td>\n",
       "    </tr>\n",
       "    <tr>\n",
       "      <th rowspan=\"3\" valign=\"top\">50</th>\n",
       "      <th>alphabeta</th>\n",
       "      <td>2.547886</td>\n",
       "      <td>24.540862</td>\n",
       "      <td>2.685789</td>\n",
       "    </tr>\n",
       "    <tr>\n",
       "      <th>eigenvalues</th>\n",
       "      <td>3.027401</td>\n",
       "      <td>26.374120</td>\n",
       "      <td>3.273087</td>\n",
       "    </tr>\n",
       "    <tr>\n",
       "      <th>full</th>\n",
       "      <td>37.661558</td>\n",
       "      <td>27.127799</td>\n",
       "      <td>38.158856</td>\n",
       "    </tr>\n",
       "    <tr>\n",
       "      <th rowspan=\"3\" valign=\"top\">100</th>\n",
       "      <th>alphabeta</th>\n",
       "      <td>2.771025</td>\n",
       "      <td>24.788127</td>\n",
       "      <td>2.914735</td>\n",
       "    </tr>\n",
       "    <tr>\n",
       "      <th>eigenvalues</th>\n",
       "      <td>3.426823</td>\n",
       "      <td>24.591709</td>\n",
       "      <td>3.692796</td>\n",
       "    </tr>\n",
       "    <tr>\n",
       "      <th>full</th>\n",
       "      <td>30.971373</td>\n",
       "      <td>25.216920</td>\n",
       "      <td>31.384301</td>\n",
       "    </tr>\n",
       "    <tr>\n",
       "      <th rowspan=\"9\" valign=\"top\">10000</th>\n",
       "      <th rowspan=\"3\" valign=\"top\">20</th>\n",
       "      <th>alphabeta</th>\n",
       "      <td>6.564673</td>\n",
       "      <td>23.005558</td>\n",
       "      <td>6.917943</td>\n",
       "    </tr>\n",
       "    <tr>\n",
       "      <th>eigenvalues</th>\n",
       "      <td>5.249699</td>\n",
       "      <td>24.490626</td>\n",
       "      <td>5.685728</td>\n",
       "    </tr>\n",
       "    <tr>\n",
       "      <th>full</th>\n",
       "      <td>68.607364</td>\n",
       "      <td>24.649239</td>\n",
       "      <td>69.536345</td>\n",
       "    </tr>\n",
       "    <tr>\n",
       "      <th rowspan=\"3\" valign=\"top\">50</th>\n",
       "      <th>alphabeta</th>\n",
       "      <td>4.863187</td>\n",
       "      <td>25.286409</td>\n",
       "      <td>5.119649</td>\n",
       "    </tr>\n",
       "    <tr>\n",
       "      <th>eigenvalues</th>\n",
       "      <td>7.443813</td>\n",
       "      <td>25.970230</td>\n",
       "      <td>8.020254</td>\n",
       "    </tr>\n",
       "    <tr>\n",
       "      <th>full</th>\n",
       "      <td>67.212469</td>\n",
       "      <td>28.062332</td>\n",
       "      <td>68.115069</td>\n",
       "    </tr>\n",
       "    <tr>\n",
       "      <th rowspan=\"3\" valign=\"top\">100</th>\n",
       "      <th>alphabeta</th>\n",
       "      <td>4.962452</td>\n",
       "      <td>22.263339</td>\n",
       "      <td>5.217883</td>\n",
       "    </tr>\n",
       "    <tr>\n",
       "      <th>eigenvalues</th>\n",
       "      <td>6.999608</td>\n",
       "      <td>24.023600</td>\n",
       "      <td>7.530112</td>\n",
       "    </tr>\n",
       "    <tr>\n",
       "      <th>full</th>\n",
       "      <td>68.310649</td>\n",
       "      <td>22.045636</td>\n",
       "      <td>69.215954</td>\n",
       "    </tr>\n",
       "    <tr>\n",
       "      <th rowspan=\"9\" valign=\"top\">50000</th>\n",
       "      <th rowspan=\"3\" valign=\"top\">20</th>\n",
       "      <th>alphabeta</th>\n",
       "      <td>27.378458</td>\n",
       "      <td>23.046933</td>\n",
       "      <td>28.778236</td>\n",
       "    </tr>\n",
       "    <tr>\n",
       "      <th>eigenvalues</th>\n",
       "      <td>25.403789</td>\n",
       "      <td>25.188286</td>\n",
       "      <td>27.403409</td>\n",
       "    </tr>\n",
       "    <tr>\n",
       "      <th>full</th>\n",
       "      <td>348.792947</td>\n",
       "      <td>23.447283</td>\n",
       "      <td>353.355872</td>\n",
       "    </tr>\n",
       "    <tr>\n",
       "      <th rowspan=\"3\" valign=\"top\">50</th>\n",
       "      <th>alphabeta</th>\n",
       "      <td>27.448051</td>\n",
       "      <td>25.004761</td>\n",
       "      <td>28.837484</td>\n",
       "    </tr>\n",
       "    <tr>\n",
       "      <th>eigenvalues</th>\n",
       "      <td>31.346344</td>\n",
       "      <td>26.762654</td>\n",
       "      <td>33.697324</td>\n",
       "    </tr>\n",
       "    <tr>\n",
       "      <th>full</th>\n",
       "      <td>358.037473</td>\n",
       "      <td>22.746695</td>\n",
       "      <td>362.659920</td>\n",
       "    </tr>\n",
       "    <tr>\n",
       "      <th rowspan=\"3\" valign=\"top\">100</th>\n",
       "      <th>alphabeta</th>\n",
       "      <td>32.097922</td>\n",
       "      <td>25.957928</td>\n",
       "      <td>33.604702</td>\n",
       "    </tr>\n",
       "    <tr>\n",
       "      <th>eigenvalues</th>\n",
       "      <td>38.745223</td>\n",
       "      <td>25.498531</td>\n",
       "      <td>41.499287</td>\n",
       "    </tr>\n",
       "    <tr>\n",
       "      <th>full</th>\n",
       "      <td>408.165832</td>\n",
       "      <td>26.162661</td>\n",
       "      <td>413.246715</td>\n",
       "    </tr>\n",
       "  </tbody>\n",
       "</table>\n",
       "</div>"
      ],
      "text/plain": [
       "function                            generate_features    reading     writing\n",
       "nb_points nb_neighbors feature_set                                          \n",
       "1000      20           alphabeta             0.563383  25.319025    0.596380\n",
       "                       eigenvalues           0.577630  25.567744    0.628296\n",
       "                       full                  5.753856  24.810084    5.835198\n",
       "          50           alphabeta             0.569643  24.743241    0.601765\n",
       "                       eigenvalues           0.591920  22.469605    0.641091\n",
       "                       full                  7.975307  23.688777    8.079801\n",
       "          100          alphabeta             0.612698  29.185628    0.647268\n",
       "                       eigenvalues           0.571058  25.608794    0.618804\n",
       "                       full                  6.948681  22.779123    7.039046\n",
       "5000      20           alphabeta             2.796817  25.400110    2.956494\n",
       "                       eigenvalues           2.744897  24.775271    2.977727\n",
       "                       full                 34.754727  25.147198   35.233201\n",
       "          50           alphabeta             2.547886  24.540862    2.685789\n",
       "                       eigenvalues           3.027401  26.374120    3.273087\n",
       "                       full                 37.661558  27.127799   38.158856\n",
       "          100          alphabeta             2.771025  24.788127    2.914735\n",
       "                       eigenvalues           3.426823  24.591709    3.692796\n",
       "                       full                 30.971373  25.216920   31.384301\n",
       "10000     20           alphabeta             6.564673  23.005558    6.917943\n",
       "                       eigenvalues           5.249699  24.490626    5.685728\n",
       "                       full                 68.607364  24.649239   69.536345\n",
       "          50           alphabeta             4.863187  25.286409    5.119649\n",
       "                       eigenvalues           7.443813  25.970230    8.020254\n",
       "                       full                 67.212469  28.062332   68.115069\n",
       "          100          alphabeta             4.962452  22.263339    5.217883\n",
       "                       eigenvalues           6.999608  24.023600    7.530112\n",
       "                       full                 68.310649  22.045636   69.215954\n",
       "50000     20           alphabeta            27.378458  23.046933   28.778236\n",
       "                       eigenvalues          25.403789  25.188286   27.403409\n",
       "                       full                348.792947  23.447283  353.355872\n",
       "          50           alphabeta            27.448051  25.004761   28.837484\n",
       "                       eigenvalues          31.346344  26.762654   33.697324\n",
       "                       full                358.037473  22.746695  362.659920\n",
       "          100          alphabeta            32.097922  25.957928   33.604702\n",
       "                       eigenvalues          38.745223  25.498531   41.499287\n",
       "                       full                408.165832  26.162661  413.246715"
      ]
     },
     "execution_count": 65,
     "metadata": {},
     "output_type": "execute_result"
    }
   ],
   "source": [
    "grouped_simplified_timers"
   ]
  },
  {
   "cell_type": "markdown",
   "metadata": {},
   "source": [
    "La dernière table montre un complément d'information intéressant. Il est possible de voir que le processus de lecture prend environ 25 secondes quelle que soit la configuration pour le nuage de points considérés (~1.9 millions de points)."
   ]
  },
  {
   "cell_type": "markdown",
   "metadata": {},
   "source": [
    "Ensuite, le processus d'écriture s'avère suivre de très près le processus de génération de features: et pour cause, la génération de features s'effectue via un générateur Python, ainsi l'opération n'est faite que lorsque l'itérateur est utilisé (pendant l'écriture)."
   ]
  },
  {
   "cell_type": "markdown",
   "metadata": {},
   "source": [
    "La majeure partie du temps passé correspond à la génération de features elle-même. Décomposons ce processus..."
   ]
  },
  {
   "cell_type": "code",
   "execution_count": 71,
   "metadata": {},
   "outputs": [
    {
     "data": {
      "text/plain": [
       "array(['features.py:54(normalized_eigenvalues)',\n",
       "       'features.py:72(triangle_variance_space)',\n",
       "       'features.py:6(<module>)', 'extract.py:81(alphabeta_features)',\n",
       "       'extract.py:14(<module>)', 'extract.py:33(build_neighborhood)',\n",
       "       '__init__.py:4(<module>)', 'io.py:14(xyz)',\n",
       "       'io.py:82(write_features)', 'io.py:5(<module>)',\n",
       "       'features.py:115(compute_3D_features)',\n",
       "       'extract.py:124(eigen_features)',\n",
       "       'features.py:12(accumulation_2d_neighborhood)',\n",
       "       'features.py:148(compute_2D_features)',\n",
       "       'features.py:168(compute_3D_properties)',\n",
       "       'features.py:211(<listcomp>)',\n",
       "       'features.py:195(compute_2D_properties)',\n",
       "       'features.py:218(verticality_coefficient)',\n",
       "       'extract.py:56(retrieve_accumulation_features)',\n",
       "       'extract.py:183(all_features)'], dtype=object)"
      ]
     },
     "execution_count": 71,
     "metadata": {},
     "output_type": "execute_result"
    }
   ],
   "source": [
    "timers.function.unique()"
   ]
  },
  {
   "cell_type": "code",
   "execution_count": 95,
   "metadata": {},
   "outputs": [],
   "source": [
    "gen_feature_functions = [\"features.py:72(triangle_variance_space)\",\n",
    "                         \"extract.py:33(build_neighborhood)\",\n",
    "                         \"features.py:115(compute_3D_features)\",\n",
    "                         \"features.py:12(accumulation_2d_neighborhood)\",\n",
    "                         \"features.py:148(compute_2D_features)\",\n",
    "                         \"features.py:168(compute_3D_properties)\",\n",
    "                         \"features.py:195(compute_2D_properties)\",\n",
    "                         \"features.py:218(verticality_coefficient)\",\n",
    "                         \"extract.py:56(retrieve_accumulation_features)\"]"
   ]
  },
  {
   "cell_type": "code",
   "execution_count": 96,
   "metadata": {},
   "outputs": [],
   "source": [
    "gen_feature_mask = [f in gen_feature_functions for f in timers[\"function\"]]\n",
    "gen_feature_timers = timers.loc[gen_feature_mask]"
   ]
  },
  {
   "cell_type": "code",
   "execution_count": 97,
   "metadata": {},
   "outputs": [
    {
     "data": {
      "text/html": [
       "<div>\n",
       "<style scoped>\n",
       "    .dataframe tbody tr th:only-of-type {\n",
       "        vertical-align: middle;\n",
       "    }\n",
       "\n",
       "    .dataframe tbody tr th {\n",
       "        vertical-align: top;\n",
       "    }\n",
       "\n",
       "    .dataframe thead th {\n",
       "        text-align: right;\n",
       "    }\n",
       "</style>\n",
       "<table border=\"1\" class=\"dataframe\">\n",
       "  <thead>\n",
       "    <tr style=\"text-align: right;\">\n",
       "      <th></th>\n",
       "      <th>feature_set</th>\n",
       "      <th>alphabeta</th>\n",
       "      <th>eigenvalues</th>\n",
       "      <th>full</th>\n",
       "    </tr>\n",
       "    <tr>\n",
       "      <th>nb_points</th>\n",
       "      <th>nb_neighbors</th>\n",
       "      <th></th>\n",
       "      <th></th>\n",
       "      <th></th>\n",
       "    </tr>\n",
       "  </thead>\n",
       "  <tbody>\n",
       "    <tr>\n",
       "      <th rowspan=\"3\" valign=\"top\">1000</th>\n",
       "      <th>20</th>\n",
       "      <td>0.177136</td>\n",
       "      <td>0.198167</td>\n",
       "      <td>5.050151</td>\n",
       "    </tr>\n",
       "    <tr>\n",
       "      <th>50</th>\n",
       "      <td>0.177889</td>\n",
       "      <td>0.204468</td>\n",
       "      <td>6.997779</td>\n",
       "    </tr>\n",
       "    <tr>\n",
       "      <th>100</th>\n",
       "      <td>0.197102</td>\n",
       "      <td>0.203302</td>\n",
       "      <td>6.100780</td>\n",
       "    </tr>\n",
       "    <tr>\n",
       "      <th rowspan=\"3\" valign=\"top\">5000</th>\n",
       "      <th>20</th>\n",
       "      <td>0.909448</td>\n",
       "      <td>0.977686</td>\n",
       "      <td>30.489495</td>\n",
       "    </tr>\n",
       "    <tr>\n",
       "      <th>50</th>\n",
       "      <td>0.841673</td>\n",
       "      <td>1.096892</td>\n",
       "      <td>33.044392</td>\n",
       "    </tr>\n",
       "    <tr>\n",
       "      <th>100</th>\n",
       "      <td>0.952493</td>\n",
       "      <td>1.269948</td>\n",
       "      <td>27.150599</td>\n",
       "    </tr>\n",
       "    <tr>\n",
       "      <th rowspan=\"3\" valign=\"top\">10000</th>\n",
       "      <th>20</th>\n",
       "      <td>2.206830</td>\n",
       "      <td>1.904274</td>\n",
       "      <td>60.319759</td>\n",
       "    </tr>\n",
       "    <tr>\n",
       "      <th>50</th>\n",
       "      <td>1.654828</td>\n",
       "      <td>2.785919</td>\n",
       "      <td>59.081249</td>\n",
       "    </tr>\n",
       "    <tr>\n",
       "      <th>100</th>\n",
       "      <td>1.742376</td>\n",
       "      <td>2.687707</td>\n",
       "      <td>60.033048</td>\n",
       "    </tr>\n",
       "    <tr>\n",
       "      <th rowspan=\"3\" valign=\"top\">50000</th>\n",
       "      <th>20</th>\n",
       "      <td>10.123974</td>\n",
       "      <td>9.846643</td>\n",
       "      <td>308.202713</td>\n",
       "    </tr>\n",
       "    <tr>\n",
       "      <th>50</th>\n",
       "      <td>10.404067</td>\n",
       "      <td>12.689949</td>\n",
       "      <td>316.262847</td>\n",
       "    </tr>\n",
       "    <tr>\n",
       "      <th>100</th>\n",
       "      <td>12.848695</td>\n",
       "      <td>16.433976</td>\n",
       "      <td>360.103937</td>\n",
       "    </tr>\n",
       "  </tbody>\n",
       "</table>\n",
       "</div>"
      ],
      "text/plain": [
       "feature_set             alphabeta  eigenvalues        full\n",
       "nb_points nb_neighbors                                    \n",
       "1000      20             0.177136     0.198167    5.050151\n",
       "          50             0.177889     0.204468    6.997779\n",
       "          100            0.197102     0.203302    6.100780\n",
       "5000      20             0.909448     0.977686   30.489495\n",
       "          50             0.841673     1.096892   33.044392\n",
       "          100            0.952493     1.269948   27.150599\n",
       "10000     20             2.206830     1.904274   60.319759\n",
       "          50             1.654828     2.785919   59.081249\n",
       "          100            1.742376     2.687707   60.033048\n",
       "50000     20            10.123974     9.846643  308.202713\n",
       "          50            10.404067    12.689949  316.262847\n",
       "          100           12.848695    16.433976  360.103937"
      ]
     },
     "execution_count": 97,
     "metadata": {},
     "output_type": "execute_result"
    }
   ],
   "source": [
    "cum_times = gen_feature_timers.groupby([\"nb_points\", \"nb_neighbors\", \"feature_set\"])[\"cum_time\"].sum()\n",
    "cum_times.unstack()"
   ]
  },
  {
   "cell_type": "markdown",
   "metadata": {},
   "source": [
    "Ces chiffres doivent être comparés avec ceux de la colonnes `generate_features`, dans la table précédente : on obtient le temps nécessaire pour la génération de features, une fois mis de côté le temps de calcul du KDTree et des ACP."
   ]
  },
  {
   "cell_type": "markdown",
   "metadata": {},
   "source": [
    "### Ensemble `alphabeta`"
   ]
  },
  {
   "cell_type": "code",
   "execution_count": 99,
   "metadata": {},
   "outputs": [],
   "source": [
    "alphabeta_feature_timers = gen_feature_timers[gen_feature_timers[\"feature_set\"] == \"alphabeta\"]"
   ]
  },
  {
   "cell_type": "code",
   "execution_count": 103,
   "metadata": {},
   "outputs": [
    {
     "data": {
      "text/html": [
       "<div>\n",
       "<style scoped>\n",
       "    .dataframe tbody tr th:only-of-type {\n",
       "        vertical-align: middle;\n",
       "    }\n",
       "\n",
       "    .dataframe tbody tr th {\n",
       "        vertical-align: top;\n",
       "    }\n",
       "\n",
       "    .dataframe thead th {\n",
       "        text-align: right;\n",
       "    }\n",
       "</style>\n",
       "<table border=\"1\" class=\"dataframe\">\n",
       "  <thead>\n",
       "    <tr style=\"text-align: right;\">\n",
       "      <th></th>\n",
       "      <th>function</th>\n",
       "      <th>extract.py:33(build_neighborhood)</th>\n",
       "      <th>features.py:72(triangle_variance_space)</th>\n",
       "    </tr>\n",
       "    <tr>\n",
       "      <th>nb_points</th>\n",
       "      <th>nb_neighbors</th>\n",
       "      <th></th>\n",
       "      <th></th>\n",
       "    </tr>\n",
       "  </thead>\n",
       "  <tbody>\n",
       "    <tr>\n",
       "      <th rowspan=\"3\" valign=\"top\">1000</th>\n",
       "      <th>20</th>\n",
       "      <td>0.157712</td>\n",
       "      <td>0.019424</td>\n",
       "    </tr>\n",
       "    <tr>\n",
       "      <th>50</th>\n",
       "      <td>0.159309</td>\n",
       "      <td>0.018580</td>\n",
       "    </tr>\n",
       "    <tr>\n",
       "      <th>100</th>\n",
       "      <td>0.178157</td>\n",
       "      <td>0.018945</td>\n",
       "    </tr>\n",
       "    <tr>\n",
       "      <th rowspan=\"3\" valign=\"top\">5000</th>\n",
       "      <th>20</th>\n",
       "      <td>0.819160</td>\n",
       "      <td>0.090288</td>\n",
       "    </tr>\n",
       "    <tr>\n",
       "      <th>50</th>\n",
       "      <td>0.760993</td>\n",
       "      <td>0.080680</td>\n",
       "    </tr>\n",
       "    <tr>\n",
       "      <th>100</th>\n",
       "      <td>0.869670</td>\n",
       "      <td>0.082823</td>\n",
       "    </tr>\n",
       "    <tr>\n",
       "      <th rowspan=\"3\" valign=\"top\">10000</th>\n",
       "      <th>20</th>\n",
       "      <td>2.008319</td>\n",
       "      <td>0.198511</td>\n",
       "    </tr>\n",
       "    <tr>\n",
       "      <th>50</th>\n",
       "      <td>1.505561</td>\n",
       "      <td>0.149267</td>\n",
       "    </tr>\n",
       "    <tr>\n",
       "      <th>100</th>\n",
       "      <td>1.593387</td>\n",
       "      <td>0.148989</td>\n",
       "    </tr>\n",
       "    <tr>\n",
       "      <th rowspan=\"3\" valign=\"top\">50000</th>\n",
       "      <th>20</th>\n",
       "      <td>9.285784</td>\n",
       "      <td>0.838190</td>\n",
       "    </tr>\n",
       "    <tr>\n",
       "      <th>50</th>\n",
       "      <td>9.626192</td>\n",
       "      <td>0.777875</td>\n",
       "    </tr>\n",
       "    <tr>\n",
       "      <th>100</th>\n",
       "      <td>11.975734</td>\n",
       "      <td>0.872961</td>\n",
       "    </tr>\n",
       "  </tbody>\n",
       "</table>\n",
       "</div>"
      ],
      "text/plain": [
       "function                extract.py:33(build_neighborhood)  \\\n",
       "nb_points nb_neighbors                                      \n",
       "1000      20                                     0.157712   \n",
       "          50                                     0.159309   \n",
       "          100                                    0.178157   \n",
       "5000      20                                     0.819160   \n",
       "          50                                     0.760993   \n",
       "          100                                    0.869670   \n",
       "10000     20                                     2.008319   \n",
       "          50                                     1.505561   \n",
       "          100                                    1.593387   \n",
       "50000     20                                     9.285784   \n",
       "          50                                     9.626192   \n",
       "          100                                   11.975734   \n",
       "\n",
       "function                features.py:72(triangle_variance_space)  \n",
       "nb_points nb_neighbors                                           \n",
       "1000      20                                           0.019424  \n",
       "          50                                           0.018580  \n",
       "          100                                          0.018945  \n",
       "5000      20                                           0.090288  \n",
       "          50                                           0.080680  \n",
       "          100                                          0.082823  \n",
       "10000     20                                           0.198511  \n",
       "          50                                           0.149267  \n",
       "          100                                          0.148989  \n",
       "50000     20                                           0.838190  \n",
       "          50                                           0.777875  \n",
       "          100                                          0.872961  "
      ]
     },
     "execution_count": 103,
     "metadata": {},
     "output_type": "execute_result"
    }
   ],
   "source": [
    "alphabeta_feature_timers.groupby([\"nb_points\", \"nb_neighbors\", \"function\"])[\"cum_time\"].mean().unstack()"
   ]
  },
  {
   "cell_type": "markdown",
   "metadata": {},
   "source": [
    "Pour le set de features `alphabeta`, seulement deux fonctions sont appelées durant la génération des features : `build_neighborhood` correspond à l'extraction des points voisins à partir du KDTree, alors que `triangle_variance_space` retourne les features."
   ]
  },
  {
   "cell_type": "markdown",
   "metadata": {},
   "source": [
    "Ces deux fonctions semblent peu influencées par la taille du voisinage, mais sont très sensibles au nombre de points considérés (relation linéaire)."
   ]
  },
  {
   "cell_type": "markdown",
   "metadata": {},
   "source": [
    "### Ensemble `eigenvalues`"
   ]
  },
  {
   "cell_type": "code",
   "execution_count": 104,
   "metadata": {},
   "outputs": [],
   "source": [
    "eigen_feature_timers = gen_feature_timers[gen_feature_timers[\"feature_set\"] == \"eigenvalues\"]"
   ]
  },
  {
   "cell_type": "code",
   "execution_count": 111,
   "metadata": {
    "scrolled": true
   },
   "outputs": [
    {
     "data": {
      "text/html": [
       "<div>\n",
       "<style scoped>\n",
       "    .dataframe tbody tr th:only-of-type {\n",
       "        vertical-align: middle;\n",
       "    }\n",
       "\n",
       "    .dataframe tbody tr th {\n",
       "        vertical-align: top;\n",
       "    }\n",
       "\n",
       "    .dataframe thead th {\n",
       "        text-align: right;\n",
       "    }\n",
       "</style>\n",
       "<table border=\"1\" class=\"dataframe\">\n",
       "  <thead>\n",
       "    <tr style=\"text-align: right;\">\n",
       "      <th></th>\n",
       "      <th>function</th>\n",
       "      <th>extract.py:33(build_neighborhood)</th>\n",
       "      <th>features.py:115(compute_3D_features)</th>\n",
       "      <th>features.py:72(triangle_variance_space)</th>\n",
       "    </tr>\n",
       "    <tr>\n",
       "      <th>nb_points</th>\n",
       "      <th>nb_neighbors</th>\n",
       "      <th></th>\n",
       "      <th></th>\n",
       "      <th></th>\n",
       "    </tr>\n",
       "  </thead>\n",
       "  <tbody>\n",
       "    <tr>\n",
       "      <th rowspan=\"3\" valign=\"top\">1000</th>\n",
       "      <th>20</th>\n",
       "      <td>0.145820</td>\n",
       "      <td>0.036710</td>\n",
       "      <td>0.015637</td>\n",
       "    </tr>\n",
       "    <tr>\n",
       "      <th>50</th>\n",
       "      <td>0.154742</td>\n",
       "      <td>0.034834</td>\n",
       "      <td>0.014892</td>\n",
       "    </tr>\n",
       "    <tr>\n",
       "      <th>100</th>\n",
       "      <td>0.155381</td>\n",
       "      <td>0.033694</td>\n",
       "      <td>0.014227</td>\n",
       "    </tr>\n",
       "    <tr>\n",
       "      <th rowspan=\"3\" valign=\"top\">5000</th>\n",
       "      <th>20</th>\n",
       "      <td>0.736940</td>\n",
       "      <td>0.169270</td>\n",
       "      <td>0.071476</td>\n",
       "    </tr>\n",
       "    <tr>\n",
       "      <th>50</th>\n",
       "      <td>0.841964</td>\n",
       "      <td>0.178802</td>\n",
       "      <td>0.076126</td>\n",
       "    </tr>\n",
       "    <tr>\n",
       "      <th>100</th>\n",
       "      <td>0.993377</td>\n",
       "      <td>0.193816</td>\n",
       "      <td>0.082755</td>\n",
       "    </tr>\n",
       "    <tr>\n",
       "      <th rowspan=\"3\" valign=\"top\">10000</th>\n",
       "      <th>20</th>\n",
       "      <td>1.448066</td>\n",
       "      <td>0.319397</td>\n",
       "      <td>0.136811</td>\n",
       "    </tr>\n",
       "    <tr>\n",
       "      <th>50</th>\n",
       "      <td>2.187031</td>\n",
       "      <td>0.422002</td>\n",
       "      <td>0.176886</td>\n",
       "    </tr>\n",
       "    <tr>\n",
       "      <th>100</th>\n",
       "      <td>2.134402</td>\n",
       "      <td>0.388373</td>\n",
       "      <td>0.164932</td>\n",
       "    </tr>\n",
       "    <tr>\n",
       "      <th rowspan=\"3\" valign=\"top\">50000</th>\n",
       "      <th>20</th>\n",
       "      <td>7.747293</td>\n",
       "      <td>1.466959</td>\n",
       "      <td>0.632391</td>\n",
       "    </tr>\n",
       "    <tr>\n",
       "      <th>50</th>\n",
       "      <td>10.271744</td>\n",
       "      <td>1.687062</td>\n",
       "      <td>0.731143</td>\n",
       "    </tr>\n",
       "    <tr>\n",
       "      <th>100</th>\n",
       "      <td>13.590031</td>\n",
       "      <td>2.001668</td>\n",
       "      <td>0.842277</td>\n",
       "    </tr>\n",
       "  </tbody>\n",
       "</table>\n",
       "</div>"
      ],
      "text/plain": [
       "function                extract.py:33(build_neighborhood)  \\\n",
       "nb_points nb_neighbors                                      \n",
       "1000      20                                     0.145820   \n",
       "          50                                     0.154742   \n",
       "          100                                    0.155381   \n",
       "5000      20                                     0.736940   \n",
       "          50                                     0.841964   \n",
       "          100                                    0.993377   \n",
       "10000     20                                     1.448066   \n",
       "          50                                     2.187031   \n",
       "          100                                    2.134402   \n",
       "50000     20                                     7.747293   \n",
       "          50                                    10.271744   \n",
       "          100                                   13.590031   \n",
       "\n",
       "function                features.py:115(compute_3D_features)  \\\n",
       "nb_points nb_neighbors                                         \n",
       "1000      20                                        0.036710   \n",
       "          50                                        0.034834   \n",
       "          100                                       0.033694   \n",
       "5000      20                                        0.169270   \n",
       "          50                                        0.178802   \n",
       "          100                                       0.193816   \n",
       "10000     20                                        0.319397   \n",
       "          50                                        0.422002   \n",
       "          100                                       0.388373   \n",
       "50000     20                                        1.466959   \n",
       "          50                                        1.687062   \n",
       "          100                                       2.001668   \n",
       "\n",
       "function                features.py:72(triangle_variance_space)  \n",
       "nb_points nb_neighbors                                           \n",
       "1000      20                                           0.015637  \n",
       "          50                                           0.014892  \n",
       "          100                                          0.014227  \n",
       "5000      20                                           0.071476  \n",
       "          50                                           0.076126  \n",
       "          100                                          0.082755  \n",
       "10000     20                                           0.136811  \n",
       "          50                                           0.176886  \n",
       "          100                                          0.164932  \n",
       "50000     20                                           0.632391  \n",
       "          50                                           0.731143  \n",
       "          100                                          0.842277  "
      ]
     },
     "execution_count": 111,
     "metadata": {},
     "output_type": "execute_result"
    }
   ],
   "source": [
    "grouped_eigen_feature_timers = eigen_feature_timers.groupby([\"nb_points\", \"nb_neighbors\", \"function\"])[\"cum_time\"].mean().unstack()\n",
    "grouped_eigen_feature_timers"
   ]
  },
  {
   "cell_type": "markdown",
   "metadata": {},
   "source": [
    "En plus des deux fonctions décrites pour l'ensemble de features `alphabeta`, s'ajoute la fonction `compute_3D_features`, qui donne un ensemble de features tirés des valeurs propres du nuage de point local."
   ]
  },
  {
   "cell_type": "markdown",
   "metadata": {},
   "source": [
    "Globalement, les conclusions sont les mêmes que précédemment : la relation linéaire avec le nombre de points explique l'essentiel des évolutions en termes de temps de calcul. A noter que les deux premières fonctions présentent des temps d'exécution très proches de ceux obtenus pour le précédent ensemble de features."
   ]
  },
  {
   "cell_type": "markdown",
   "metadata": {},
   "source": [
    "### Ensemble `full`"
   ]
  },
  {
   "cell_type": "code",
   "execution_count": 107,
   "metadata": {},
   "outputs": [],
   "source": [
    "full_feature_timers = gen_feature_timers[gen_feature_timers[\"feature_set\"] == \"full\"]"
   ]
  },
  {
   "cell_type": "code",
   "execution_count": 117,
   "metadata": {},
   "outputs": [],
   "source": [
    "grouped_full_feature_timers = full_feature_timers.groupby([\"nb_points\", \"nb_neighbors\", \"function\"])[\"cum_time\"].mean().unstack()"
   ]
  },
  {
   "cell_type": "code",
   "execution_count": 118,
   "metadata": {},
   "outputs": [
    {
     "data": {
      "text/plain": [
       "Index(['extract.py:33(build_neighborhood)',\n",
       "       'features.py:115(compute_3D_features)',\n",
       "       'features.py:72(triangle_variance_space)'],\n",
       "      dtype='object', name='function')"
      ]
     },
     "execution_count": 118,
     "metadata": {},
     "output_type": "execute_result"
    }
   ],
   "source": [
    "columns1 = grouped_eigen_feature_timers.columns\n",
    "columns1"
   ]
  },
  {
   "cell_type": "code",
   "execution_count": 119,
   "metadata": {},
   "outputs": [
    {
     "data": {
      "text/html": [
       "<div>\n",
       "<style scoped>\n",
       "    .dataframe tbody tr th:only-of-type {\n",
       "        vertical-align: middle;\n",
       "    }\n",
       "\n",
       "    .dataframe tbody tr th {\n",
       "        vertical-align: top;\n",
       "    }\n",
       "\n",
       "    .dataframe thead th {\n",
       "        text-align: right;\n",
       "    }\n",
       "</style>\n",
       "<table border=\"1\" class=\"dataframe\">\n",
       "  <thead>\n",
       "    <tr style=\"text-align: right;\">\n",
       "      <th></th>\n",
       "      <th>function</th>\n",
       "      <th>extract.py:33(build_neighborhood)</th>\n",
       "      <th>features.py:115(compute_3D_features)</th>\n",
       "      <th>features.py:72(triangle_variance_space)</th>\n",
       "    </tr>\n",
       "    <tr>\n",
       "      <th>nb_points</th>\n",
       "      <th>nb_neighbors</th>\n",
       "      <th></th>\n",
       "      <th></th>\n",
       "      <th></th>\n",
       "    </tr>\n",
       "  </thead>\n",
       "  <tbody>\n",
       "    <tr>\n",
       "      <th rowspan=\"3\" valign=\"top\">1000</th>\n",
       "      <th>20</th>\n",
       "      <td>0.161817</td>\n",
       "      <td>0.035391</td>\n",
       "      <td>0.014938</td>\n",
       "    </tr>\n",
       "    <tr>\n",
       "      <th>50</th>\n",
       "      <td>0.236214</td>\n",
       "      <td>0.046846</td>\n",
       "      <td>0.020023</td>\n",
       "    </tr>\n",
       "    <tr>\n",
       "      <th>100</th>\n",
       "      <td>0.212645</td>\n",
       "      <td>0.040425</td>\n",
       "      <td>0.017575</td>\n",
       "    </tr>\n",
       "    <tr>\n",
       "      <th rowspan=\"3\" valign=\"top\">5000</th>\n",
       "      <th>20</th>\n",
       "      <td>1.099541</td>\n",
       "      <td>0.211303</td>\n",
       "      <td>0.091251</td>\n",
       "    </tr>\n",
       "    <tr>\n",
       "      <th>50</th>\n",
       "      <td>1.244949</td>\n",
       "      <td>0.217433</td>\n",
       "      <td>0.094439</td>\n",
       "    </tr>\n",
       "    <tr>\n",
       "      <th>100</th>\n",
       "      <td>1.023347</td>\n",
       "      <td>0.179723</td>\n",
       "      <td>0.077789</td>\n",
       "    </tr>\n",
       "    <tr>\n",
       "      <th rowspan=\"3\" valign=\"top\">10000</th>\n",
       "      <th>20</th>\n",
       "      <td>2.311873</td>\n",
       "      <td>0.412382</td>\n",
       "      <td>0.176543</td>\n",
       "    </tr>\n",
       "    <tr>\n",
       "      <th>50</th>\n",
       "      <td>2.271239</td>\n",
       "      <td>0.403088</td>\n",
       "      <td>0.175078</td>\n",
       "    </tr>\n",
       "    <tr>\n",
       "      <th>100</th>\n",
       "      <td>2.503310</td>\n",
       "      <td>0.388904</td>\n",
       "      <td>0.170830</td>\n",
       "    </tr>\n",
       "    <tr>\n",
       "      <th rowspan=\"3\" valign=\"top\">50000</th>\n",
       "      <th>20</th>\n",
       "      <td>12.770785</td>\n",
       "      <td>1.950081</td>\n",
       "      <td>0.851549</td>\n",
       "    </tr>\n",
       "    <tr>\n",
       "      <th>50</th>\n",
       "      <td>14.057929</td>\n",
       "      <td>2.001366</td>\n",
       "      <td>0.878823</td>\n",
       "    </tr>\n",
       "    <tr>\n",
       "      <th>100</th>\n",
       "      <td>16.877254</td>\n",
       "      <td>2.254619</td>\n",
       "      <td>0.970479</td>\n",
       "    </tr>\n",
       "  </tbody>\n",
       "</table>\n",
       "</div>"
      ],
      "text/plain": [
       "function                extract.py:33(build_neighborhood)  \\\n",
       "nb_points nb_neighbors                                      \n",
       "1000      20                                     0.161817   \n",
       "          50                                     0.236214   \n",
       "          100                                    0.212645   \n",
       "5000      20                                     1.099541   \n",
       "          50                                     1.244949   \n",
       "          100                                    1.023347   \n",
       "10000     20                                     2.311873   \n",
       "          50                                     2.271239   \n",
       "          100                                    2.503310   \n",
       "50000     20                                    12.770785   \n",
       "          50                                    14.057929   \n",
       "          100                                   16.877254   \n",
       "\n",
       "function                features.py:115(compute_3D_features)  \\\n",
       "nb_points nb_neighbors                                         \n",
       "1000      20                                        0.035391   \n",
       "          50                                        0.046846   \n",
       "          100                                       0.040425   \n",
       "5000      20                                        0.211303   \n",
       "          50                                        0.217433   \n",
       "          100                                       0.179723   \n",
       "10000     20                                        0.412382   \n",
       "          50                                        0.403088   \n",
       "          100                                       0.388904   \n",
       "50000     20                                        1.950081   \n",
       "          50                                        2.001366   \n",
       "          100                                       2.254619   \n",
       "\n",
       "function                features.py:72(triangle_variance_space)  \n",
       "nb_points nb_neighbors                                           \n",
       "1000      20                                           0.014938  \n",
       "          50                                           0.020023  \n",
       "          100                                          0.017575  \n",
       "5000      20                                           0.091251  \n",
       "          50                                           0.094439  \n",
       "          100                                          0.077789  \n",
       "10000     20                                           0.176543  \n",
       "          50                                           0.175078  \n",
       "          100                                          0.170830  \n",
       "50000     20                                           0.851549  \n",
       "          50                                           0.878823  \n",
       "          100                                          0.970479  "
      ]
     },
     "execution_count": 119,
     "metadata": {},
     "output_type": "execute_result"
    }
   ],
   "source": [
    "grouped_full_feature_timers[columns1]"
   ]
  },
  {
   "cell_type": "markdown",
   "metadata": {},
   "source": [
    "En reprenant les fonctions déjà rencontrées dans l'ensemble précédent, il est possible de voir que :\n",
    "- la relation linéaire entre le nombre de points et le temps d'exécution est là aussi visible ;\n",
    "- le nombre de voisin n'occasionne pas d'écart significatif, mais la taille du jeu de donneés est certainement trop faible pour mettre en valeur un écart potentiel ;\n",
    "- les temps d'exécution entre cet ensemble de features et les précédents, bien que du même ordre de grandeur, montrent une légère augmentation."
   ]
  },
  {
   "cell_type": "markdown",
   "metadata": {},
   "source": [
    "En réalité, la majeure partie de l'écart entre ce set de features et les précédents vient des fonctions qui ne sont appelées que pour l'ensemble `full`."
   ]
  },
  {
   "cell_type": "code",
   "execution_count": 120,
   "metadata": {},
   "outputs": [
    {
     "data": {
      "text/html": [
       "<div>\n",
       "<style scoped>\n",
       "    .dataframe tbody tr th:only-of-type {\n",
       "        vertical-align: middle;\n",
       "    }\n",
       "\n",
       "    .dataframe tbody tr th {\n",
       "        vertical-align: top;\n",
       "    }\n",
       "\n",
       "    .dataframe thead th {\n",
       "        text-align: right;\n",
       "    }\n",
       "</style>\n",
       "<table border=\"1\" class=\"dataframe\">\n",
       "  <thead>\n",
       "    <tr style=\"text-align: right;\">\n",
       "      <th></th>\n",
       "      <th>function</th>\n",
       "      <th>extract.py:56(retrieve_accumulation_features)</th>\n",
       "      <th>features.py:12(accumulation_2d_neighborhood)</th>\n",
       "      <th>features.py:148(compute_2D_features)</th>\n",
       "      <th>features.py:168(compute_3D_properties)</th>\n",
       "      <th>features.py:195(compute_2D_properties)</th>\n",
       "      <th>features.py:218(verticality_coefficient)</th>\n",
       "    </tr>\n",
       "    <tr>\n",
       "      <th>nb_points</th>\n",
       "      <th>nb_neighbors</th>\n",
       "      <th></th>\n",
       "      <th></th>\n",
       "      <th></th>\n",
       "      <th></th>\n",
       "      <th></th>\n",
       "      <th></th>\n",
       "    </tr>\n",
       "  </thead>\n",
       "  <tbody>\n",
       "    <tr>\n",
       "      <th rowspan=\"3\" valign=\"top\">1000</th>\n",
       "      <th>20</th>\n",
       "      <td>4.623965</td>\n",
       "      <td>0.067767</td>\n",
       "      <td>0.007794</td>\n",
       "      <td>0.082612</td>\n",
       "      <td>0.052682</td>\n",
       "      <td>0.003185</td>\n",
       "    </tr>\n",
       "    <tr>\n",
       "      <th>50</th>\n",
       "      <td>6.383631</td>\n",
       "      <td>0.046327</td>\n",
       "      <td>0.010208</td>\n",
       "      <td>0.107168</td>\n",
       "      <td>0.143274</td>\n",
       "      <td>0.004088</td>\n",
       "    </tr>\n",
       "    <tr>\n",
       "      <th>100</th>\n",
       "      <td>5.440423</td>\n",
       "      <td>0.044205</td>\n",
       "      <td>0.009403</td>\n",
       "      <td>0.094688</td>\n",
       "      <td>0.237846</td>\n",
       "      <td>0.003570</td>\n",
       "    </tr>\n",
       "    <tr>\n",
       "      <th rowspan=\"3\" valign=\"top\">5000</th>\n",
       "      <th>20</th>\n",
       "      <td>28.166667</td>\n",
       "      <td>0.051297</td>\n",
       "      <td>0.043617</td>\n",
       "      <td>0.479637</td>\n",
       "      <td>0.327585</td>\n",
       "      <td>0.018597</td>\n",
       "    </tr>\n",
       "    <tr>\n",
       "      <th>50</th>\n",
       "      <td>30.176574</td>\n",
       "      <td>0.036555</td>\n",
       "      <td>0.049462</td>\n",
       "      <td>0.502312</td>\n",
       "      <td>0.703477</td>\n",
       "      <td>0.019191</td>\n",
       "    </tr>\n",
       "    <tr>\n",
       "      <th>100</th>\n",
       "      <td>24.302631</td>\n",
       "      <td>0.046976</td>\n",
       "      <td>0.040920</td>\n",
       "      <td>0.414600</td>\n",
       "      <td>1.048831</td>\n",
       "      <td>0.015782</td>\n",
       "    </tr>\n",
       "    <tr>\n",
       "      <th rowspan=\"3\" valign=\"top\">10000</th>\n",
       "      <th>20</th>\n",
       "      <td>55.683493</td>\n",
       "      <td>0.046280</td>\n",
       "      <td>0.084519</td>\n",
       "      <td>0.937643</td>\n",
       "      <td>0.632351</td>\n",
       "      <td>0.034675</td>\n",
       "    </tr>\n",
       "    <tr>\n",
       "      <th>50</th>\n",
       "      <td>53.876408</td>\n",
       "      <td>0.052655</td>\n",
       "      <td>0.082884</td>\n",
       "      <td>0.913228</td>\n",
       "      <td>1.271799</td>\n",
       "      <td>0.034870</td>\n",
       "    </tr>\n",
       "    <tr>\n",
       "      <th>100</th>\n",
       "      <td>53.601268</td>\n",
       "      <td>0.038004</td>\n",
       "      <td>0.090549</td>\n",
       "      <td>0.888101</td>\n",
       "      <td>2.317245</td>\n",
       "      <td>0.034837</td>\n",
       "    </tr>\n",
       "    <tr>\n",
       "      <th rowspan=\"3\" valign=\"top\">50000</th>\n",
       "      <th>20</th>\n",
       "      <td>284.414093</td>\n",
       "      <td>0.066968</td>\n",
       "      <td>0.420601</td>\n",
       "      <td>4.495862</td>\n",
       "      <td>3.059511</td>\n",
       "      <td>0.173263</td>\n",
       "    </tr>\n",
       "    <tr>\n",
       "      <th>50</th>\n",
       "      <td>287.672456</td>\n",
       "      <td>0.069322</td>\n",
       "      <td>0.429310</td>\n",
       "      <td>4.588976</td>\n",
       "      <td>6.388285</td>\n",
       "      <td>0.176380</td>\n",
       "    </tr>\n",
       "    <tr>\n",
       "      <th>100</th>\n",
       "      <td>320.943606</td>\n",
       "      <td>0.093177</td>\n",
       "      <td>0.516715</td>\n",
       "      <td>5.184890</td>\n",
       "      <td>13.063089</td>\n",
       "      <td>0.200108</td>\n",
       "    </tr>\n",
       "  </tbody>\n",
       "</table>\n",
       "</div>"
      ],
      "text/plain": [
       "function                extract.py:56(retrieve_accumulation_features)  \\\n",
       "nb_points nb_neighbors                                                  \n",
       "1000      20                                                 4.623965   \n",
       "          50                                                 6.383631   \n",
       "          100                                                5.440423   \n",
       "5000      20                                                28.166667   \n",
       "          50                                                30.176574   \n",
       "          100                                               24.302631   \n",
       "10000     20                                                55.683493   \n",
       "          50                                                53.876408   \n",
       "          100                                               53.601268   \n",
       "50000     20                                               284.414093   \n",
       "          50                                               287.672456   \n",
       "          100                                              320.943606   \n",
       "\n",
       "function                features.py:12(accumulation_2d_neighborhood)  \\\n",
       "nb_points nb_neighbors                                                 \n",
       "1000      20                                                0.067767   \n",
       "          50                                                0.046327   \n",
       "          100                                               0.044205   \n",
       "5000      20                                                0.051297   \n",
       "          50                                                0.036555   \n",
       "          100                                               0.046976   \n",
       "10000     20                                                0.046280   \n",
       "          50                                                0.052655   \n",
       "          100                                               0.038004   \n",
       "50000     20                                                0.066968   \n",
       "          50                                                0.069322   \n",
       "          100                                               0.093177   \n",
       "\n",
       "function                features.py:148(compute_2D_features)  \\\n",
       "nb_points nb_neighbors                                         \n",
       "1000      20                                        0.007794   \n",
       "          50                                        0.010208   \n",
       "          100                                       0.009403   \n",
       "5000      20                                        0.043617   \n",
       "          50                                        0.049462   \n",
       "          100                                       0.040920   \n",
       "10000     20                                        0.084519   \n",
       "          50                                        0.082884   \n",
       "          100                                       0.090549   \n",
       "50000     20                                        0.420601   \n",
       "          50                                        0.429310   \n",
       "          100                                       0.516715   \n",
       "\n",
       "function                features.py:168(compute_3D_properties)  \\\n",
       "nb_points nb_neighbors                                           \n",
       "1000      20                                          0.082612   \n",
       "          50                                          0.107168   \n",
       "          100                                         0.094688   \n",
       "5000      20                                          0.479637   \n",
       "          50                                          0.502312   \n",
       "          100                                         0.414600   \n",
       "10000     20                                          0.937643   \n",
       "          50                                          0.913228   \n",
       "          100                                         0.888101   \n",
       "50000     20                                          4.495862   \n",
       "          50                                          4.588976   \n",
       "          100                                         5.184890   \n",
       "\n",
       "function                features.py:195(compute_2D_properties)  \\\n",
       "nb_points nb_neighbors                                           \n",
       "1000      20                                          0.052682   \n",
       "          50                                          0.143274   \n",
       "          100                                         0.237846   \n",
       "5000      20                                          0.327585   \n",
       "          50                                          0.703477   \n",
       "          100                                         1.048831   \n",
       "10000     20                                          0.632351   \n",
       "          50                                          1.271799   \n",
       "          100                                         2.317245   \n",
       "50000     20                                          3.059511   \n",
       "          50                                          6.388285   \n",
       "          100                                        13.063089   \n",
       "\n",
       "function                features.py:218(verticality_coefficient)  \n",
       "nb_points nb_neighbors                                            \n",
       "1000      20                                            0.003185  \n",
       "          50                                            0.004088  \n",
       "          100                                           0.003570  \n",
       "5000      20                                            0.018597  \n",
       "          50                                            0.019191  \n",
       "          100                                           0.015782  \n",
       "10000     20                                            0.034675  \n",
       "          50                                            0.034870  \n",
       "          100                                           0.034837  \n",
       "50000     20                                            0.173263  \n",
       "          50                                            0.176380  \n",
       "          100                                           0.200108  "
      ]
     },
     "execution_count": 120,
     "metadata": {},
     "output_type": "execute_result"
    }
   ],
   "source": [
    "grouped_full_feature_timers.drop(columns1, axis=1)"
   ]
  },
  {
   "cell_type": "markdown",
   "metadata": {},
   "source": [
    "A la vue de ces derniers chiffres, les conclusions suivantes s'imposent :\n",
    "- la fonction `retrieve_accumulation_features` augmente de façon linéaire avec le nombre de points considérés, mais surtout, elle représente l'essentiel du temps passé dans la génération des features. A noter qu'actuellement, cette fonction est revient à faire un `pandas.DataFrame.query()`...\n",
    "- la fonction `accumulation_2d_neighborhood` a un faible coût, légèrement dépendant du nombre de points.\n",
    "- les temps d'exécution des fonctions `compute_2D_features`,  `verticality_coefficient`, `compute_3D_properties` et `compute_2D_properties` présentent une relation linéaire avec le nombre de points. Les deux dernières sont plus coûteuses en temps de calcul, son intérêt devra donc être évalué avec d'autant plus de soin au moment du clustering. A noter que `compute_2D_properties` est également impactée par la quantité de points dans le voisinage (elle contient un calcul des distances du point d'intérêt vis-à-vis de chacun de ses voisins)."
   ]
  },
  {
   "cell_type": "markdown",
   "metadata": {},
   "source": [
    "## Résumé graphique"
   ]
  },
  {
   "cell_type": "markdown",
   "metadata": {},
   "source": [
    "### Temps total"
   ]
  },
  {
   "cell_type": "code",
   "execution_count": 171,
   "metadata": {},
   "outputs": [],
   "source": [
    "graph_functions = [\"features.py:72(triangle_variance_space)\",\n",
    "                   \"extract.py:33(build_neighborhood)\",\n",
    "                   \"features.py:115(compute_3D_features)\",\n",
    "                   \"features.py:12(accumulation_2d_neighborhood)\",\n",
    "                   \"features.py:148(compute_2D_features)\",\n",
    "                   \"features.py:168(compute_3D_properties)\",\n",
    "                   \"features.py:195(compute_2D_properties)\",\n",
    "                   \"features.py:218(verticality_coefficient)\",\n",
    "                   \"extract.py:56(retrieve_accumulation_features)\",\n",
    "                   \"io.py:14(xyz)\",\n",
    "                   \"io.py:82(write_features)\"]"
   ]
  },
  {
   "cell_type": "code",
   "execution_count": 172,
   "metadata": {},
   "outputs": [],
   "source": [
    "graph_mask = np.logical_and(np.logical_and(timers[\"nb_points\"] == 50000, timers[\"feature_set\"] == \"full\"),\n",
    "                            [f in graph_functions for f in timers[\"function\"]])\n",
    "graph_timers = timers.loc[graph_mask]\n",
    "graph_timers.drop([\"nb_points\", \"feature_set\"], axis=1, inplace=True)"
   ]
  },
  {
   "cell_type": "code",
   "execution_count": 175,
   "metadata": {},
   "outputs": [
    {
     "name": "stderr",
     "output_type": "stream",
     "text": [
      "/home/rde/.virtualenvs/univers/lib/python3.7/site-packages/seaborn/categorical.py:3692: UserWarning: The `size` paramter has been renamed to `height`; please update your code.\n",
      "  warnings.warn(msg, UserWarning)\n"
     ]
    },
    {
     "data": {
      "image/png": "[encoded data removed]",
      "text/plain": [
       "<Figure size 720x720 with 1 Axes>"
      ]
     },
     "metadata": {
      "needs_background": "light"
     },
     "output_type": "display_data"
    }
   ],
   "source": [
    "g = sns.catplot(\"cum_time\", \"function\", data=graph_timers, kind=\"bar\", size=10, height=2)"
   ]
  },
  {
   "cell_type": "markdown",
   "metadata": {},
   "source": [
    "### Temps par itération"
   ]
  },
  {
   "cell_type": "code",
   "execution_count": 176,
   "metadata": {},
   "outputs": [],
   "source": [
    "graph_iter_functions = [\"features.py:72(triangle_variance_space)\",\n",
    "                        \"extract.py:33(build_neighborhood)\",\n",
    "                        \"features.py:115(compute_3D_features)\",\n",
    "                        \"features.py:148(compute_2D_features)\",\n",
    "                        \"features.py:168(compute_3D_properties)\",\n",
    "                        \"features.py:195(compute_2D_properties)\",\n",
    "                        \"features.py:218(verticality_coefficient)\",\n",
    "                        \"extract.py:56(retrieve_accumulation_features)\"]"
   ]
  },
  {
   "cell_type": "code",
   "execution_count": 177,
   "metadata": {},
   "outputs": [],
   "source": [
    "graph_iter_mask = np.logical_and(timers[\"feature_set\"] == \"full\",\n",
    "                                 [f in graph_iter_functions for f in timers[\"function\"]])\n",
    "graph_iter_timers = timers.loc[graph_iter_mask]\n",
    "graph_iter_timers.drop([\"feature_set\"], axis=1, inplace=True)"
   ]
  },
  {
   "cell_type": "code",
   "execution_count": 181,
   "metadata": {},
   "outputs": [
    {
     "name": "stderr",
     "output_type": "stream",
     "text": [
      "/home/rde/.virtualenvs/univers/lib/python3.7/site-packages/seaborn/categorical.py:3692: UserWarning: The `size` paramter has been renamed to `height`; please update your code.\n",
      "  warnings.warn(msg, UserWarning)\n"
     ]
    },
    {
     "data": {
      "image/png": "[encoded data removed]",
      "text/plain": [
       "<Figure size 720x720 with 1 Axes>"
      ]
     },
     "metadata": {
      "needs_background": "light"
     },
     "output_type": "display_data"
    }
   ],
   "source": [
    "g = sns.catplot(\"cum_time_per_call\", \"function\", data=graph_iter_timers, kind=\"bar\", size=10, height=2)"
   ]
  },
  {
   "cell_type": "code",
   "execution_count": null,
   "metadata": {},
   "outputs": [],
   "source": []
  }
 ],
 "metadata": {
  "kernelspec": {
   "display_name": "Python 3",
   "language": "python",
   "name": "python3"
  },
  "language_info": {
   "codemirror_mode": {
    "name": "ipython",
    "version": 3
   },
   "file_extension": ".py",
   "mimetype": "text/x-python",
   "name": "python",
   "nbconvert_exporter": "python",
   "pygments_lexer": "ipython3",
   "version": "3.7.0b3"
  }
 },
 "nbformat": 4,
 "nbformat_minor": 2
}
