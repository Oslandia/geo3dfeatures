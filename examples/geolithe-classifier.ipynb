{
 "cells": [
  {
   "cell_type": "markdown",
   "metadata": {},
   "source": [
    "# Geolithe classification"
   ]
  },
  {
   "cell_type": "markdown",
   "metadata": {},
   "source": [
    "This notebooks aims at building a generalized model for Geolithe cliff datasets. It deals with 3D point cloud segmentation thanks to a supervised learning algorithm.\n",
    "\n",
    "Contrary to the works done in a previous notebook (http://localhost:8888/notebooks/examples/pombourg-classification.ipynb), one won't train a model on a specific dataset to apply it on the same point cloud thereafter.\n",
    "\n",
    "Here we will implement a generic algorithm, by training it on various samples."
   ]
  },
  {
   "cell_type": "markdown",
   "metadata": {},
   "source": [
    "One will use the following datasets, with associated samples:"
   ]
  },
  {
   "cell_type": "markdown",
   "metadata": {},
   "source": [
    "| dataset      | vegetation | cliff | scree | road | concrete | ground |\n",
    "|--------------|------------|-------|-------|------|----------|--------|\n",
    "| Beausoleil_1 | x | x |  |  | x |  |\n",
    "| Beausoleil_2 | x | x |  |  | x |  |\n",
    "| castillon    | x | x |  |  |  |  |\n",
    "| Chambon      | x | x |  | x |  |  |\n",
    "| escale       | x | x |  | x |  |  |\n",
    "| kansera      | x | x | x |  |  |  |\n",
    "| Malaussene   | x | x | x |  |  |  |\n",
    "| Pombourg     | x | x | x |  |  |  |\n",
    "| Reyvroz      | x |  |  |  |  | x |\n",
    "| Tancarville  | x | x | x |  |  |  |\n"
   ]
  },
  {
   "cell_type": "markdown",
   "metadata": {},
   "source": [
    "The execution of this notebook needs that every single sample has been featurized:\n",
    "```sh\n",
    "geo3d index -i <dataset>.las -t 100\n",
    "geo3d featurize -i <dataset>_<class>.las -c r g b -n 20 100 500 1500 -t 100 --label-scene\n",
    "```\n",
    "The full datasets must themselves be featurized:\n",
    "```sh\n",
    "geo3d index -i <dataset>.las -t 500\n",
    "geo3d featurize -i <dataset>.las -c r g b -n 20 100 500 1500 -t 500\n",
    "```"
   ]
  },
  {
   "cell_type": "markdown",
   "metadata": {},
   "source": [
    "For the rest of the notebook, one will consider four different neighborhood sizes: 20, 200, 1000 and 2000 neighbors. For an insight of the importance of this parameter, please consider the following notebooks:\n",
    "- http://localhost:8888/notebooks/examples/features-study/escale-features-study.ipynb\n",
    "- http://localhost:8888/notebooks/examples/pombourg-classification.ipynb"
   ]
  },
  {
   "cell_type": "markdown",
   "metadata": {},
   "source": [
    "## Introduction"
   ]
  },
  {
   "cell_type": "markdown",
   "metadata": {},
   "source": [
    "### Dependency management"
   ]
  },
  {
   "cell_type": "code",
   "execution_count": 1,
   "metadata": {},
   "outputs": [],
   "source": [
    "from pathlib import Path"
   ]
  },
  {
   "cell_type": "code",
   "execution_count": 2,
   "metadata": {},
   "outputs": [],
   "source": [
    "import numpy as np\n",
    "import pandas as pd\n",
    "import seaborn as sns"
   ]
  },
  {
   "cell_type": "code",
   "execution_count": 3,
   "metadata": {},
   "outputs": [],
   "source": [
    "from sklearn.model_selection import train_test_split\n",
    "from sklearn.metrics import confusion_matrix"
   ]
  },
  {
   "cell_type": "code",
   "execution_count": 4,
   "metadata": {},
   "outputs": [],
   "source": [
    "from geo3dfeatures import classification, io\n",
    "from geo3dfeatures.tools import train, predict, GLOSSARY"
   ]
  },
  {
   "cell_type": "markdown",
   "metadata": {},
   "source": [
    "### Global variable definition"
   ]
  },
  {
   "cell_type": "code",
   "execution_count": 5,
   "metadata": {},
   "outputs": [],
   "source": [
    "DATADIR = Path(\"..\", \"data\")\n",
    "INPUT_DIR = DATADIR / \"input\"\n",
    "OUTPUT_DIR = DATADIR / \"output\""
   ]
  },
  {
   "cell_type": "markdown",
   "metadata": {},
   "source": [
    "As said in the notebook presentation, one will work with 4 different neighborhood sizes:"
   ]
  },
  {
   "cell_type": "code",
   "execution_count": 6,
   "metadata": {},
   "outputs": [],
   "source": [
    "NEIGHBORHOOD_SIZES = (20, 200, 1000, 2000)"
   ]
  },
  {
   "cell_type": "markdown",
   "metadata": {},
   "source": [
    "The dataset names are stored in a dedicated variable:"
   ]
  },
  {
   "cell_type": "code",
   "execution_count": 7,
   "metadata": {},
   "outputs": [],
   "source": [
    "EXPERIMENTS = (\"Beausoleil_1\", \"Beausoleil_2\", \"castillon\", \"Chambon\", \"escale\", \"kansera\", \"Malaussene\", \"Pombourg\", \"Reyvroz\", \"Tancarville\")"
   ]
  },
  {
   "cell_type": "markdown",
   "metadata": {},
   "source": [
    "Then one considers the Geolithe labels, as defined in the `predict` module:"
   ]
  },
  {
   "cell_type": "code",
   "execution_count": 8,
   "metadata": {},
   "outputs": [
    {
     "data": {
      "text/plain": [
       "{'vegetation': {'id': 0,\n",
       "  'color': (0.00784313725490196, 0.6196078431372549, 0.45098039215686275)},\n",
       " 'falaise': {'id': 1,\n",
       "  'color': (0.5803921568627451, 0.5803921568627451, 0.5803921568627451)},\n",
       " 'eboulis': {'id': 2,\n",
       "  'color': (0.792156862745098, 0.5686274509803921, 0.3803921568627451)},\n",
       " 'route': {'id': 3,\n",
       "  'color': (0.00392156862745098, 0.45098039215686275, 0.6980392156862745)},\n",
       " 'beton': {'id': 4,\n",
       "  'color': (0.8705882352941177, 0.5607843137254902, 0.0196078431372549)},\n",
       " 'sol': {'id': 5, 'color': (0.9254901960784314, 0.8823529411764706, 0.2)}}"
      ]
     },
     "execution_count": 8,
     "metadata": {},
     "output_type": "execute_result"
    }
   ],
   "source": [
    "GLOSSARY"
   ]
  },
  {
   "cell_type": "code",
   "execution_count": 9,
   "metadata": {},
   "outputs": [
    {
     "name": "stdout",
     "output_type": "stream",
     "text": [
      "dict_keys(['vegetation', 'falaise', 'eboulis', 'route', 'beton', 'sol'])\n"
     ]
    },
    {
     "data": {
      "image/png": "[encoded data removed]",
      "text/plain": [
       "<Figure size 432x72 with 1 Axes>"
      ]
     },
     "metadata": {
      "needs_background": "light"
     },
     "output_type": "display_data"
    }
   ],
   "source": [
    "print(GLOSSARY.keys())\n",
    "sns.palplot([g[\"color\"] for _, g in GLOSSARY.items()])"
   ]
  },
  {
   "cell_type": "markdown",
   "metadata": {},
   "source": [
    "## Data loading"
   ]
  },
  {
   "cell_type": "markdown",
   "metadata": {},
   "source": [
    "One considers all the point clouds that refer to identified experiments, and build a big dataframe that contains the feature values for known points, in order to build a training dataset."
   ]
  },
  {
   "cell_type": "code",
   "execution_count": 10,
   "metadata": {},
   "outputs": [
    {
     "name": "stderr",
     "output_type": "stream",
     "text": [
      "[17:18:43] io.load_features (INFO) - Recover features stored in ../data/output/Beausoleil_1/features/features_vegetation.h5\n",
      "[17:18:44] utils._init_num_threads (INFO) - NumExpr defaulting to 4 threads.\n",
      "[17:18:45] io.load_features (INFO) - Recover features stored in ../data/output/Beausoleil_1/features/features_falaise.h5\n",
      "[17:18:49] io.load_features (WARNING) - File ../data/output/Beausoleil_1/features/features_eboulis.h5 does not exist, verify the 'sample' argument!\n",
      "[17:18:49] io.load_features (WARNING) - File ../data/output/Beausoleil_1/features/features_route.h5 does not exist, verify the 'sample' argument!\n",
      "[17:18:49] io.load_features (INFO) - Recover features stored in ../data/output/Beausoleil_1/features/features_beton.h5\n",
      "[17:18:57] io.load_features (WARNING) - File ../data/output/Beausoleil_1/features/features_sol.h5 does not exist, verify the 'sample' argument!\n",
      "[17:18:58] io.load_features (INFO) - Recover features stored in ../data/output/Beausoleil_2/features/features_vegetation.h5\n",
      "[17:19:02] io.load_features (INFO) - Recover features stored in ../data/output/Beausoleil_2/features/features_falaise.h5\n",
      "[17:19:04] io.load_features (WARNING) - File ../data/output/Beausoleil_2/features/features_eboulis.h5 does not exist, verify the 'sample' argument!\n",
      "[17:19:04] io.load_features (WARNING) - File ../data/output/Beausoleil_2/features/features_route.h5 does not exist, verify the 'sample' argument!\n",
      "[17:19:04] io.load_features (INFO) - Recover features stored in ../data/output/Beausoleil_2/features/features_beton.h5\n",
      "[17:19:07] io.load_features (WARNING) - File ../data/output/Beausoleil_2/features/features_sol.h5 does not exist, verify the 'sample' argument!\n",
      "[17:19:07] io.load_features (INFO) - Recover features stored in ../data/output/castillon/features/features_vegetation.h5\n",
      "[17:20:02] io.load_features (INFO) - Recover features stored in ../data/output/castillon/features/features_falaise.h5\n",
      "[17:20:24] io.load_features (WARNING) - File ../data/output/castillon/features/features_eboulis.h5 does not exist, verify the 'sample' argument!\n",
      "[17:20:24] io.load_features (WARNING) - File ../data/output/castillon/features/features_route.h5 does not exist, verify the 'sample' argument!\n",
      "[17:20:24] io.load_features (WARNING) - File ../data/output/castillon/features/features_beton.h5 does not exist, verify the 'sample' argument!\n",
      "[17:20:24] io.load_features (WARNING) - File ../data/output/castillon/features/features_sol.h5 does not exist, verify the 'sample' argument!\n",
      "[17:20:48] io.load_features (INFO) - Recover features stored in ../data/output/Chambon/features/features_vegetation.h5\n",
      "[17:20:49] io.load_features (INFO) - Recover features stored in ../data/output/Chambon/features/features_falaise.h5\n",
      "[17:20:50] io.load_features (WARNING) - File ../data/output/Chambon/features/features_eboulis.h5 does not exist, verify the 'sample' argument!\n",
      "[17:20:50] io.load_features (INFO) - Recover features stored in ../data/output/Chambon/features/features_route.h5\n",
      "[17:20:52] io.load_features (WARNING) - File ../data/output/Chambon/features/features_beton.h5 does not exist, verify the 'sample' argument!\n",
      "[17:20:52] io.load_features (WARNING) - File ../data/output/Chambon/features/features_sol.h5 does not exist, verify the 'sample' argument!\n",
      "[17:20:52] io.load_features (INFO) - Recover features stored in ../data/output/escale/features/features_vegetation.h5\n",
      "[17:20:55] io.load_features (INFO) - Recover features stored in ../data/output/escale/features/features_falaise.h5\n",
      "[17:20:56] io.load_features (WARNING) - File ../data/output/escale/features/features_eboulis.h5 does not exist, verify the 'sample' argument!\n",
      "[17:20:56] io.load_features (INFO) - Recover features stored in ../data/output/escale/features/features_route.h5\n",
      "[17:20:57] io.load_features (WARNING) - File ../data/output/escale/features/features_beton.h5 does not exist, verify the 'sample' argument!\n",
      "[17:20:57] io.load_features (WARNING) - File ../data/output/escale/features/features_sol.h5 does not exist, verify the 'sample' argument!\n",
      "[17:20:57] io.load_features (INFO) - Recover features stored in ../data/output/kansera/features/features_vegetation.h5\n",
      "[17:20:58] io.load_features (INFO) - Recover features stored in ../data/output/kansera/features/features_falaise.h5\n",
      "[17:21:04] io.load_features (INFO) - Recover features stored in ../data/output/kansera/features/features_eboulis.h5\n",
      "[17:21:06] io.load_features (WARNING) - File ../data/output/kansera/features/features_route.h5 does not exist, verify the 'sample' argument!\n",
      "[17:21:06] io.load_features (WARNING) - File ../data/output/kansera/features/features_beton.h5 does not exist, verify the 'sample' argument!\n",
      "[17:21:06] io.load_features (WARNING) - File ../data/output/kansera/features/features_sol.h5 does not exist, verify the 'sample' argument!\n",
      "[17:21:06] io.load_features (INFO) - Recover features stored in ../data/output/Malaussene/features/features_vegetation.h5\n",
      "[17:21:11] io.load_features (INFO) - Recover features stored in ../data/output/Malaussene/features/features_falaise.h5\n",
      "[17:21:13] io.load_features (WARNING) - File ../data/output/Malaussene/features/features_eboulis.h5 does not exist, verify the 'sample' argument!\n",
      "[17:21:13] io.load_features (WARNING) - File ../data/output/Malaussene/features/features_route.h5 does not exist, verify the 'sample' argument!\n",
      "[17:21:13] io.load_features (WARNING) - File ../data/output/Malaussene/features/features_beton.h5 does not exist, verify the 'sample' argument!\n",
      "[17:21:13] io.load_features (WARNING) - File ../data/output/Malaussene/features/features_sol.h5 does not exist, verify the 'sample' argument!\n",
      "[17:21:13] io.load_features (INFO) - Recover features stored in ../data/output/Pombourg/features/features_vegetation.h5\n",
      "[17:21:14] io.load_features (INFO) - Recover features stored in ../data/output/Pombourg/features/features_falaise.h5\n",
      "[17:21:16] io.load_features (INFO) - Recover features stored in ../data/output/Pombourg/features/features_eboulis.h5\n",
      "[17:21:17] io.load_features (WARNING) - File ../data/output/Pombourg/features/features_route.h5 does not exist, verify the 'sample' argument!\n",
      "[17:21:17] io.load_features (WARNING) - File ../data/output/Pombourg/features/features_beton.h5 does not exist, verify the 'sample' argument!\n",
      "[17:21:17] io.load_features (WARNING) - File ../data/output/Pombourg/features/features_sol.h5 does not exist, verify the 'sample' argument!\n",
      "[17:21:18] io.load_features (INFO) - Recover features stored in ../data/output/Reyvroz/features/features_vegetation.h5\n",
      "[17:21:23] io.load_features (WARNING) - File ../data/output/Reyvroz/features/features_falaise.h5 does not exist, verify the 'sample' argument!\n",
      "[17:21:23] io.load_features (WARNING) - File ../data/output/Reyvroz/features/features_eboulis.h5 does not exist, verify the 'sample' argument!\n",
      "[17:21:23] io.load_features (WARNING) - File ../data/output/Reyvroz/features/features_route.h5 does not exist, verify the 'sample' argument!\n",
      "[17:21:23] io.load_features (WARNING) - File ../data/output/Reyvroz/features/features_beton.h5 does not exist, verify the 'sample' argument!\n",
      "[17:21:23] io.load_features (INFO) - Recover features stored in ../data/output/Reyvroz/features/features_sol.h5\n",
      "[17:21:26] io.load_features (INFO) - Recover features stored in ../data/output/Tancarville/features/features_vegetation.h5\n",
      "[17:21:27] io.load_features (INFO) - Recover features stored in ../data/output/Tancarville/features/features_falaise.h5\n",
      "[17:21:33] io.load_features (INFO) - Recover features stored in ../data/output/Tancarville/features/features_eboulis.h5\n",
      "[17:21:35] io.load_features (WARNING) - File ../data/output/Tancarville/features/features_route.h5 does not exist, verify the 'sample' argument!\n",
      "[17:21:35] io.load_features (WARNING) - File ../data/output/Tancarville/features/features_beton.h5 does not exist, verify the 'sample' argument!\n",
      "[17:21:35] io.load_features (WARNING) - File ../data/output/Tancarville/features/features_sol.h5 does not exist, verify the 'sample' argument!\n"
     ]
    }
   ],
   "source": [
    "dfs = []\n",
    "for experiment in EXPERIMENTS:\n",
    "    dfs.append(train.create_training_dataset(DATADIR, experiment, NEIGHBORHOOD_SIZES, GLOSSARY))\n",
    "bigdf = pd.concat(dfs, axis=0)\n",
    "del dfs"
   ]
  },
  {
   "cell_type": "markdown",
   "metadata": {},
   "source": [
    "At this point, we get a dataset of around 2.5 millions of annotated points, with 79 features (19 features over 4 different neighborhood sizes, plus RGB channels) and a column of labels."
   ]
  },
  {
   "cell_type": "code",
   "execution_count": 11,
   "metadata": {},
   "outputs": [
    {
     "data": {
      "text/plain": [
       "(2512089, 80)"
      ]
     },
     "execution_count": 11,
     "metadata": {},
     "output_type": "execute_result"
    }
   ],
   "source": [
    "bigdf.shape"
   ]
  },
  {
   "cell_type": "markdown",
   "metadata": {},
   "source": [
    "This dataset contains a large part of vegetation points (around the half of annotated points) and cliff points (~35% of annotated points). Road, scree, ground and concrete points are far less represented."
   ]
  },
  {
   "cell_type": "code",
   "execution_count": 12,
   "metadata": {},
   "outputs": [
    {
     "data": {
      "text/plain": [
       "0    1281457\n",
       "1     865199\n",
       "4     155396\n",
       "2     103350\n",
       "5      70607\n",
       "3      36080\n",
       "Name: label, dtype: int64"
      ]
     },
     "execution_count": 12,
     "metadata": {},
     "output_type": "execute_result"
    }
   ],
   "source": [
    "bigdf.label.value_counts()"
   ]
  },
  {
   "cell_type": "markdown",
   "metadata": {},
   "source": [
    "We basically split this dataset by putting 75% of points in a training set, and the remaining 25% in a testing set."
   ]
  },
  {
   "cell_type": "code",
   "execution_count": 13,
   "metadata": {},
   "outputs": [],
   "source": [
    "train_dataset, test_dataset = train_test_split(bigdf, test_size=0.25, shuffle=True)"
   ]
  },
  {
   "cell_type": "code",
   "execution_count": 14,
   "metadata": {},
   "outputs": [],
   "source": [
    "X_train = train_dataset.drop(columns=[\"label\"])\n",
    "Y_train = train_dataset[\"label\"]\n",
    "X_test = test_dataset.drop(columns=[\"label\"])\n",
    "Y_test = test_dataset[\"label\"]"
   ]
  },
  {
   "cell_type": "code",
   "execution_count": 15,
   "metadata": {},
   "outputs": [
    {
     "data": {
      "text/plain": [
       "((1884066, 79), (1884066,), (628023, 79), (628023,))"
      ]
     },
     "execution_count": 15,
     "metadata": {},
     "output_type": "execute_result"
    }
   ],
   "source": [
    "X_train.shape, Y_train.shape, X_test.shape, Y_test.shape"
   ]
  },
  {
   "cell_type": "markdown",
   "metadata": {},
   "source": [
    "At this stage of the notebook, one then has ~1.9M points in the training set, and ~0.6M points in the testing set."
   ]
  },
  {
   "cell_type": "markdown",
   "metadata": {},
   "source": [
    "## Semantic segmentation model training"
   ]
  },
  {
   "cell_type": "markdown",
   "metadata": {},
   "source": [
    "One considers a pipeline that associates a min-max-normalization function and a logistic regression, as defined in the `classification` module. This model is trained with the previous training set of 1.9M annotated points."
   ]
  },
  {
   "cell_type": "code",
   "execution_count": 16,
   "metadata": {},
   "outputs": [
    {
     "name": "stderr",
     "output_type": "stream",
     "text": [
      "[17:29:19] warnings._showwarnmsg (WARNING) - /home/rde/.virtualenvs/univers/lib/python3.7/site-packages/sklearn/linear_model/logistic.py:947: ConvergenceWarning: lbfgs failed to converge. Increase the number of iterations.\n",
      "  \"of iterations.\", ConvergenceWarning)\n",
      "\n"
     ]
    }
   ],
   "source": [
    "clf = classification.train_predictive_model(X_train, Y_train)"
   ]
  },
  {
   "cell_type": "markdown",
   "metadata": {},
   "source": [
    "The model can be evaluated regarding the testing set (0.6M points, that are still unknown for the model)."
   ]
  },
  {
   "cell_type": "code",
   "execution_count": 17,
   "metadata": {},
   "outputs": [
    {
     "data": {
      "text/plain": [
       "0.9723895462427331"
      ]
     },
     "execution_count": 17,
     "metadata": {},
     "output_type": "execute_result"
    }
   ],
   "source": [
    "clf.score(X_test, Y_test)"
   ]
  },
  {
   "cell_type": "markdown",
   "metadata": {},
   "source": [
    "Moreover one can evaluate the model accuracy by comparing the ground-truth and predicted labels."
   ]
  },
  {
   "cell_type": "markdown",
   "metadata": {},
   "source": [
    "First testing set labels are guessed by the model:"
   ]
  },
  {
   "cell_type": "code",
   "execution_count": 18,
   "metadata": {},
   "outputs": [],
   "source": [
    "Y_pred = clf.predict(X_test)"
   ]
  },
  {
   "cell_type": "markdown",
   "metadata": {},
   "source": [
    "Then a confusion matrix that represents our model performance can be drawn. As an example, amongst all the true vegetation points, 311948 are recognized, 7006 are classified as cliff, 934 as scree, 589 as ground, etc."
   ]
  },
  {
   "cell_type": "code",
   "execution_count": 19,
   "metadata": {},
   "outputs": [
    {
     "data": {
      "text/plain": [
       "array([[311922,   7131,   1005,      0,      0,    714],\n",
       "       [  5048, 210532,    338,      0,    405,      7],\n",
       "       [   156,   1456,  24154,     24,      0,      0],\n",
       "       [     0,      0,      9,   9098,      0,      0],\n",
       "       [     0,    377,      0,      0,  38178,      0],\n",
       "       [   670,      0,      0,      0,      0,  16799]])"
      ]
     },
     "execution_count": 19,
     "metadata": {},
     "output_type": "execute_result"
    }
   ],
   "source": [
    "conf_matrix = confusion_matrix(Y_test, Y_pred)\n",
    "conf_matrix"
   ]
  },
  {
   "cell_type": "markdown",
   "metadata": {},
   "source": [
    "For a sake of readability, one can draw a heatmap with accuracy percentage from this matrix:"
   ]
  },
  {
   "cell_type": "code",
   "execution_count": 20,
   "metadata": {},
   "outputs": [],
   "source": [
    "conf_matrix = 100. * conf_matrix / np.sum(conf_matrix, axis=1)"
   ]
  },
  {
   "cell_type": "code",
   "execution_count": 21,
   "metadata": {},
   "outputs": [
    {
     "data": {
      "image/png": "[encoded data removed]",
      "text/plain": [
       "<Figure size 432x288 with 2 Axes>"
      ]
     },
     "metadata": {},
     "output_type": "display_data"
    }
   ],
   "source": [
    "with sns.axes_style(\"white\", {\"xtick.major.size\": 12.0, \"ylim\": -0.5}):\n",
    "    ax = sns.heatmap(conf_matrix, linewidth=0.5, annot=True, square=True, fmt=\".2f\", cmap=\"Greens\")\n",
    "    ax.set_ylim((6, 0))  # Set it manually as there is a matplotlib regression (for more details: https://stackoverflow.com/questions/56942670/matplotlib-seaborn-first-and-last-row-cut-in-half-of-heatmap-plot)\n",
    "    "
   ]
  },
  {
   "cell_type": "markdown",
   "metadata": {},
   "source": [
    "As a result, one can see that the model seems quite robust, with only a few prediction errors. Only 90.6% of vegetation points are well-classified, whilst 95.9% of cliff points are recognized. Other labels present a really high accuracy score (>99%)."
   ]
  },
  {
   "cell_type": "markdown",
   "metadata": {},
   "source": [
    "As this notebook implies the computation of big data structures, one clean up the session to avoid useless memory consumption."
   ]
  },
  {
   "cell_type": "code",
   "execution_count": 22,
   "metadata": {},
   "outputs": [],
   "source": [
    "del bigdf, train_dataset, test_dataset, X_train, Y_train, X_test, Y_test, Y_pred"
   ]
  },
  {
   "cell_type": "markdown",
   "metadata": {},
   "source": [
    "## Label prediction"
   ]
  },
  {
   "cell_type": "markdown",
   "metadata": {},
   "source": [
    "In the following cells of the notebook, one prepares some results. The prediction model will be used to infer point labels in available point clouds."
   ]
  },
  {
   "cell_type": "markdown",
   "metadata": {},
   "source": [
    "One needs to define a function to automate the process:"
   ]
  },
  {
   "cell_type": "code",
   "execution_count": 23,
   "metadata": {},
   "outputs": [],
   "source": [
    "def predict_label_for_experiment(experiment, classifier, datadir, neighborhoods, glossary):\n",
    "    \"\"\"Predict label and return corresponding colored version of each point in a dataframe\n",
    "    \n",
    "    Parameters\n",
    "    ----------\n",
    "    experiment : str\n",
    "        Name of the dataset\n",
    "    classifier : sklearn.pipeline\n",
    "        Prediction model\n",
    "    datadir : str\n",
    "        Path of the data on the file system\n",
    "    neighborhoods : list of ints\n",
    "        Set of neighborhood sizes\n",
    "    glossary : dict\n",
    "        Dataset labels\n",
    "    Returns\n",
    "    -------\n",
    "    pd.DataFrame\n",
    "        Output data with colored labels\n",
    "    \"\"\"\n",
    "    df = io.load_features(datadir, experiment, neighborhoods)\n",
    "    points = df[list(\"xyz\")].copy()\n",
    "    df.drop(columns=list(\"xyz\"), inplace=True)\n",
    "    Y_pred = classifier.predict(df)\n",
    "    print(pd.Series([[key for key, value in glossary.items() if value[\"id\"] == y] for y in Y_pred]).value_counts())\n",
    "    output = classification.colorize_labels(points, Y_pred, GLOSSARY)\n",
    "    return output"
   ]
  },
  {
   "cell_type": "markdown",
   "metadata": {},
   "source": [
    "As an additional pre-requisite, and as notified in the notebook introduction, one must compute the features associated to each point with the following commands:\n",
    "```bash\n",
    "geo3d index -i <dataset>.las -t 500\n",
    "geo3d featurize -i <dataset>.las -c r g b -n 20 200 1000 2000 -t 500\n",
    "```"
   ]
  },
  {
   "cell_type": "markdown",
   "metadata": {},
   "source": [
    "One will only focus on small point clouds (less than 3M points). For further analysis, interested readers may look at the CLI documentation for running their own analysis!"
   ]
  },
  {
   "cell_type": "markdown",
   "metadata": {},
   "source": [
    "### Beausoleil_2"
   ]
  },
  {
   "cell_type": "markdown",
   "metadata": {},
   "source": [
    "The first dataset of interest is `Beausoleil_2`. It is composed of vegetation, cliff and concrete.\n",
    "\n",
    "<img src=\"../docs/images/Beausoleil2.png\" width=\"400px\"></img>"
   ]
  },
  {
   "cell_type": "code",
   "execution_count": 24,
   "metadata": {},
   "outputs": [
    {
     "name": "stderr",
     "output_type": "stream",
     "text": [
      "[17:29:27] io.load_features (INFO) - Recover features stored in ../data/output/Beausoleil_2/features/features.h5\n"
     ]
    },
    {
     "name": "stdout",
     "output_type": "stream",
     "text": [
      "[falaise]       597209\n",
      "[vegetation]    363562\n",
      "[beton]          74368\n",
      "[eboulis]          532\n",
      "[sol]                1\n",
      "dtype: int64\n"
     ]
    }
   ],
   "source": [
    "Beausoleil2_df = predict_label_for_experiment(EXPERIMENTS[1], clf, DATADIR, NEIGHBORHOOD_SIZES, GLOSSARY)"
   ]
  },
  {
   "cell_type": "markdown",
   "metadata": {},
   "source": [
    "One then saves the prediction output onto the file system, by specifying the configuration (logistic regression algorithm, and full set of features)."
   ]
  },
  {
   "cell_type": "code",
   "execution_count": 25,
   "metadata": {},
   "outputs": [
    {
     "name": "stderr",
     "output_type": "stream",
     "text": [
      "[17:30:40] classification.save_labels (INFO) - Predicted labels saved into ../data/output/Beausoleil_2/prediction/logreg-20-200-1000-2000-full.las\n"
     ]
    }
   ],
   "source": [
    "classification.save_labels(Beausoleil2_df, DATADIR, EXPERIMENTS[1], NEIGHBORHOOD_SIZES, None, \"logreg\", None, \"full\")"
   ]
  },
  {
   "cell_type": "markdown",
   "metadata": {},
   "source": [
    "The memory is freed again."
   ]
  },
  {
   "cell_type": "code",
   "execution_count": 26,
   "metadata": {},
   "outputs": [],
   "source": [
    "del Beausoleil2_df"
   ]
  },
  {
   "cell_type": "markdown",
   "metadata": {},
   "source": [
    "...And here comes the result! Quite interesting, isn't it: the algorithm finds the concrete zone, and almost all the vegetation area, even if some predicted vegetation points are more \"border\" points, identified as vegetation because of a computation artefact.\n",
    "\n",
    "<img src=\"../docs/images/Beausoleil2_logreg-20-200-1000-2000.png\" width=\"400px\"></img>"
   ]
  },
  {
   "cell_type": "markdown",
   "metadata": {},
   "source": [
    "### Chambon"
   ]
  },
  {
   "cell_type": "markdown",
   "metadata": {},
   "source": [
    "Then comes the `Chambon` dataset, a dark cliff scattered with vegetation, that overhangs a road.\n",
    "\n",
    "<img src=\"../docs/images/Chambon.png\" width=\"300px\"></img>"
   ]
  },
  {
   "cell_type": "code",
   "execution_count": 27,
   "metadata": {},
   "outputs": [
    {
     "name": "stderr",
     "output_type": "stream",
     "text": [
      "[17:30:41] io.load_features (INFO) - Recover features stored in ../data/output/Chambon/features/features.h5\n"
     ]
    },
    {
     "name": "stdout",
     "output_type": "stream",
     "text": [
      "[falaise]       1036148\n",
      "[vegetation]     811378\n",
      "[route]          488818\n",
      "[eboulis]         94323\n",
      "[beton]           11551\n",
      "dtype: int64\n"
     ]
    }
   ],
   "source": [
    "chambon_df = predict_label_for_experiment(EXPERIMENTS[3], clf, DATADIR, NEIGHBORHOOD_SIZES, GLOSSARY)"
   ]
  },
  {
   "cell_type": "code",
   "execution_count": 28,
   "metadata": {},
   "outputs": [
    {
     "name": "stderr",
     "output_type": "stream",
     "text": [
      "[17:34:16] classification.save_labels (INFO) - Predicted labels saved into ../data/output/Chambon/prediction/logreg-20-200-1000-2000-full.las\n"
     ]
    }
   ],
   "source": [
    "classification.save_labels(chambon_df, DATADIR, EXPERIMENTS[3], NEIGHBORHOOD_SIZES, None, \"logreg\", None, \"full\")"
   ]
  },
  {
   "cell_type": "code",
   "execution_count": 29,
   "metadata": {},
   "outputs": [],
   "source": [
    "del chambon_df"
   ]
  },
  {
   "cell_type": "markdown",
   "metadata": {},
   "source": [
    "The results for this second dataset are really convincing, as the algorithm finds the road, and distinguish between cliff and vegetation points. The only mistake is the prediction of some scree points in light marron.\n",
    "\n",
    "<img src=\"../docs/images/Chambon_logreg-20-200-1000-2000.png\" width=\"300px\"></img>"
   ]
  },
  {
   "cell_type": "markdown",
   "metadata": {},
   "source": [
    "### escale"
   ]
  },
  {
   "cell_type": "markdown",
   "metadata": {},
   "source": [
    "The `escale` dataset is another example of cliff that overhangs a road. The vegetation on the cliff is more dense in this example:\n",
    "\n",
    "<img src=\"../docs/images/escale.png\" width=\"400px\"></img>"
   ]
  },
  {
   "cell_type": "code",
   "execution_count": 30,
   "metadata": {},
   "outputs": [
    {
     "name": "stderr",
     "output_type": "stream",
     "text": [
      "[17:34:16] io.load_features (INFO) - Recover features stored in ../data/output/escale/features/features.h5\n"
     ]
    },
    {
     "name": "stdout",
     "output_type": "stream",
     "text": [
      "[vegetation]    435096\n",
      "[falaise]       346511\n",
      "[eboulis]       165758\n",
      "[route]         122204\n",
      "dtype: int64\n"
     ]
    }
   ],
   "source": [
    "escale_df = predict_label_for_experiment(EXPERIMENTS[4], clf, DATADIR, NEIGHBORHOOD_SIZES, GLOSSARY)"
   ]
  },
  {
   "cell_type": "code",
   "execution_count": 31,
   "metadata": {},
   "outputs": [
    {
     "name": "stderr",
     "output_type": "stream",
     "text": [
      "[17:35:04] classification.save_labels (INFO) - Predicted labels saved into ../data/output/escale/prediction/logreg-20-200-1000-2000-full.las\n"
     ]
    }
   ],
   "source": [
    "classification.save_labels(escale_df, DATADIR, EXPERIMENTS[4], NEIGHBORHOOD_SIZES, None, \"logreg\", None, \"full\")"
   ]
  },
  {
   "cell_type": "code",
   "execution_count": 32,
   "metadata": {},
   "outputs": [],
   "source": [
    "del escale_df"
   ]
  },
  {
   "cell_type": "markdown",
   "metadata": {},
   "source": [
    "In terms of results, one can see that the road is found. The predicted cliff and the vegetation area seem to suit the ground-truth. However the algorithm predicts two large areas of scree (straightly below the vegetation, and next to the road), that looking like a prediction error.\n",
    "\n",
    "<img src=\"../docs/images/escale_logreg-20-200-1000-2000.png\" width=\"400px\"></img>"
   ]
  },
  {
   "cell_type": "markdown",
   "metadata": {},
   "source": [
    "### Pombourg"
   ]
  },
  {
   "cell_type": "markdown",
   "metadata": {},
   "source": [
    "Then comes the `Pombourg` dataset, a standard cliff with screes at its bottom, and a line of vegetation items at its top.\n",
    "\n",
    "<img src=\"../docs/images/pombourg.png\" width=\"300px\"></img>"
   ]
  },
  {
   "cell_type": "code",
   "execution_count": 33,
   "metadata": {},
   "outputs": [
    {
     "name": "stderr",
     "output_type": "stream",
     "text": [
      "[17:35:04] io.load_features (INFO) - Recover features stored in ../data/output/Pombourg/features/features.h5\n"
     ]
    },
    {
     "name": "stdout",
     "output_type": "stream",
     "text": [
      "[falaise]       353049\n",
      "[eboulis]       164962\n",
      "[vegetation]    122296\n",
      "[route]          28384\n",
      "[beton]           3502\n",
      "dtype: int64\n"
     ]
    }
   ],
   "source": [
    "pombourg_df = predict_label_for_experiment(EXPERIMENTS[7], clf, DATADIR, NEIGHBORHOOD_SIZES, GLOSSARY)"
   ]
  },
  {
   "cell_type": "code",
   "execution_count": 34,
   "metadata": {},
   "outputs": [
    {
     "name": "stderr",
     "output_type": "stream",
     "text": [
      "[17:36:12] classification.save_labels (INFO) - Predicted labels saved into ../data/output/Pombourg/prediction/logreg-20-200-1000-2000-full.las\n"
     ]
    }
   ],
   "source": [
    "classification.save_labels(pombourg_df, DATADIR, EXPERIMENTS[7], NEIGHBORHOOD_SIZES, None, \"logreg\", None, \"full\")"
   ]
  },
  {
   "cell_type": "code",
   "execution_count": 35,
   "metadata": {},
   "outputs": [],
   "source": [
    "del pombourg_df"
   ]
  },
  {
   "cell_type": "markdown",
   "metadata": {},
   "source": [
    "The results for `Pombourg` dataset are globally good, in the sense that the three major area are identified. There are a few minor errors, *e.g.* some concrete points in the cliff area, and cliff and road points (!) in the scree area.\n",
    "\n",
    "<img src=\"../docs/images/pombourg_logreg-20-200-1000-2000.png\" width=\"300px\"></img>"
   ]
  },
  {
   "cell_type": "markdown",
   "metadata": {},
   "source": [
    "### Tancarville"
   ]
  },
  {
   "cell_type": "markdown",
   "metadata": {},
   "source": [
    "The `Tancarville` dataset is the last of this notebook. It is a standard cliff composed of some vegetation areas (especially at the top), and with a bunch of scree at the bottom.\n",
    "\n",
    "<img src=\"../docs/images/Tancarville.png\" width=\"300px\"></img>"
   ]
  },
  {
   "cell_type": "code",
   "execution_count": 36,
   "metadata": {},
   "outputs": [
    {
     "name": "stderr",
     "output_type": "stream",
     "text": [
      "[17:36:12] io.load_features (INFO) - Recover features stored in ../data/output/Tancarville/features/features.h5\n"
     ]
    },
    {
     "name": "stdout",
     "output_type": "stream",
     "text": [
      "[falaise]       1427726\n",
      "[eboulis]        644598\n",
      "[vegetation]     450675\n",
      "[route]            9131\n",
      "[beton]            2254\n",
      "dtype: int64\n"
     ]
    }
   ],
   "source": [
    "tancarville_df = predict_label_for_experiment(EXPERIMENTS[9], clf, DATADIR, NEIGHBORHOOD_SIZES, GLOSSARY)"
   ]
  },
  {
   "cell_type": "code",
   "execution_count": 37,
   "metadata": {},
   "outputs": [
    {
     "name": "stderr",
     "output_type": "stream",
     "text": [
      "[17:39:34] classification.save_labels (INFO) - Predicted labels saved into ../data/output/Tancarville/prediction/logreg-20-200-1000-2000-full.las\n"
     ]
    }
   ],
   "source": [
    "classification.save_labels(tancarville_df, DATADIR, EXPERIMENTS[9], NEIGHBORHOOD_SIZES, None, \"logreg\", None, \"full\")"
   ]
  },
  {
   "cell_type": "code",
   "execution_count": 38,
   "metadata": {},
   "outputs": [],
   "source": [
    "del tancarville_df"
   ]
  },
  {
   "cell_type": "markdown",
   "metadata": {},
   "source": [
    "The last resulting picture denotes a good global prediction again. In particular, the cliff and the screes are well identified. However the algorithm fails at recognizing vegetation at the top of the cliff.\n",
    "\n",
    "<img src=\"../docs/images/Tancarville_logreg-20-200-1000-2000.png\" width=\"300px\"></img>"
   ]
  },
  {
   "cell_type": "markdown",
   "metadata": {},
   "source": [
    "## Model serialization"
   ]
  },
  {
   "cell_type": "markdown",
   "metadata": {},
   "source": [
    "As a conclusion to this notebook, one can serialize the model in order to use it out of the notebook scope."
   ]
  },
  {
   "cell_type": "code",
   "execution_count": 39,
   "metadata": {},
   "outputs": [],
   "source": [
    "import pickle\n",
    "instance = io.instance(NEIGHBORHOOD_SIZES, None)\n",
    "model_path = Path(DATADIR, \"trained_models\", \"logreg-\" + instance + \".pkl\")\n",
    "with open(model_path, \"wb\") as fobj:\n",
    "    pickle.dump(clf, fobj)"
   ]
  }
 ],
 "metadata": {
  "kernelspec": {
   "display_name": "Python 3",
   "language": "python",
   "name": "python3"
  },
  "language_info": {
   "codemirror_mode": {
    "name": "ipython",
    "version": 3
   },
   "file_extension": ".py",
   "mimetype": "text/x-python",
   "name": "python",
   "nbconvert_exporter": "python",
   "pygments_lexer": "ipython3",
   "version": "3.7.3"
  }
 },
 "nbformat": 4,
 "nbformat_minor": 2
}
