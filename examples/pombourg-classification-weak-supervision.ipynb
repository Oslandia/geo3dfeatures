{
 "cells": [
  {
   "cell_type": "markdown",
   "metadata": {},
   "source": [
    "# Classification pour Pombourg / weak supervision"
   ]
  },
  {
   "cell_type": "markdown",
   "metadata": {},
   "source": [
    "Pour tester l'ensemble des /labelling functions/, c'est mieux d'avoir un jeu déjà labelisé, même si ce dernier n'est pas exhaustif.\n",
    "\n",
    "C'est pourquoi il faut extraire les /features/ des échantillons labélisés."
   ]
  },
  {
   "cell_type": "markdown",
   "metadata": {},
   "source": [
    "## Imports"
   ]
  },
  {
   "cell_type": "code",
   "execution_count": 1,
   "metadata": {},
   "outputs": [],
   "source": [
    "%matplotlib inline"
   ]
  },
  {
   "cell_type": "code",
   "execution_count": 2,
   "metadata": {},
   "outputs": [],
   "source": [
    "from pathlib import Path"
   ]
  },
  {
   "cell_type": "code",
   "execution_count": 3,
   "metadata": {},
   "outputs": [],
   "source": [
    "import numpy as np\n",
    "import pandas as pd"
   ]
  },
  {
   "cell_type": "code",
   "execution_count": 4,
   "metadata": {},
   "outputs": [],
   "source": [
    "from sklearn.model_selection import train_test_split\n",
    "from sklearn.model_selection import cross_validate, cross_val_score\n",
    "from sklearn.pipeline import make_pipeline\n",
    "from sklearn import preprocessing\n",
    "\n",
    "from sklearn.linear_model import LogisticRegression, LogisticRegressionCV"
   ]
  },
  {
   "cell_type": "code",
   "execution_count": 5,
   "metadata": {},
   "outputs": [],
   "source": [
    "from snorkel.labeling import labeling_function, PandasLFApplier, LFAnalysis\n",
    "from snorkel.labeling import filter_unlabeled_dataframe\n",
    "from snorkel.labeling import LabelModel\n",
    "from snorkel.utils import preds_to_probs"
   ]
  },
  {
   "cell_type": "code",
   "execution_count": 6,
   "metadata": {},
   "outputs": [
    {
     "name": "stderr",
     "output_type": "stream",
     "text": [
      "Using TensorFlow backend.\n"
     ]
    }
   ],
   "source": [
    "from keras.wrappers.scikit_learn import KerasClassifier\n",
    "from keras.optimizers import SGD"
   ]
  },
  {
   "cell_type": "code",
   "execution_count": 7,
   "metadata": {},
   "outputs": [],
   "source": [
    "import matplotlib\n",
    "from matplotlib import pyplot as plt\n",
    "import seaborn as sns"
   ]
  },
  {
   "cell_type": "code",
   "execution_count": 8,
   "metadata": {},
   "outputs": [],
   "source": [
    "plt.style.use(\"seaborn-notebook\")"
   ]
  },
  {
   "cell_type": "code",
   "execution_count": 9,
   "metadata": {},
   "outputs": [],
   "source": [
    "from geo3dfeatures.io import las as read_las\n",
    "from geo3dfeatures.extract import compute_tree, request_tree, extract\n",
    "from geo3dfeatures.features import max_normalize, sum_normalize\n",
    "from geo3dfeatures.tools.kmean import load_features"
   ]
  },
  {
   "cell_type": "code",
   "execution_count": 10,
   "metadata": {},
   "outputs": [],
   "source": [
    "DISPLAY_ALL_TEXT = False\n",
    "\n",
    "pd.set_option(\"display.max_colwidth\", 0 if DISPLAY_ALL_TEXT else 50)"
   ]
  },
  {
   "cell_type": "markdown",
   "metadata": {},
   "source": [
    "## Données"
   ]
  },
  {
   "cell_type": "code",
   "execution_count": 11,
   "metadata": {},
   "outputs": [],
   "source": [
    "PREFIX_NAME = \"Pombourg\"\n",
    "SCENE_FILE = PREFIX_NAME + \".las\"\n",
    "EBOULIS_FILE = PREFIX_NAME + \"_eboulis.las\"\n",
    "VEGETATION_FILE = PREFIX_NAME + \"_vegetation.las\"\n",
    "FALAISE_FILE = PREFIX_NAME + \"_falaise.las\""
   ]
  },
  {
   "cell_type": "code",
   "execution_count": 12,
   "metadata": {},
   "outputs": [],
   "source": [
    "DATADIR = Path(\"/home/dag/data/geolithe-univers/workspace\")"
   ]
  },
  {
   "cell_type": "code",
   "execution_count": 13,
   "metadata": {},
   "outputs": [],
   "source": [
    "EBOULIS = 0\n",
    "FALAISE = 1\n",
    "VEGETATION = 2\n",
    "UNKNOWN = -1\n",
    "LABELS = {\"eboulis\": EBOULIS,\n",
    "          \"falaise\": FALAISE,\n",
    "          \"vegetation\": VEGETATION}\n",
    "VOISINS = [50, 200, 1500]"
   ]
  },
  {
   "cell_type": "code",
   "execution_count": 14,
   "metadata": {},
   "outputs": [],
   "source": [
    "# Labels des coordonnées\n",
    "COORDS = list(\"xyz\")\n",
    "# Labels du channel RGB (couleurs)\n",
    "COULEURS = list(\"rgb\")"
   ]
  },
  {
   "cell_type": "code",
   "execution_count": 12,
   "metadata": {},
   "outputs": [],
   "source": [
    "rawdata = read_las(DATADIR / \"input\" / SCENE_FILE)\n",
    "rawdata = pd.DataFrame(rawdata, columns=list(\"xyzrgb\"))"
   ]
  },
  {
   "cell_type": "code",
   "execution_count": 13,
   "metadata": {},
   "outputs": [
    {
     "name": "stdout",
     "output_type": "stream",
     "text": [
      "dimension:  (672193, 6)\n"
     ]
    },
    {
     "data": {
      "text/html": [
       "<div>\n",
       "<style scoped>\n",
       "    .dataframe tbody tr th:only-of-type {\n",
       "        vertical-align: middle;\n",
       "    }\n",
       "\n",
       "    .dataframe tbody tr th {\n",
       "        vertical-align: top;\n",
       "    }\n",
       "\n",
       "    .dataframe thead th {\n",
       "        text-align: right;\n",
       "    }\n",
       "</style>\n",
       "<table border=\"1\" class=\"dataframe\">\n",
       "  <thead>\n",
       "    <tr style=\"text-align: right;\">\n",
       "      <th></th>\n",
       "      <th>x</th>\n",
       "      <th>y</th>\n",
       "      <th>z</th>\n",
       "      <th>r</th>\n",
       "      <th>g</th>\n",
       "      <th>b</th>\n",
       "    </tr>\n",
       "  </thead>\n",
       "  <tbody>\n",
       "    <tr>\n",
       "      <th>0</th>\n",
       "      <td>1.977540e+06</td>\n",
       "      <td>5.242311e+06</td>\n",
       "      <td>902.684203</td>\n",
       "      <td>128.0</td>\n",
       "      <td>88.0</td>\n",
       "      <td>75.0</td>\n",
       "    </tr>\n",
       "    <tr>\n",
       "      <th>1</th>\n",
       "      <td>1.977540e+06</td>\n",
       "      <td>5.242311e+06</td>\n",
       "      <td>902.674986</td>\n",
       "      <td>117.0</td>\n",
       "      <td>78.0</td>\n",
       "      <td>66.0</td>\n",
       "    </tr>\n",
       "    <tr>\n",
       "      <th>2</th>\n",
       "      <td>1.977540e+06</td>\n",
       "      <td>5.242311e+06</td>\n",
       "      <td>902.731627</td>\n",
       "      <td>111.0</td>\n",
       "      <td>73.0</td>\n",
       "      <td>62.0</td>\n",
       "    </tr>\n",
       "    <tr>\n",
       "      <th>3</th>\n",
       "      <td>1.977538e+06</td>\n",
       "      <td>5.242330e+06</td>\n",
       "      <td>893.093306</td>\n",
       "      <td>147.0</td>\n",
       "      <td>135.0</td>\n",
       "      <td>131.0</td>\n",
       "    </tr>\n",
       "    <tr>\n",
       "      <th>4</th>\n",
       "      <td>1.977538e+06</td>\n",
       "      <td>5.242330e+06</td>\n",
       "      <td>893.049910</td>\n",
       "      <td>149.0</td>\n",
       "      <td>137.0</td>\n",
       "      <td>133.0</td>\n",
       "    </tr>\n",
       "  </tbody>\n",
       "</table>\n",
       "</div>"
      ],
      "text/plain": [
       "              x             y           z      r      g      b\n",
       "0  1.977540e+06  5.242311e+06  902.684203  128.0   88.0   75.0\n",
       "1  1.977540e+06  5.242311e+06  902.674986  117.0   78.0   66.0\n",
       "2  1.977540e+06  5.242311e+06  902.731627  111.0   73.0   62.0\n",
       "3  1.977538e+06  5.242330e+06  893.093306  147.0  135.0  131.0\n",
       "4  1.977538e+06  5.242330e+06  893.049910  149.0  137.0  133.0"
      ]
     },
     "execution_count": 13,
     "metadata": {},
     "output_type": "execute_result"
    }
   ],
   "source": [
    "print(\"dimension: \", rawdata.shape)\n",
    "rawdata.head()"
   ]
  },
  {
   "cell_type": "markdown",
   "metadata": {},
   "source": [
    "## Lecture des features pour n=50 200 1500"
   ]
  },
  {
   "cell_type": "code",
   "execution_count": 15,
   "metadata": {},
   "outputs": [
    {
     "name": "stderr",
     "output_type": "stream",
     "text": [
      "[13:51:53] kmean.load_features (INFO) - Recover features stored in /home/dag/data/geolithe-univers/workspace/output/Pombourg/features/features.h5\n",
      "[13:51:53] utils._init_num_threads (INFO) - NumExpr defaulting to 4 threads.\n"
     ]
    }
   ],
   "source": [
    "features = load_features(DATADIR, PREFIX_NAME, [50, 200, 1500])"
   ]
  },
  {
   "cell_type": "code",
   "execution_count": 16,
   "metadata": {},
   "outputs": [
    {
     "data": {
      "text/plain": [
       "(672193, 63)"
      ]
     },
     "execution_count": 16,
     "metadata": {},
     "output_type": "execute_result"
    }
   ],
   "source": [
    "features.shape"
   ]
  },
  {
   "cell_type": "code",
   "execution_count": 17,
   "metadata": {},
   "outputs": [
    {
     "data": {
      "text/html": [
       "<div>\n",
       "<style scoped>\n",
       "    .dataframe tbody tr th:only-of-type {\n",
       "        vertical-align: middle;\n",
       "    }\n",
       "\n",
       "    .dataframe tbody tr th {\n",
       "        vertical-align: top;\n",
       "    }\n",
       "\n",
       "    .dataframe thead th {\n",
       "        text-align: right;\n",
       "    }\n",
       "</style>\n",
       "<table border=\"1\" class=\"dataframe\">\n",
       "  <thead>\n",
       "    <tr style=\"text-align: right;\">\n",
       "      <th></th>\n",
       "      <th>x</th>\n",
       "      <th>y</th>\n",
       "      <th>z</th>\n",
       "      <th>alpha_50</th>\n",
       "      <th>beta_50</th>\n",
       "      <th>radius_50</th>\n",
       "      <th>z_range_50</th>\n",
       "      <th>std_dev_50</th>\n",
       "      <th>density_50</th>\n",
       "      <th>verticality_50</th>\n",
       "      <th>...</th>\n",
       "      <th>planarity_1500</th>\n",
       "      <th>scattering_1500</th>\n",
       "      <th>omnivariance_1500</th>\n",
       "      <th>anisotropy_1500</th>\n",
       "      <th>eigenentropy_1500</th>\n",
       "      <th>eigenvalue_sum_1500</th>\n",
       "      <th>radius_2D_1500</th>\n",
       "      <th>density_2D_1500</th>\n",
       "      <th>eigenvalue_sum_2D_1500</th>\n",
       "      <th>eigenvalue_ratio_2D_1500</th>\n",
       "    </tr>\n",
       "  </thead>\n",
       "  <tbody>\n",
       "    <tr>\n",
       "      <th>0</th>\n",
       "      <td>1.977525e+06</td>\n",
       "      <td>5.242324e+06</td>\n",
       "      <td>891.317748</td>\n",
       "      <td>0.334604</td>\n",
       "      <td>0.664243</td>\n",
       "      <td>2.055300</td>\n",
       "      <td>0.292404</td>\n",
       "      <td>0.085410</td>\n",
       "      <td>1.429846</td>\n",
       "      <td>0.312858</td>\n",
       "      <td>...</td>\n",
       "      <td>0.349891</td>\n",
       "      <td>0.001678</td>\n",
       "      <td>0.061972</td>\n",
       "      <td>0.998322</td>\n",
       "      <td>0.582007</td>\n",
       "      <td>1122.339474</td>\n",
       "      <td>2.042213</td>\n",
       "      <td>114.635222</td>\n",
       "      <td>917.769528</td>\n",
       "      <td>0.274770</td>\n",
       "    </tr>\n",
       "    <tr>\n",
       "      <th>1</th>\n",
       "      <td>1.977525e+06</td>\n",
       "      <td>5.242324e+06</td>\n",
       "      <td>891.319029</td>\n",
       "      <td>0.345110</td>\n",
       "      <td>0.653892</td>\n",
       "      <td>2.030211</td>\n",
       "      <td>0.279770</td>\n",
       "      <td>0.082896</td>\n",
       "      <td>1.483513</td>\n",
       "      <td>0.315099</td>\n",
       "      <td>...</td>\n",
       "      <td>0.360852</td>\n",
       "      <td>0.001681</td>\n",
       "      <td>0.062153</td>\n",
       "      <td>0.998319</td>\n",
       "      <td>0.588088</td>\n",
       "      <td>1113.190733</td>\n",
       "      <td>2.001808</td>\n",
       "      <td>119.309563</td>\n",
       "      <td>913.282079</td>\n",
       "      <td>0.279151</td>\n",
       "    </tr>\n",
       "    <tr>\n",
       "      <th>2</th>\n",
       "      <td>1.977525e+06</td>\n",
       "      <td>5.242324e+06</td>\n",
       "      <td>891.354063</td>\n",
       "      <td>0.305694</td>\n",
       "      <td>0.692340</td>\n",
       "      <td>2.015489</td>\n",
       "      <td>0.298752</td>\n",
       "      <td>0.088161</td>\n",
       "      <td>1.516258</td>\n",
       "      <td>0.308114</td>\n",
       "      <td>...</td>\n",
       "      <td>0.354059</td>\n",
       "      <td>0.001692</td>\n",
       "      <td>0.062200</td>\n",
       "      <td>0.998308</td>\n",
       "      <td>0.584418</td>\n",
       "      <td>1117.264330</td>\n",
       "      <td>1.995458</td>\n",
       "      <td>120.070114</td>\n",
       "      <td>911.133084</td>\n",
       "      <td>0.280125</td>\n",
       "    </tr>\n",
       "    <tr>\n",
       "      <th>3</th>\n",
       "      <td>1.977525e+06</td>\n",
       "      <td>5.242324e+06</td>\n",
       "      <td>891.390135</td>\n",
       "      <td>0.295625</td>\n",
       "      <td>0.702156</td>\n",
       "      <td>1.980571</td>\n",
       "      <td>0.312424</td>\n",
       "      <td>0.092636</td>\n",
       "      <td>1.597878</td>\n",
       "      <td>0.304651</td>\n",
       "      <td>...</td>\n",
       "      <td>0.356062</td>\n",
       "      <td>0.001723</td>\n",
       "      <td>0.062601</td>\n",
       "      <td>0.998277</td>\n",
       "      <td>0.585683</td>\n",
       "      <td>1114.302199</td>\n",
       "      <td>1.969498</td>\n",
       "      <td>123.256208</td>\n",
       "      <td>904.931612</td>\n",
       "      <td>0.285944</td>\n",
       "    </tr>\n",
       "    <tr>\n",
       "      <th>4</th>\n",
       "      <td>1.977525e+06</td>\n",
       "      <td>5.242324e+06</td>\n",
       "      <td>891.310728</td>\n",
       "      <td>0.335228</td>\n",
       "      <td>0.663748</td>\n",
       "      <td>2.011791</td>\n",
       "      <td>0.271698</td>\n",
       "      <td>0.080073</td>\n",
       "      <td>1.524637</td>\n",
       "      <td>0.316415</td>\n",
       "      <td>...</td>\n",
       "      <td>0.361747</td>\n",
       "      <td>0.001637</td>\n",
       "      <td>0.061615</td>\n",
       "      <td>0.998363</td>\n",
       "      <td>0.588348</td>\n",
       "      <td>1113.519679</td>\n",
       "      <td>2.010107</td>\n",
       "      <td>118.326412</td>\n",
       "      <td>918.530668</td>\n",
       "      <td>0.275069</td>\n",
       "    </tr>\n",
       "  </tbody>\n",
       "</table>\n",
       "<p>5 rows × 63 columns</p>\n",
       "</div>"
      ],
      "text/plain": [
       "              x             y           z  alpha_50   beta_50  radius_50  \\\n",
       "0  1.977525e+06  5.242324e+06  891.317748  0.334604  0.664243   2.055300   \n",
       "1  1.977525e+06  5.242324e+06  891.319029  0.345110  0.653892   2.030211   \n",
       "2  1.977525e+06  5.242324e+06  891.354063  0.305694  0.692340   2.015489   \n",
       "3  1.977525e+06  5.242324e+06  891.390135  0.295625  0.702156   1.980571   \n",
       "4  1.977525e+06  5.242324e+06  891.310728  0.335228  0.663748   2.011791   \n",
       "\n",
       "   z_range_50  std_dev_50  density_50  verticality_50  ...  planarity_1500  \\\n",
       "0    0.292404    0.085410    1.429846        0.312858  ...        0.349891   \n",
       "1    0.279770    0.082896    1.483513        0.315099  ...        0.360852   \n",
       "2    0.298752    0.088161    1.516258        0.308114  ...        0.354059   \n",
       "3    0.312424    0.092636    1.597878        0.304651  ...        0.356062   \n",
       "4    0.271698    0.080073    1.524637        0.316415  ...        0.361747   \n",
       "\n",
       "   scattering_1500  omnivariance_1500  anisotropy_1500  eigenentropy_1500  \\\n",
       "0         0.001678           0.061972         0.998322           0.582007   \n",
       "1         0.001681           0.062153         0.998319           0.588088   \n",
       "2         0.001692           0.062200         0.998308           0.584418   \n",
       "3         0.001723           0.062601         0.998277           0.585683   \n",
       "4         0.001637           0.061615         0.998363           0.588348   \n",
       "\n",
       "   eigenvalue_sum_1500  radius_2D_1500  density_2D_1500  \\\n",
       "0          1122.339474        2.042213       114.635222   \n",
       "1          1113.190733        2.001808       119.309563   \n",
       "2          1117.264330        1.995458       120.070114   \n",
       "3          1114.302199        1.969498       123.256208   \n",
       "4          1113.519679        2.010107       118.326412   \n",
       "\n",
       "   eigenvalue_sum_2D_1500  eigenvalue_ratio_2D_1500  \n",
       "0              917.769528                  0.274770  \n",
       "1              913.282079                  0.279151  \n",
       "2              911.133084                  0.280125  \n",
       "3              904.931612                  0.285944  \n",
       "4              918.530668                  0.275069  \n",
       "\n",
       "[5 rows x 63 columns]"
      ]
     },
     "execution_count": 17,
     "metadata": {},
     "output_type": "execute_result"
    }
   ],
   "source": [
    "features.head()"
   ]
  },
  {
   "cell_type": "code",
   "execution_count": 18,
   "metadata": {},
   "outputs": [
    {
     "data": {
      "text/plain": [
       "Index(['x', 'y', 'z', 'alpha_50', 'beta_50', 'radius_50', 'z_range_50',\n",
       "       'std_dev_50', 'density_50', 'verticality_50', 'curvature_change_50',\n",
       "       'linearity_50', 'planarity_50', 'scattering_50', 'omnivariance_50',\n",
       "       'anisotropy_50', 'eigenentropy_50', 'eigenvalue_sum_50', 'radius_2D_50',\n",
       "       'density_2D_50', 'eigenvalue_sum_2D_50', 'eigenvalue_ratio_2D_50', 'r',\n",
       "       'g', 'b', 'alpha_200', 'beta_200', 'radius_200', 'z_range_200',\n",
       "       'std_dev_200', 'density_200', 'verticality_200', 'curvature_change_200',\n",
       "       'linearity_200', 'planarity_200', 'scattering_200', 'omnivariance_200',\n",
       "       'anisotropy_200', 'eigenentropy_200', 'eigenvalue_sum_200',\n",
       "       'radius_2D_200', 'density_2D_200', 'eigenvalue_sum_2D_200',\n",
       "       'eigenvalue_ratio_2D_200', 'alpha_1500', 'beta_1500', 'radius_1500',\n",
       "       'z_range_1500', 'std_dev_1500', 'density_1500', 'verticality_1500',\n",
       "       'curvature_change_1500', 'linearity_1500', 'planarity_1500',\n",
       "       'scattering_1500', 'omnivariance_1500', 'anisotropy_1500',\n",
       "       'eigenentropy_1500', 'eigenvalue_sum_1500', 'radius_2D_1500',\n",
       "       'density_2D_1500', 'eigenvalue_sum_2D_1500',\n",
       "       'eigenvalue_ratio_2D_1500'],\n",
       "      dtype='object')"
      ]
     },
     "execution_count": 18,
     "metadata": {},
     "output_type": "execute_result"
    }
   ],
   "source": [
    "features.columns"
   ]
  },
  {
   "cell_type": "markdown",
   "metadata": {},
   "source": [
    "## Features selection"
   ]
  },
  {
   "cell_type": "markdown",
   "metadata": {},
   "source": [
    "### Lecture des features par échantillon (hdf5)"
   ]
  },
  {
   "cell_type": "code",
   "execution_count": 27,
   "metadata": {},
   "outputs": [],
   "source": [
    "KEY_H5_FORMAT = \"/num_{:04d}\"\n",
    "\n",
    "def concat_columns(filepath, neighbors):\n",
    "    \"Concaténation d'un ensemble de features pour une série de voisinage\"\n",
    "    no_rename = [\"x\", \"y\", \"z\", \"r\", \"g\", \"b\"]\n",
    "    with pd.HDFStore(filepath, mode=\"r\") as store:\n",
    "        # loop on the possible number of neighbors and concatenate features\n",
    "        # we have to sort each dataframe in order to align each point x,y,z\n",
    "        num_neighbor = neighbors[0]\n",
    "        key = KEY_H5_FORMAT.format(num_neighbor)\n",
    "        df = store[key]\n",
    "        df.sort_values(by=list(\"xyz\"), inplace=True)\n",
    "        cols = [x for x in df if x not in no_rename]\n",
    "        df.rename(columns={key: key + \"_\" + str(num_neighbor) for key in cols}, inplace=True)\n",
    "        df.index = pd.Index(range(df.shape[0]))\n",
    "        dataframes = [df]\n",
    "        for num_neighbor in neighbors[1:]:\n",
    "            key = KEY_H5_FORMAT.format(num_neighbor)\n",
    "            newdf = store[key]\n",
    "            newdf.drop(columns=[\"r\", \"g\", \"b\"], inplace=True)\n",
    "            newdf.sort_values(by=list(\"xyz\"), inplace=True)\n",
    "            newdf.drop(columns=[\"x\", \"y\", \"z\"], inplace=True)\n",
    "            newdf.rename(columns={key: key + \"_\" + str(num_neighbor) for key in cols}, inplace=True)\n",
    "            newdf.index = pd.Index(range(newdf.shape[0]))\n",
    "            dataframes.append(newdf)\n",
    "\n",
    "    return pd.concat(dataframes, axis=\"columns\")"
   ]
  },
  {
   "cell_type": "code",
   "execution_count": 19,
   "metadata": {},
   "outputs": [],
   "source": [
    "# vegetation_store = pd.HDFStore(\"../notebooks/pombourg-vegetation-features.h5\", \"r\")\n",
    "# falaise_store = pd.HDFStore(\"../notebooks/pombourg-falaise-features.h5\", \"r\")\n",
    "# eboulis_store = pd.HDFStore(\"../notebooks/pombourg-eboulis-features.h5\", \"r\")"
   ]
  },
  {
   "cell_type": "code",
   "execution_count": 84,
   "metadata": {},
   "outputs": [
    {
     "data": {
      "text/plain": [
       "[50, 200, 1500]"
      ]
     },
     "execution_count": 84,
     "metadata": {},
     "output_type": "execute_result"
    }
   ],
   "source": [
    "VOISINS"
   ]
  },
  {
   "cell_type": "code",
   "execution_count": 29,
   "metadata": {},
   "outputs": [],
   "source": [
    "# ensemble des features pour 50, 200 & 1500 pour chaque échantillon\n",
    "dfveg = concat_columns(\"../notebooks/pombourg-vegetation-features.h5\", VOISINS)\n",
    "dffalaise = concat_columns(\"../notebooks/pombourg-falaise-features.h5\", VOISINS)\n",
    "dfeboulis = concat_columns(\"../notebooks/pombourg-eboulis-features.h5\", VOISINS)"
   ]
  },
  {
   "cell_type": "code",
   "execution_count": 30,
   "metadata": {},
   "outputs": [
    {
     "data": {
      "text/plain": [
       "{'eboulis': 0, 'falaise': 1, 'vegetation': 2}"
      ]
     },
     "execution_count": 30,
     "metadata": {},
     "output_type": "execute_result"
    }
   ],
   "source": [
    "LABELS"
   ]
  },
  {
   "cell_type": "code",
   "execution_count": 32,
   "metadata": {},
   "outputs": [],
   "source": [
    "# on ajoute le bon label à chaque échantillon\n",
    "dfeboulis[\"label\"] = EBOULIS\n",
    "dffalaise[\"label\"] = FALAISE\n",
    "dfveg[\"label\"] = VEGETATION"
   ]
  },
  {
   "cell_type": "code",
   "execution_count": 33,
   "metadata": {},
   "outputs": [],
   "source": [
    "# on concatène les 3 échantillons pour en faire le datasets (DataFrame)\n",
    "datasets = pd.concat([dfeboulis, dffalaise, dfveg], axis=0)"
   ]
  },
  {
   "cell_type": "code",
   "execution_count": 34,
   "metadata": {},
   "outputs": [
    {
     "data": {
      "text/plain": [
       "(73651, 73)"
      ]
     },
     "execution_count": 34,
     "metadata": {},
     "output_type": "execute_result"
    }
   ],
   "source": [
    "datasets.shape"
   ]
  },
  {
   "cell_type": "code",
   "execution_count": 35,
   "metadata": {},
   "outputs": [
    {
     "data": {
      "text/html": [
       "<div>\n",
       "<style scoped>\n",
       "    .dataframe tbody tr th:only-of-type {\n",
       "        vertical-align: middle;\n",
       "    }\n",
       "\n",
       "    .dataframe tbody tr th {\n",
       "        vertical-align: top;\n",
       "    }\n",
       "\n",
       "    .dataframe thead th {\n",
       "        text-align: right;\n",
       "    }\n",
       "</style>\n",
       "<table border=\"1\" class=\"dataframe\">\n",
       "  <thead>\n",
       "    <tr style=\"text-align: right;\">\n",
       "      <th></th>\n",
       "      <th>x</th>\n",
       "      <th>y</th>\n",
       "      <th>z</th>\n",
       "      <th>alpha_50</th>\n",
       "      <th>beta_50</th>\n",
       "      <th>radius_50</th>\n",
       "      <th>z_range_50</th>\n",
       "      <th>std_dev_50</th>\n",
       "      <th>density_50</th>\n",
       "      <th>verticality_50</th>\n",
       "      <th>...</th>\n",
       "      <th>eigenentropy_1500</th>\n",
       "      <th>eigenvalue_sum_1500</th>\n",
       "      <th>radius_2D_1500</th>\n",
       "      <th>density_2D_1500</th>\n",
       "      <th>eigenvalue_sum_2D_1500</th>\n",
       "      <th>eigenvalue_ratio_2D_1500</th>\n",
       "      <th>bin_density_1500</th>\n",
       "      <th>bin_z_range_1500</th>\n",
       "      <th>bin_z_std_1500</th>\n",
       "      <th>label</th>\n",
       "    </tr>\n",
       "  </thead>\n",
       "  <tbody>\n",
       "    <tr>\n",
       "      <th>0</th>\n",
       "      <td>1.977537e+06</td>\n",
       "      <td>5.242329e+06</td>\n",
       "      <td>893.466154</td>\n",
       "      <td>0.102856</td>\n",
       "      <td>0.888538</td>\n",
       "      <td>0.213368</td>\n",
       "      <td>0.376617</td>\n",
       "      <td>0.105810</td>\n",
       "      <td>1277.996295</td>\n",
       "      <td>0.868071</td>\n",
       "      <td>...</td>\n",
       "      <td>0.790406</td>\n",
       "      <td>933.068215</td>\n",
       "      <td>1.133958</td>\n",
       "      <td>371.814129</td>\n",
       "      <td>521.100299</td>\n",
       "      <td>0.092416</td>\n",
       "      <td>746.0</td>\n",
       "      <td>0.308615</td>\n",
       "      <td>1.521789</td>\n",
       "      <td>0</td>\n",
       "    </tr>\n",
       "    <tr>\n",
       "      <th>1</th>\n",
       "      <td>1.977537e+06</td>\n",
       "      <td>5.242329e+06</td>\n",
       "      <td>893.412794</td>\n",
       "      <td>0.114306</td>\n",
       "      <td>0.877906</td>\n",
       "      <td>0.221938</td>\n",
       "      <td>0.397675</td>\n",
       "      <td>0.110456</td>\n",
       "      <td>1135.577646</td>\n",
       "      <td>0.925616</td>\n",
       "      <td>...</td>\n",
       "      <td>0.783676</td>\n",
       "      <td>943.017294</td>\n",
       "      <td>1.147080</td>\n",
       "      <td>363.356412</td>\n",
       "      <td>518.349456</td>\n",
       "      <td>0.077285</td>\n",
       "      <td>746.0</td>\n",
       "      <td>0.308615</td>\n",
       "      <td>1.521789</td>\n",
       "      <td>0</td>\n",
       "    </tr>\n",
       "    <tr>\n",
       "      <th>2</th>\n",
       "      <td>1.977537e+06</td>\n",
       "      <td>5.242329e+06</td>\n",
       "      <td>893.350233</td>\n",
       "      <td>0.069191</td>\n",
       "      <td>0.921435</td>\n",
       "      <td>0.225106</td>\n",
       "      <td>0.400131</td>\n",
       "      <td>0.109770</td>\n",
       "      <td>1088.308161</td>\n",
       "      <td>0.973620</td>\n",
       "      <td>...</td>\n",
       "      <td>0.776052</td>\n",
       "      <td>953.072758</td>\n",
       "      <td>1.147944</td>\n",
       "      <td>362.809773</td>\n",
       "      <td>517.876294</td>\n",
       "      <td>0.062526</td>\n",
       "      <td>746.0</td>\n",
       "      <td>0.308615</td>\n",
       "      <td>1.521789</td>\n",
       "      <td>0</td>\n",
       "    </tr>\n",
       "    <tr>\n",
       "      <th>3</th>\n",
       "      <td>1.977537e+06</td>\n",
       "      <td>5.242329e+06</td>\n",
       "      <td>893.513106</td>\n",
       "      <td>0.086685</td>\n",
       "      <td>0.903080</td>\n",
       "      <td>0.210424</td>\n",
       "      <td>0.364487</td>\n",
       "      <td>0.106054</td>\n",
       "      <td>1332.374959</td>\n",
       "      <td>0.817127</td>\n",
       "      <td>...</td>\n",
       "      <td>0.794486</td>\n",
       "      <td>929.007483</td>\n",
       "      <td>1.142140</td>\n",
       "      <td>366.506293</td>\n",
       "      <td>531.257561</td>\n",
       "      <td>0.103562</td>\n",
       "      <td>746.0</td>\n",
       "      <td>0.308615</td>\n",
       "      <td>1.521789</td>\n",
       "      <td>0</td>\n",
       "    </tr>\n",
       "    <tr>\n",
       "      <th>4</th>\n",
       "      <td>1.977537e+06</td>\n",
       "      <td>5.242329e+06</td>\n",
       "      <td>893.286024</td>\n",
       "      <td>0.041353</td>\n",
       "      <td>0.950119</td>\n",
       "      <td>0.228971</td>\n",
       "      <td>0.415848</td>\n",
       "      <td>0.113795</td>\n",
       "      <td>1034.121211</td>\n",
       "      <td>0.970630</td>\n",
       "      <td>...</td>\n",
       "      <td>0.767715</td>\n",
       "      <td>963.596787</td>\n",
       "      <td>1.146678</td>\n",
       "      <td>363.611172</td>\n",
       "      <td>511.831757</td>\n",
       "      <td>0.050390</td>\n",
       "      <td>746.0</td>\n",
       "      <td>0.308615</td>\n",
       "      <td>1.521789</td>\n",
       "      <td>0</td>\n",
       "    </tr>\n",
       "  </tbody>\n",
       "</table>\n",
       "<p>5 rows × 73 columns</p>\n",
       "</div>"
      ],
      "text/plain": [
       "              x             y           z  alpha_50   beta_50  radius_50  \\\n",
       "0  1.977537e+06  5.242329e+06  893.466154  0.102856  0.888538   0.213368   \n",
       "1  1.977537e+06  5.242329e+06  893.412794  0.114306  0.877906   0.221938   \n",
       "2  1.977537e+06  5.242329e+06  893.350233  0.069191  0.921435   0.225106   \n",
       "3  1.977537e+06  5.242329e+06  893.513106  0.086685  0.903080   0.210424   \n",
       "4  1.977537e+06  5.242329e+06  893.286024  0.041353  0.950119   0.228971   \n",
       "\n",
       "   z_range_50  std_dev_50   density_50  verticality_50  ...  \\\n",
       "0    0.376617    0.105810  1277.996295        0.868071  ...   \n",
       "1    0.397675    0.110456  1135.577646        0.925616  ...   \n",
       "2    0.400131    0.109770  1088.308161        0.973620  ...   \n",
       "3    0.364487    0.106054  1332.374959        0.817127  ...   \n",
       "4    0.415848    0.113795  1034.121211        0.970630  ...   \n",
       "\n",
       "   eigenentropy_1500  eigenvalue_sum_1500  radius_2D_1500  density_2D_1500  \\\n",
       "0           0.790406           933.068215        1.133958       371.814129   \n",
       "1           0.783676           943.017294        1.147080       363.356412   \n",
       "2           0.776052           953.072758        1.147944       362.809773   \n",
       "3           0.794486           929.007483        1.142140       366.506293   \n",
       "4           0.767715           963.596787        1.146678       363.611172   \n",
       "\n",
       "   eigenvalue_sum_2D_1500  eigenvalue_ratio_2D_1500  bin_density_1500  \\\n",
       "0              521.100299                  0.092416             746.0   \n",
       "1              518.349456                  0.077285             746.0   \n",
       "2              517.876294                  0.062526             746.0   \n",
       "3              531.257561                  0.103562             746.0   \n",
       "4              511.831757                  0.050390             746.0   \n",
       "\n",
       "   bin_z_range_1500  bin_z_std_1500  label  \n",
       "0          0.308615        1.521789      0  \n",
       "1          0.308615        1.521789      0  \n",
       "2          0.308615        1.521789      0  \n",
       "3          0.308615        1.521789      0  \n",
       "4          0.308615        1.521789      0  \n",
       "\n",
       "[5 rows x 73 columns]"
      ]
     },
     "execution_count": 35,
     "metadata": {},
     "output_type": "execute_result"
    }
   ],
   "source": [
    "datasets.head()"
   ]
  },
  {
   "cell_type": "code",
   "execution_count": 36,
   "metadata": {},
   "outputs": [
    {
     "data": {
      "text/plain": [
       "Index(['x', 'y', 'z', 'alpha_50', 'beta_50', 'radius_50', 'z_range_50',\n",
       "       'std_dev_50', 'density_50', 'verticality_50', 'curvature_change_50',\n",
       "       'linearity_50', 'planarity_50', 'scattering_50', 'omnivariance_50',\n",
       "       'anisotropy_50', 'eigenentropy_50', 'eigenvalue_sum_50', 'radius_2D_50',\n",
       "       'density_2D_50', 'eigenvalue_sum_2D_50', 'eigenvalue_ratio_2D_50',\n",
       "       'bin_density_50', 'bin_z_range_50', 'bin_z_std_50', 'r', 'g', 'b',\n",
       "       'alpha_200', 'beta_200', 'radius_200', 'z_range_200', 'std_dev_200',\n",
       "       'density_200', 'verticality_200', 'curvature_change_200',\n",
       "       'linearity_200', 'planarity_200', 'scattering_200', 'omnivariance_200',\n",
       "       'anisotropy_200', 'eigenentropy_200', 'eigenvalue_sum_200',\n",
       "       'radius_2D_200', 'density_2D_200', 'eigenvalue_sum_2D_200',\n",
       "       'eigenvalue_ratio_2D_200', 'bin_density_200', 'bin_z_range_200',\n",
       "       'bin_z_std_200', 'alpha_1500', 'beta_1500', 'radius_1500',\n",
       "       'z_range_1500', 'std_dev_1500', 'density_1500', 'verticality_1500',\n",
       "       'curvature_change_1500', 'linearity_1500', 'planarity_1500',\n",
       "       'scattering_1500', 'omnivariance_1500', 'anisotropy_1500',\n",
       "       'eigenentropy_1500', 'eigenvalue_sum_1500', 'radius_2D_1500',\n",
       "       'density_2D_1500', 'eigenvalue_sum_2D_1500', 'eigenvalue_ratio_2D_1500',\n",
       "       'bin_density_1500', 'bin_z_range_1500', 'bin_z_std_1500', 'label'],\n",
       "      dtype='object')"
      ]
     },
     "execution_count": 36,
     "metadata": {},
     "output_type": "execute_result"
    }
   ],
   "source": [
    "datasets.columns"
   ]
  },
  {
   "cell_type": "markdown",
   "metadata": {},
   "source": [
    "## Normalisation (ou pas) ?"
   ]
  },
  {
   "cell_type": "code",
   "execution_count": 64,
   "metadata": {},
   "outputs": [],
   "source": [
    "norm_datasets = datasets.copy()"
   ]
  },
  {
   "cell_type": "code",
   "execution_count": 65,
   "metadata": {},
   "outputs": [],
   "source": [
    "cols = [x for x in norm_datasets.columns if x not in ['x', 'y', 'z', 'label']]\n",
    "        #and not (x.startswith('alpha') or x.startswith('beta'))]"
   ]
  },
  {
   "cell_type": "code",
   "execution_count": 66,
   "metadata": {},
   "outputs": [
    {
     "data": {
      "text/plain": [
       "['alpha_50',\n",
       " 'beta_50',\n",
       " 'radius_50',\n",
       " 'z_range_50',\n",
       " 'std_dev_50',\n",
       " 'density_50',\n",
       " 'verticality_50',\n",
       " 'curvature_change_50',\n",
       " 'linearity_50',\n",
       " 'planarity_50',\n",
       " 'scattering_50',\n",
       " 'omnivariance_50',\n",
       " 'anisotropy_50',\n",
       " 'eigenentropy_50',\n",
       " 'eigenvalue_sum_50',\n",
       " 'radius_2D_50',\n",
       " 'density_2D_50',\n",
       " 'eigenvalue_sum_2D_50',\n",
       " 'eigenvalue_ratio_2D_50',\n",
       " 'bin_density_50',\n",
       " 'bin_z_range_50',\n",
       " 'bin_z_std_50',\n",
       " 'r',\n",
       " 'g',\n",
       " 'b',\n",
       " 'alpha_200',\n",
       " 'beta_200',\n",
       " 'radius_200',\n",
       " 'z_range_200',\n",
       " 'std_dev_200',\n",
       " 'density_200',\n",
       " 'verticality_200',\n",
       " 'curvature_change_200',\n",
       " 'linearity_200',\n",
       " 'planarity_200',\n",
       " 'scattering_200',\n",
       " 'omnivariance_200',\n",
       " 'anisotropy_200',\n",
       " 'eigenentropy_200',\n",
       " 'eigenvalue_sum_200',\n",
       " 'radius_2D_200',\n",
       " 'density_2D_200',\n",
       " 'eigenvalue_sum_2D_200',\n",
       " 'eigenvalue_ratio_2D_200',\n",
       " 'bin_density_200',\n",
       " 'bin_z_range_200',\n",
       " 'bin_z_std_200',\n",
       " 'alpha_1500',\n",
       " 'beta_1500',\n",
       " 'radius_1500',\n",
       " 'z_range_1500',\n",
       " 'std_dev_1500',\n",
       " 'density_1500',\n",
       " 'verticality_1500',\n",
       " 'curvature_change_1500',\n",
       " 'linearity_1500',\n",
       " 'planarity_1500',\n",
       " 'scattering_1500',\n",
       " 'omnivariance_1500',\n",
       " 'anisotropy_1500',\n",
       " 'eigenentropy_1500',\n",
       " 'eigenvalue_sum_1500',\n",
       " 'radius_2D_1500',\n",
       " 'density_2D_1500',\n",
       " 'eigenvalue_sum_2D_1500',\n",
       " 'eigenvalue_ratio_2D_1500',\n",
       " 'bin_density_1500',\n",
       " 'bin_z_range_1500',\n",
       " 'bin_z_std_1500']"
      ]
     },
     "execution_count": 66,
     "metadata": {},
     "output_type": "execute_result"
    }
   ],
   "source": [
    "cols"
   ]
  },
  {
   "cell_type": "code",
   "execution_count": 31,
   "metadata": {},
   "outputs": [],
   "source": [
    "# min-max\n",
    "# for name in cols:\n",
    "#     norm_datasets[name] = max_normalize(norm_datasets[name])"
   ]
  },
  {
   "cell_type": "code",
   "execution_count": 67,
   "metadata": {},
   "outputs": [],
   "source": [
    "# mean center 0 and std 1\n",
    "for name in cols:\n",
    "    norm_datasets[name] = preprocessing.scale(norm_datasets[name])"
   ]
  },
  {
   "cell_type": "code",
   "execution_count": 33,
   "metadata": {},
   "outputs": [
    {
     "data": {
      "text/plain": [
       "{'eboulis': 0, 'falaise': 1, 'vegetation': 2}"
      ]
     },
     "execution_count": 33,
     "metadata": {},
     "output_type": "execute_result"
    }
   ],
   "source": [
    "LABELS"
   ]
  },
  {
   "cell_type": "code",
   "execution_count": 31,
   "metadata": {},
   "outputs": [
    {
     "ename": "NameError",
     "evalue": "name 'norm_datasets' is not defined",
     "output_type": "error",
     "traceback": [
      "\u001b[0;31m---------------------------------------------------------------------------\u001b[0m",
      "\u001b[0;31mNameError\u001b[0m                                 Traceback (most recent call last)",
      "\u001b[0;32m<ipython-input-31-0d55992b85d6>\u001b[0m in \u001b[0;36m<module>\u001b[0;34m\u001b[0m\n\u001b[0;32m----> 1\u001b[0;31m \u001b[0mnorm_datasets\u001b[0m\u001b[0;34m.\u001b[0m\u001b[0mgroupby\u001b[0m\u001b[0;34m(\u001b[0m\u001b[0;34m\"label\"\u001b[0m\u001b[0;34m)\u001b[0m\u001b[0;34m[\u001b[0m\u001b[0;34m[\u001b[0m\u001b[0;34m\"eigenentropy_{}\"\u001b[0m\u001b[0;34m.\u001b[0m\u001b[0mformat\u001b[0m\u001b[0;34m(\u001b[0m\u001b[0mx\u001b[0m\u001b[0;34m)\u001b[0m \u001b[0;32mfor\u001b[0m \u001b[0mx\u001b[0m \u001b[0;32min\u001b[0m \u001b[0mVOISINS\u001b[0m\u001b[0;34m]\u001b[0m\u001b[0;34m]\u001b[0m\u001b[0;34m.\u001b[0m\u001b[0mmean\u001b[0m\u001b[0;34m(\u001b[0m\u001b[0;34m)\u001b[0m\u001b[0;34m\u001b[0m\u001b[0;34m\u001b[0m\u001b[0m\n\u001b[0m",
      "\u001b[0;31mNameError\u001b[0m: name 'norm_datasets' is not defined"
     ]
    }
   ],
   "source": [
    "norm_datasets.groupby(\"label\")[[\"eigenentropy_{}\".format(x) for x in VOISINS]].mean()"
   ]
  },
  {
   "cell_type": "code",
   "execution_count": 32,
   "metadata": {},
   "outputs": [
    {
     "data": {
      "text/html": [
       "<div>\n",
       "<style scoped>\n",
       "    .dataframe tbody tr th:only-of-type {\n",
       "        vertical-align: middle;\n",
       "    }\n",
       "\n",
       "    .dataframe tbody tr th {\n",
       "        vertical-align: top;\n",
       "    }\n",
       "\n",
       "    .dataframe thead th {\n",
       "        text-align: right;\n",
       "    }\n",
       "</style>\n",
       "<table border=\"1\" class=\"dataframe\">\n",
       "  <thead>\n",
       "    <tr style=\"text-align: right;\">\n",
       "      <th></th>\n",
       "      <th>eigenvalue_sum_50</th>\n",
       "      <th>eigenvalue_sum_200</th>\n",
       "      <th>eigenvalue_sum_1500</th>\n",
       "    </tr>\n",
       "    <tr>\n",
       "      <th>label</th>\n",
       "      <th></th>\n",
       "      <th></th>\n",
       "      <th></th>\n",
       "    </tr>\n",
       "  </thead>\n",
       "  <tbody>\n",
       "    <tr>\n",
       "      <th>0</th>\n",
       "      <td>0.865892</td>\n",
       "      <td>13.152901</td>\n",
       "      <td>711.397198</td>\n",
       "    </tr>\n",
       "    <tr>\n",
       "      <th>1</th>\n",
       "      <td>0.959456</td>\n",
       "      <td>14.893770</td>\n",
       "      <td>827.998133</td>\n",
       "    </tr>\n",
       "    <tr>\n",
       "      <th>2</th>\n",
       "      <td>3.620953</td>\n",
       "      <td>53.998592</td>\n",
       "      <td>2754.093314</td>\n",
       "    </tr>\n",
       "  </tbody>\n",
       "</table>\n",
       "</div>"
      ],
      "text/plain": [
       "       eigenvalue_sum_50  eigenvalue_sum_200  eigenvalue_sum_1500\n",
       "label                                                            \n",
       "0               0.865892           13.152901           711.397198\n",
       "1               0.959456           14.893770           827.998133\n",
       "2               3.620953           53.998592          2754.093314"
      ]
     },
     "execution_count": 32,
     "metadata": {},
     "output_type": "execute_result"
    }
   ],
   "source": [
    "datasets.groupby(\"label\")[[\"eigenvalue_sum_{}\".format(x) for x in VOISINS]].mean()"
   ]
  },
  {
   "cell_type": "code",
   "execution_count": 180,
   "metadata": {},
   "outputs": [
    {
     "data": {
      "text/html": [
       "<div>\n",
       "<style scoped>\n",
       "    .dataframe tbody tr th:only-of-type {\n",
       "        vertical-align: middle;\n",
       "    }\n",
       "\n",
       "    .dataframe tbody tr th {\n",
       "        vertical-align: top;\n",
       "    }\n",
       "\n",
       "    .dataframe thead th {\n",
       "        text-align: right;\n",
       "    }\n",
       "</style>\n",
       "<table border=\"1\" class=\"dataframe\">\n",
       "  <thead>\n",
       "    <tr style=\"text-align: right;\">\n",
       "      <th></th>\n",
       "      <th>eigenvalue_sum_50</th>\n",
       "      <th>eigenvalue_sum_200</th>\n",
       "      <th>eigenvalue_sum_1500</th>\n",
       "    </tr>\n",
       "    <tr>\n",
       "      <th>label</th>\n",
       "      <th></th>\n",
       "      <th></th>\n",
       "      <th></th>\n",
       "    </tr>\n",
       "  </thead>\n",
       "  <tbody>\n",
       "    <tr>\n",
       "      <th>0</th>\n",
       "      <td>0.865892</td>\n",
       "      <td>13.152901</td>\n",
       "      <td>711.397198</td>\n",
       "    </tr>\n",
       "    <tr>\n",
       "      <th>1</th>\n",
       "      <td>0.959456</td>\n",
       "      <td>14.893770</td>\n",
       "      <td>827.998133</td>\n",
       "    </tr>\n",
       "    <tr>\n",
       "      <th>2</th>\n",
       "      <td>3.620953</td>\n",
       "      <td>53.998592</td>\n",
       "      <td>2754.093314</td>\n",
       "    </tr>\n",
       "  </tbody>\n",
       "</table>\n",
       "</div>"
      ],
      "text/plain": [
       "       eigenvalue_sum_50  eigenvalue_sum_200  eigenvalue_sum_1500\n",
       "label                                                            \n",
       "0               0.865892           13.152901           711.397198\n",
       "1               0.959456           14.893770           827.998133\n",
       "2               3.620953           53.998592          2754.093314"
      ]
     },
     "execution_count": 180,
     "metadata": {},
     "output_type": "execute_result"
    }
   ],
   "source": [
    "datasets.groupby(\"label\")[[\"eigenvalue_sum_{}\".format(x) for x in VOISINS]].mean()"
   ]
  },
  {
   "cell_type": "code",
   "execution_count": 181,
   "metadata": {},
   "outputs": [
    {
     "data": {
      "text/html": [
       "<div>\n",
       "<style scoped>\n",
       "    .dataframe tbody tr th:only-of-type {\n",
       "        vertical-align: middle;\n",
       "    }\n",
       "\n",
       "    .dataframe tbody tr th {\n",
       "        vertical-align: top;\n",
       "    }\n",
       "\n",
       "    .dataframe thead th {\n",
       "        text-align: right;\n",
       "    }\n",
       "</style>\n",
       "<table border=\"1\" class=\"dataframe\">\n",
       "  <thead>\n",
       "    <tr style=\"text-align: right;\">\n",
       "      <th></th>\n",
       "      <th>planarity_50</th>\n",
       "      <th>planarity_200</th>\n",
       "      <th>planarity_1500</th>\n",
       "    </tr>\n",
       "    <tr>\n",
       "      <th>label</th>\n",
       "      <th></th>\n",
       "      <th></th>\n",
       "      <th></th>\n",
       "    </tr>\n",
       "  </thead>\n",
       "  <tbody>\n",
       "    <tr>\n",
       "      <th>0</th>\n",
       "      <td>0.813024</td>\n",
       "      <td>0.842313</td>\n",
       "      <td>0.853340</td>\n",
       "    </tr>\n",
       "    <tr>\n",
       "      <th>1</th>\n",
       "      <td>0.888256</td>\n",
       "      <td>0.948180</td>\n",
       "      <td>0.962307</td>\n",
       "    </tr>\n",
       "    <tr>\n",
       "      <th>2</th>\n",
       "      <td>0.602229</td>\n",
       "      <td>0.542666</td>\n",
       "      <td>0.468343</td>\n",
       "    </tr>\n",
       "  </tbody>\n",
       "</table>\n",
       "</div>"
      ],
      "text/plain": [
       "       planarity_50  planarity_200  planarity_1500\n",
       "label                                             \n",
       "0          0.813024       0.842313        0.853340\n",
       "1          0.888256       0.948180        0.962307\n",
       "2          0.602229       0.542666        0.468343"
      ]
     },
     "execution_count": 181,
     "metadata": {},
     "output_type": "execute_result"
    }
   ],
   "source": [
    "norm_datasets.groupby(\"label\")[[\"planarity_{}\".format(x) for x in VOISINS]].mean()"
   ]
  },
  {
   "cell_type": "code",
   "execution_count": 182,
   "metadata": {},
   "outputs": [
    {
     "data": {
      "text/html": [
       "<div>\n",
       "<style scoped>\n",
       "    .dataframe tbody tr th:only-of-type {\n",
       "        vertical-align: middle;\n",
       "    }\n",
       "\n",
       "    .dataframe tbody tr th {\n",
       "        vertical-align: top;\n",
       "    }\n",
       "\n",
       "    .dataframe thead th {\n",
       "        text-align: right;\n",
       "    }\n",
       "</style>\n",
       "<table border=\"1\" class=\"dataframe\">\n",
       "  <thead>\n",
       "    <tr style=\"text-align: right;\">\n",
       "      <th></th>\n",
       "      <th>planarity_50</th>\n",
       "      <th>planarity_200</th>\n",
       "      <th>planarity_1500</th>\n",
       "    </tr>\n",
       "    <tr>\n",
       "      <th>label</th>\n",
       "      <th></th>\n",
       "      <th></th>\n",
       "      <th></th>\n",
       "    </tr>\n",
       "  </thead>\n",
       "  <tbody>\n",
       "    <tr>\n",
       "      <th>0</th>\n",
       "      <td>0.813154</td>\n",
       "      <td>0.843313</td>\n",
       "      <td>0.854538</td>\n",
       "    </tr>\n",
       "    <tr>\n",
       "      <th>1</th>\n",
       "      <td>0.887967</td>\n",
       "      <td>0.948110</td>\n",
       "      <td>0.962275</td>\n",
       "    </tr>\n",
       "    <tr>\n",
       "      <th>2</th>\n",
       "      <td>0.603534</td>\n",
       "      <td>0.546692</td>\n",
       "      <td>0.473886</td>\n",
       "    </tr>\n",
       "  </tbody>\n",
       "</table>\n",
       "</div>"
      ],
      "text/plain": [
       "       planarity_50  planarity_200  planarity_1500\n",
       "label                                             \n",
       "0          0.813154       0.843313        0.854538\n",
       "1          0.887967       0.948110        0.962275\n",
       "2          0.603534       0.546692        0.473886"
      ]
     },
     "execution_count": 182,
     "metadata": {},
     "output_type": "execute_result"
    }
   ],
   "source": [
    "datasets.groupby(\"label\")[[\"planarity_{}\".format(x) for x in VOISINS]].mean()"
   ]
  },
  {
   "cell_type": "code",
   "execution_count": 183,
   "metadata": {},
   "outputs": [
    {
     "data": {
      "text/html": [
       "<div>\n",
       "<style scoped>\n",
       "    .dataframe tbody tr th:only-of-type {\n",
       "        vertical-align: middle;\n",
       "    }\n",
       "\n",
       "    .dataframe tbody tr th {\n",
       "        vertical-align: top;\n",
       "    }\n",
       "\n",
       "    .dataframe thead th {\n",
       "        text-align: right;\n",
       "    }\n",
       "</style>\n",
       "<table border=\"1\" class=\"dataframe\">\n",
       "  <thead>\n",
       "    <tr style=\"text-align: right;\">\n",
       "      <th></th>\n",
       "      <th>beta_50</th>\n",
       "      <th>beta_200</th>\n",
       "      <th>beta_1500</th>\n",
       "    </tr>\n",
       "    <tr>\n",
       "      <th>label</th>\n",
       "      <th></th>\n",
       "      <th></th>\n",
       "      <th></th>\n",
       "    </tr>\n",
       "  </thead>\n",
       "  <tbody>\n",
       "    <tr>\n",
       "      <th>0</th>\n",
       "      <td>0.871029</td>\n",
       "      <td>0.881325</td>\n",
       "      <td>0.887336</td>\n",
       "    </tr>\n",
       "    <tr>\n",
       "      <th>1</th>\n",
       "      <td>0.939407</td>\n",
       "      <td>0.972408</td>\n",
       "      <td>0.979559</td>\n",
       "    </tr>\n",
       "    <tr>\n",
       "      <th>2</th>\n",
       "      <td>0.662515</td>\n",
       "      <td>0.592784</td>\n",
       "      <td>0.504587</td>\n",
       "    </tr>\n",
       "  </tbody>\n",
       "</table>\n",
       "</div>"
      ],
      "text/plain": [
       "        beta_50  beta_200  beta_1500\n",
       "label                               \n",
       "0      0.871029  0.881325   0.887336\n",
       "1      0.939407  0.972408   0.979559\n",
       "2      0.662515  0.592784   0.504587"
      ]
     },
     "execution_count": 183,
     "metadata": {},
     "output_type": "execute_result"
    }
   ],
   "source": [
    "norm_datasets.groupby(\"label\")[[\"beta_{}\".format(x) for x in VOISINS]].mean()"
   ]
  },
  {
   "cell_type": "code",
   "execution_count": 184,
   "metadata": {},
   "outputs": [
    {
     "data": {
      "text/html": [
       "<div>\n",
       "<style scoped>\n",
       "    .dataframe tbody tr th:only-of-type {\n",
       "        vertical-align: middle;\n",
       "    }\n",
       "\n",
       "    .dataframe tbody tr th {\n",
       "        vertical-align: top;\n",
       "    }\n",
       "\n",
       "    .dataframe thead th {\n",
       "        text-align: right;\n",
       "    }\n",
       "</style>\n",
       "<table border=\"1\" class=\"dataframe\">\n",
       "  <thead>\n",
       "    <tr style=\"text-align: right;\">\n",
       "      <th></th>\n",
       "      <th>beta_50</th>\n",
       "      <th>beta_200</th>\n",
       "      <th>beta_1500</th>\n",
       "    </tr>\n",
       "    <tr>\n",
       "      <th>label</th>\n",
       "      <th></th>\n",
       "      <th></th>\n",
       "      <th></th>\n",
       "    </tr>\n",
       "  </thead>\n",
       "  <tbody>\n",
       "    <tr>\n",
       "      <th>0</th>\n",
       "      <td>0.871086</td>\n",
       "      <td>0.882234</td>\n",
       "      <td>0.888208</td>\n",
       "    </tr>\n",
       "    <tr>\n",
       "      <th>1</th>\n",
       "      <td>0.939052</td>\n",
       "      <td>0.972215</td>\n",
       "      <td>0.979381</td>\n",
       "    </tr>\n",
       "    <tr>\n",
       "      <th>2</th>\n",
       "      <td>0.663827</td>\n",
       "      <td>0.597182</td>\n",
       "      <td>0.509812</td>\n",
       "    </tr>\n",
       "  </tbody>\n",
       "</table>\n",
       "</div>"
      ],
      "text/plain": [
       "        beta_50  beta_200  beta_1500\n",
       "label                               \n",
       "0      0.871086  0.882234   0.888208\n",
       "1      0.939052  0.972215   0.979381\n",
       "2      0.663827  0.597182   0.509812"
      ]
     },
     "execution_count": 184,
     "metadata": {},
     "output_type": "execute_result"
    }
   ],
   "source": [
    "datasets.groupby(\"label\")[[\"beta_{}\".format(x) for x in VOISINS]].mean()"
   ]
  },
  {
   "cell_type": "markdown",
   "metadata": {},
   "source": [
    "## Séparation datasets train, dev, test, valid"
   ]
  },
  {
   "cell_type": "markdown",
   "metadata": {},
   "source": [
    "On va tout mélanger et extraire des échantillons de train, dev, test & valid comme dans dans le tuto spam de snorkel https://github.com/snorkel-team/snorkel-tutorials/blob/master/spam/01_spam_tutorial.ipynb"
   ]
  },
  {
   "cell_type": "code",
   "execution_count": 37,
   "metadata": {},
   "outputs": [],
   "source": [
    "# shuffling\n",
    "datasets = datasets.sample(frac=1, random_state=42)"
   ]
  },
  {
   "cell_type": "code",
   "execution_count": 38,
   "metadata": {},
   "outputs": [
    {
     "data": {
      "text/html": [
       "<div>\n",
       "<style scoped>\n",
       "    .dataframe tbody tr th:only-of-type {\n",
       "        vertical-align: middle;\n",
       "    }\n",
       "\n",
       "    .dataframe tbody tr th {\n",
       "        vertical-align: top;\n",
       "    }\n",
       "\n",
       "    .dataframe thead th {\n",
       "        text-align: right;\n",
       "    }\n",
       "</style>\n",
       "<table border=\"1\" class=\"dataframe\">\n",
       "  <thead>\n",
       "    <tr style=\"text-align: right;\">\n",
       "      <th></th>\n",
       "      <th>x</th>\n",
       "      <th>y</th>\n",
       "      <th>z</th>\n",
       "      <th>label</th>\n",
       "    </tr>\n",
       "  </thead>\n",
       "  <tbody>\n",
       "    <tr>\n",
       "      <th>17902</th>\n",
       "      <td>1.977542e+06</td>\n",
       "      <td>5.242327e+06</td>\n",
       "      <td>897.958327</td>\n",
       "      <td>0</td>\n",
       "    </tr>\n",
       "    <tr>\n",
       "      <th>7669</th>\n",
       "      <td>1.977557e+06</td>\n",
       "      <td>5.242287e+06</td>\n",
       "      <td>934.715033</td>\n",
       "      <td>2</td>\n",
       "    </tr>\n",
       "    <tr>\n",
       "      <th>7144</th>\n",
       "      <td>1.977540e+06</td>\n",
       "      <td>5.242327e+06</td>\n",
       "      <td>896.793089</td>\n",
       "      <td>0</td>\n",
       "    </tr>\n",
       "    <tr>\n",
       "      <th>9556</th>\n",
       "      <td>1.977540e+06</td>\n",
       "      <td>5.242328e+06</td>\n",
       "      <td>896.979796</td>\n",
       "      <td>0</td>\n",
       "    </tr>\n",
       "    <tr>\n",
       "      <th>24981</th>\n",
       "      <td>1.977547e+06</td>\n",
       "      <td>5.242314e+06</td>\n",
       "      <td>907.690947</td>\n",
       "      <td>1</td>\n",
       "    </tr>\n",
       "  </tbody>\n",
       "</table>\n",
       "</div>"
      ],
      "text/plain": [
       "                  x             y           z  label\n",
       "17902  1.977542e+06  5.242327e+06  897.958327      0\n",
       "7669   1.977557e+06  5.242287e+06  934.715033      2\n",
       "7144   1.977540e+06  5.242327e+06  896.793089      0\n",
       "9556   1.977540e+06  5.242328e+06  896.979796      0\n",
       "24981  1.977547e+06  5.242314e+06  907.690947      1"
      ]
     },
     "execution_count": 38,
     "metadata": {},
     "output_type": "execute_result"
    }
   ],
   "source": [
    "datasets[[\"x\", \"y\", \"z\", \"label\"]].head()"
   ]
  },
  {
   "cell_type": "code",
   "execution_count": 39,
   "metadata": {},
   "outputs": [
    {
     "data": {
      "text/plain": [
       "(73651, 73)"
      ]
     },
     "execution_count": 39,
     "metadata": {},
     "output_type": "execute_result"
    }
   ],
   "source": [
    "datasets.shape"
   ]
  },
  {
   "cell_type": "markdown",
   "metadata": {},
   "source": [
    "+73,000 records, ça va un peu beaucoup juste pour tester."
   ]
  },
  {
   "cell_type": "code",
   "execution_count": 40,
   "metadata": {},
   "outputs": [],
   "source": [
    "# datasets_sample = datasets.sample(10000)\n",
    "# datasets_sample = norm_datasets.sample(30000)\n",
    "datasets_sample = datasets.sample(20000)\n",
    "# datasets_sample = datasets.sample(70000)"
   ]
  },
  {
   "cell_type": "code",
   "execution_count": 41,
   "metadata": {},
   "outputs": [
    {
     "data": {
      "text/html": [
       "<div>\n",
       "<style scoped>\n",
       "    .dataframe tbody tr th:only-of-type {\n",
       "        vertical-align: middle;\n",
       "    }\n",
       "\n",
       "    .dataframe tbody tr th {\n",
       "        vertical-align: top;\n",
       "    }\n",
       "\n",
       "    .dataframe thead th {\n",
       "        text-align: right;\n",
       "    }\n",
       "</style>\n",
       "<table border=\"1\" class=\"dataframe\">\n",
       "  <thead>\n",
       "    <tr style=\"text-align: right;\">\n",
       "      <th></th>\n",
       "      <th>x</th>\n",
       "      <th>y</th>\n",
       "      <th>z</th>\n",
       "      <th>alpha_50</th>\n",
       "      <th>beta_50</th>\n",
       "      <th>radius_50</th>\n",
       "      <th>z_range_50</th>\n",
       "      <th>std_dev_50</th>\n",
       "      <th>density_50</th>\n",
       "      <th>verticality_50</th>\n",
       "      <th>...</th>\n",
       "      <th>eigenentropy_1500</th>\n",
       "      <th>eigenvalue_sum_1500</th>\n",
       "      <th>radius_2D_1500</th>\n",
       "      <th>density_2D_1500</th>\n",
       "      <th>eigenvalue_sum_2D_1500</th>\n",
       "      <th>eigenvalue_ratio_2D_1500</th>\n",
       "      <th>bin_density_1500</th>\n",
       "      <th>bin_z_range_1500</th>\n",
       "      <th>bin_z_std_1500</th>\n",
       "      <th>label</th>\n",
       "    </tr>\n",
       "  </thead>\n",
       "  <tbody>\n",
       "    <tr>\n",
       "      <th>6147</th>\n",
       "      <td>1.977540e+06</td>\n",
       "      <td>5.242329e+06</td>\n",
       "      <td>895.981322</td>\n",
       "      <td>0.021067</td>\n",
       "      <td>0.971570</td>\n",
       "      <td>0.195915</td>\n",
       "      <td>0.257889</td>\n",
       "      <td>0.069337</td>\n",
       "      <td>1650.858490</td>\n",
       "      <td>0.302092</td>\n",
       "      <td>...</td>\n",
       "      <td>0.706119</td>\n",
       "      <td>742.867360</td>\n",
       "      <td>0.991349</td>\n",
       "      <td>486.481956</td>\n",
       "      <td>572.710651</td>\n",
       "      <td>0.540335</td>\n",
       "      <td>951.0</td>\n",
       "      <td>0.330316</td>\n",
       "      <td>1.531189</td>\n",
       "      <td>0</td>\n",
       "    </tr>\n",
       "    <tr>\n",
       "      <th>5413</th>\n",
       "      <td>1.977556e+06</td>\n",
       "      <td>5.242293e+06</td>\n",
       "      <td>938.978598</td>\n",
       "      <td>0.181362</td>\n",
       "      <td>0.678923</td>\n",
       "      <td>0.402601</td>\n",
       "      <td>0.528656</td>\n",
       "      <td>0.141384</td>\n",
       "      <td>190.235453</td>\n",
       "      <td>0.232556</td>\n",
       "      <td>...</td>\n",
       "      <td>1.024295</td>\n",
       "      <td>3597.485185</td>\n",
       "      <td>2.103813</td>\n",
       "      <td>108.020448</td>\n",
       "      <td>2382.171080</td>\n",
       "      <td>0.529279</td>\n",
       "      <td>725.0</td>\n",
       "      <td>1.350535</td>\n",
       "      <td>4.830521</td>\n",
       "      <td>2</td>\n",
       "    </tr>\n",
       "    <tr>\n",
       "      <th>15332</th>\n",
       "      <td>1.977541e+06</td>\n",
       "      <td>5.242329e+06</td>\n",
       "      <td>896.799361</td>\n",
       "      <td>0.077870</td>\n",
       "      <td>0.921050</td>\n",
       "      <td>0.195714</td>\n",
       "      <td>0.268906</td>\n",
       "      <td>0.077373</td>\n",
       "      <td>1655.966213</td>\n",
       "      <td>0.349875</td>\n",
       "      <td>...</td>\n",
       "      <td>0.711845</td>\n",
       "      <td>822.885510</td>\n",
       "      <td>1.035396</td>\n",
       "      <td>445.971734</td>\n",
       "      <td>625.141954</td>\n",
       "      <td>0.495998</td>\n",
       "      <td>870.0</td>\n",
       "      <td>0.312655</td>\n",
       "      <td>1.572830</td>\n",
       "      <td>0</td>\n",
       "    </tr>\n",
       "    <tr>\n",
       "      <th>11187</th>\n",
       "      <td>1.977544e+06</td>\n",
       "      <td>5.242308e+06</td>\n",
       "      <td>913.486540</td>\n",
       "      <td>0.030579</td>\n",
       "      <td>0.968466</td>\n",
       "      <td>0.181668</td>\n",
       "      <td>0.332932</td>\n",
       "      <td>0.087028</td>\n",
       "      <td>2070.509818</td>\n",
       "      <td>0.615824</td>\n",
       "      <td>...</td>\n",
       "      <td>0.694295</td>\n",
       "      <td>807.128010</td>\n",
       "      <td>1.048722</td>\n",
       "      <td>434.709922</td>\n",
       "      <td>460.134172</td>\n",
       "      <td>0.169789</td>\n",
       "      <td>1180.0</td>\n",
       "      <td>0.605877</td>\n",
       "      <td>2.534088</td>\n",
       "      <td>1</td>\n",
       "    </tr>\n",
       "    <tr>\n",
       "      <th>1632</th>\n",
       "      <td>1.977538e+06</td>\n",
       "      <td>5.242328e+06</td>\n",
       "      <td>895.136626</td>\n",
       "      <td>0.139569</td>\n",
       "      <td>0.827032</td>\n",
       "      <td>0.197740</td>\n",
       "      <td>0.187195</td>\n",
       "      <td>0.046734</td>\n",
       "      <td>1605.585476</td>\n",
       "      <td>0.109404</td>\n",
       "      <td>...</td>\n",
       "      <td>0.757434</td>\n",
       "      <td>680.934250</td>\n",
       "      <td>0.946756</td>\n",
       "      <td>533.388389</td>\n",
       "      <td>540.391717</td>\n",
       "      <td>0.552795</td>\n",
       "      <td>804.0</td>\n",
       "      <td>0.286661</td>\n",
       "      <td>1.208435</td>\n",
       "      <td>0</td>\n",
       "    </tr>\n",
       "  </tbody>\n",
       "</table>\n",
       "<p>5 rows × 73 columns</p>\n",
       "</div>"
      ],
      "text/plain": [
       "                  x             y           z  alpha_50   beta_50  radius_50  \\\n",
       "6147   1.977540e+06  5.242329e+06  895.981322  0.021067  0.971570   0.195915   \n",
       "5413   1.977556e+06  5.242293e+06  938.978598  0.181362  0.678923   0.402601   \n",
       "15332  1.977541e+06  5.242329e+06  896.799361  0.077870  0.921050   0.195714   \n",
       "11187  1.977544e+06  5.242308e+06  913.486540  0.030579  0.968466   0.181668   \n",
       "1632   1.977538e+06  5.242328e+06  895.136626  0.139569  0.827032   0.197740   \n",
       "\n",
       "       z_range_50  std_dev_50   density_50  verticality_50  ...  \\\n",
       "6147     0.257889    0.069337  1650.858490        0.302092  ...   \n",
       "5413     0.528656    0.141384   190.235453        0.232556  ...   \n",
       "15332    0.268906    0.077373  1655.966213        0.349875  ...   \n",
       "11187    0.332932    0.087028  2070.509818        0.615824  ...   \n",
       "1632     0.187195    0.046734  1605.585476        0.109404  ...   \n",
       "\n",
       "       eigenentropy_1500  eigenvalue_sum_1500  radius_2D_1500  \\\n",
       "6147            0.706119           742.867360        0.991349   \n",
       "5413            1.024295          3597.485185        2.103813   \n",
       "15332           0.711845           822.885510        1.035396   \n",
       "11187           0.694295           807.128010        1.048722   \n",
       "1632            0.757434           680.934250        0.946756   \n",
       "\n",
       "       density_2D_1500  eigenvalue_sum_2D_1500  eigenvalue_ratio_2D_1500  \\\n",
       "6147        486.481956              572.710651                  0.540335   \n",
       "5413        108.020448             2382.171080                  0.529279   \n",
       "15332       445.971734              625.141954                  0.495998   \n",
       "11187       434.709922              460.134172                  0.169789   \n",
       "1632        533.388389              540.391717                  0.552795   \n",
       "\n",
       "       bin_density_1500  bin_z_range_1500  bin_z_std_1500  label  \n",
       "6147              951.0          0.330316        1.531189      0  \n",
       "5413              725.0          1.350535        4.830521      2  \n",
       "15332             870.0          0.312655        1.572830      0  \n",
       "11187            1180.0          0.605877        2.534088      1  \n",
       "1632              804.0          0.286661        1.208435      0  \n",
       "\n",
       "[5 rows x 73 columns]"
      ]
     },
     "execution_count": 41,
     "metadata": {},
     "output_type": "execute_result"
    }
   ],
   "source": [
    "datasets_sample.head()"
   ]
  },
  {
   "cell_type": "markdown",
   "metadata": {},
   "source": [
    "Je vais au moins normaliser eigenvalue_sum et density"
   ]
  },
  {
   "cell_type": "code",
   "execution_count": 42,
   "metadata": {},
   "outputs": [],
   "source": [
    "for voisin in VOISINS:\n",
    "    k = str(voisin)\n",
    "    datasets_sample[\"density_\" + k] = preprocessing.minmax_scale(datasets_sample[\"density_\" + k])\n",
    "    datasets_sample[\"eigenvalue_sum_\" + k] = preprocessing.minmax_scale(datasets_sample[\"eigenvalue_sum_\" + k])"
   ]
  },
  {
   "cell_type": "code",
   "execution_count": 43,
   "metadata": {},
   "outputs": [
    {
     "data": {
      "text/plain": [
       "4000"
      ]
     },
     "execution_count": 43,
     "metadata": {},
     "output_type": "execute_result"
    }
   ],
   "source": [
    "# valid & test : 20%\n",
    "idx_split = int(datasets_sample.shape[0] * .2)\n",
    "idx_split"
   ]
  },
  {
   "cell_type": "markdown",
   "metadata": {},
   "source": [
    "* Un jeu **d'entrainement** qui va à la fois servir à calibrer les *labeling function* et aussi dans le modèle discriminat\n",
    "* Le jeu dit **dev** est un petit jeu qui va servir à valider rapidement la pertinence des *labelling functions*\n",
    "* **Validation** : sert pour valider l'apprentissage du modèle génératif basé sur les résultats des *labeling functions*. Va aussi servir dans le modèle discriminant pour monitorer les métriques epoch après epoch\n",
    "* Le jeu de **test** pour la dernière partie, le modèle discriminant"
   ]
  },
  {
   "cell_type": "code",
   "execution_count": 44,
   "metadata": {},
   "outputs": [],
   "source": [
    "df_train = datasets_sample.iloc[:-idx_split]\n",
    "df_valid_test = datasets_sample.iloc[-idx_split:]\n",
    "# et dev, 10% du train\n",
    "df_dev = df_train.sample(int(0.1 * df_train.shape[0]))"
   ]
  },
  {
   "cell_type": "code",
   "execution_count": 45,
   "metadata": {},
   "outputs": [],
   "source": [
    "df_valid, df_test = train_test_split(df_valid_test, random_state=123, stratify=df_valid_test.label)"
   ]
  },
  {
   "cell_type": "code",
   "execution_count": 46,
   "metadata": {},
   "outputs": [
    {
     "name": "stdout",
     "output_type": "stream",
     "text": [
      "train:  (16000, 73)\n",
      "dev:  (1600, 73)\n",
      "valid:  (3000, 73)\n",
      "test:  (1000, 73)\n"
     ]
    }
   ],
   "source": [
    "print(\"train: \", df_train.shape)\n",
    "print(\"dev: \", df_dev.shape)\n",
    "print(\"valid: \", df_valid.shape)\n",
    "print(\"test: \", df_test.shape)"
   ]
  },
  {
   "cell_type": "code",
   "execution_count": 47,
   "metadata": {},
   "outputs": [
    {
     "data": {
      "text/plain": [
       "label\n",
       "0    5235\n",
       "1    7095\n",
       "2    3670\n",
       "Name: label, dtype: int64"
      ]
     },
     "execution_count": 47,
     "metadata": {},
     "output_type": "execute_result"
    }
   ],
   "source": [
    "df_train.groupby(\"label\")[\"label\"].count()"
   ]
  },
  {
   "cell_type": "code",
   "execution_count": 48,
   "metadata": {},
   "outputs": [
    {
     "data": {
      "text/plain": [
       "label\n",
       "0    536\n",
       "1    662\n",
       "2    402\n",
       "Name: label, dtype: int64"
      ]
     },
     "execution_count": 48,
     "metadata": {},
     "output_type": "execute_result"
    }
   ],
   "source": [
    "df_dev.groupby(\"label\")[\"label\"].count()"
   ]
  },
  {
   "cell_type": "code",
   "execution_count": 49,
   "metadata": {},
   "outputs": [],
   "source": [
    "# We pull out the label vectors for ease of use later\n",
    "Y_dev = df_dev.label.values\n",
    "Y_valid = df_valid.label.values\n",
    "Y_test = df_test.label.values"
   ]
  },
  {
   "cell_type": "code",
   "execution_count": 43,
   "metadata": {},
   "outputs": [],
   "source": [
    "# preprocessing.minmax_scale\n",
    "# quelques features à étudier/normaliser (cdf, etc.) par k=voisin\n",
    "names = [\"density\", \"density_2D\", \"radius\", \"radius_2D\", \"eigenvalue_sum\", \"eigenvalue_sum_2D\"]"
   ]
  },
  {
   "cell_type": "code",
   "execution_count": 53,
   "metadata": {},
   "outputs": [],
   "source": [
    "df = datasets.copy()"
   ]
  },
  {
   "cell_type": "code",
   "execution_count": 50,
   "metadata": {},
   "outputs": [
    {
     "data": {
      "text/plain": [
       "['density_50',\n",
       " 'density_200',\n",
       " 'density_1500',\n",
       " 'density_2D_50',\n",
       " 'density_2D_200',\n",
       " 'density_2D_1500',\n",
       " 'radius_50',\n",
       " 'radius_200',\n",
       " 'radius_1500',\n",
       " 'radius_2D_50',\n",
       " 'radius_2D_200',\n",
       " 'radius_2D_1500',\n",
       " 'eigenvalue_sum_50',\n",
       " 'eigenvalue_sum_200',\n",
       " 'eigenvalue_sum_1500',\n",
       " 'eigenvalue_sum_2D_50',\n",
       " 'eigenvalue_sum_2D_200',\n",
       " 'eigenvalue_sum_2D_1500']"
      ]
     },
     "execution_count": 50,
     "metadata": {},
     "output_type": "execute_result"
    }
   ],
   "source": [
    "names_with_neighbors = sum((complete_with_voisin(x, [50, 200, 1500]) for x in names), [])\n",
    "names_with_neighbors"
   ]
  },
  {
   "cell_type": "code",
   "execution_count": 58,
   "metadata": {},
   "outputs": [],
   "source": [
    "a = preprocessing.minmax_scale(df[names_with_neighbors])\n",
    "df = pd.DataFrame(a, columns=names_with_neighbors, index=datasets.index)"
   ]
  },
  {
   "cell_type": "code",
   "execution_count": 59,
   "metadata": {},
   "outputs": [
    {
     "data": {
      "text/html": [
       "<div>\n",
       "<style scoped>\n",
       "    .dataframe tbody tr th:only-of-type {\n",
       "        vertical-align: middle;\n",
       "    }\n",
       "\n",
       "    .dataframe tbody tr th {\n",
       "        vertical-align: top;\n",
       "    }\n",
       "\n",
       "    .dataframe thead th {\n",
       "        text-align: right;\n",
       "    }\n",
       "</style>\n",
       "<table border=\"1\" class=\"dataframe\">\n",
       "  <thead>\n",
       "    <tr style=\"text-align: right;\">\n",
       "      <th></th>\n",
       "      <th>density_50</th>\n",
       "      <th>density_200</th>\n",
       "      <th>density_1500</th>\n",
       "      <th>density_2D_50</th>\n",
       "      <th>density_2D_200</th>\n",
       "      <th>density_2D_1500</th>\n",
       "      <th>radius_50</th>\n",
       "      <th>radius_200</th>\n",
       "      <th>radius_1500</th>\n",
       "      <th>radius_2D_50</th>\n",
       "      <th>radius_2D_200</th>\n",
       "      <th>radius_2D_1500</th>\n",
       "      <th>eigenvalue_sum_50</th>\n",
       "      <th>eigenvalue_sum_200</th>\n",
       "      <th>eigenvalue_sum_1500</th>\n",
       "      <th>eigenvalue_sum_2D_50</th>\n",
       "      <th>eigenvalue_sum_2D_200</th>\n",
       "      <th>eigenvalue_sum_2D_1500</th>\n",
       "    </tr>\n",
       "  </thead>\n",
       "  <tbody>\n",
       "    <tr>\n",
       "      <th>0</th>\n",
       "      <td>0.200161</td>\n",
       "      <td>0.239448</td>\n",
       "      <td>0.328624</td>\n",
       "      <td>0.302677</td>\n",
       "      <td>0.388530</td>\n",
       "      <td>0.459458</td>\n",
       "      <td>0.078629</td>\n",
       "      <td>0.074333</td>\n",
       "      <td>0.127127</td>\n",
       "      <td>0.080869</td>\n",
       "      <td>0.073794</td>\n",
       "      <td>0.124764</td>\n",
       "      <td>0.019259</td>\n",
       "      <td>0.032885</td>\n",
       "      <td>0.088927</td>\n",
       "      <td>0.010881</td>\n",
       "      <td>0.023093</td>\n",
       "      <td>0.057492</td>\n",
       "    </tr>\n",
       "    <tr>\n",
       "      <th>1</th>\n",
       "      <td>0.177743</td>\n",
       "      <td>0.241368</td>\n",
       "      <td>0.325867</td>\n",
       "      <td>0.298582</td>\n",
       "      <td>0.380548</td>\n",
       "      <td>0.447812</td>\n",
       "      <td>0.086253</td>\n",
       "      <td>0.073814</td>\n",
       "      <td>0.128261</td>\n",
       "      <td>0.082078</td>\n",
       "      <td>0.075805</td>\n",
       "      <td>0.129535</td>\n",
       "      <td>0.020894</td>\n",
       "      <td>0.033906</td>\n",
       "      <td>0.090876</td>\n",
       "      <td>0.011371</td>\n",
       "      <td>0.023954</td>\n",
       "      <td>0.056796</td>\n",
       "    </tr>\n",
       "    <tr>\n",
       "      <th>2</th>\n",
       "      <td>0.170303</td>\n",
       "      <td>0.241461</td>\n",
       "      <td>0.324559</td>\n",
       "      <td>0.253080</td>\n",
       "      <td>0.378003</td>\n",
       "      <td>0.447059</td>\n",
       "      <td>0.089071</td>\n",
       "      <td>0.073789</td>\n",
       "      <td>0.128804</td>\n",
       "      <td>0.097368</td>\n",
       "      <td>0.076459</td>\n",
       "      <td>0.129849</td>\n",
       "      <td>0.022112</td>\n",
       "      <td>0.035459</td>\n",
       "      <td>0.092846</td>\n",
       "      <td>0.013009</td>\n",
       "      <td>0.024091</td>\n",
       "      <td>0.056676</td>\n",
       "    </tr>\n",
       "    <tr>\n",
       "      <th>3</th>\n",
       "      <td>0.208720</td>\n",
       "      <td>0.244830</td>\n",
       "      <td>0.331781</td>\n",
       "      <td>0.320591</td>\n",
       "      <td>0.386389</td>\n",
       "      <td>0.452149</td>\n",
       "      <td>0.076011</td>\n",
       "      <td>0.072890</td>\n",
       "      <td>0.125844</td>\n",
       "      <td>0.075849</td>\n",
       "      <td>0.074327</td>\n",
       "      <td>0.127739</td>\n",
       "      <td>0.017204</td>\n",
       "      <td>0.031967</td>\n",
       "      <td>0.088132</td>\n",
       "      <td>0.008405</td>\n",
       "      <td>0.022123</td>\n",
       "      <td>0.060061</td>\n",
       "    </tr>\n",
       "    <tr>\n",
       "      <th>4</th>\n",
       "      <td>0.161773</td>\n",
       "      <td>0.238685</td>\n",
       "      <td>0.326935</td>\n",
       "      <td>0.256507</td>\n",
       "      <td>0.371644</td>\n",
       "      <td>0.448163</td>\n",
       "      <td>0.092510</td>\n",
       "      <td>0.074541</td>\n",
       "      <td>0.127821</td>\n",
       "      <td>0.096081</td>\n",
       "      <td>0.078122</td>\n",
       "      <td>0.129389</td>\n",
       "      <td>0.023288</td>\n",
       "      <td>0.036811</td>\n",
       "      <td>0.094907</td>\n",
       "      <td>0.013111</td>\n",
       "      <td>0.023819</td>\n",
       "      <td>0.055147</td>\n",
       "    </tr>\n",
       "  </tbody>\n",
       "</table>\n",
       "</div>"
      ],
      "text/plain": [
       "   density_50  density_200  density_1500  density_2D_50  density_2D_200  \\\n",
       "0    0.200161     0.239448      0.328624       0.302677        0.388530   \n",
       "1    0.177743     0.241368      0.325867       0.298582        0.380548   \n",
       "2    0.170303     0.241461      0.324559       0.253080        0.378003   \n",
       "3    0.208720     0.244830      0.331781       0.320591        0.386389   \n",
       "4    0.161773     0.238685      0.326935       0.256507        0.371644   \n",
       "\n",
       "   density_2D_1500  radius_50  radius_200  radius_1500  radius_2D_50  \\\n",
       "0         0.459458   0.078629    0.074333     0.127127      0.080869   \n",
       "1         0.447812   0.086253    0.073814     0.128261      0.082078   \n",
       "2         0.447059   0.089071    0.073789     0.128804      0.097368   \n",
       "3         0.452149   0.076011    0.072890     0.125844      0.075849   \n",
       "4         0.448163   0.092510    0.074541     0.127821      0.096081   \n",
       "\n",
       "   radius_2D_200  radius_2D_1500  eigenvalue_sum_50  eigenvalue_sum_200  \\\n",
       "0       0.073794        0.124764           0.019259            0.032885   \n",
       "1       0.075805        0.129535           0.020894            0.033906   \n",
       "2       0.076459        0.129849           0.022112            0.035459   \n",
       "3       0.074327        0.127739           0.017204            0.031967   \n",
       "4       0.078122        0.129389           0.023288            0.036811   \n",
       "\n",
       "   eigenvalue_sum_1500  eigenvalue_sum_2D_50  eigenvalue_sum_2D_200  \\\n",
       "0             0.088927              0.010881               0.023093   \n",
       "1             0.090876              0.011371               0.023954   \n",
       "2             0.092846              0.013009               0.024091   \n",
       "3             0.088132              0.008405               0.022123   \n",
       "4             0.094907              0.013111               0.023819   \n",
       "\n",
       "   eigenvalue_sum_2D_1500  \n",
       "0                0.057492  \n",
       "1                0.056796  \n",
       "2                0.056676  \n",
       "3                0.060061  \n",
       "4                0.055147  "
      ]
     },
     "execution_count": 59,
     "metadata": {},
     "output_type": "execute_result"
    }
   ],
   "source": [
    "df.head()"
   ]
  },
  {
   "cell_type": "code",
   "execution_count": 60,
   "metadata": {},
   "outputs": [],
   "source": [
    "df[\"label\"] = datasets[\"label\"]"
   ]
  },
  {
   "cell_type": "code",
   "execution_count": 77,
   "metadata": {},
   "outputs": [],
   "source": [
    "from statsmodels.distributions.empirical_distribution import ECDF"
   ]
  },
  {
   "cell_type": "code",
   "execution_count": 127,
   "metadata": {},
   "outputs": [],
   "source": [
    "ecdf_e = ECDF(df.query(\"label == 0\")[\"density_1500\"])\n",
    "ecdf_f = ECDF(df.query(\"label == 1\")[\"density_1500\"])\n",
    "ecdf_v = ECDF(df.query(\"label == 2\")[\"density_1500\"])"
   ]
  },
  {
   "cell_type": "code",
   "execution_count": 128,
   "metadata": {},
   "outputs": [
    {
     "data": {
      "text/plain": [
       "array([0.00000000e+00, 3.08261406e-05, 6.16522811e-05, ...,\n",
       "       9.99938348e-01, 9.99969174e-01, 1.00000000e+00])"
      ]
     },
     "execution_count": 128,
     "metadata": {},
     "output_type": "execute_result"
    }
   ],
   "source": [
    "ecdf_f.y"
   ]
  },
  {
   "cell_type": "code",
   "execution_count": 129,
   "metadata": {},
   "outputs": [
    {
     "data": {
      "text/plain": [
       "[<matplotlib.lines.Line2D at 0x7ff0a0200410>]"
      ]
     },
     "execution_count": 129,
     "metadata": {},
     "output_type": "execute_result"
    },
    {
     "data": {
      "image/png": "[encoded data removed]",
      "text/plain": [
       "<Figure size 432x288 with 1 Axes>"
      ]
     },
     "metadata": {
      "needs_background": "light"
     },
     "output_type": "display_data"
    }
   ],
   "source": [
    "plt.plot(ecdf_e.x, ecdf_e.y)"
   ]
  },
  {
   "cell_type": "code",
   "execution_count": 130,
   "metadata": {},
   "outputs": [
    {
     "data": {
      "text/plain": [
       "[<matplotlib.lines.Line2D at 0x7ff0a01e52d0>]"
      ]
     },
     "execution_count": 130,
     "metadata": {},
     "output_type": "execute_result"
    },
    {
     "data": {
      "image/png": "[encoded data removed]",
      "text/plain": [
       "<Figure size 432x288 with 1 Axes>"
      ]
     },
     "metadata": {
      "needs_background": "light"
     },
     "output_type": "display_data"
    }
   ],
   "source": [
    "plt.plot(ecdf_f.x, ecdf_f.y)"
   ]
  },
  {
   "cell_type": "code",
   "execution_count": 126,
   "metadata": {},
   "outputs": [
    {
     "data": {
      "text/plain": [
       "[<matplotlib.lines.Line2D at 0x7ff0a028f2d0>]"
      ]
     },
     "execution_count": 126,
     "metadata": {},
     "output_type": "execute_result"
    },
    {
     "data": {
      "image/png": "[encoded data removed]",
      "text/plain": [
       "<Figure size 432x288 with 1 Axes>"
      ]
     },
     "metadata": {
      "needs_background": "light"
     },
     "output_type": "display_data"
    }
   ],
   "source": [
    "plt.plot(ecdf_v.x, ecdf_v.y)"
   ]
  },
  {
   "cell_type": "code",
   "execution_count": 71,
   "metadata": {},
   "outputs": [
    {
     "data": {
      "text/plain": [
       "(3,)"
      ]
     },
     "execution_count": 71,
     "metadata": {},
     "output_type": "execute_result"
    }
   ],
   "source": [
    "axes.shape"
   ]
  },
  {
   "cell_type": "code",
   "execution_count": 115,
   "metadata": {},
   "outputs": [
    {
     "data": {
      "text/plain": [
       "<matplotlib.axes._subplots.AxesSubplot at 0x7ff0a13e6a10>"
      ]
     },
     "execution_count": 115,
     "metadata": {},
     "output_type": "execute_result"
    },
    {
     "data": {
      "image/png": "[encoded data removed]",
      "text/plain": [
       "<Figure size 864x864 with 9 Axes>"
      ]
     },
     "metadata": {
      "needs_background": "light"
     },
     "output_type": "display_data"
    }
   ],
   "source": [
    "k = \"density\"\n",
    "f, axes = plt.subplots(3, 3, figsize=(12, 12), sharex=True)\n",
    "sns.distplot(df.query(\"label == 0\")[k + \"_50\"], color=\"r\", ax=axes[0,0])\n",
    "sns.distplot(df.query(\"label == 1\")[k + \"_50\"], color=\"b\", ax=axes[1,0])\n",
    "sns.distplot(df.query(\"label == 2\")[k + \"_50\"], color=\"g\", ax=axes[2,0])\n",
    "\n",
    "sns.distplot(df.query(\"label == 0\")[k + \"_200\"], color=\"r\", ax=axes[0,1])\n",
    "sns.distplot(df.query(\"label == 1\")[k + \"_200\"], color=\"b\", ax=axes[1,1])\n",
    "sns.distplot(df.query(\"label == 2\")[k + \"_200\"], color=\"g\", ax=axes[2,1])\n",
    "\n",
    "sns.distplot(df.query(\"label == 0\")[k + \"_1500\"], color=\"r\", ax=axes[0,2])\n",
    "sns.distplot(df.query(\"label == 1\")[k + \"_1500\"], color=\"b\", ax=axes[1,2])\n",
    "sns.distplot(df.query(\"label == 2\")[k + \"_1500\"], color=\"g\", ax=axes[2,2])"
   ]
  },
  {
   "cell_type": "code",
   "execution_count": 116,
   "metadata": {},
   "outputs": [
    {
     "data": {
      "text/plain": [
       "<matplotlib.axes._subplots.AxesSubplot at 0x7ff0a0b9a310>"
      ]
     },
     "execution_count": 116,
     "metadata": {},
     "output_type": "execute_result"
    },
    {
     "data": {
      "image/png": "[encoded data removed]",
      "text/plain": [
       "<Figure size 864x864 with 9 Axes>"
      ]
     },
     "metadata": {
      "needs_background": "light"
     },
     "output_type": "display_data"
    }
   ],
   "source": [
    "k = \"density_2D\"\n",
    "f, axes = plt.subplots(3, 3, figsize=(12, 12), sharex=True)\n",
    "sns.distplot(df.query(\"label == 0\")[k + \"_50\"], color=\"r\", ax=axes[0,0])\n",
    "sns.distplot(df.query(\"label == 1\")[k + \"_50\"], color=\"b\", ax=axes[1,0])\n",
    "sns.distplot(df.query(\"label == 2\")[k + \"_50\"], color=\"g\", ax=axes[2,0])\n",
    "\n",
    "sns.distplot(df.query(\"label == 0\")[k + \"_200\"], color=\"r\", ax=axes[0,1])\n",
    "sns.distplot(df.query(\"label == 1\")[k + \"_200\"], color=\"b\", ax=axes[1,1])\n",
    "sns.distplot(df.query(\"label == 2\")[k + \"_200\"], color=\"g\", ax=axes[2,1])\n",
    "\n",
    "sns.distplot(df.query(\"label == 0\")[k + \"_1500\"], color=\"r\", ax=axes[0,2])\n",
    "sns.distplot(df.query(\"label == 1\")[k + \"_1500\"], color=\"b\", ax=axes[1,2])\n",
    "sns.distplot(df.query(\"label == 2\")[k + \"_1500\"], color=\"g\", ax=axes[2,2])"
   ]
  },
  {
   "cell_type": "code",
   "execution_count": 68,
   "metadata": {},
   "outputs": [
    {
     "data": {
      "text/plain": [
       "<matplotlib.axes._subplots.AxesSubplot at 0x7ff0ac6431d0>"
      ]
     },
     "execution_count": 68,
     "metadata": {},
     "output_type": "execute_result"
    },
    {
     "data": {
      "image/png": "[encoded data removed]",
      "text/plain": [
       "<Figure size 432x288 with 1 Axes>"
      ]
     },
     "metadata": {
      "needs_background": "light"
     },
     "output_type": "display_data"
    }
   ],
   "source": []
  },
  {
   "cell_type": "markdown",
   "metadata": {},
   "source": [
    "## Labelling Functions"
   ]
  },
  {
   "cell_type": "code",
   "execution_count": 50,
   "metadata": {},
   "outputs": [],
   "source": [
    "VOISINS = [50, 200, 1500]"
   ]
  },
  {
   "cell_type": "code",
   "execution_count": 51,
   "metadata": {},
   "outputs": [],
   "source": [
    "def mean_features(df, name, voisins=None):\n",
    "    if voisins is None:\n",
    "        voisins = VOISINS\n",
    "    cols = [name + \"_\" + str(num) for num in voisins]\n",
    "    return df[cols].mean()"
   ]
  },
  {
   "cell_type": "code",
   "execution_count": 52,
   "metadata": {},
   "outputs": [],
   "source": [
    "def diff_voisin_features(df, name, voisins=None):\n",
    "    if voisins is None:\n",
    "        voisins = VOISINS\n",
    "    cols = [name + \"_\" + str(num) for num in voisins]\n",
    "    return df[cols[-1]] - df[cols[0]]"
   ]
  },
  {
   "cell_type": "code",
   "execution_count": 53,
   "metadata": {},
   "outputs": [],
   "source": [
    "def max_value_features(df, name, voisins=None):\n",
    "    if voisins is None:\n",
    "        voisins = VOISINS\n",
    "    cols = [name + \"_\" + str(num) for num in voisins]\n",
    "    return df[cols].max()"
   ]
  },
  {
   "cell_type": "code",
   "execution_count": 54,
   "metadata": {},
   "outputs": [],
   "source": [
    "def gamma(df, voisins=None):\n",
    "    if voisins is None:\n",
    "        voisins = VOISINS\n",
    "    # 1 - (alpha+beta)\n",
    "    return pd.Series({(\"gamma_\" + str(num)): 1 - (df[\"alpha_\" + str(num)] + df[\"beta_\" + str(num)]) for num in voisins})"
   ]
  },
  {
   "cell_type": "code",
   "execution_count": 55,
   "metadata": {},
   "outputs": [],
   "source": [
    "@labeling_function()\n",
    "def verticality(x):\n",
    "    coeff = mean_features(x, \"verticality\")\n",
    "    beta_value = diff_voisin_features(x, \"beta\")\n",
    "    if coeff >= 0.5:\n",
    "        return FALAISE\n",
    "    if beta_value <= 0.:\n",
    "        return VEGETATION\n",
    "    return EBOULIS"
   ]
  },
  {
   "cell_type": "code",
   "execution_count": 56,
   "metadata": {},
   "outputs": [],
   "source": [
    "# autre \"notion\" de verticalité, c'est de prendre le ratio e2 / e1 dans un cas 2D (x,y).\n",
    "# quand la valeur est faible, c'est que la projection sur x,y donne quelque chose\n",
    "# de très linéaire (e.g. projection d'un plan vertical, comme un mur, sur x,y va donner une droite)\n",
    "@labeling_function()\n",
    "def eigenratio_2d(x):\n",
    "    value = mean_features(x, \"eigenvalue_ratio_2D\")\n",
    "    if value < 0.25:\n",
    "        return FALAISE\n",
    "    return UNKNOWN"
   ]
  },
  {
   "cell_type": "code",
   "execution_count": 57,
   "metadata": {},
   "outputs": [],
   "source": [
    "# cette feature doit être normalisé en minxmax_scale\n",
    "@labeling_function()\n",
    "def eigenvalue_sum(x):\n",
    "    value = mean_features(x, \"eigenvalue_sum\")\n",
    "    if value >= 0.5:\n",
    "        return VEGETATION\n",
    "    if value > 0.1:\n",
    "        return EBOULIS\n",
    "    # très petite valeur souvent <= 0.1\n",
    "    return FALAISE"
   ]
  },
  {
   "cell_type": "code",
   "execution_count": 58,
   "metadata": {},
   "outputs": [],
   "source": [
    "# cette feature doit être normalisé en minxmax_scale\n",
    "@labeling_function()\n",
    "def density_3D(x):\n",
    "    value = max_value_features(x, \"density\")\n",
    "    if value < 0.2:\n",
    "        return VEGETATION\n",
    "    if value <= 0.5:\n",
    "        return FALAISE\n",
    "    # grande valeur pour éboulis (>0.5)\n",
    "    return EBOULIS"
   ]
  },
  {
   "cell_type": "code",
   "execution_count": 59,
   "metadata": {},
   "outputs": [],
   "source": [
    "@labeling_function()\n",
    "def increasing_gamma(x):\n",
    "    df_gamma = gamma(x)\n",
    "    value = diff_voisin_features(df_gamma, \"gamma\")\n",
    "    if value >= 0.2:\n",
    "        return VEGETATION\n",
    "    if mean_features(df_gamma, \"gamma\") <= 0.01:\n",
    "        return FALAISE\n",
    "    return EBOULIS    "
   ]
  },
  {
   "cell_type": "code",
   "execution_count": 60,
   "metadata": {},
   "outputs": [],
   "source": [
    "@labeling_function()\n",
    "def planarity(x):\n",
    "    value = mean_features(x, \"planarity\")\n",
    "    if value <= 0.6:\n",
    "        return VEGETATION\n",
    "    value = max_value_features(x, \"planarity\")\n",
    "    if value > 0.9:\n",
    "        return FALAISE\n",
    "    return EBOULIS"
   ]
  },
  {
   "cell_type": "code",
   "execution_count": 64,
   "metadata": {},
   "outputs": [],
   "source": [
    "@labeling_function()\n",
    "def beta(x):\n",
    "    value = mean_features(x, \"beta\")\n",
    "    if value <= 0.6:\n",
    "        return VEGETATION\n",
    "    value = max_value_features(x, \"beta\")\n",
    "    if value > 0.9:\n",
    "        return FALAISE\n",
    "    return EBOULIS"
   ]
  },
  {
   "cell_type": "markdown",
   "metadata": {},
   "source": [
    "On a ici l'ensemble des *labelling functions* dans une liste"
   ]
  },
  {
   "cell_type": "code",
   "execution_count": 62,
   "metadata": {},
   "outputs": [],
   "source": [
    "lfs = [verticality, eigenvalue_sum, eigenratio_2d, density_3D, increasing_gamma, planarity, beta]\n",
    "# lfs = [verticality, increasing_gamma, planarity, beta]"
   ]
  },
  {
   "cell_type": "markdown",
   "metadata": {},
   "source": [
    "On applique l'ensemble de ces fonctions à l'ensemble des datasets *train* et *dev*"
   ]
  },
  {
   "cell_type": "code",
   "execution_count": 63,
   "metadata": {
    "scrolled": true
   },
   "outputs": [
    {
     "name": "stderr",
     "output_type": "stream",
     "text": [
      "100%|██████████| 16000/16000 [02:16<00:00, 117.35it/s]\n",
      "100%|██████████| 1600/1600 [00:13<00:00, 125.49it/s]\n"
     ]
    }
   ],
   "source": [
    "applier = PandasLFApplier(lfs=lfs)\n",
    "L_train = applier.apply(df=df_train)\n",
    "L_dev = applier.apply(df=df_dev)"
   ]
  },
  {
   "cell_type": "markdown",
   "metadata": {},
   "source": [
    "Ici, autant de ligne que de point. Et autant de colonne que de fonctions *labelling* récemment appliquées.\n",
    "\n",
    "À chaque fois, on a la sortie des *labelling functions* pour chaque point et une indication (une tendance) sur le label des points."
   ]
  },
  {
   "cell_type": "code",
   "execution_count": 65,
   "metadata": {},
   "outputs": [
    {
     "data": {
      "text/plain": [
       "array([[ 0,  1, -1, ...,  1,  1,  1],\n",
       "       [ 2,  0, -1, ...,  2,  2,  2],\n",
       "       [ 0,  1, -1, ...,  1,  1,  1],\n",
       "       ...,\n",
       "       [ 1,  1,  1, ...,  1,  1,  1],\n",
       "       [ 2,  0, -1, ...,  0,  2,  2],\n",
       "       [ 0,  1, -1, ...,  0,  1,  1]])"
      ]
     },
     "execution_count": 65,
     "metadata": {},
     "output_type": "execute_result"
    }
   ],
   "source": [
    "L_train"
   ]
  },
  {
   "cell_type": "code",
   "execution_count": 67,
   "metadata": {},
   "outputs": [
    {
     "data": {
      "text/html": [
       "<div>\n",
       "<style scoped>\n",
       "    .dataframe tbody tr th:only-of-type {\n",
       "        vertical-align: middle;\n",
       "    }\n",
       "\n",
       "    .dataframe tbody tr th {\n",
       "        vertical-align: top;\n",
       "    }\n",
       "\n",
       "    .dataframe thead th {\n",
       "        text-align: right;\n",
       "    }\n",
       "</style>\n",
       "<table border=\"1\" class=\"dataframe\">\n",
       "  <thead>\n",
       "    <tr style=\"text-align: right;\">\n",
       "      <th></th>\n",
       "      <th>j</th>\n",
       "      <th>Polarity</th>\n",
       "      <th>Coverage</th>\n",
       "      <th>Overlaps</th>\n",
       "      <th>Conflicts</th>\n",
       "    </tr>\n",
       "  </thead>\n",
       "  <tbody>\n",
       "    <tr>\n",
       "      <th>verticality</th>\n",
       "      <td>0</td>\n",
       "      <td>[0, 1, 2]</td>\n",
       "      <td>1.000000</td>\n",
       "      <td>1.000000</td>\n",
       "      <td>0.657062</td>\n",
       "    </tr>\n",
       "    <tr>\n",
       "      <th>eigenvalue_sum</th>\n",
       "      <td>1</td>\n",
       "      <td>[0, 1, 2]</td>\n",
       "      <td>1.000000</td>\n",
       "      <td>1.000000</td>\n",
       "      <td>0.657062</td>\n",
       "    </tr>\n",
       "    <tr>\n",
       "      <th>eigenratio_2d</th>\n",
       "      <td>2</td>\n",
       "      <td>[1]</td>\n",
       "      <td>0.388375</td>\n",
       "      <td>0.388375</td>\n",
       "      <td>0.052562</td>\n",
       "    </tr>\n",
       "    <tr>\n",
       "      <th>density_3D</th>\n",
       "      <td>3</td>\n",
       "      <td>[0, 1, 2]</td>\n",
       "      <td>1.000000</td>\n",
       "      <td>1.000000</td>\n",
       "      <td>0.657062</td>\n",
       "    </tr>\n",
       "    <tr>\n",
       "      <th>increasing_gamma</th>\n",
       "      <td>4</td>\n",
       "      <td>[0, 1, 2]</td>\n",
       "      <td>1.000000</td>\n",
       "      <td>1.000000</td>\n",
       "      <td>0.657062</td>\n",
       "    </tr>\n",
       "    <tr>\n",
       "      <th>planarity</th>\n",
       "      <td>5</td>\n",
       "      <td>[0, 1, 2]</td>\n",
       "      <td>1.000000</td>\n",
       "      <td>1.000000</td>\n",
       "      <td>0.657062</td>\n",
       "    </tr>\n",
       "    <tr>\n",
       "      <th>beta</th>\n",
       "      <td>6</td>\n",
       "      <td>[0, 1, 2]</td>\n",
       "      <td>1.000000</td>\n",
       "      <td>1.000000</td>\n",
       "      <td>0.657062</td>\n",
       "    </tr>\n",
       "  </tbody>\n",
       "</table>\n",
       "</div>"
      ],
      "text/plain": [
       "                  j   Polarity  Coverage  Overlaps  Conflicts\n",
       "verticality       0  [0, 1, 2]  1.000000  1.000000   0.657062\n",
       "eigenvalue_sum    1  [0, 1, 2]  1.000000  1.000000   0.657062\n",
       "eigenratio_2d     2        [1]  0.388375  0.388375   0.052562\n",
       "density_3D        3  [0, 1, 2]  1.000000  1.000000   0.657062\n",
       "increasing_gamma  4  [0, 1, 2]  1.000000  1.000000   0.657062\n",
       "planarity         5  [0, 1, 2]  1.000000  1.000000   0.657062\n",
       "beta              6  [0, 1, 2]  1.000000  1.000000   0.657062"
      ]
     },
     "execution_count": 67,
     "metadata": {},
     "output_type": "execute_result"
    }
   ],
   "source": [
    "# quelques stats sur l'ensemble du jeu *L_train*\n",
    "LFAnalysis(L=L_train, lfs=lfs).lf_summary()"
   ]
  },
  {
   "cell_type": "markdown",
   "metadata": {},
   "source": [
    "* Polarity : l'ensemble des labels prévus par chaque labelling function pour ce jeu de données\n",
    "* Coverage : la couverture de la *labelling function*. Si elle renvoie 1, 0 et -1, la couverture ne sera pas à 100% (à cause des UNKNOWN)\n",
    "* Overlaps : peut être égale à *coverage*. C'est le nombre de fois (en ratio) qu'un label d'une fonction est labélisé par une autre fonction i.e. les ABSTRAIN / UNKNOWN\n",
    "* Conflits : le nombre de fois (en ratio) qu'un label est différent d'un autre label prédit par une autre fonction"
   ]
  },
  {
   "cell_type": "code",
   "execution_count": 73,
   "metadata": {},
   "outputs": [
    {
     "data": {
      "text/html": [
       "<div>\n",
       "<style scoped>\n",
       "    .dataframe tbody tr th:only-of-type {\n",
       "        vertical-align: middle;\n",
       "    }\n",
       "\n",
       "    .dataframe tbody tr th {\n",
       "        vertical-align: top;\n",
       "    }\n",
       "\n",
       "    .dataframe thead th {\n",
       "        text-align: right;\n",
       "    }\n",
       "</style>\n",
       "<table border=\"1\" class=\"dataframe\">\n",
       "  <thead>\n",
       "    <tr style=\"text-align: right;\">\n",
       "      <th></th>\n",
       "      <th>j</th>\n",
       "      <th>Polarity</th>\n",
       "      <th>Coverage</th>\n",
       "      <th>Overlaps</th>\n",
       "      <th>Conflicts</th>\n",
       "      <th>Correct</th>\n",
       "      <th>Incorrect</th>\n",
       "      <th>Emp. Acc.</th>\n",
       "    </tr>\n",
       "  </thead>\n",
       "  <tbody>\n",
       "    <tr>\n",
       "      <th>verticality</th>\n",
       "      <td>0</td>\n",
       "      <td>[0, 1, 2]</td>\n",
       "      <td>1.000</td>\n",
       "      <td>1.000</td>\n",
       "      <td>0.6850</td>\n",
       "      <td>798</td>\n",
       "      <td>68</td>\n",
       "      <td>0.678750</td>\n",
       "    </tr>\n",
       "    <tr>\n",
       "      <th>eigenvalue_sum</th>\n",
       "      <td>1</td>\n",
       "      <td>[0, 1, 2]</td>\n",
       "      <td>1.000</td>\n",
       "      <td>1.000</td>\n",
       "      <td>0.6850</td>\n",
       "      <td>664</td>\n",
       "      <td>2</td>\n",
       "      <td>0.415000</td>\n",
       "    </tr>\n",
       "    <tr>\n",
       "      <th>eigenratio_2d</th>\n",
       "      <td>2</td>\n",
       "      <td>[1]</td>\n",
       "      <td>0.355</td>\n",
       "      <td>0.355</td>\n",
       "      <td>0.0475</td>\n",
       "      <td>532</td>\n",
       "      <td>36</td>\n",
       "      <td>0.936620</td>\n",
       "    </tr>\n",
       "    <tr>\n",
       "      <th>density_3D</th>\n",
       "      <td>3</td>\n",
       "      <td>[0, 1, 2]</td>\n",
       "      <td>1.000</td>\n",
       "      <td>1.000</td>\n",
       "      <td>0.6850</td>\n",
       "      <td>1049</td>\n",
       "      <td>0</td>\n",
       "      <td>0.848125</td>\n",
       "    </tr>\n",
       "    <tr>\n",
       "      <th>increasing_gamma</th>\n",
       "      <td>4</td>\n",
       "      <td>[0, 1, 2]</td>\n",
       "      <td>1.000</td>\n",
       "      <td>1.000</td>\n",
       "      <td>0.6850</td>\n",
       "      <td>764</td>\n",
       "      <td>0</td>\n",
       "      <td>0.758750</td>\n",
       "    </tr>\n",
       "    <tr>\n",
       "      <th>planarity</th>\n",
       "      <td>5</td>\n",
       "      <td>[0, 1, 2]</td>\n",
       "      <td>1.000</td>\n",
       "      <td>1.000</td>\n",
       "      <td>0.6850</td>\n",
       "      <td>898</td>\n",
       "      <td>17</td>\n",
       "      <td>0.679375</td>\n",
       "    </tr>\n",
       "    <tr>\n",
       "      <th>beta</th>\n",
       "      <td>6</td>\n",
       "      <td>[0, 1, 2]</td>\n",
       "      <td>1.000</td>\n",
       "      <td>1.000</td>\n",
       "      <td>0.6850</td>\n",
       "      <td>855</td>\n",
       "      <td>24</td>\n",
       "      <td>0.611875</td>\n",
       "    </tr>\n",
       "  </tbody>\n",
       "</table>\n",
       "</div>"
      ],
      "text/plain": [
       "                  j   Polarity  Coverage  Overlaps  Conflicts  Correct  \\\n",
       "verticality       0  [0, 1, 2]     1.000     1.000     0.6850      798   \n",
       "eigenvalue_sum    1  [0, 1, 2]     1.000     1.000     0.6850      664   \n",
       "eigenratio_2d     2        [1]     0.355     0.355     0.0475      532   \n",
       "density_3D        3  [0, 1, 2]     1.000     1.000     0.6850     1049   \n",
       "increasing_gamma  4  [0, 1, 2]     1.000     1.000     0.6850      764   \n",
       "planarity         5  [0, 1, 2]     1.000     1.000     0.6850      898   \n",
       "beta              6  [0, 1, 2]     1.000     1.000     0.6850      855   \n",
       "\n",
       "                  Incorrect  Emp. Acc.  \n",
       "verticality              68   0.678750  \n",
       "eigenvalue_sum            2   0.415000  \n",
       "eigenratio_2d            36   0.936620  \n",
       "density_3D                0   0.848125  \n",
       "increasing_gamma          0   0.758750  \n",
       "planarity                17   0.679375  \n",
       "beta                     24   0.611875  "
      ]
     },
     "execution_count": 73,
     "metadata": {},
     "output_type": "execute_result"
    }
   ],
   "source": [
    "a = LFAnalysis(L=L_dev, lfs=lfs)\n",
    "LFAnalysis(L=L_dev, lfs=lfs).lf_summary(Y=Y_dev)"
   ]
  },
  {
   "cell_type": "markdown",
   "metadata": {},
   "source": [
    "Petit bug sur correct & incorrect. Le calcul de la matrice de confusion dans le code, part du principe qu'on aura forcément des labels -1 aka `ABSTAIN` ou `UNKNOWN` en prédiction. Mais si on n'en a pas, il coupe la matrice de confusion et perd de l'information. Pour le bug, c'est ici https://github.com/snorkel-team/snorkel/issues/1446 Une PR existe et est en cours de relecture."
   ]
  },
  {
   "cell_type": "markdown",
   "metadata": {},
   "source": [
    "* Correct : nombre de bonnes prédictions (somme de la diagonale de la matrice de confusion par labelling function)\n",
    "* Incorrect : nombre de mauvaise prédiction (issue de la matrice de confusion)\n",
    "* Emp. Acc (empirical accuracy) : on enlève tous les -1 et on regarde la précision empirique total bon / total"
   ]
  },
  {
   "cell_type": "code",
   "execution_count": 85,
   "metadata": {},
   "outputs": [
    {
     "name": "stderr",
     "output_type": "stream",
     "text": [
      "100%|██████████| 3000/3000 [00:27<00:00, 107.77it/s]\n"
     ]
    }
   ],
   "source": [
    "L_valid = applier.apply(df=df_valid)"
   ]
  },
  {
   "cell_type": "markdown",
   "metadata": {},
   "source": [
    "Modèle **génératif**. Il va constuire une suite de poids (issus d'un réseau de neurone) pour ensuite sortir une distribution de probabilités des labels pour chaque point (issu d'autre jeux que le *train*)"
   ]
  },
  {
   "cell_type": "code",
   "execution_count": 87,
   "metadata": {},
   "outputs": [],
   "source": [
    "label_model = LabelModel(cardinality=3, verbose=True)"
   ]
  },
  {
   "cell_type": "code",
   "execution_count": 88,
   "metadata": {},
   "outputs": [
    {
     "name": "stderr",
     "output_type": "stream",
     "text": [
      "[21:32:46] label_model.fit (INFO) - Computing O...\n",
      "[21:32:46] label_model.fit (INFO) - Estimating \\mu...\n",
      "[21:32:46] logger.log (INFO) - [0 epochs]: TRAIN:[loss=7.359]\n",
      "[21:32:47] logger.log (INFO) - [100 epochs]: TRAIN:[loss=0.370]\n",
      "[21:32:47] logger.log (INFO) - [200 epochs]: TRAIN:[loss=0.222]\n",
      "[21:32:47] logger.log (INFO) - [300 epochs]: TRAIN:[loss=0.154]\n",
      "[21:32:47] logger.log (INFO) - [400 epochs]: TRAIN:[loss=0.108]\n",
      "[21:32:47] logger.log (INFO) - [500 epochs]: TRAIN:[loss=0.083]\n",
      "[21:32:47] logger.log (INFO) - [600 epochs]: TRAIN:[loss=0.071]\n",
      "[21:32:47] logger.log (INFO) - [700 epochs]: TRAIN:[loss=0.065]\n",
      "[21:32:47] logger.log (INFO) - [800 epochs]: TRAIN:[loss=0.062]\n",
      "[21:32:47] logger.log (INFO) - [900 epochs]: TRAIN:[loss=0.060]\n",
      "[21:32:47] logger.log (INFO) - [1000 epochs]: TRAIN:[loss=0.059]\n",
      "[21:32:47] logger.log (INFO) - [1100 epochs]: TRAIN:[loss=0.058]\n",
      "[21:32:48] logger.log (INFO) - [1200 epochs]: TRAIN:[loss=0.058]\n",
      "[21:32:48] logger.log (INFO) - [1300 epochs]: TRAIN:[loss=0.057]\n",
      "[21:32:48] logger.log (INFO) - [1400 epochs]: TRAIN:[loss=0.057]\n",
      "[21:32:48] logger.log (INFO) - [1500 epochs]: TRAIN:[loss=0.057]\n",
      "[21:32:48] logger.log (INFO) - [1600 epochs]: TRAIN:[loss=0.057]\n",
      "[21:32:48] logger.log (INFO) - [1700 epochs]: TRAIN:[loss=0.057]\n",
      "[21:32:48] logger.log (INFO) - [1800 epochs]: TRAIN:[loss=0.057]\n",
      "[21:32:48] logger.log (INFO) - [1900 epochs]: TRAIN:[loss=0.056]\n",
      "[21:32:48] logger.log (INFO) - [2000 epochs]: TRAIN:[loss=0.056]\n",
      "[21:32:48] logger.log (INFO) - [2100 epochs]: TRAIN:[loss=0.056]\n",
      "[21:32:48] logger.log (INFO) - [2200 epochs]: TRAIN:[loss=0.056]\n",
      "[21:32:48] logger.log (INFO) - [2300 epochs]: TRAIN:[loss=0.056]\n",
      "[21:32:49] logger.log (INFO) - [2400 epochs]: TRAIN:[loss=0.056]\n",
      "[21:32:49] logger.log (INFO) - [2500 epochs]: TRAIN:[loss=0.056]\n",
      "[21:32:49] logger.log (INFO) - [2600 epochs]: TRAIN:[loss=0.056]\n",
      "[21:32:49] logger.log (INFO) - [2700 epochs]: TRAIN:[loss=0.056]\n",
      "[21:32:49] logger.log (INFO) - [2800 epochs]: TRAIN:[loss=0.056]\n",
      "[21:32:49] logger.log (INFO) - [2900 epochs]: TRAIN:[loss=0.056]\n",
      "[21:32:49] logger.log (INFO) - [3000 epochs]: TRAIN:[loss=0.056]\n",
      "[21:32:49] logger.log (INFO) - [3100 epochs]: TRAIN:[loss=0.056]\n",
      "[21:32:49] logger.log (INFO) - [3200 epochs]: TRAIN:[loss=0.056]\n",
      "[21:32:50] logger.log (INFO) - [3300 epochs]: TRAIN:[loss=0.056]\n",
      "[21:32:50] logger.log (INFO) - [3400 epochs]: TRAIN:[loss=0.056]\n",
      "[21:32:50] logger.log (INFO) - [3500 epochs]: TRAIN:[loss=0.056]\n",
      "[21:32:50] logger.log (INFO) - [3600 epochs]: TRAIN:[loss=0.056]\n",
      "[21:32:50] logger.log (INFO) - [3700 epochs]: TRAIN:[loss=0.056]\n",
      "[21:32:50] logger.log (INFO) - [3800 epochs]: TRAIN:[loss=0.056]\n",
      "[21:32:50] logger.log (INFO) - [3900 epochs]: TRAIN:[loss=0.056]\n",
      "[21:32:50] logger.log (INFO) - [4000 epochs]: TRAIN:[loss=0.056]\n",
      "[21:32:50] logger.log (INFO) - [4100 epochs]: TRAIN:[loss=0.056]\n",
      "[21:32:50] logger.log (INFO) - [4200 epochs]: TRAIN:[loss=0.056]\n",
      "[21:32:50] logger.log (INFO) - [4300 epochs]: TRAIN:[loss=0.056]\n",
      "[21:32:50] logger.log (INFO) - [4400 epochs]: TRAIN:[loss=0.056]\n",
      "[21:32:51] logger.log (INFO) - [4500 epochs]: TRAIN:[loss=0.056]\n",
      "[21:32:51] logger.log (INFO) - [4600 epochs]: TRAIN:[loss=0.056]\n",
      "[21:32:51] logger.log (INFO) - [4700 epochs]: TRAIN:[loss=0.056]\n",
      "[21:32:51] logger.log (INFO) - [4800 epochs]: TRAIN:[loss=0.056]\n",
      "[21:32:51] logger.log (INFO) - [4900 epochs]: TRAIN:[loss=0.056]\n",
      "[21:32:51] label_model.fit (INFO) - Finished Training\n"
     ]
    }
   ],
   "source": [
    "label_model.fit(L_train=L_train, n_epochs=5000, lr=0.001, log_freq=100, seed=123)"
   ]
  },
  {
   "cell_type": "markdown",
   "metadata": {},
   "source": [
    "Calcul de la métrique de précision sur les labels à prévoir (jeu de **validation**). Cette précision n'est le fait uniquement de la construction des *labeling functions* et de ce réseaux de neurones dit \"génératif\"."
   ]
  },
  {
   "cell_type": "code",
   "execution_count": 89,
   "metadata": {},
   "outputs": [
    {
     "name": "stdout",
     "output_type": "stream",
     "text": [
      "Label Model Accuracy:     86.1%\n"
     ]
    }
   ],
   "source": [
    "label_model_acc = label_model.score(L=L_valid, Y=Y_valid)[\"accuracy\"]\n",
    "print(f\"{'Label Model Accuracy:':<25} {label_model_acc * 100:.1f}%\")"
   ]
  },
  {
   "cell_type": "code",
   "execution_count": 90,
   "metadata": {},
   "outputs": [
    {
     "data": {
      "image/png": "[encoded data removed]",
      "text/plain": [
       "<Figure size 576x396 with 1 Axes>"
      ]
     },
     "metadata": {
      "needs_background": "light"
     },
     "output_type": "display_data"
    }
   ],
   "source": [
    "def plot_probabilities_histogram(Y, name):\n",
    "    plt.hist(Y, bins=10)\n",
    "    plt.xlabel(f\"Probability of {name}\")\n",
    "    plt.ylabel(\"Number of data points\")\n",
    "    plt.show()\n",
    "\n",
    "\n",
    "probs_train = label_model.predict_proba(L=L_train)\n",
    "plot_probabilities_histogram(probs_train[:, FALAISE], \"falaise\")"
   ]
  },
  {
   "cell_type": "code",
   "execution_count": 91,
   "metadata": {},
   "outputs": [
    {
     "data": {
      "image/png": "[encoded data removed]",
      "text/plain": [
       "<Figure size 576x396 with 1 Axes>"
      ]
     },
     "metadata": {
      "needs_background": "light"
     },
     "output_type": "display_data"
    }
   ],
   "source": [
    "plot_probabilities_histogram(probs_train[:, EBOULIS], \"Eboulis\")"
   ]
  },
  {
   "cell_type": "code",
   "execution_count": 92,
   "metadata": {},
   "outputs": [
    {
     "data": {
      "image/png": "[encoded data removed]",
      "text/plain": [
       "<Figure size 576x396 with 1 Axes>"
      ]
     },
     "metadata": {
      "needs_background": "light"
     },
     "output_type": "display_data"
    }
   ],
   "source": [
    "plot_probabilities_histogram(probs_train[:, VEGETATION], \"Végétation\")"
   ]
  },
  {
   "cell_type": "code",
   "execution_count": 93,
   "metadata": {},
   "outputs": [],
   "source": [
    "# filtre sur les données non labélisées (UNKNOWN)\n",
    "df_train_filtered, probs_train_filtered = filter_unlabeled_dataframe(\n",
    "    X=df_train, y=probs_train, L=L_train\n",
    ")"
   ]
  },
  {
   "cell_type": "code",
   "execution_count": 94,
   "metadata": {},
   "outputs": [
    {
     "data": {
      "text/plain": [
       "((16000, 73), (16000, 3))"
      ]
     },
     "execution_count": 94,
     "metadata": {},
     "output_type": "execute_result"
    }
   ],
   "source": [
    "df_train_filtered.shape, probs_train_filtered.shape"
   ]
  },
  {
   "cell_type": "markdown",
   "metadata": {},
   "source": [
    "## On entraine un modèle discriminant"
   ]
  },
  {
   "cell_type": "code",
   "execution_count": 95,
   "metadata": {},
   "outputs": [],
   "source": [
    "# This next cell makes our Keras results reprodbucible. You can ignore it.\n",
    "import random\n",
    "\n",
    "import numpy as np\n",
    "import tensorflow as tf\n",
    "\n",
    "\n",
    "seed = 1\n",
    "np.random.seed(seed)\n",
    "random.seed(seed)\n",
    "\n",
    "session_conf = tf.compat.v1.ConfigProto(\n",
    "    intra_op_parallelism_threads=1, inter_op_parallelism_threads=1\n",
    ")\n",
    "\n",
    "from tensorflow.keras import backend as K\n",
    "\n",
    "tf.set_random_seed(seed)\n",
    "sess = tf.compat.v1.Session(graph=tf.get_default_graph(), config=session_conf)\n",
    "K.set_session(sess)"
   ]
  },
  {
   "cell_type": "code",
   "execution_count": 96,
   "metadata": {},
   "outputs": [
    {
     "data": {
      "text/plain": [
       "['planarity_50',\n",
       " 'planarity_200',\n",
       " 'planarity_1500',\n",
       " 'eigenvalue_ratio_2D_50',\n",
       " 'eigenvalue_ratio_2D_200',\n",
       " 'eigenvalue_ratio_2D_1500',\n",
       " 'bin_z_range_50',\n",
       " 'bin_z_range_200',\n",
       " 'bin_z_range_1500',\n",
       " 'bin_z_std_50',\n",
       " 'bin_z_std_200',\n",
       " 'bin_z_std_1500',\n",
       " 'bin_density_50',\n",
       " 'bin_density_200',\n",
       " 'bin_density_1500',\n",
       " 'eigenvalue_sum_2D_50',\n",
       " 'eigenvalue_sum_2D_200',\n",
       " 'eigenvalue_sum_2D_1500',\n",
       " 'eigenvalue_sum_50',\n",
       " 'eigenvalue_sum_200',\n",
       " 'eigenvalue_sum_1500',\n",
       " 'radius_2D_50',\n",
       " 'radius_2D_200',\n",
       " 'radius_2D_1500',\n",
       " 'std_dev_50',\n",
       " 'std_dev_200',\n",
       " 'std_dev_1500',\n",
       " 'density_2D_50',\n",
       " 'density_2D_200',\n",
       " 'density_2D_1500',\n",
       " 'scattering_50',\n",
       " 'scattering_200',\n",
       " 'scattering_1500',\n",
       " 'omnivariance_50',\n",
       " 'omnivariance_200',\n",
       " 'omnivariance_1500',\n",
       " 'curvature_change_50',\n",
       " 'curvature_change_200',\n",
       " 'curvature_change_1500']"
      ]
     },
     "execution_count": 96,
     "metadata": {},
     "output_type": "execute_result"
    }
   ],
   "source": [
    "# celles qui sont corrélées à certaines, les z- accumulation features, etc.\n",
    "def complete_with_voisin(name, neighbors):\n",
    "    return [name + \"_{}\".format(x) for x in neighbors]\n",
    "\n",
    "drop_cols = [\"planarity\", \"eigenvalue_ratio_2D\", \"bin_z_range\", \"bin_z_std\", \"bin_density\",\n",
    "             \"eigenvalue_sum_2D\", \"eigenvalue_sum\", \"radius_2D\", \"std_dev\", \"density_2D\",\n",
    "             \"scattering\", \"omnivariance\", \"curvature_change\"]\n",
    "full_cols_to_drop = sum((complete_with_voisin(x, [50, 200, 1500]) for x in drop_cols), [])\n",
    "full_cols_to_drop"
   ]
  },
  {
   "cell_type": "code",
   "execution_count": 100,
   "metadata": {},
   "outputs": [],
   "source": [
    "X_train = df_train.drop(columns=[\"x\", \"y\", \"z\", \"r\", \"g\", \"b\", \"label\"] + full_cols_to_drop)\n",
    "X_dev = df_dev.drop(columns=[\"x\", \"y\", \"z\",  \"r\", \"g\", \"b\", \"label\"] + full_cols_to_drop)\n",
    "X_valid = df_valid.drop(columns=[\"x\", \"y\", \"z\",  \"r\", \"g\", \"b\", \"label\"] + full_cols_to_drop)\n",
    "X_test = df_test.drop(columns=[\"x\", \"y\", \"z\",  \"r\", \"g\", \"b\", \"label\"] + full_cols_to_drop)"
   ]
  },
  {
   "cell_type": "markdown",
   "metadata": {},
   "source": [
    "Ça se passe bien mieux quand j'enlève un certain nombre de *features*. Sans ça, la loss, dès la 1ere époque est à `NaN` et le modèle ne converge pas. Il sort évidemment des métriques de précision aux alentours 33% (une chance sur trois labels). Je cherche encore les raisons.\n",
    "\n",
    "* Est-ce qu'on a un problème avec trop de dimensions et une architecture non adaptée. Le fait d'enlever des colonnes permet de palier au soucis\n",
    "* J'ai retiré, comme pour la régression logistique, des colonnes a priori colinéaire. Est-ce que cela peut avoir un impact dans la descente du gradient ?"
   ]
  },
  {
   "cell_type": "code",
   "execution_count": 101,
   "metadata": {},
   "outputs": [],
   "source": [
    "# X_train = df_train.drop(columns=[\"x\", \"y\", \"z\", \"label\"])\n",
    "# X_dev = df_dev.drop(columns=[\"x\", \"y\", \"z\", \"label\"])\n",
    "# X_valid = df_valid.drop(columns=[\"x\", \"y\", \"z\", \"label\"])\n",
    "# X_test = df_test.drop(columns=[\"x\", \"y\", \"z\", \"label\"])"
   ]
  },
  {
   "cell_type": "code",
   "execution_count": 102,
   "metadata": {},
   "outputs": [
    {
     "data": {
      "text/plain": [
       "['alpha_1500',\n",
       " 'alpha_200',\n",
       " 'alpha_50',\n",
       " 'anisotropy_1500',\n",
       " 'anisotropy_200',\n",
       " 'anisotropy_50',\n",
       " 'beta_1500',\n",
       " 'beta_200',\n",
       " 'beta_50',\n",
       " 'density_1500',\n",
       " 'density_200',\n",
       " 'density_50',\n",
       " 'eigenentropy_1500',\n",
       " 'eigenentropy_200',\n",
       " 'eigenentropy_50',\n",
       " 'linearity_1500',\n",
       " 'linearity_200',\n",
       " 'linearity_50',\n",
       " 'radius_1500',\n",
       " 'radius_200',\n",
       " 'radius_50',\n",
       " 'verticality_1500',\n",
       " 'verticality_200',\n",
       " 'verticality_50',\n",
       " 'z_range_1500',\n",
       " 'z_range_200',\n",
       " 'z_range_50']"
      ]
     },
     "execution_count": 102,
     "metadata": {},
     "output_type": "execute_result"
    }
   ],
   "source": [
    "list(sorted(X_train.columns))"
   ]
  },
  {
   "cell_type": "code",
   "execution_count": 103,
   "metadata": {},
   "outputs": [],
   "source": [
    "from functools import partial\n",
    "\n",
    "\n",
    "def baseline_model(input_dim):\n",
    "    # create model\n",
    "    model = tf.keras.Sequential()\n",
    "    activation_name = \"relu\"\n",
    "    #model.add(tf.keras.layers.Dense(64, input_dim=input_dim, activation=activation_name))\n",
    "    #model.add(tf.keras.layers.Dense(32, input_dim=input_dim, activation=activation_name))\n",
    "    model.add(tf.keras.layers.Dense(16, activation=activation_name, input_shape=(input_dim,)))\n",
    "    model.add(tf.keras.layers.Dense(16, activation=activation_name))\n",
    "    model.add(tf.keras.layers.Dense(8, activation=activation_name))\n",
    "    model.add(tf.keras.layers.Dense(units=3,\n",
    "                                    kernel_regularizer=tf.keras.regularizers.l2(0.001),\n",
    "                                    activation='softmax'))\n",
    "    # opt = tf.keras.optimizers.Adam(lr=0.005)\n",
    "    # opt = tf.keras.optimizers.SGD(lr=0.01, decay=1e-6, momentum=0.9, nesterov=True, clipvalue=0.5)\n",
    "    # opt = tf.keras.optimizers.SGD(lr=0.01, decay=1e-6, momentum=0.9, nesterov=True, clipnorm=1.)\n",
    "    # Compile model\n",
    "    # model.compile(loss='categorical_crossentropy', optimizer=opt, metrics=['accuracy'])\n",
    "    model.compile(loss='categorical_crossentropy', optimizer='adam', metrics=['accuracy'])\n",
    "    return model    \n",
    "\n",
    "\n",
    "def get_keras_early_stopping(patience=10):\n",
    "    return tf.keras.callbacks.EarlyStopping(\n",
    "        monitor=\"val_acc\", patience=5, verbose=1, restore_best_weights=True\n",
    "    )\n",
    "\n"
   ]
  },
  {
   "cell_type": "code",
   "execution_count": 104,
   "metadata": {},
   "outputs": [
    {
     "data": {
      "text/plain": [
       "((3000, 27), (3000,), (16000, 27), (16000, 3))"
      ]
     },
     "execution_count": 104,
     "metadata": {},
     "output_type": "execute_result"
    }
   ],
   "source": [
    "X_valid.shape, Y_valid.shape, X_train.shape, probs_train_filtered.shape"
   ]
  },
  {
   "cell_type": "code",
   "execution_count": 105,
   "metadata": {},
   "outputs": [
    {
     "data": {
      "text/plain": [
       "(array([[1.67958526e-02, 9.83013045e-01, 1.91101928e-04],\n",
       "        [1.58300370e-03, 1.08340749e-10, 9.98416996e-01],\n",
       "        [1.15476282e-03, 9.97821959e-01, 1.02327835e-03],\n",
       "        [7.75792032e-08, 9.98616706e-01, 1.38321677e-03]]),\n",
       " array([[1.67958526e-02, 9.83013045e-01, 1.91101928e-04],\n",
       "        [1.58300370e-03, 1.08340749e-10, 9.98416996e-01],\n",
       "        [1.15476282e-03, 9.97821959e-01, 1.02327835e-03],\n",
       "        [7.75792032e-08, 9.98616706e-01, 1.38321677e-03]]))"
      ]
     },
     "execution_count": 105,
     "metadata": {},
     "output_type": "execute_result"
    }
   ],
   "source": [
    "probs_train_filtered[:4], probs_train[:4]"
   ]
  },
  {
   "cell_type": "code",
   "execution_count": 106,
   "metadata": {},
   "outputs": [
    {
     "data": {
      "text/plain": [
       "array([1, 1, 1, ..., 0, 1, 1])"
      ]
     },
     "execution_count": 106,
     "metadata": {},
     "output_type": "execute_result"
    }
   ],
   "source": [
    "Y_valid"
   ]
  },
  {
   "cell_type": "code",
   "execution_count": 107,
   "metadata": {},
   "outputs": [
    {
     "data": {
      "text/plain": [
       "array([[0., 1., 0.],\n",
       "       [0., 1., 0.],\n",
       "       [0., 1., 0.],\n",
       "       ...,\n",
       "       [1., 0., 0.],\n",
       "       [0., 1., 0.],\n",
       "       [0., 1., 0.]])"
      ]
     },
     "execution_count": 107,
     "metadata": {},
     "output_type": "execute_result"
    }
   ],
   "source": [
    "preds_to_probs(Y_valid, 3)  # one-hot encoder"
   ]
  },
  {
   "cell_type": "code",
   "execution_count": 108,
   "metadata": {},
   "outputs": [],
   "source": [
    "kmodel = KerasClassifier(build_fn=partial(baseline_model, input_dim=X_train.shape[1]),\n",
    "                         epochs=20,\n",
    "                         # batch_size=5,\n",
    "                         validation_data=(preprocessing.scale(X_valid), preds_to_probs(Y_valid, 3)),\n",
    "                         #validation_data=(X_valid, preds_to_probs(Y_valid, 3)),\n",
    "                         callbacks=[get_keras_early_stopping()],\n",
    "                         verbose=1)"
   ]
  },
  {
   "cell_type": "code",
   "execution_count": 109,
   "metadata": {},
   "outputs": [
    {
     "name": "stderr",
     "output_type": "stream",
     "text": [
      "[21:39:00] deprecation.new_func (WARNING) - From /home/dag/.local/share/virtualenvs/snorkel-tuto/lib/python3.7/site-packages/tensorflow/python/ops/init_ops.py:1251: calling VarianceScaling.__init__ (from tensorflow.python.ops.init_ops) with dtype is deprecated and will be removed in a future version.\n",
      "Instructions for updating:\n",
      "Call initializer instance with the dtype argument instead of passing it to the constructor\n"
     ]
    },
    {
     "name": "stdout",
     "output_type": "stream",
     "text": [
      "Train on 16000 samples, validate on 3000 samples\n",
      "Epoch 1/20\n",
      "16000/16000 [==============================] - 1s 58us/sample - loss: 0.3708 - acc: 0.8672 - val_loss: 0.1765 - val_acc: 0.9237\n",
      "Epoch 2/20\n",
      "16000/16000 [==============================] - 1s 39us/sample - loss: 0.2352 - acc: 0.9230 - val_loss: 0.2297 - val_acc: 0.8877\n",
      "Epoch 3/20\n",
      "16000/16000 [==============================] - 1s 39us/sample - loss: 0.2148 - acc: 0.9319 - val_loss: 0.2393 - val_acc: 0.8870\n",
      "Epoch 4/20\n",
      "16000/16000 [==============================] - 1s 39us/sample - loss: 0.2057 - acc: 0.9367 - val_loss: 0.2288 - val_acc: 0.8847\n",
      "Epoch 5/20\n",
      "16000/16000 [==============================] - 1s 40us/sample - loss: 0.1997 - acc: 0.9414 - val_loss: 0.2570 - val_acc: 0.8833\n",
      "Epoch 6/20\n",
      "15008/16000 [===========================>..] - ETA: 0s - loss: 0.1975 - acc: 0.9424Restoring model weights from the end of the best epoch.\n",
      "16000/16000 [==============================] - 1s 40us/sample - loss: 0.1964 - acc: 0.9431 - val_loss: 0.4211 - val_acc: 0.8453\n",
      "Epoch 00006: early stopping\n"
     ]
    },
    {
     "data": {
      "text/plain": [
       "<tensorflow.python.keras.callbacks.History at 0x7fd9d3252bd0>"
      ]
     },
     "execution_count": 109,
     "metadata": {},
     "output_type": "execute_result"
    }
   ],
   "source": [
    "kmodel.fit(x=preprocessing.scale(X_train), y=probs_train)\n",
    "# kmodel.fit(x=X_train, y=probs_train)"
   ]
  },
  {
   "cell_type": "code",
   "execution_count": 110,
   "metadata": {},
   "outputs": [
    {
     "data": {
      "text/plain": [
       "[(27, 16), (16,), (16, 16), (16,), (16, 8), (8,), (8, 3), (3,)]"
      ]
     },
     "execution_count": 110,
     "metadata": {},
     "output_type": "execute_result"
    }
   ],
   "source": [
    "[w.shape for w in kmodel.model.get_weights()]"
   ]
  },
  {
   "cell_type": "code",
   "execution_count": 111,
   "metadata": {},
   "outputs": [],
   "source": [
    "# kmodel.model.get_weights()"
   ]
  },
  {
   "cell_type": "code",
   "execution_count": 112,
   "metadata": {},
   "outputs": [
    {
     "data": {
      "text/plain": [
       "(16000, 27)"
      ]
     },
     "execution_count": 112,
     "metadata": {},
     "output_type": "execute_result"
    }
   ],
   "source": [
    "X_train.shape"
   ]
  },
  {
   "cell_type": "code",
   "execution_count": 113,
   "metadata": {},
   "outputs": [
    {
     "name": "stdout",
     "output_type": "stream",
     "text": [
      "\r",
      "5/5 [==============================] - 0s 3ms/sample\n"
     ]
    },
    {
     "data": {
      "text/plain": [
       "array([0, 0, 0, 0, 0])"
      ]
     },
     "execution_count": 113,
     "metadata": {},
     "output_type": "execute_result"
    }
   ],
   "source": [
    "kmodel.predict(X_test.values[:5])"
   ]
  },
  {
   "cell_type": "code",
   "execution_count": 114,
   "metadata": {},
   "outputs": [
    {
     "name": "stdout",
     "output_type": "stream",
     "text": [
      "1000/1000 [==============================] - 0s 9us/sample\n"
     ]
    }
   ],
   "source": [
    "# preds_test = kmodel.predict(X_test)\n",
    "preds_test = kmodel.predict(preprocessing.scale(X_test))"
   ]
  },
  {
   "cell_type": "code",
   "execution_count": 115,
   "metadata": {},
   "outputs": [
    {
     "name": "stdout",
     "output_type": "stream",
     "text": [
      "Test Accuracy: 91.6%\n"
     ]
    }
   ],
   "source": [
    "from snorkel.analysis import metric_score\n",
    "\n",
    "# preds_test = keras_model.predict(x=X_test).argmax(axis=1)\n",
    "test_acc = metric_score(golds=Y_test, preds=preds_test, metric=\"accuracy\")\n",
    "print(f\"Test Accuracy: {test_acc * 100:.1f}%\")"
   ]
  },
  {
   "cell_type": "markdown",
   "metadata": {},
   "source": [
    "## Prédiction sur toute la scène"
   ]
  },
  {
   "cell_type": "code",
   "execution_count": 116,
   "metadata": {},
   "outputs": [
    {
     "data": {
      "text/plain": [
       "Index(['x', 'y', 'z', 'alpha_50', 'beta_50', 'radius_50', 'z_range_50',\n",
       "       'std_dev_50', 'density_50', 'verticality_50', 'curvature_change_50',\n",
       "       'linearity_50', 'planarity_50', 'scattering_50', 'omnivariance_50',\n",
       "       'anisotropy_50', 'eigenentropy_50', 'eigenvalue_sum_50', 'radius_2D_50',\n",
       "       'density_2D_50', 'eigenvalue_sum_2D_50', 'eigenvalue_ratio_2D_50', 'r',\n",
       "       'g', 'b', 'alpha_200', 'beta_200', 'radius_200', 'z_range_200',\n",
       "       'std_dev_200', 'density_200', 'verticality_200', 'curvature_change_200',\n",
       "       'linearity_200', 'planarity_200', 'scattering_200', 'omnivariance_200',\n",
       "       'anisotropy_200', 'eigenentropy_200', 'eigenvalue_sum_200',\n",
       "       'radius_2D_200', 'density_2D_200', 'eigenvalue_sum_2D_200',\n",
       "       'eigenvalue_ratio_2D_200', 'alpha_1500', 'beta_1500', 'radius_1500',\n",
       "       'z_range_1500', 'std_dev_1500', 'density_1500', 'verticality_1500',\n",
       "       'curvature_change_1500', 'linearity_1500', 'planarity_1500',\n",
       "       'scattering_1500', 'omnivariance_1500', 'anisotropy_1500',\n",
       "       'eigenentropy_1500', 'eigenvalue_sum_1500', 'radius_2D_1500',\n",
       "       'density_2D_1500', 'eigenvalue_sum_2D_1500',\n",
       "       'eigenvalue_ratio_2D_1500'],\n",
       "      dtype='object')"
      ]
     },
     "execution_count": 116,
     "metadata": {},
     "output_type": "execute_result"
    }
   ],
   "source": [
    "features.columns"
   ]
  },
  {
   "cell_type": "code",
   "execution_count": 117,
   "metadata": {},
   "outputs": [
    {
     "data": {
      "text/plain": [
       "['planarity_50',\n",
       " 'planarity_200',\n",
       " 'planarity_1500',\n",
       " 'eigenvalue_ratio_2D_50',\n",
       " 'eigenvalue_ratio_2D_200',\n",
       " 'eigenvalue_ratio_2D_1500',\n",
       " 'eigenvalue_sum_2D_50',\n",
       " 'eigenvalue_sum_2D_200',\n",
       " 'eigenvalue_sum_2D_1500',\n",
       " 'eigenvalue_sum_50',\n",
       " 'eigenvalue_sum_200',\n",
       " 'eigenvalue_sum_1500',\n",
       " 'radius_2D_50',\n",
       " 'radius_2D_200',\n",
       " 'radius_2D_1500',\n",
       " 'std_dev_50',\n",
       " 'std_dev_200',\n",
       " 'std_dev_1500',\n",
       " 'density_2D_50',\n",
       " 'density_2D_200',\n",
       " 'density_2D_1500',\n",
       " 'scattering_50',\n",
       " 'scattering_200',\n",
       " 'scattering_1500',\n",
       " 'omnivariance_50',\n",
       " 'omnivariance_200',\n",
       " 'omnivariance_1500',\n",
       " 'curvature_change_50',\n",
       " 'curvature_change_200',\n",
       " 'curvature_change_1500']"
      ]
     },
     "execution_count": 117,
     "metadata": {},
     "output_type": "execute_result"
    }
   ],
   "source": [
    "scene_drop_cols = [\"planarity\", \"eigenvalue_ratio_2D\",\n",
    "                   \"eigenvalue_sum_2D\", \"eigenvalue_sum\", \"radius_2D\", \"std_dev\", \"density_2D\",\n",
    "                   \"scattering\", \"omnivariance\", \"curvature_change\"]\n",
    "scene_full_cols_to_drop = sum((complete_with_voisin(x, [50, 200, 1500]) for x in scene_drop_cols), [])\n",
    "scene_full_cols_to_drop"
   ]
  },
  {
   "cell_type": "code",
   "execution_count": 118,
   "metadata": {},
   "outputs": [],
   "source": [
    "scene = features.drop(columns=[\"x\", \"y\", \"z\"] + [\"r\", \"g\", \"b\"] + scene_full_cols_to_drop)"
   ]
  },
  {
   "cell_type": "code",
   "execution_count": 119,
   "metadata": {},
   "outputs": [
    {
     "data": {
      "text/plain": [
       "Index(['alpha_50', 'beta_50', 'radius_50', 'z_range_50', 'density_50',\n",
       "       'verticality_50', 'linearity_50', 'anisotropy_50', 'eigenentropy_50',\n",
       "       'alpha_200', 'beta_200', 'radius_200', 'z_range_200', 'density_200',\n",
       "       'verticality_200', 'linearity_200', 'anisotropy_200',\n",
       "       'eigenentropy_200', 'alpha_1500', 'beta_1500', 'radius_1500',\n",
       "       'z_range_1500', 'density_1500', 'verticality_1500', 'linearity_1500',\n",
       "       'anisotropy_1500', 'eigenentropy_1500'],\n",
       "      dtype='object')"
      ]
     },
     "execution_count": 119,
     "metadata": {},
     "output_type": "execute_result"
    }
   ],
   "source": [
    "X_train.columns"
   ]
  },
  {
   "cell_type": "code",
   "execution_count": 120,
   "metadata": {},
   "outputs": [
    {
     "data": {
      "text/plain": [
       "Index(['alpha_50', 'beta_50', 'radius_50', 'z_range_50', 'density_50',\n",
       "       'verticality_50', 'linearity_50', 'anisotropy_50', 'eigenentropy_50',\n",
       "       'alpha_200', 'beta_200', 'radius_200', 'z_range_200', 'density_200',\n",
       "       'verticality_200', 'linearity_200', 'anisotropy_200',\n",
       "       'eigenentropy_200', 'alpha_1500', 'beta_1500', 'radius_1500',\n",
       "       'z_range_1500', 'density_1500', 'verticality_1500', 'linearity_1500',\n",
       "       'anisotropy_1500', 'eigenentropy_1500'],\n",
       "      dtype='object')"
      ]
     },
     "execution_count": 120,
     "metadata": {},
     "output_type": "execute_result"
    }
   ],
   "source": [
    "scene.columns"
   ]
  },
  {
   "cell_type": "code",
   "execution_count": 121,
   "metadata": {},
   "outputs": [
    {
     "name": "stdout",
     "output_type": "stream",
     "text": [
      "672193/672193 [==============================] - 7s 10us/sample\n"
     ]
    }
   ],
   "source": [
    "# label = kmodel.predict(scene)\n",
    "label = kmodel.predict(preprocessing.scale(scene))"
   ]
  },
  {
   "cell_type": "code",
   "execution_count": 122,
   "metadata": {},
   "outputs": [
    {
     "data": {
      "text/plain": [
       "0    252755\n",
       "1    289316\n",
       "2    130122\n",
       "dtype: int64"
      ]
     },
     "execution_count": 122,
     "metadata": {},
     "output_type": "execute_result"
    }
   ],
   "source": [
    "pd.Series(label).groupby(label).count()"
   ]
  },
  {
   "cell_type": "code",
   "execution_count": 126,
   "metadata": {},
   "outputs": [],
   "source": [
    "def savelas(input_file, data, output_file):\n",
    "    import laspy\n",
    "    with laspy.file.File(input_file, mode=\"r\") as input_las:\n",
    "        outfile = laspy.file.File(\n",
    "            output_file, mode=\"w\", header=input_las.header\n",
    "        )\n",
    "        outfile.x = data.x\n",
    "        outfile.y = data.y\n",
    "        outfile.z = data.z\n",
    "        outfile.red = data.r\n",
    "        outfile.green = data.g\n",
    "        outfile.blue = data.b\n",
    "        outfile.close()"
   ]
  },
  {
   "cell_type": "code",
   "execution_count": 127,
   "metadata": {},
   "outputs": [],
   "source": [
    "def colorize_clusters(points, labels, colors):\n",
    "    \"\"\"Associated a (r, g, b) color for each record of a dataframe, depending\n",
    "    on the cluster id\n",
    "\n",
    "    Parameters\n",
    "    ----------\n",
    "    points : pandas.DataFrame\n",
    "        Set of (x, y, z) points\n",
    "    labels : np.array or pd.Series\n",
    "    colors : dict\n",
    "        Each label, one color\n",
    "\n",
    "    Returns\n",
    "    -------\n",
    "    pandas.DataFrame\n",
    "        Colorized points, i.e. set of (x, y, z, r, g, b) clustered points\n",
    "    \"\"\"\n",
    "    colors = np.array([colors[l] for l in labels]) * 256\n",
    "    colors = pd.DataFrame(colors, columns=[\"r\", \"g\", \"b\"], dtype=np.uint8)\n",
    "    return points.join(colors)"
   ]
  },
  {
   "cell_type": "code",
   "execution_count": 128,
   "metadata": {},
   "outputs": [
    {
     "data": {
      "text/plain": [
       "{'eboulis': 0, 'falaise': 1, 'vegetation': 2}"
      ]
     },
     "execution_count": 128,
     "metadata": {},
     "output_type": "execute_result"
    }
   ],
   "source": [
    "LABELS"
   ]
  },
  {
   "cell_type": "code",
   "execution_count": 129,
   "metadata": {},
   "outputs": [
    {
     "data": {
      "image/png": "[encoded data removed]",
      "text/plain": [
       "<Figure size 720x72 with 1 Axes>"
      ]
     },
     "metadata": {
      "needs_background": "light"
     },
     "output_type": "display_data"
    }
   ],
   "source": [
    "sns.palplot(sns.color_palette(\"colorblind\"))"
   ]
  },
  {
   "cell_type": "code",
   "execution_count": 130,
   "metadata": {},
   "outputs": [],
   "source": [
    "palette = sns.color_palette(\"colorblind\")\n",
    "colors = {0: palette[7],  # éboulis / gris\n",
    "          1: palette[0],  # falaise / bleu\n",
    "          2: palette[2]}  # végétation / vert"
   ]
  },
  {
   "cell_type": "code",
   "execution_count": 131,
   "metadata": {},
   "outputs": [],
   "source": [
    "outdf = colorize_clusters(features[COORDS], label, colors)"
   ]
  },
  {
   "cell_type": "code",
   "execution_count": 132,
   "metadata": {},
   "outputs": [],
   "source": [
    "savelas(DATADIR / \"input\" / SCENE_FILE, outdf, \"pombourg-segmentation-snorkel-without-rgb-2.las\")"
   ]
  }
 ],
 "metadata": {
  "kernelspec": {
   "display_name": "Python 3",
   "language": "python",
   "name": "python3"
  },
  "language_info": {
   "codemirror_mode": {
    "name": "ipython",
    "version": 3
   },
   "file_extension": ".py",
   "mimetype": "text/x-python",
   "name": "python",
   "nbconvert_exporter": "python",
   "pygments_lexer": "ipython3",
   "version": "3.7.4"
  }
 },
 "nbformat": 4,
 "nbformat_minor": 2
}
