{
 "cells": [
  {
   "cell_type": "markdown",
   "metadata": {},
   "source": [
    "# Weak supervision - Pombourg dataset"
   ]
  },
  {
   "cell_type": "markdown",
   "metadata": {},
   "source": [
    "This notebook will be dedicated to the classification of `(x, y, z)` points within the `Pombourg` dataset through the weak supervision framework. As a prerequisite, the geometric features must be extracted for the point cloud as well as for every class sample with the following commands:\n",
    "\n",
    "```sh\n",
    "geo3d featurize -d data -i Pombourg.las -c r g b -t 500 -n 50 200 1500\n",
    "geo3d featurize --label-scene -d data -i Pombourg_vegetation.las -c r g b -t 500 -n 50 200 1500\n",
    "geo3d featurize --label-scene -d data -i Pombourg_falaise.las -c r g b -t 500 -n 50 200 1500\n",
    "geo3d featurize --label-scene -d data -i Pombourg_eboulis.las -c r g b -t 500 -n 50 200 1500\n",
    "```"
   ]
  },
  {
   "cell_type": "markdown",
   "metadata": {},
   "source": [
    "As a reminder, the `Pombourg` dataset is composed of vegetation at the top, a large cliff at the middle of the scene, and some screes at the bottom; it looks as follows:\n",
    "<img src=\"../docs/images/pombourg.png\" width=\"250px\">"
   ]
  },
  {
   "cell_type": "markdown",
   "metadata": {},
   "source": [
    "The weak supervision is a method that aims at predicting labels when annotation is scarce. It was developed by Stanford researchers, relies on the definition of *labelling functions* set by expert knowledge and on the definition of predictive neural networks, and can be summarized as follows:\n",
    "<img src=\"../docs/images/schema-snorkel.png\" width=\"600px\">"
   ]
  },
  {
   "cell_type": "markdown",
   "metadata": {},
   "source": [
    "In order to test every labelling function, it is preferable to have at least a minimal labelled dataset as input. That's why we will extract the features from the labelled samples."
   ]
  },
  {
   "cell_type": "markdown",
   "metadata": {},
   "source": [
    "## Imports"
   ]
  },
  {
   "cell_type": "code",
   "execution_count": 1,
   "metadata": {},
   "outputs": [],
   "source": [
    "%matplotlib inline"
   ]
  },
  {
   "cell_type": "code",
   "execution_count": 2,
   "metadata": {},
   "outputs": [],
   "source": [
    "from functools import partial\n",
    "from pathlib import Path"
   ]
  },
  {
   "cell_type": "code",
   "execution_count": 3,
   "metadata": {},
   "outputs": [],
   "source": [
    "import numpy as np\n",
    "import pandas as pd"
   ]
  },
  {
   "cell_type": "code",
   "execution_count": 4,
   "metadata": {},
   "outputs": [],
   "source": [
    "from sklearn.model_selection import train_test_split\n",
    "from sklearn.model_selection import cross_validate, cross_val_score\n",
    "from sklearn.pipeline import make_pipeline\n",
    "from sklearn import preprocessing\n",
    "\n",
    "from sklearn.linear_model import LogisticRegression, LogisticRegressionCV"
   ]
  },
  {
   "cell_type": "code",
   "execution_count": 5,
   "metadata": {},
   "outputs": [],
   "source": [
    "from snorkel.analysis import metric_score\n",
    "from snorkel.labeling import labeling_function, PandasLFApplier, LFAnalysis\n",
    "from snorkel.labeling import filter_unlabeled_dataframe\n",
    "from snorkel.labeling import LabelModel\n",
    "from snorkel.utils import preds_to_probs"
   ]
  },
  {
   "cell_type": "code",
   "execution_count": 6,
   "metadata": {},
   "outputs": [
    {
     "name": "stderr",
     "output_type": "stream",
     "text": [
      "Using TensorFlow backend.\n"
     ]
    }
   ],
   "source": [
    "from keras.wrappers.scikit_learn import KerasClassifier\n",
    "from keras.optimizers import SGD\n",
    "import tensorflow as tf"
   ]
  },
  {
   "cell_type": "code",
   "execution_count": 7,
   "metadata": {},
   "outputs": [],
   "source": [
    "import matplotlib\n",
    "from matplotlib import pyplot as plt\n",
    "import seaborn as sns"
   ]
  },
  {
   "cell_type": "code",
   "execution_count": 8,
   "metadata": {},
   "outputs": [],
   "source": [
    "from geo3dfeatures.io import read_las, load_features\n",
    "from geo3dfeatures.extract import compute_tree, request_tree, extract\n",
    "from geo3dfeatures.features import max_normalize, sum_normalize\n",
    "from geo3dfeatures.classification import colorize_labels, save_labels\n",
    "from geo3dfeatures.tools import GLOSSARY"
   ]
  },
  {
   "cell_type": "markdown",
   "metadata": {},
   "source": [
    "## Global parameter setting"
   ]
  },
  {
   "cell_type": "code",
   "execution_count": 9,
   "metadata": {},
   "outputs": [],
   "source": [
    "plt.style.use(\"seaborn-notebook\")"
   ]
  },
  {
   "cell_type": "code",
   "execution_count": 10,
   "metadata": {},
   "outputs": [],
   "source": [
    "DISPLAY_ALL_TEXT = False\n",
    "pd.set_option(\"display.max_colwidth\", 0 if DISPLAY_ALL_TEXT else 50)"
   ]
  },
  {
   "cell_type": "code",
   "execution_count": 11,
   "metadata": {},
   "outputs": [],
   "source": [
    "PREFIX_NAME = \"Pombourg\"\n",
    "SCENE_FILE = PREFIX_NAME + \".las\"\n",
    "EBOULIS_FILE = PREFIX_NAME + \"_eboulis.las\"\n",
    "VEGETATION_FILE = PREFIX_NAME + \"_vegetation.las\"\n",
    "FALAISE_FILE = PREFIX_NAME + \"_falaise.las\"\n",
    "DATADIR = Path(\"../data\")"
   ]
  },
  {
   "cell_type": "code",
   "execution_count": 12,
   "metadata": {},
   "outputs": [],
   "source": [
    "NEIGHBORHOOD_SIZES = [50, 200, 1500]"
   ]
  },
  {
   "cell_type": "code",
   "execution_count": 13,
   "metadata": {},
   "outputs": [],
   "source": [
    "VEGETATION = 0\n",
    "FALAISE = 1\n",
    "EBOULIS = 2\n",
    "UNKNOWN = -1\n",
    "LABELS = {\"eboulis\": EBOULIS,\n",
    "          \"falaise\": FALAISE,\n",
    "          \"vegetation\": VEGETATION}"
   ]
  },
  {
   "cell_type": "code",
   "execution_count": 14,
   "metadata": {},
   "outputs": [],
   "source": [
    "# Labels des coordonnées\n",
    "COORDS = list(\"xyz\")\n",
    "# Labels du channel RGB (couleurs)\n",
    "COULEURS = list(\"rgb\")"
   ]
  },
  {
   "cell_type": "markdown",
   "metadata": {},
   "source": [
    "## Data loading"
   ]
  },
  {
   "cell_type": "markdown",
   "metadata": {},
   "source": [
    "### Raw point cloud"
   ]
  },
  {
   "cell_type": "code",
   "execution_count": 15,
   "metadata": {},
   "outputs": [],
   "source": [
    "rawdata = read_las(DATADIR / \"input\" / SCENE_FILE)\n",
    "rawdata = pd.DataFrame(rawdata, columns=list(\"xyzrgb\"))"
   ]
  },
  {
   "cell_type": "code",
   "execution_count": 16,
   "metadata": {},
   "outputs": [
    {
     "name": "stdout",
     "output_type": "stream",
     "text": [
      "dimension:  (672193, 6)\n"
     ]
    },
    {
     "data": {
      "text/html": [
       "<div>\n",
       "<style scoped>\n",
       "    .dataframe tbody tr th:only-of-type {\n",
       "        vertical-align: middle;\n",
       "    }\n",
       "\n",
       "    .dataframe tbody tr th {\n",
       "        vertical-align: top;\n",
       "    }\n",
       "\n",
       "    .dataframe thead th {\n",
       "        text-align: right;\n",
       "    }\n",
       "</style>\n",
       "<table border=\"1\" class=\"dataframe\">\n",
       "  <thead>\n",
       "    <tr style=\"text-align: right;\">\n",
       "      <th></th>\n",
       "      <th>x</th>\n",
       "      <th>y</th>\n",
       "      <th>z</th>\n",
       "      <th>r</th>\n",
       "      <th>g</th>\n",
       "      <th>b</th>\n",
       "    </tr>\n",
       "  </thead>\n",
       "  <tbody>\n",
       "    <tr>\n",
       "      <th>0</th>\n",
       "      <td>1.977540e+06</td>\n",
       "      <td>5.242311e+06</td>\n",
       "      <td>902.684203</td>\n",
       "      <td>128.0</td>\n",
       "      <td>88.0</td>\n",
       "      <td>75.0</td>\n",
       "    </tr>\n",
       "    <tr>\n",
       "      <th>1</th>\n",
       "      <td>1.977540e+06</td>\n",
       "      <td>5.242311e+06</td>\n",
       "      <td>902.674986</td>\n",
       "      <td>117.0</td>\n",
       "      <td>78.0</td>\n",
       "      <td>66.0</td>\n",
       "    </tr>\n",
       "    <tr>\n",
       "      <th>2</th>\n",
       "      <td>1.977540e+06</td>\n",
       "      <td>5.242311e+06</td>\n",
       "      <td>902.731627</td>\n",
       "      <td>111.0</td>\n",
       "      <td>73.0</td>\n",
       "      <td>62.0</td>\n",
       "    </tr>\n",
       "    <tr>\n",
       "      <th>3</th>\n",
       "      <td>1.977538e+06</td>\n",
       "      <td>5.242330e+06</td>\n",
       "      <td>893.093306</td>\n",
       "      <td>147.0</td>\n",
       "      <td>135.0</td>\n",
       "      <td>131.0</td>\n",
       "    </tr>\n",
       "    <tr>\n",
       "      <th>4</th>\n",
       "      <td>1.977538e+06</td>\n",
       "      <td>5.242330e+06</td>\n",
       "      <td>893.049910</td>\n",
       "      <td>149.0</td>\n",
       "      <td>137.0</td>\n",
       "      <td>133.0</td>\n",
       "    </tr>\n",
       "  </tbody>\n",
       "</table>\n",
       "</div>"
      ],
      "text/plain": [
       "              x             y           z      r      g      b\n",
       "0  1.977540e+06  5.242311e+06  902.684203  128.0   88.0   75.0\n",
       "1  1.977540e+06  5.242311e+06  902.674986  117.0   78.0   66.0\n",
       "2  1.977540e+06  5.242311e+06  902.731627  111.0   73.0   62.0\n",
       "3  1.977538e+06  5.242330e+06  893.093306  147.0  135.0  131.0\n",
       "4  1.977538e+06  5.242330e+06  893.049910  149.0  137.0  133.0"
      ]
     },
     "execution_count": 16,
     "metadata": {},
     "output_type": "execute_result"
    }
   ],
   "source": [
    "print(\"dimension: \", rawdata.shape)\n",
    "rawdata.head()"
   ]
  },
  {
   "cell_type": "markdown",
   "metadata": {},
   "source": [
    "### Geometric features for the whole point cloud"
   ]
  },
  {
   "cell_type": "markdown",
   "metadata": {},
   "source": [
    "The data is loaded for three different neighborhood sizes (50, 200, 1500). We further consider this dataset as the *testing* dataset."
   ]
  },
  {
   "cell_type": "code",
   "execution_count": 17,
   "metadata": {},
   "outputs": [
    {
     "name": "stderr",
     "output_type": "stream",
     "text": [
      "[12:29:39] io.load_features (INFO) - Recover features stored in ../data/output/Pombourg/features/features.h5\n",
      "[12:29:39] utils._init_num_threads (INFO) - NumExpr defaulting to 4 threads.\n"
     ]
    }
   ],
   "source": [
    "features = load_features(DATADIR, PREFIX_NAME, NEIGHBORHOOD_SIZES)"
   ]
  },
  {
   "cell_type": "code",
   "execution_count": 18,
   "metadata": {},
   "outputs": [
    {
     "name": "stdout",
     "output_type": "stream",
     "text": [
      "Feature dimension:  (672193, 63)\n"
     ]
    },
    {
     "data": {
      "text/html": [
       "<div>\n",
       "<style scoped>\n",
       "    .dataframe tbody tr th:only-of-type {\n",
       "        vertical-align: middle;\n",
       "    }\n",
       "\n",
       "    .dataframe tbody tr th {\n",
       "        vertical-align: top;\n",
       "    }\n",
       "\n",
       "    .dataframe thead th {\n",
       "        text-align: right;\n",
       "    }\n",
       "</style>\n",
       "<table border=\"1\" class=\"dataframe\">\n",
       "  <thead>\n",
       "    <tr style=\"text-align: right;\">\n",
       "      <th></th>\n",
       "      <th>x</th>\n",
       "      <th>y</th>\n",
       "      <th>z</th>\n",
       "      <th>alpha_50</th>\n",
       "      <th>beta_50</th>\n",
       "      <th>radius_50</th>\n",
       "      <th>z_range_50</th>\n",
       "      <th>std_dev_50</th>\n",
       "      <th>density_50</th>\n",
       "      <th>verticality_50</th>\n",
       "      <th>...</th>\n",
       "      <th>planarity_1500</th>\n",
       "      <th>scattering_1500</th>\n",
       "      <th>omnivariance_1500</th>\n",
       "      <th>anisotropy_1500</th>\n",
       "      <th>eigenentropy_1500</th>\n",
       "      <th>eigenvalue_sum_1500</th>\n",
       "      <th>radius_2D_1500</th>\n",
       "      <th>density_2D_1500</th>\n",
       "      <th>eigenvalue_sum_2D_1500</th>\n",
       "      <th>eigenvalue_ratio_2D_1500</th>\n",
       "    </tr>\n",
       "  </thead>\n",
       "  <tbody>\n",
       "    <tr>\n",
       "      <th>0</th>\n",
       "      <td>1.977525e+06</td>\n",
       "      <td>5.242324e+06</td>\n",
       "      <td>891.317748</td>\n",
       "      <td>0.334604</td>\n",
       "      <td>0.664243</td>\n",
       "      <td>2.330945</td>\n",
       "      <td>0.292404</td>\n",
       "      <td>0.085410</td>\n",
       "      <td>0.980209</td>\n",
       "      <td>0.312858</td>\n",
       "      <td>...</td>\n",
       "      <td>0.349891</td>\n",
       "      <td>0.001678</td>\n",
       "      <td>0.061972</td>\n",
       "      <td>0.998322</td>\n",
       "      <td>0.582007</td>\n",
       "      <td>1122.339474</td>\n",
       "      <td>2.042213</td>\n",
       "      <td>114.635222</td>\n",
       "      <td>917.769528</td>\n",
       "      <td>0.274770</td>\n",
       "    </tr>\n",
       "    <tr>\n",
       "      <th>1</th>\n",
       "      <td>1.977525e+06</td>\n",
       "      <td>5.242324e+06</td>\n",
       "      <td>891.319029</td>\n",
       "      <td>0.345110</td>\n",
       "      <td>0.653892</td>\n",
       "      <td>2.306052</td>\n",
       "      <td>0.279770</td>\n",
       "      <td>0.082896</td>\n",
       "      <td>1.012296</td>\n",
       "      <td>0.315099</td>\n",
       "      <td>...</td>\n",
       "      <td>0.360852</td>\n",
       "      <td>0.001681</td>\n",
       "      <td>0.062153</td>\n",
       "      <td>0.998319</td>\n",
       "      <td>0.588088</td>\n",
       "      <td>1113.190733</td>\n",
       "      <td>2.001808</td>\n",
       "      <td>119.309563</td>\n",
       "      <td>913.282079</td>\n",
       "      <td>0.279151</td>\n",
       "    </tr>\n",
       "    <tr>\n",
       "      <th>2</th>\n",
       "      <td>1.977525e+06</td>\n",
       "      <td>5.242324e+06</td>\n",
       "      <td>891.354063</td>\n",
       "      <td>0.305694</td>\n",
       "      <td>0.692340</td>\n",
       "      <td>2.284155</td>\n",
       "      <td>0.298752</td>\n",
       "      <td>0.088161</td>\n",
       "      <td>1.041689</td>\n",
       "      <td>0.308114</td>\n",
       "      <td>...</td>\n",
       "      <td>0.354059</td>\n",
       "      <td>0.001692</td>\n",
       "      <td>0.062200</td>\n",
       "      <td>0.998308</td>\n",
       "      <td>0.584418</td>\n",
       "      <td>1117.264330</td>\n",
       "      <td>1.995458</td>\n",
       "      <td>120.070114</td>\n",
       "      <td>911.133084</td>\n",
       "      <td>0.280125</td>\n",
       "    </tr>\n",
       "    <tr>\n",
       "      <th>3</th>\n",
       "      <td>1.977525e+06</td>\n",
       "      <td>5.242324e+06</td>\n",
       "      <td>891.390135</td>\n",
       "      <td>0.295625</td>\n",
       "      <td>0.702156</td>\n",
       "      <td>2.256683</td>\n",
       "      <td>0.312424</td>\n",
       "      <td>0.092636</td>\n",
       "      <td>1.080197</td>\n",
       "      <td>0.304651</td>\n",
       "      <td>...</td>\n",
       "      <td>0.356062</td>\n",
       "      <td>0.001723</td>\n",
       "      <td>0.062601</td>\n",
       "      <td>0.998277</td>\n",
       "      <td>0.585683</td>\n",
       "      <td>1114.302199</td>\n",
       "      <td>1.969498</td>\n",
       "      <td>123.256208</td>\n",
       "      <td>904.931612</td>\n",
       "      <td>0.285944</td>\n",
       "    </tr>\n",
       "    <tr>\n",
       "      <th>4</th>\n",
       "      <td>1.977525e+06</td>\n",
       "      <td>5.242324e+06</td>\n",
       "      <td>891.310728</td>\n",
       "      <td>0.335228</td>\n",
       "      <td>0.663748</td>\n",
       "      <td>2.287059</td>\n",
       "      <td>0.271698</td>\n",
       "      <td>0.080073</td>\n",
       "      <td>1.037726</td>\n",
       "      <td>0.316415</td>\n",
       "      <td>...</td>\n",
       "      <td>0.361747</td>\n",
       "      <td>0.001637</td>\n",
       "      <td>0.061615</td>\n",
       "      <td>0.998363</td>\n",
       "      <td>0.588348</td>\n",
       "      <td>1113.519679</td>\n",
       "      <td>2.010107</td>\n",
       "      <td>118.326412</td>\n",
       "      <td>918.530668</td>\n",
       "      <td>0.275069</td>\n",
       "    </tr>\n",
       "  </tbody>\n",
       "</table>\n",
       "<p>5 rows × 63 columns</p>\n",
       "</div>"
      ],
      "text/plain": [
       "              x             y           z  alpha_50   beta_50  radius_50  \\\n",
       "0  1.977525e+06  5.242324e+06  891.317748  0.334604  0.664243   2.330945   \n",
       "1  1.977525e+06  5.242324e+06  891.319029  0.345110  0.653892   2.306052   \n",
       "2  1.977525e+06  5.242324e+06  891.354063  0.305694  0.692340   2.284155   \n",
       "3  1.977525e+06  5.242324e+06  891.390135  0.295625  0.702156   2.256683   \n",
       "4  1.977525e+06  5.242324e+06  891.310728  0.335228  0.663748   2.287059   \n",
       "\n",
       "   z_range_50  std_dev_50  density_50  verticality_50  ...  planarity_1500  \\\n",
       "0    0.292404    0.085410    0.980209        0.312858  ...        0.349891   \n",
       "1    0.279770    0.082896    1.012296        0.315099  ...        0.360852   \n",
       "2    0.298752    0.088161    1.041689        0.308114  ...        0.354059   \n",
       "3    0.312424    0.092636    1.080197        0.304651  ...        0.356062   \n",
       "4    0.271698    0.080073    1.037726        0.316415  ...        0.361747   \n",
       "\n",
       "   scattering_1500  omnivariance_1500  anisotropy_1500  eigenentropy_1500  \\\n",
       "0         0.001678           0.061972         0.998322           0.582007   \n",
       "1         0.001681           0.062153         0.998319           0.588088   \n",
       "2         0.001692           0.062200         0.998308           0.584418   \n",
       "3         0.001723           0.062601         0.998277           0.585683   \n",
       "4         0.001637           0.061615         0.998363           0.588348   \n",
       "\n",
       "   eigenvalue_sum_1500  radius_2D_1500  density_2D_1500  \\\n",
       "0          1122.339474        2.042213       114.635222   \n",
       "1          1113.190733        2.001808       119.309563   \n",
       "2          1117.264330        1.995458       120.070114   \n",
       "3          1114.302199        1.969498       123.256208   \n",
       "4          1113.519679        2.010107       118.326412   \n",
       "\n",
       "   eigenvalue_sum_2D_1500  eigenvalue_ratio_2D_1500  \n",
       "0              917.769528                  0.274770  \n",
       "1              913.282079                  0.279151  \n",
       "2              911.133084                  0.280125  \n",
       "3              904.931612                  0.285944  \n",
       "4              918.530668                  0.275069  \n",
       "\n",
       "[5 rows x 63 columns]"
      ]
     },
     "execution_count": 18,
     "metadata": {},
     "output_type": "execute_result"
    }
   ],
   "source": [
    "print(\"Feature dimension: \", features.shape)\n",
    "features.head()"
   ]
  },
  {
   "cell_type": "markdown",
   "metadata": {},
   "source": [
    "### Geometric features for the class samples"
   ]
  },
  {
   "cell_type": "markdown",
   "metadata": {},
   "source": [
    "Parallely, we compute the geometric features for every class samples, by considering the whole scene for the kd-tree querying. A set of three neighborhood sizes is used in this way. We consider this composed dataset as the *training* dataset (labels are known by definition)."
   ]
  },
  {
   "cell_type": "code",
   "execution_count": 19,
   "metadata": {},
   "outputs": [
    {
     "name": "stderr",
     "output_type": "stream",
     "text": [
      "[12:30:24] io.load_features (INFO) - Recover features stored in ../data/output/Pombourg/features/features_vegetation.h5\n",
      "[12:30:24] io.load_features (INFO) - Recover features stored in ../data/output/Pombourg/features/features_falaise.h5\n",
      "[12:30:24] io.load_features (INFO) - Recover features stored in ../data/output/Pombourg/features/features_eboulis.h5\n"
     ]
    }
   ],
   "source": [
    "dfveg = load_features(DATADIR, PREFIX_NAME, NEIGHBORHOOD_SIZES, \"vegetation\")\n",
    "dffalaise = load_features(DATADIR, PREFIX_NAME, NEIGHBORHOOD_SIZES, \"falaise\")\n",
    "dfeboulis = load_features(DATADIR, PREFIX_NAME, NEIGHBORHOOD_SIZES, \"eboulis\")"
   ]
  },
  {
   "cell_type": "markdown",
   "metadata": {},
   "source": [
    "Each sample dataset is associated with its corresponding label:"
   ]
  },
  {
   "cell_type": "code",
   "execution_count": 20,
   "metadata": {},
   "outputs": [],
   "source": [
    "dfeboulis[\"label\"] = LABELS[\"eboulis\"]\n",
    "dffalaise[\"label\"] = LABELS[\"falaise\"]\n",
    "dfveg[\"label\"] = LABELS[\"vegetation\"]"
   ]
  },
  {
   "cell_type": "markdown",
   "metadata": {},
   "source": [
    "Then we can concatenate all the sample datasets in one single dataframe."
   ]
  },
  {
   "cell_type": "code",
   "execution_count": 21,
   "metadata": {},
   "outputs": [],
   "source": [
    "datasets = pd.concat([dfeboulis, dffalaise, dfveg], axis=0)"
   ]
  },
  {
   "cell_type": "code",
   "execution_count": 22,
   "metadata": {},
   "outputs": [
    {
     "name": "stdout",
     "output_type": "stream",
     "text": [
      "Dataset shape:  (73651, 64)\n"
     ]
    },
    {
     "data": {
      "text/html": [
       "<div>\n",
       "<style scoped>\n",
       "    .dataframe tbody tr th:only-of-type {\n",
       "        vertical-align: middle;\n",
       "    }\n",
       "\n",
       "    .dataframe tbody tr th {\n",
       "        vertical-align: top;\n",
       "    }\n",
       "\n",
       "    .dataframe thead th {\n",
       "        text-align: right;\n",
       "    }\n",
       "</style>\n",
       "<table border=\"1\" class=\"dataframe\">\n",
       "  <thead>\n",
       "    <tr style=\"text-align: right;\">\n",
       "      <th></th>\n",
       "      <th>x</th>\n",
       "      <th>y</th>\n",
       "      <th>z</th>\n",
       "      <th>alpha_50</th>\n",
       "      <th>beta_50</th>\n",
       "      <th>radius_50</th>\n",
       "      <th>z_range_50</th>\n",
       "      <th>std_dev_50</th>\n",
       "      <th>density_50</th>\n",
       "      <th>verticality_50</th>\n",
       "      <th>...</th>\n",
       "      <th>scattering_1500</th>\n",
       "      <th>omnivariance_1500</th>\n",
       "      <th>anisotropy_1500</th>\n",
       "      <th>eigenentropy_1500</th>\n",
       "      <th>eigenvalue_sum_1500</th>\n",
       "      <th>radius_2D_1500</th>\n",
       "      <th>density_2D_1500</th>\n",
       "      <th>eigenvalue_sum_2D_1500</th>\n",
       "      <th>eigenvalue_ratio_2D_1500</th>\n",
       "      <th>label</th>\n",
       "    </tr>\n",
       "  </thead>\n",
       "  <tbody>\n",
       "    <tr>\n",
       "      <th>0</th>\n",
       "      <td>1.977537e+06</td>\n",
       "      <td>5.242329e+06</td>\n",
       "      <td>893.466154</td>\n",
       "      <td>0.102856</td>\n",
       "      <td>0.888538</td>\n",
       "      <td>1.302015</td>\n",
       "      <td>0.376617</td>\n",
       "      <td>0.105810</td>\n",
       "      <td>5.624278</td>\n",
       "      <td>0.868071</td>\n",
       "      <td>...</td>\n",
       "      <td>0.048439</td>\n",
       "      <td>0.182927</td>\n",
       "      <td>0.951561</td>\n",
       "      <td>0.790406</td>\n",
       "      <td>933.068215</td>\n",
       "      <td>1.133958</td>\n",
       "      <td>371.814129</td>\n",
       "      <td>521.100299</td>\n",
       "      <td>0.092416</td>\n",
       "      <td>2</td>\n",
       "    </tr>\n",
       "    <tr>\n",
       "      <th>1</th>\n",
       "      <td>1.977537e+06</td>\n",
       "      <td>5.242329e+06</td>\n",
       "      <td>893.412794</td>\n",
       "      <td>0.114306</td>\n",
       "      <td>0.877906</td>\n",
       "      <td>1.304379</td>\n",
       "      <td>0.397675</td>\n",
       "      <td>0.110456</td>\n",
       "      <td>5.593758</td>\n",
       "      <td>0.925616</td>\n",
       "      <td>...</td>\n",
       "      <td>0.043961</td>\n",
       "      <td>0.177248</td>\n",
       "      <td>0.956039</td>\n",
       "      <td>0.783676</td>\n",
       "      <td>943.017294</td>\n",
       "      <td>1.147080</td>\n",
       "      <td>363.356412</td>\n",
       "      <td>518.349456</td>\n",
       "      <td>0.077285</td>\n",
       "      <td>2</td>\n",
       "    </tr>\n",
       "    <tr>\n",
       "      <th>2</th>\n",
       "      <td>1.977537e+06</td>\n",
       "      <td>5.242329e+06</td>\n",
       "      <td>893.350233</td>\n",
       "      <td>0.069191</td>\n",
       "      <td>0.921435</td>\n",
       "      <td>1.308555</td>\n",
       "      <td>0.400131</td>\n",
       "      <td>0.109770</td>\n",
       "      <td>5.540366</td>\n",
       "      <td>0.973620</td>\n",
       "      <td>...</td>\n",
       "      <td>0.039202</td>\n",
       "      <td>0.170937</td>\n",
       "      <td>0.960798</td>\n",
       "      <td>0.776052</td>\n",
       "      <td>953.072758</td>\n",
       "      <td>1.147944</td>\n",
       "      <td>362.809773</td>\n",
       "      <td>517.876294</td>\n",
       "      <td>0.062526</td>\n",
       "      <td>2</td>\n",
       "    </tr>\n",
       "    <tr>\n",
       "      <th>3</th>\n",
       "      <td>1.977537e+06</td>\n",
       "      <td>5.242329e+06</td>\n",
       "      <td>893.513106</td>\n",
       "      <td>0.086685</td>\n",
       "      <td>0.903080</td>\n",
       "      <td>1.304417</td>\n",
       "      <td>0.364487</td>\n",
       "      <td>0.106054</td>\n",
       "      <td>5.593269</td>\n",
       "      <td>0.817127</td>\n",
       "      <td>...</td>\n",
       "      <td>0.051292</td>\n",
       "      <td>0.186419</td>\n",
       "      <td>0.948708</td>\n",
       "      <td>0.794486</td>\n",
       "      <td>929.007483</td>\n",
       "      <td>1.142140</td>\n",
       "      <td>366.506293</td>\n",
       "      <td>531.257561</td>\n",
       "      <td>0.103562</td>\n",
       "      <td>2</td>\n",
       "    </tr>\n",
       "    <tr>\n",
       "      <th>4</th>\n",
       "      <td>1.977537e+06</td>\n",
       "      <td>5.242329e+06</td>\n",
       "      <td>893.286024</td>\n",
       "      <td>0.041353</td>\n",
       "      <td>0.950119</td>\n",
       "      <td>1.309976</td>\n",
       "      <td>0.415848</td>\n",
       "      <td>0.113795</td>\n",
       "      <td>5.522358</td>\n",
       "      <td>0.970630</td>\n",
       "      <td>...</td>\n",
       "      <td>0.034028</td>\n",
       "      <td>0.163037</td>\n",
       "      <td>0.965972</td>\n",
       "      <td>0.767715</td>\n",
       "      <td>963.596787</td>\n",
       "      <td>1.146678</td>\n",
       "      <td>363.611172</td>\n",
       "      <td>511.831757</td>\n",
       "      <td>0.050390</td>\n",
       "      <td>2</td>\n",
       "    </tr>\n",
       "  </tbody>\n",
       "</table>\n",
       "<p>5 rows × 64 columns</p>\n",
       "</div>"
      ],
      "text/plain": [
       "              x             y           z  alpha_50   beta_50  radius_50  \\\n",
       "0  1.977537e+06  5.242329e+06  893.466154  0.102856  0.888538   1.302015   \n",
       "1  1.977537e+06  5.242329e+06  893.412794  0.114306  0.877906   1.304379   \n",
       "2  1.977537e+06  5.242329e+06  893.350233  0.069191  0.921435   1.308555   \n",
       "3  1.977537e+06  5.242329e+06  893.513106  0.086685  0.903080   1.304417   \n",
       "4  1.977537e+06  5.242329e+06  893.286024  0.041353  0.950119   1.309976   \n",
       "\n",
       "   z_range_50  std_dev_50  density_50  verticality_50  ...  scattering_1500  \\\n",
       "0    0.376617    0.105810    5.624278        0.868071  ...         0.048439   \n",
       "1    0.397675    0.110456    5.593758        0.925616  ...         0.043961   \n",
       "2    0.400131    0.109770    5.540366        0.973620  ...         0.039202   \n",
       "3    0.364487    0.106054    5.593269        0.817127  ...         0.051292   \n",
       "4    0.415848    0.113795    5.522358        0.970630  ...         0.034028   \n",
       "\n",
       "   omnivariance_1500  anisotropy_1500  eigenentropy_1500  eigenvalue_sum_1500  \\\n",
       "0           0.182927         0.951561           0.790406           933.068215   \n",
       "1           0.177248         0.956039           0.783676           943.017294   \n",
       "2           0.170937         0.960798           0.776052           953.072758   \n",
       "3           0.186419         0.948708           0.794486           929.007483   \n",
       "4           0.163037         0.965972           0.767715           963.596787   \n",
       "\n",
       "   radius_2D_1500  density_2D_1500  eigenvalue_sum_2D_1500  \\\n",
       "0        1.133958       371.814129              521.100299   \n",
       "1        1.147080       363.356412              518.349456   \n",
       "2        1.147944       362.809773              517.876294   \n",
       "3        1.142140       366.506293              531.257561   \n",
       "4        1.146678       363.611172              511.831757   \n",
       "\n",
       "   eigenvalue_ratio_2D_1500  label  \n",
       "0                  0.092416      2  \n",
       "1                  0.077285      2  \n",
       "2                  0.062526      2  \n",
       "3                  0.103562      2  \n",
       "4                  0.050390      2  \n",
       "\n",
       "[5 rows x 64 columns]"
      ]
     },
     "execution_count": 22,
     "metadata": {},
     "output_type": "execute_result"
    }
   ],
   "source": [
    "print(\"Dataset shape: \", datasets.shape)\n",
    "datasets.head()"
   ]
  },
  {
   "cell_type": "markdown",
   "metadata": {},
   "source": [
    "### Data shuffling and cleaning-up"
   ]
  },
  {
   "cell_type": "markdown",
   "metadata": {},
   "source": [
    "The training dataframe is shuffled so as to remove spatial location patterns:"
   ]
  },
  {
   "cell_type": "code",
   "execution_count": 23,
   "metadata": {},
   "outputs": [],
   "source": [
    "datasets = datasets.sample(frac=1.)"
   ]
  },
  {
   "cell_type": "code",
   "execution_count": 24,
   "metadata": {},
   "outputs": [
    {
     "data": {
      "text/plain": [
       "Index(['x', 'y', 'z', 'alpha_50', 'beta_50', 'radius_50', 'z_range_50',\n",
       "       'std_dev_50', 'density_50', 'verticality_50', 'curvature_change_50',\n",
       "       'linearity_50', 'planarity_50', 'scattering_50', 'omnivariance_50',\n",
       "       'anisotropy_50', 'eigenentropy_50', 'eigenvalue_sum_50', 'radius_2D_50',\n",
       "       'density_2D_50', 'eigenvalue_sum_2D_50', 'eigenvalue_ratio_2D_50', 'r',\n",
       "       'g', 'b', 'alpha_200', 'beta_200', 'radius_200', 'z_range_200',\n",
       "       'std_dev_200', 'density_200', 'verticality_200', 'curvature_change_200',\n",
       "       'linearity_200', 'planarity_200', 'scattering_200', 'omnivariance_200',\n",
       "       'anisotropy_200', 'eigenentropy_200', 'eigenvalue_sum_200',\n",
       "       'radius_2D_200', 'density_2D_200', 'eigenvalue_sum_2D_200',\n",
       "       'eigenvalue_ratio_2D_200', 'alpha_1500', 'beta_1500', 'radius_1500',\n",
       "       'z_range_1500', 'std_dev_1500', 'density_1500', 'verticality_1500',\n",
       "       'curvature_change_1500', 'linearity_1500', 'planarity_1500',\n",
       "       'scattering_1500', 'omnivariance_1500', 'anisotropy_1500',\n",
       "       'eigenentropy_1500', 'eigenvalue_sum_1500', 'radius_2D_1500',\n",
       "       'density_2D_1500', 'eigenvalue_sum_2D_1500', 'eigenvalue_ratio_2D_1500',\n",
       "       'label'],\n",
       "      dtype='object')"
      ]
     },
     "execution_count": 24,
     "metadata": {},
     "output_type": "execute_result"
    }
   ],
   "source": [
    "datasets.columns"
   ]
  },
  {
   "cell_type": "markdown",
   "metadata": {},
   "source": [
    "As we aim at applying supervised learning algorithms that may be impacted by colinearity between features, we must drop a few columns from the initial dataset. To have an insight of which column to remove based on colinearities, please consider the [notebook dedicated to the Pombourg point cloud](./features-study/pombourg-features-study.ipynb)."
   ]
  },
  {
   "cell_type": "code",
   "execution_count": 25,
   "metadata": {},
   "outputs": [],
   "source": [
    "def complete_with_voisin(name, neighbors):\n",
    "    \"\"\"Complete the feature name with the neighborhood size as a suffix\n",
    "    \n",
    "    Parameters\n",
    "    ----------\n",
    "    name : str\n",
    "        Feature name\n",
    "    neighbors : list of int\n",
    "        Considered neighborhood sizes\n",
    "    Returns\n",
    "    -------\n",
    "    list of str\n",
    "        Suffixed names\n",
    "    \"\"\"\n",
    "    return [name + \"_{}\".format(x) for x in neighbors]"
   ]
  },
  {
   "cell_type": "code",
   "execution_count": 26,
   "metadata": {},
   "outputs": [
    {
     "data": {
      "text/plain": [
       "['eigenvalue_sum_2D_50',\n",
       " 'eigenvalue_sum_2D_200',\n",
       " 'eigenvalue_sum_2D_1500',\n",
       " 'radius_2D_50',\n",
       " 'radius_2D_200',\n",
       " 'radius_2D_1500',\n",
       " 'std_dev_50',\n",
       " 'std_dev_200',\n",
       " 'std_dev_1500',\n",
       " 'density_2D_50',\n",
       " 'density_2D_200',\n",
       " 'density_2D_1500',\n",
       " 'scattering_50',\n",
       " 'scattering_200',\n",
       " 'scattering_1500',\n",
       " 'omnivariance_50',\n",
       " 'omnivariance_200',\n",
       " 'omnivariance_1500',\n",
       " 'curvature_change_50',\n",
       " 'curvature_change_200',\n",
       " 'curvature_change_1500']"
      ]
     },
     "execution_count": 26,
     "metadata": {},
     "output_type": "execute_result"
    }
   ],
   "source": [
    "drop_cols = [\"eigenvalue_sum_2D\", \"radius_2D\", \"std_dev\", \"density_2D\",\n",
    "             \"scattering\", \"omnivariance\", \"curvature_change\"]\n",
    "full_cols_to_drop = sum((complete_with_voisin(x, NEIGHBORHOOD_SIZES) for x in drop_cols), [])\n",
    "full_cols_to_drop"
   ]
  },
  {
   "cell_type": "code",
   "execution_count": 27,
   "metadata": {},
   "outputs": [],
   "source": [
    "clean_dataset = (datasets\n",
    "                 .drop(columns=full_cols_to_drop)\n",
    "                 .drop(columns=[\"x\", \"y\", \"z\"]))"
   ]
  },
  {
   "cell_type": "code",
   "execution_count": 28,
   "metadata": {},
   "outputs": [
    {
     "name": "stdout",
     "output_type": "stream",
     "text": [
      "Clean dataset shape:  (73651, 40)\n"
     ]
    },
    {
     "data": {
      "text/html": [
       "<div>\n",
       "<style scoped>\n",
       "    .dataframe tbody tr th:only-of-type {\n",
       "        vertical-align: middle;\n",
       "    }\n",
       "\n",
       "    .dataframe tbody tr th {\n",
       "        vertical-align: top;\n",
       "    }\n",
       "\n",
       "    .dataframe thead th {\n",
       "        text-align: right;\n",
       "    }\n",
       "</style>\n",
       "<table border=\"1\" class=\"dataframe\">\n",
       "  <thead>\n",
       "    <tr style=\"text-align: right;\">\n",
       "      <th></th>\n",
       "      <th>alpha_50</th>\n",
       "      <th>beta_50</th>\n",
       "      <th>radius_50</th>\n",
       "      <th>z_range_50</th>\n",
       "      <th>density_50</th>\n",
       "      <th>verticality_50</th>\n",
       "      <th>linearity_50</th>\n",
       "      <th>planarity_50</th>\n",
       "      <th>anisotropy_50</th>\n",
       "      <th>eigenentropy_50</th>\n",
       "      <th>...</th>\n",
       "      <th>z_range_1500</th>\n",
       "      <th>density_1500</th>\n",
       "      <th>verticality_1500</th>\n",
       "      <th>linearity_1500</th>\n",
       "      <th>planarity_1500</th>\n",
       "      <th>anisotropy_1500</th>\n",
       "      <th>eigenentropy_1500</th>\n",
       "      <th>eigenvalue_sum_1500</th>\n",
       "      <th>eigenvalue_ratio_2D_1500</th>\n",
       "      <th>label</th>\n",
       "    </tr>\n",
       "  </thead>\n",
       "  <tbody>\n",
       "    <tr>\n",
       "      <th>8413</th>\n",
       "      <td>0.039921</td>\n",
       "      <td>0.863489</td>\n",
       "      <td>2.311263</td>\n",
       "      <td>0.396606</td>\n",
       "      <td>1.005464</td>\n",
       "      <td>0.232347</td>\n",
       "      <td>0.079229</td>\n",
       "      <td>0.856870</td>\n",
       "      <td>0.936100</td>\n",
       "      <td>0.812304</td>\n",
       "      <td>...</td>\n",
       "      <td>3.068085</td>\n",
       "      <td>29.042444</td>\n",
       "      <td>0.032066</td>\n",
       "      <td>0.585890</td>\n",
       "      <td>0.291056</td>\n",
       "      <td>0.876946</td>\n",
       "      <td>0.835168</td>\n",
       "      <td>2620.597040</td>\n",
       "      <td>0.405130</td>\n",
       "      <td>0</td>\n",
       "    </tr>\n",
       "    <tr>\n",
       "      <th>1652</th>\n",
       "      <td>0.066566</td>\n",
       "      <td>0.932688</td>\n",
       "      <td>1.218509</td>\n",
       "      <td>0.331116</td>\n",
       "      <td>6.861644</td>\n",
       "      <td>0.577117</td>\n",
       "      <td>0.124852</td>\n",
       "      <td>0.874681</td>\n",
       "      <td>0.999534</td>\n",
       "      <td>0.693070</td>\n",
       "      <td>...</td>\n",
       "      <td>1.866516</td>\n",
       "      <td>198.195958</td>\n",
       "      <td>0.542213</td>\n",
       "      <td>0.006769</td>\n",
       "      <td>0.992332</td>\n",
       "      <td>0.999101</td>\n",
       "      <td>0.696754</td>\n",
       "      <td>828.766765</td>\n",
       "      <td>0.211712</td>\n",
       "      <td>1</td>\n",
       "    </tr>\n",
       "    <tr>\n",
       "      <th>15780</th>\n",
       "      <td>0.070607</td>\n",
       "      <td>0.928803</td>\n",
       "      <td>1.177274</td>\n",
       "      <td>0.290314</td>\n",
       "      <td>7.608210</td>\n",
       "      <td>0.522274</td>\n",
       "      <td>0.131926</td>\n",
       "      <td>0.867707</td>\n",
       "      <td>0.999633</td>\n",
       "      <td>0.692388</td>\n",
       "      <td>...</td>\n",
       "      <td>1.743866</td>\n",
       "      <td>219.760223</td>\n",
       "      <td>0.508914</td>\n",
       "      <td>0.003774</td>\n",
       "      <td>0.995859</td>\n",
       "      <td>0.999633</td>\n",
       "      <td>0.694784</td>\n",
       "      <td>774.727888</td>\n",
       "      <td>0.242191</td>\n",
       "      <td>1</td>\n",
       "    </tr>\n",
       "    <tr>\n",
       "      <th>21759</th>\n",
       "      <td>0.100730</td>\n",
       "      <td>0.889182</td>\n",
       "      <td>1.022782</td>\n",
       "      <td>0.075836</td>\n",
       "      <td>11.602860</td>\n",
       "      <td>0.009329</td>\n",
       "      <td>0.183584</td>\n",
       "      <td>0.810287</td>\n",
       "      <td>0.993871</td>\n",
       "      <td>0.708226</td>\n",
       "      <td>...</td>\n",
       "      <td>1.045441</td>\n",
       "      <td>335.144145</td>\n",
       "      <td>0.134960</td>\n",
       "      <td>0.184923</td>\n",
       "      <td>0.680362</td>\n",
       "      <td>0.865285</td>\n",
       "      <td>0.891700</td>\n",
       "      <td>591.770997</td>\n",
       "      <td>0.676442</td>\n",
       "      <td>2</td>\n",
       "    </tr>\n",
       "    <tr>\n",
       "      <th>21618</th>\n",
       "      <td>0.034713</td>\n",
       "      <td>0.801927</td>\n",
       "      <td>1.003580</td>\n",
       "      <td>0.152222</td>\n",
       "      <td>12.281702</td>\n",
       "      <td>0.122211</td>\n",
       "      <td>0.070824</td>\n",
       "      <td>0.818076</td>\n",
       "      <td>0.888900</td>\n",
       "      <td>0.866190</td>\n",
       "      <td>...</td>\n",
       "      <td>0.865112</td>\n",
       "      <td>354.752250</td>\n",
       "      <td>0.110806</td>\n",
       "      <td>0.150621</td>\n",
       "      <td>0.770551</td>\n",
       "      <td>0.921172</td>\n",
       "      <td>0.832361</td>\n",
       "      <td>511.383270</td>\n",
       "      <td>0.691745</td>\n",
       "      <td>2</td>\n",
       "    </tr>\n",
       "  </tbody>\n",
       "</table>\n",
       "<p>5 rows × 40 columns</p>\n",
       "</div>"
      ],
      "text/plain": [
       "       alpha_50   beta_50  radius_50  z_range_50  density_50  verticality_50  \\\n",
       "8413   0.039921  0.863489   2.311263    0.396606    1.005464        0.232347   \n",
       "1652   0.066566  0.932688   1.218509    0.331116    6.861644        0.577117   \n",
       "15780  0.070607  0.928803   1.177274    0.290314    7.608210        0.522274   \n",
       "21759  0.100730  0.889182   1.022782    0.075836   11.602860        0.009329   \n",
       "21618  0.034713  0.801927   1.003580    0.152222   12.281702        0.122211   \n",
       "\n",
       "       linearity_50  planarity_50  anisotropy_50  eigenentropy_50  ...  \\\n",
       "8413       0.079229      0.856870       0.936100         0.812304  ...   \n",
       "1652       0.124852      0.874681       0.999534         0.693070  ...   \n",
       "15780      0.131926      0.867707       0.999633         0.692388  ...   \n",
       "21759      0.183584      0.810287       0.993871         0.708226  ...   \n",
       "21618      0.070824      0.818076       0.888900         0.866190  ...   \n",
       "\n",
       "       z_range_1500  density_1500  verticality_1500  linearity_1500  \\\n",
       "8413       3.068085     29.042444          0.032066        0.585890   \n",
       "1652       1.866516    198.195958          0.542213        0.006769   \n",
       "15780      1.743866    219.760223          0.508914        0.003774   \n",
       "21759      1.045441    335.144145          0.134960        0.184923   \n",
       "21618      0.865112    354.752250          0.110806        0.150621   \n",
       "\n",
       "       planarity_1500  anisotropy_1500  eigenentropy_1500  \\\n",
       "8413         0.291056         0.876946           0.835168   \n",
       "1652         0.992332         0.999101           0.696754   \n",
       "15780        0.995859         0.999633           0.694784   \n",
       "21759        0.680362         0.865285           0.891700   \n",
       "21618        0.770551         0.921172           0.832361   \n",
       "\n",
       "       eigenvalue_sum_1500  eigenvalue_ratio_2D_1500  label  \n",
       "8413           2620.597040                  0.405130      0  \n",
       "1652            828.766765                  0.211712      1  \n",
       "15780           774.727888                  0.242191      1  \n",
       "21759           591.770997                  0.676442      2  \n",
       "21618           511.383270                  0.691745      2  \n",
       "\n",
       "[5 rows x 40 columns]"
      ]
     },
     "execution_count": 28,
     "metadata": {},
     "output_type": "execute_result"
    }
   ],
   "source": [
    "print(\"Clean dataset shape: \", clean_dataset.shape)\n",
    "clean_dataset.head()"
   ]
  },
  {
   "cell_type": "markdown",
   "metadata": {},
   "source": [
    "We apply to the data a minimal normalization scheme, by only modifying density features."
   ]
  },
  {
   "cell_type": "code",
   "execution_count": 29,
   "metadata": {},
   "outputs": [],
   "source": [
    "for size in NEIGHBORHOOD_SIZES:\n",
    "    k = str(size)\n",
    "    clean_dataset[\"density_\" + k] = preprocessing.minmax_scale(clean_dataset[\"density_\" + k])"
   ]
  },
  {
   "cell_type": "markdown",
   "metadata": {},
   "source": [
    "## Implement a weak supervision model"
   ]
  },
  {
   "cell_type": "markdown",
   "metadata": {},
   "source": [
    "The following section is inspired from a [Snorkel tutorial](https://github.com/snorkel-team/snorkel-tutorials/blob/master/spam/01_spam_tutorial.ipynb)."
   ]
  },
  {
   "cell_type": "markdown",
   "metadata": {},
   "source": [
    "### Dataset splitting"
   ]
  },
  {
   "cell_type": "markdown",
   "metadata": {},
   "source": [
    "First we will split the dataset in train, dev, valid and test subsets:\n",
    "- the **training set** will be used for labelling function calibration, as well as for discrimative model;\n",
    "- the **dev set** is a small dataset that will validate the labelling function relevance;\n",
    "- the **validation set** is useful for validate the generative model learning process, based on labelling function outputs. It is used in the discriminant model as well in a monitoring perspective;\n",
    "- the **test set** is used in the final discriminant model.\n",
    "\n",
    "The splitting scheme is setup as follows:\n",
    "- 80% for training+dev, 20% for validation+test\n",
    "- dev is 10% of the training+dev block\n",
    "- test is 25% of the validation+test block"
   ]
  },
  {
   "cell_type": "code",
   "execution_count": 30,
   "metadata": {},
   "outputs": [],
   "source": [
    "VALID_TEST_PART = 0.2\n",
    "DEV_PART_IN_TRAINING = 0.1\n",
    "idx_split = int(clean_dataset.shape[0] * VALID_TEST_PART)"
   ]
  },
  {
   "cell_type": "code",
   "execution_count": 31,
   "metadata": {},
   "outputs": [],
   "source": [
    "df_train = clean_dataset.iloc[:-idx_split]\n",
    "df_dev = df_train.sample(int(DEV_PART_IN_TRAINING * df_train.shape[0]))\n",
    "df_valid_test = clean_dataset.iloc[-idx_split:]\n",
    "df_valid, df_test = train_test_split(df_valid_test, random_state=123, stratify=df_valid_test.label)"
   ]
  },
  {
   "cell_type": "code",
   "execution_count": 32,
   "metadata": {},
   "outputs": [
    {
     "name": "stdout",
     "output_type": "stream",
     "text": [
      "train:  (58921, 40)\n",
      "dev:  (5892, 40)\n",
      "valid:  (11047, 40)\n",
      "test:  (3683, 40)\n"
     ]
    }
   ],
   "source": [
    "print(\"train: \", df_train.shape)\n",
    "print(\"dev: \", df_dev.shape)\n",
    "print(\"valid: \", df_valid.shape)\n",
    "print(\"test: \", df_test.shape)"
   ]
  },
  {
   "cell_type": "markdown",
   "metadata": {},
   "source": [
    "As a verification, one can see if the labels are balanced in the chosen split:"
   ]
  },
  {
   "cell_type": "code",
   "execution_count": 33,
   "metadata": {},
   "outputs": [
    {
     "data": {
      "text/plain": [
       "label\n",
       "0    13482\n",
       "1    25978\n",
       "2    19461\n",
       "Name: label, dtype: int64"
      ]
     },
     "execution_count": 33,
     "metadata": {},
     "output_type": "execute_result"
    }
   ],
   "source": [
    "df_train.groupby(\"label\")[\"label\"].count()"
   ]
  },
  {
   "cell_type": "code",
   "execution_count": 34,
   "metadata": {},
   "outputs": [
    {
     "data": {
      "text/plain": [
       "label\n",
       "0    1295\n",
       "1    2636\n",
       "2    1961\n",
       "Name: label, dtype: int64"
      ]
     },
     "execution_count": 34,
     "metadata": {},
     "output_type": "execute_result"
    }
   ],
   "source": [
    "df_dev.groupby(\"label\")[\"label\"].count()"
   ]
  },
  {
   "cell_type": "markdown",
   "metadata": {},
   "source": [
    "We pull out the label vectors for ease of use later:"
   ]
  },
  {
   "cell_type": "code",
   "execution_count": 35,
   "metadata": {},
   "outputs": [],
   "source": [
    "Y_dev = df_dev.label.values\n",
    "Y_valid = df_valid.label.values\n",
    "Y_test = df_test.label.values"
   ]
  },
  {
   "cell_type": "markdown",
   "metadata": {},
   "source": [
    "### Labelling functions definition"
   ]
  },
  {
   "cell_type": "markdown",
   "metadata": {},
   "source": [
    "#### Utility functions"
   ]
  },
  {
   "cell_type": "markdown",
   "metadata": {},
   "source": [
    "In order to make the labelling function definition clearer, one defines a bunch of utility functions in order to apply treatments on groups of features, for each neighborhood size."
   ]
  },
  {
   "cell_type": "code",
   "execution_count": 36,
   "metadata": {},
   "outputs": [],
   "source": [
    "def mean_features(df, name, size=NEIGHBORHOOD_SIZES):\n",
    "    cols = [name + \"_\" + str(num) for num in size]\n",
    "    return df[cols].mean()"
   ]
  },
  {
   "cell_type": "code",
   "execution_count": 37,
   "metadata": {},
   "outputs": [],
   "source": [
    "def diff_voisin_features(df, name, size=NEIGHBORHOOD_SIZES):\n",
    "    cols = [name + \"_\" + str(num) for num in size]\n",
    "    return df[cols[-1]] - df[cols[0]]"
   ]
  },
  {
   "cell_type": "code",
   "execution_count": 38,
   "metadata": {},
   "outputs": [],
   "source": [
    "def max_value_features(df, name, size=NEIGHBORHOOD_SIZES):\n",
    "    cols = [name + \"_\" + str(num) for num in size]\n",
    "    return df[cols].max()"
   ]
  },
  {
   "cell_type": "code",
   "execution_count": 39,
   "metadata": {},
   "outputs": [],
   "source": [
    "def gamma(df, size=NEIGHBORHOOD_SIZES):\n",
    "    return pd.Series({(\"gamma_\" + str(num)): 1 - (df[\"alpha_\" + str(num)] + df[\"beta_\" + str(num)]) for num in size})"
   ]
  },
  {
   "cell_type": "markdown",
   "metadata": {},
   "source": [
    "#### Labelling functions"
   ]
  },
  {
   "cell_type": "markdown",
   "metadata": {},
   "source": [
    "The verticality is a key concept there, one can discriminate features starting from the verticality coefficient value: if larger than 0.5, one certainly gets a cliff point."
   ]
  },
  {
   "cell_type": "code",
   "execution_count": 40,
   "metadata": {},
   "outputs": [],
   "source": [
    "@labeling_function()\n",
    "def verticality(x):\n",
    "    coeff = mean_features(x, \"verticality\")\n",
    "    beta_value = diff_voisin_features(x, \"beta\")\n",
    "    if coeff >= 0.5:\n",
    "        return FALAISE\n",
    "    if beta_value <= 0.:\n",
    "        return VEGETATION\n",
    "    return EBOULIS"
   ]
  },
  {
   "cell_type": "markdown",
   "metadata": {},
   "source": [
    "As an alternative definition of verticality, one can consider the `e2/e1` ratio, in the 2D case (`(x, y)`). When the value is small, the local neighborhood is linear with respect to the 2D projection (*e.g.* the projection of a vertical plane, like a wall, over `(x, y)` gives a line)."
   ]
  },
  {
   "cell_type": "code",
   "execution_count": 41,
   "metadata": {},
   "outputs": [],
   "source": [
    "@labeling_function()\n",
    "def eigenratio_2d(x):\n",
    "    value = mean_features(x, \"eigenvalue_ratio_2D\")\n",
    "    if value < 0.25:\n",
    "        return FALAISE\n",
    "    return UNKNOWN"
   ]
  },
  {
   "cell_type": "markdown",
   "metadata": {},
   "source": [
    "If considering the normalized eigenvalue sum, the values is very small for cliffs, relatively high for vegetation, and median for screes."
   ]
  },
  {
   "cell_type": "code",
   "execution_count": 42,
   "metadata": {},
   "outputs": [],
   "source": [
    "@labeling_function()\n",
    "def eigenvalue_sum(x):\n",
    "    value = mean_features(x, \"eigenvalue_sum\")\n",
    "    if value >= 0.5:\n",
    "        return VEGETATION\n",
    "    if value > 0.1:\n",
    "        return EBOULIS\n",
    "    return FALAISE"
   ]
  },
  {
   "cell_type": "markdown",
   "metadata": {},
   "source": [
    "When considering the normalized density, one gets high values for screes, median values for cliffs, and small values for vegetation."
   ]
  },
  {
   "cell_type": "code",
   "execution_count": 43,
   "metadata": {},
   "outputs": [],
   "source": [
    "@labeling_function()\n",
    "def density_3D(x):\n",
    "    value = max_value_features(x, \"density\")\n",
    "    if value < 0.2:\n",
    "        return VEGETATION\n",
    "    if value <= 0.5:\n",
    "        return FALAISE\n",
    "    return EBOULIS"
   ]
  },
  {
   "cell_type": "markdown",
   "metadata": {},
   "source": [
    "Afterward, one considers the `gamma` coefficient (*i.e.* the third barycentric coordinate, see [geometric feature notebooks](http://localhost:8888/notebooks/examples/features-study/escale-features-study.ipynb)). It is high for vegetation (3D environment), and very low for cliffs (2D environments)."
   ]
  },
  {
   "cell_type": "code",
   "execution_count": 44,
   "metadata": {},
   "outputs": [],
   "source": [
    "@labeling_function()\n",
    "def increasing_gamma(x):\n",
    "    df_gamma = gamma(x)\n",
    "    value = diff_voisin_features(df_gamma, \"gamma\")\n",
    "    if value >= 0.2:\n",
    "        return VEGETATION\n",
    "    if mean_features(df_gamma, \"gamma\") <= 0.01:\n",
    "        return FALAISE\n",
    "    return EBOULIS    "
   ]
  },
  {
   "cell_type": "markdown",
   "metadata": {},
   "source": [
    "Then one considers the planarity variable; which is quite small for the vegetation, reasonably high for the cliffs."
   ]
  },
  {
   "cell_type": "code",
   "execution_count": 45,
   "metadata": {},
   "outputs": [],
   "source": [
    "@labeling_function()\n",
    "def planarity(x):\n",
    "    value = mean_features(x, \"planarity\")\n",
    "    if value <= 0.6:\n",
    "        return VEGETATION\n",
    "    value = max_value_features(x, \"planarity\")\n",
    "    if value > 0.9:\n",
    "        return FALAISE\n",
    "    return EBOULIS"
   ]
  },
  {
   "cell_type": "markdown",
   "metadata": {},
   "source": [
    "As a last labelling function, one considers the `beta` variable (second barycentric coordinate), which denotes clear 2D patterns. Hence this coefficient is high for cliffs, and smaller when dealing with vegetation."
   ]
  },
  {
   "cell_type": "code",
   "execution_count": 46,
   "metadata": {},
   "outputs": [],
   "source": [
    "@labeling_function()\n",
    "def beta(x):\n",
    "    value = mean_features(x, \"beta\")\n",
    "    if value <= 0.6:\n",
    "        return VEGETATION\n",
    "    value = max_value_features(x, \"beta\")\n",
    "    if value > 0.9:\n",
    "        return FALAISE\n",
    "    return EBOULIS"
   ]
  },
  {
   "cell_type": "markdown",
   "metadata": {},
   "source": [
    "The *labelling functions* set is summarized as a list:"
   ]
  },
  {
   "cell_type": "code",
   "execution_count": 47,
   "metadata": {},
   "outputs": [],
   "source": [
    "lfs = [verticality, eigenvalue_sum, eigenratio_2d, density_3D, increasing_gamma, planarity, beta]"
   ]
  },
  {
   "cell_type": "markdown",
   "metadata": {},
   "source": [
    "These functions are applied to *training* (around 5 minutes) et *dev* (around 30 seconds) datasets:"
   ]
  },
  {
   "cell_type": "code",
   "execution_count": 48,
   "metadata": {
    "scrolled": true
   },
   "outputs": [
    {
     "name": "stderr",
     "output_type": "stream",
     "text": [
      "[12:30:25] warnings._showwarnmsg (WARNING) - /home/rdelhome/.virtualenvs/univers/lib/python3.7/site-packages/tqdm/std.py:651: FutureWarning: The Panel class is removed from pandas. Accessing it from the top-level namespace will also be removed in the next version\n",
      "  from pandas import Panel\n",
      "\n",
      "100%|██████████| 58921/58921 [05:46<00:00, 169.99it/s]\n",
      "100%|██████████| 5892/5892 [00:34<00:00, 168.57it/s]\n"
     ]
    }
   ],
   "source": [
    "applier = PandasLFApplier(lfs=lfs)\n",
    "L_train = applier.apply(df=df_train)\n",
    "L_dev = applier.apply(df=df_dev)"
   ]
  },
  {
   "cell_type": "code",
   "execution_count": 49,
   "metadata": {},
   "outputs": [
    {
     "data": {
      "text/plain": [
       "(58921, 7)"
      ]
     },
     "execution_count": 49,
     "metadata": {},
     "output_type": "execute_result"
    }
   ],
   "source": [
    "L_train.shape"
   ]
  },
  {
   "cell_type": "markdown",
   "metadata": {},
   "source": [
    "As an output, one gets as many rows as points, and as many columns as labelling functions. The corresponding value (for the i-th point, at the j-th labelling functions) is the sensed label, depending on the expert knowledge that one has (that's not the final output, and the \"true\" model prediction!)."
   ]
  },
  {
   "cell_type": "markdown",
   "metadata": {},
   "source": [
    "Some statistics are available through the *Snorkel* API:\n",
    "- *polarity*: all the output labels for each labelling functions;\n",
    "- *coverage*: the labelling function coverage, with respect to the label set;\n",
    "- *overlaps*: may equal the coverage, it represents the proportion of redundant labelling (same labels provided by other labelling functions);\n",
    "- *conflicts*: the proportion of divergent labelling (between the current labelling function and any other one);\n",
    "- *correct*: amount of correct prediction (confusion matrix diagonal sum);\n",
    "- *incorrect*: amount of wrong prediction (with respect to the confusion matrix);\n",
    "- *emp. acc.*: empirical accuracy (ratio between correct and incorrect prediction, ABSTAIN and UNKNOWN labels apart)."
   ]
  },
  {
   "cell_type": "code",
   "execution_count": 50,
   "metadata": {},
   "outputs": [
    {
     "data": {
      "text/html": [
       "<div>\n",
       "<style scoped>\n",
       "    .dataframe tbody tr th:only-of-type {\n",
       "        vertical-align: middle;\n",
       "    }\n",
       "\n",
       "    .dataframe tbody tr th {\n",
       "        vertical-align: top;\n",
       "    }\n",
       "\n",
       "    .dataframe thead th {\n",
       "        text-align: right;\n",
       "    }\n",
       "</style>\n",
       "<table border=\"1\" class=\"dataframe\">\n",
       "  <thead>\n",
       "    <tr style=\"text-align: right;\">\n",
       "      <th></th>\n",
       "      <th>j</th>\n",
       "      <th>Polarity</th>\n",
       "      <th>Coverage</th>\n",
       "      <th>Overlaps</th>\n",
       "      <th>Conflicts</th>\n",
       "    </tr>\n",
       "  </thead>\n",
       "  <tbody>\n",
       "    <tr>\n",
       "      <th>verticality</th>\n",
       "      <td>0</td>\n",
       "      <td>[0, 1, 2]</td>\n",
       "      <td>1.000000</td>\n",
       "      <td>1.000000</td>\n",
       "      <td>0.967075</td>\n",
       "    </tr>\n",
       "    <tr>\n",
       "      <th>eigenvalue_sum</th>\n",
       "      <td>1</td>\n",
       "      <td>[0]</td>\n",
       "      <td>1.000000</td>\n",
       "      <td>1.000000</td>\n",
       "      <td>0.967075</td>\n",
       "    </tr>\n",
       "    <tr>\n",
       "      <th>eigenratio_2d</th>\n",
       "      <td>2</td>\n",
       "      <td>[1]</td>\n",
       "      <td>0.388181</td>\n",
       "      <td>0.388181</td>\n",
       "      <td>0.388181</td>\n",
       "    </tr>\n",
       "    <tr>\n",
       "      <th>density_3D</th>\n",
       "      <td>3</td>\n",
       "      <td>[0, 1, 2]</td>\n",
       "      <td>1.000000</td>\n",
       "      <td>1.000000</td>\n",
       "      <td>0.967075</td>\n",
       "    </tr>\n",
       "    <tr>\n",
       "      <th>increasing_gamma</th>\n",
       "      <td>4</td>\n",
       "      <td>[0, 1, 2]</td>\n",
       "      <td>1.000000</td>\n",
       "      <td>1.000000</td>\n",
       "      <td>0.967075</td>\n",
       "    </tr>\n",
       "    <tr>\n",
       "      <th>planarity</th>\n",
       "      <td>5</td>\n",
       "      <td>[0, 1, 2]</td>\n",
       "      <td>1.000000</td>\n",
       "      <td>1.000000</td>\n",
       "      <td>0.967075</td>\n",
       "    </tr>\n",
       "    <tr>\n",
       "      <th>beta</th>\n",
       "      <td>6</td>\n",
       "      <td>[0, 1, 2]</td>\n",
       "      <td>1.000000</td>\n",
       "      <td>1.000000</td>\n",
       "      <td>0.967075</td>\n",
       "    </tr>\n",
       "  </tbody>\n",
       "</table>\n",
       "</div>"
      ],
      "text/plain": [
       "                  j   Polarity  Coverage  Overlaps  Conflicts\n",
       "verticality       0  [0, 1, 2]  1.000000  1.000000   0.967075\n",
       "eigenvalue_sum    1        [0]  1.000000  1.000000   0.967075\n",
       "eigenratio_2d     2        [1]  0.388181  0.388181   0.388181\n",
       "density_3D        3  [0, 1, 2]  1.000000  1.000000   0.967075\n",
       "increasing_gamma  4  [0, 1, 2]  1.000000  1.000000   0.967075\n",
       "planarity         5  [0, 1, 2]  1.000000  1.000000   0.967075\n",
       "beta              6  [0, 1, 2]  1.000000  1.000000   0.967075"
      ]
     },
     "execution_count": 50,
     "metadata": {},
     "output_type": "execute_result"
    }
   ],
   "source": [
    "LFAnalysis(L=L_train, lfs=lfs).lf_summary()"
   ]
  },
  {
   "cell_type": "code",
   "execution_count": 51,
   "metadata": {},
   "outputs": [
    {
     "data": {
      "text/html": [
       "<div>\n",
       "<style scoped>\n",
       "    .dataframe tbody tr th:only-of-type {\n",
       "        vertical-align: middle;\n",
       "    }\n",
       "\n",
       "    .dataframe tbody tr th {\n",
       "        vertical-align: top;\n",
       "    }\n",
       "\n",
       "    .dataframe thead th {\n",
       "        text-align: right;\n",
       "    }\n",
       "</style>\n",
       "<table border=\"1\" class=\"dataframe\">\n",
       "  <thead>\n",
       "    <tr style=\"text-align: right;\">\n",
       "      <th></th>\n",
       "      <th>j</th>\n",
       "      <th>Polarity</th>\n",
       "      <th>Coverage</th>\n",
       "      <th>Overlaps</th>\n",
       "      <th>Conflicts</th>\n",
       "      <th>Correct</th>\n",
       "      <th>Incorrect</th>\n",
       "      <th>Emp. Acc.</th>\n",
       "    </tr>\n",
       "  </thead>\n",
       "  <tbody>\n",
       "    <tr>\n",
       "      <th>verticality</th>\n",
       "      <td>0</td>\n",
       "      <td>[0, 1, 2]</td>\n",
       "      <td>1.000000</td>\n",
       "      <td>1.000000</td>\n",
       "      <td>0.967074</td>\n",
       "      <td>4106</td>\n",
       "      <td>1786</td>\n",
       "      <td>0.696877</td>\n",
       "    </tr>\n",
       "    <tr>\n",
       "      <th>eigenvalue_sum</th>\n",
       "      <td>1</td>\n",
       "      <td>[0]</td>\n",
       "      <td>1.000000</td>\n",
       "      <td>1.000000</td>\n",
       "      <td>0.967074</td>\n",
       "      <td>1295</td>\n",
       "      <td>4597</td>\n",
       "      <td>0.219790</td>\n",
       "    </tr>\n",
       "    <tr>\n",
       "      <th>eigenratio_2d</th>\n",
       "      <td>2</td>\n",
       "      <td>[1]</td>\n",
       "      <td>0.393924</td>\n",
       "      <td>0.393924</td>\n",
       "      <td>0.393924</td>\n",
       "      <td>2162</td>\n",
       "      <td>159</td>\n",
       "      <td>0.931495</td>\n",
       "    </tr>\n",
       "    <tr>\n",
       "      <th>density_3D</th>\n",
       "      <td>3</td>\n",
       "      <td>[0, 1, 2]</td>\n",
       "      <td>1.000000</td>\n",
       "      <td>1.000000</td>\n",
       "      <td>0.967074</td>\n",
       "      <td>4929</td>\n",
       "      <td>963</td>\n",
       "      <td>0.836558</td>\n",
       "    </tr>\n",
       "    <tr>\n",
       "      <th>increasing_gamma</th>\n",
       "      <td>4</td>\n",
       "      <td>[0, 1, 2]</td>\n",
       "      <td>1.000000</td>\n",
       "      <td>1.000000</td>\n",
       "      <td>0.967074</td>\n",
       "      <td>4610</td>\n",
       "      <td>1282</td>\n",
       "      <td>0.782417</td>\n",
       "    </tr>\n",
       "    <tr>\n",
       "      <th>planarity</th>\n",
       "      <td>5</td>\n",
       "      <td>[0, 1, 2]</td>\n",
       "      <td>1.000000</td>\n",
       "      <td>1.000000</td>\n",
       "      <td>0.967074</td>\n",
       "      <td>4108</td>\n",
       "      <td>1784</td>\n",
       "      <td>0.697217</td>\n",
       "    </tr>\n",
       "    <tr>\n",
       "      <th>beta</th>\n",
       "      <td>6</td>\n",
       "      <td>[0, 1, 2]</td>\n",
       "      <td>1.000000</td>\n",
       "      <td>1.000000</td>\n",
       "      <td>0.967074</td>\n",
       "      <td>3738</td>\n",
       "      <td>2154</td>\n",
       "      <td>0.634420</td>\n",
       "    </tr>\n",
       "  </tbody>\n",
       "</table>\n",
       "</div>"
      ],
      "text/plain": [
       "                  j   Polarity  Coverage  Overlaps  Conflicts  Correct  \\\n",
       "verticality       0  [0, 1, 2]  1.000000  1.000000   0.967074     4106   \n",
       "eigenvalue_sum    1        [0]  1.000000  1.000000   0.967074     1295   \n",
       "eigenratio_2d     2        [1]  0.393924  0.393924   0.393924     2162   \n",
       "density_3D        3  [0, 1, 2]  1.000000  1.000000   0.967074     4929   \n",
       "increasing_gamma  4  [0, 1, 2]  1.000000  1.000000   0.967074     4610   \n",
       "planarity         5  [0, 1, 2]  1.000000  1.000000   0.967074     4108   \n",
       "beta              6  [0, 1, 2]  1.000000  1.000000   0.967074     3738   \n",
       "\n",
       "                  Incorrect  Emp. Acc.  \n",
       "verticality            1786   0.696877  \n",
       "eigenvalue_sum         4597   0.219790  \n",
       "eigenratio_2d           159   0.931495  \n",
       "density_3D              963   0.836558  \n",
       "increasing_gamma       1282   0.782417  \n",
       "planarity              1784   0.697217  \n",
       "beta                   2154   0.634420  "
      ]
     },
     "execution_count": 51,
     "metadata": {},
     "output_type": "execute_result"
    }
   ],
   "source": [
    "LFAnalysis(L=L_dev, lfs=lfs).lf_summary(Y=Y_dev)"
   ]
  },
  {
   "cell_type": "code",
   "execution_count": 52,
   "metadata": {},
   "outputs": [
    {
     "name": "stderr",
     "output_type": "stream",
     "text": [
      "[12:36:48] warnings._showwarnmsg (WARNING) - /home/rdelhome/.virtualenvs/univers/lib/python3.7/site-packages/tqdm/std.py:651: FutureWarning: The Panel class is removed from pandas. Accessing it from the top-level namespace will also be removed in the next version\n",
      "  from pandas import Panel\n",
      "\n",
      "100%|██████████| 11047/11047 [01:07<00:00, 163.71it/s]\n"
     ]
    }
   ],
   "source": [
    "L_valid = applier.apply(df=df_valid)"
   ]
  },
  {
   "cell_type": "markdown",
   "metadata": {},
   "source": [
    "### Generative model"
   ]
  },
  {
   "cell_type": "markdown",
   "metadata": {},
   "source": [
    "The generative model builds a weight matrix from a neural network in order to output label probability distributions, for each point. It is a way to denoise the signal provided by the labelling functions : while these functions may be highly correlated, the generative model outputs strong probabilistic labels from labeling function output combinations."
   ]
  },
  {
   "cell_type": "code",
   "execution_count": 53,
   "metadata": {},
   "outputs": [],
   "source": [
    "label_model = LabelModel(cardinality=len(LABELS), verbose=True)"
   ]
  },
  {
   "cell_type": "code",
   "execution_count": 54,
   "metadata": {},
   "outputs": [
    {
     "name": "stderr",
     "output_type": "stream",
     "text": [
      "[12:37:55] label_model.fit (INFO) - Computing O...\n",
      "[12:37:55] label_model.fit (INFO) - Estimating \\mu...\n",
      "[12:37:55] logger.log (INFO) - [0 epochs]: TRAIN:[loss=9.795]\n",
      "[12:37:55] logger.log (INFO) - [100 epochs]: TRAIN:[loss=0.206]\n",
      "[12:37:56] logger.log (INFO) - [200 epochs]: TRAIN:[loss=0.136]\n",
      "[12:37:56] logger.log (INFO) - [300 epochs]: TRAIN:[loss=0.111]\n",
      "[12:37:56] logger.log (INFO) - [400 epochs]: TRAIN:[loss=0.093]\n",
      "[12:37:56] logger.log (INFO) - [500 epochs]: TRAIN:[loss=0.079]\n",
      "[12:37:56] logger.log (INFO) - [600 epochs]: TRAIN:[loss=0.069]\n",
      "[12:37:56] logger.log (INFO) - [700 epochs]: TRAIN:[loss=0.064]\n",
      "[12:37:56] logger.log (INFO) - [800 epochs]: TRAIN:[loss=0.060]\n",
      "[12:37:56] logger.log (INFO) - [900 epochs]: TRAIN:[loss=0.057]\n",
      "[12:37:56] logger.log (INFO) - [1000 epochs]: TRAIN:[loss=0.056]\n",
      "[12:37:56] logger.log (INFO) - [1100 epochs]: TRAIN:[loss=0.054]\n",
      "[12:37:56] logger.log (INFO) - [1200 epochs]: TRAIN:[loss=0.053]\n",
      "[12:37:56] logger.log (INFO) - [1300 epochs]: TRAIN:[loss=0.053]\n",
      "[12:37:56] logger.log (INFO) - [1400 epochs]: TRAIN:[loss=0.052]\n",
      "[12:37:57] logger.log (INFO) - [1500 epochs]: TRAIN:[loss=0.052]\n",
      "[12:37:57] logger.log (INFO) - [1600 epochs]: TRAIN:[loss=0.052]\n",
      "[12:37:57] logger.log (INFO) - [1700 epochs]: TRAIN:[loss=0.051]\n",
      "[12:37:57] logger.log (INFO) - [1800 epochs]: TRAIN:[loss=0.051]\n",
      "[12:37:57] logger.log (INFO) - [1900 epochs]: TRAIN:[loss=0.051]\n",
      "[12:37:57] logger.log (INFO) - [2000 epochs]: TRAIN:[loss=0.051]\n",
      "[12:37:57] logger.log (INFO) - [2100 epochs]: TRAIN:[loss=0.051]\n",
      "[12:37:57] logger.log (INFO) - [2200 epochs]: TRAIN:[loss=0.051]\n",
      "[12:37:57] logger.log (INFO) - [2300 epochs]: TRAIN:[loss=0.050]\n",
      "[12:37:57] logger.log (INFO) - [2400 epochs]: TRAIN:[loss=0.050]\n",
      "[12:37:57] logger.log (INFO) - [2500 epochs]: TRAIN:[loss=0.050]\n",
      "[12:37:57] logger.log (INFO) - [2600 epochs]: TRAIN:[loss=0.050]\n",
      "[12:37:57] logger.log (INFO) - [2700 epochs]: TRAIN:[loss=0.050]\n",
      "[12:37:58] logger.log (INFO) - [2800 epochs]: TRAIN:[loss=0.050]\n",
      "[12:37:58] logger.log (INFO) - [2900 epochs]: TRAIN:[loss=0.050]\n",
      "[12:37:58] logger.log (INFO) - [3000 epochs]: TRAIN:[loss=0.050]\n",
      "[12:37:58] logger.log (INFO) - [3100 epochs]: TRAIN:[loss=0.050]\n",
      "[12:37:58] logger.log (INFO) - [3200 epochs]: TRAIN:[loss=0.050]\n",
      "[12:37:58] logger.log (INFO) - [3300 epochs]: TRAIN:[loss=0.050]\n",
      "[12:37:58] logger.log (INFO) - [3400 epochs]: TRAIN:[loss=0.050]\n",
      "[12:37:58] logger.log (INFO) - [3500 epochs]: TRAIN:[loss=0.050]\n",
      "[12:37:58] logger.log (INFO) - [3600 epochs]: TRAIN:[loss=0.050]\n",
      "[12:37:58] logger.log (INFO) - [3700 epochs]: TRAIN:[loss=0.050]\n",
      "[12:37:58] logger.log (INFO) - [3800 epochs]: TRAIN:[loss=0.050]\n",
      "[12:37:58] logger.log (INFO) - [3900 epochs]: TRAIN:[loss=0.050]\n",
      "[12:37:58] logger.log (INFO) - [4000 epochs]: TRAIN:[loss=0.050]\n",
      "[12:37:59] logger.log (INFO) - [4100 epochs]: TRAIN:[loss=0.050]\n",
      "[12:37:59] logger.log (INFO) - [4200 epochs]: TRAIN:[loss=0.050]\n",
      "[12:37:59] logger.log (INFO) - [4300 epochs]: TRAIN:[loss=0.050]\n",
      "[12:37:59] logger.log (INFO) - [4400 epochs]: TRAIN:[loss=0.050]\n",
      "[12:37:59] logger.log (INFO) - [4500 epochs]: TRAIN:[loss=0.050]\n",
      "[12:37:59] logger.log (INFO) - [4600 epochs]: TRAIN:[loss=0.050]\n",
      "[12:37:59] logger.log (INFO) - [4700 epochs]: TRAIN:[loss=0.050]\n",
      "[12:37:59] logger.log (INFO) - [4800 epochs]: TRAIN:[loss=0.050]\n",
      "[12:37:59] logger.log (INFO) - [4900 epochs]: TRAIN:[loss=0.050]\n",
      "[12:37:59] label_model.fit (INFO) - Finished Training\n"
     ]
    }
   ],
   "source": [
    "label_model.fit(L_train=L_train, n_epochs=5000, lr=0.001, log_freq=100, seed=123)"
   ]
  },
  {
   "cell_type": "markdown",
   "metadata": {},
   "source": [
    "The accuracy of the generative model is computed with respect to the **validation dataset**. This metric highly depends on the defined labelling functions."
   ]
  },
  {
   "cell_type": "code",
   "execution_count": 55,
   "metadata": {},
   "outputs": [
    {
     "name": "stderr",
     "output_type": "stream",
     "text": [
      "[12:37:59] label_model.score (WARNING) - Metrics calculated over data points with non-abstain labels only\n"
     ]
    },
    {
     "name": "stdout",
     "output_type": "stream",
     "text": [
      "Label Model Accuracy:     89.9%\n"
     ]
    }
   ],
   "source": [
    "label_model_acc = label_model.score(L=L_valid, Y=Y_valid)[\"accuracy\"]\n",
    "print(f\"{'Label Model Accuracy:':<25} {label_model_acc * 100:.1f}%\")"
   ]
  },
  {
   "cell_type": "markdown",
   "metadata": {},
   "source": [
    "By considering only samples from the `Pombourg` dataset, one gets a nice 89.3% accuracy, which is pretty good."
   ]
  },
  {
   "cell_type": "markdown",
   "metadata": {},
   "source": [
    "One may plot the probability distribution functions for each label: how the probabilities of encountering each label are distributed?"
   ]
  },
  {
   "cell_type": "code",
   "execution_count": 56,
   "metadata": {},
   "outputs": [],
   "source": [
    "def plot_probabilities_histogram(Y, name):\n",
    "    plt.hist(Y, bins=10)\n",
    "    plt.xlabel(f\"Probability of {name}\")\n",
    "    plt.ylabel(\"Number of data points\")\n",
    "    plt.show()"
   ]
  },
  {
   "cell_type": "markdown",
   "metadata": {},
   "source": [
    "For the cliffs, the model provides clear prediction : the probabilities are either close to 0, or to 1. This meant that, given the point of interest, it is almost always confident about the fact that it is a cliff point, or not. "
   ]
  },
  {
   "cell_type": "code",
   "execution_count": 57,
   "metadata": {},
   "outputs": [
    {
     "data": {
      "image/png": "[encoded data removed]",
      "text/plain": [
       "<Figure size 576x396 with 1 Axes>"
      ]
     },
     "metadata": {
      "needs_background": "light"
     },
     "output_type": "display_data"
    }
   ],
   "source": [
    "probs_train = label_model.predict_proba(L=L_train)\n",
    "plot_probabilities_histogram(probs_train[:, FALAISE], \"falaise\")"
   ]
  },
  {
   "cell_type": "markdown",
   "metadata": {},
   "source": [
    "For the vegetation and scree labels, the model prediction is clear for a large amount of points, however there are some more balanced situations as well..."
   ]
  },
  {
   "cell_type": "code",
   "execution_count": 58,
   "metadata": {},
   "outputs": [
    {
     "data": {
      "image/png": "[encoded data removed]",
      "text/plain": [
       "<Figure size 576x396 with 1 Axes>"
      ]
     },
     "metadata": {
      "needs_background": "light"
     },
     "output_type": "display_data"
    }
   ],
   "source": [
    "plot_probabilities_histogram(probs_train[:, EBOULIS], \"Eboulis\")"
   ]
  },
  {
   "cell_type": "code",
   "execution_count": 59,
   "metadata": {},
   "outputs": [
    {
     "data": {
      "image/png": "[encoded data removed]",
      "text/plain": [
       "<Figure size 576x396 with 1 Axes>"
      ]
     },
     "metadata": {
      "needs_background": "light"
     },
     "output_type": "display_data"
    }
   ],
   "source": [
    "plot_probabilities_histogram(probs_train[:, VEGETATION], \"Végétation\")"
   ]
  },
  {
   "cell_type": "markdown",
   "metadata": {},
   "source": [
    "If there is still unclassified points after this step, one may filter them through the *Snorkel* API (it is not the case in our example)."
   ]
  },
  {
   "cell_type": "code",
   "execution_count": 60,
   "metadata": {},
   "outputs": [],
   "source": [
    "df_train_filtered, probs_train_filtered = filter_unlabeled_dataframe(\n",
    "    X=df_train, y=probs_train, L=L_train\n",
    ")"
   ]
  },
  {
   "cell_type": "code",
   "execution_count": 61,
   "metadata": {},
   "outputs": [
    {
     "data": {
      "text/plain": [
       "((58921, 40), (58921, 40), (58921, 3))"
      ]
     },
     "execution_count": 61,
     "metadata": {},
     "output_type": "execute_result"
    }
   ],
   "source": [
    "df_train.shape, df_train_filtered.shape, probs_train_filtered.shape"
   ]
  },
  {
   "cell_type": "markdown",
   "metadata": {},
   "source": [
    "### Discriminative model"
   ]
  },
  {
   "cell_type": "markdown",
   "metadata": {},
   "source": [
    "As a final step of the framework, one may train a predictive model based on the generative model outputs. The probabilities are denoised and free from correlation schemes. Hence one can generalize the prediction to unknown points."
   ]
  },
  {
   "cell_type": "code",
   "execution_count": 64,
   "metadata": {},
   "outputs": [],
   "source": [
    "X_train = df_train.drop(columns=[\"label\"])\n",
    "X_dev = df_dev.drop(columns=[\"label\"])\n",
    "X_valid = df_valid.drop(columns=[\"label\"])\n",
    "X_test = df_test.drop(columns=[\"label\"])"
   ]
  },
  {
   "cell_type": "markdown",
   "metadata": {},
   "source": [
    "Our predictive model will be a neural network built with the Keras API. One uses the Adam optimizer, and monitors the model accuracy."
   ]
  },
  {
   "cell_type": "code",
   "execution_count": 65,
   "metadata": {},
   "outputs": [],
   "source": [
    "def baseline_model(input_dim):\n",
    "    # Create model\n",
    "    model = tf.keras.Sequential()\n",
    "    activation_name = \"relu\"\n",
    "    model.add(tf.keras.layers.Dense(16, activation=activation_name, input_shape=(input_dim,)))\n",
    "    model.add(tf.keras.layers.Dense(16, activation=activation_name))\n",
    "    model.add(tf.keras.layers.Dense(8, activation=activation_name))\n",
    "    model.add(\n",
    "        tf.keras.layers.Dense(\n",
    "            units=3, kernel_regularizer=tf.keras.regularizers.l2(0.001), activation='softmax'\n",
    "        )\n",
    "    )\n",
    "    # Compile model\n",
    "    model.compile(loss='categorical_crossentropy', optimizer='adam', metrics=['accuracy'])\n",
    "    return model"
   ]
  },
  {
   "cell_type": "code",
   "execution_count": 66,
   "metadata": {},
   "outputs": [],
   "source": [
    "kmodel = KerasClassifier(\n",
    "    build_fn=partial(baseline_model, input_dim=X_train.shape[1]),\n",
    "    epochs=20,\n",
    "    validation_data=(preprocessing.scale(X_valid), preds_to_probs(Y_valid, 3)),\n",
    "    callbacks=[tf.keras.callbacks.EarlyStopping(\n",
    "        monitor=\"val_accuracy\", patience=5, verbose=1, restore_best_weights=True\n",
    "    )],\n",
    "    verbose=1\n",
    ")"
   ]
  },
  {
   "cell_type": "markdown",
   "metadata": {},
   "source": [
    "The model is fitted with the training set."
   ]
  },
  {
   "cell_type": "code",
   "execution_count": 67,
   "metadata": {},
   "outputs": [
    {
     "name": "stdout",
     "output_type": "stream",
     "text": [
      "Train on 58921 samples, validate on 11047 samples\n",
      "Epoch 1/20\n",
      "58921/58921 [==============================] - 5s 80us/sample - loss: 0.2981 - accuracy: 0.9197 - val_loss: 0.3683 - val_accuracy: 0.8876\n",
      "Epoch 2/20\n",
      "58921/58921 [==============================] - 3s 53us/sample - loss: 0.1918 - accuracy: 0.9482 - val_loss: 0.4458 - val_accuracy: 0.8711\n",
      "Epoch 3/20\n",
      "58921/58921 [==============================] - 3s 56us/sample - loss: 0.1834 - accuracy: 0.9510 - val_loss: 0.5041 - val_accuracy: 0.8648\n",
      "Epoch 4/20\n",
      "58921/58921 [==============================] - 2s 42us/sample - loss: 0.1777 - accuracy: 0.9541 - val_loss: 0.5201 - val_accuracy: 0.8732\n",
      "Epoch 5/20\n",
      "58921/58921 [==============================] - 3s 43us/sample - loss: 0.1733 - accuracy: 0.9554 - val_loss: 0.5571 - val_accuracy: 0.8765\n",
      "Epoch 6/20\n",
      "58208/58921 [============================>.] - ETA: 0s - loss: 0.1700 - accuracy: 0.9565Restoring model weights from the end of the best epoch.\n",
      "58921/58921 [==============================] - 3s 58us/sample - loss: 0.1703 - accuracy: 0.9563 - val_loss: 0.6047 - val_accuracy: 0.8830\n",
      "Epoch 00006: early stopping\n"
     ]
    },
    {
     "data": {
      "text/plain": [
       "<tensorflow.python.keras.callbacks.History at 0x7f2cf9fccf28>"
      ]
     },
     "execution_count": 67,
     "metadata": {},
     "output_type": "execute_result"
    }
   ],
   "source": [
    "kmodel.fit(x=preprocessing.scale(X_train), y=probs_train)"
   ]
  },
  {
   "cell_type": "markdown",
   "metadata": {},
   "source": [
    "And afterwards, one predictes the testing set labels, and measures the test accuracy in order to have an idea on the model performance."
   ]
  },
  {
   "cell_type": "code",
   "execution_count": 68,
   "metadata": {},
   "outputs": [
    {
     "name": "stdout",
     "output_type": "stream",
     "text": [
      "\r",
      "3683/1 [==========================================================================================================================================================================================================================================================================================================================================================================================================================================================================================================================================================================================================================================================================================================================================================================================================================================================================================================================================================================================================================================================================================================================================================================================================================================================================================================================================================================================================================================================================================================================================================================================================================================================================================================================================================================================================================================================================================================================================================================================================================================================================================================================================================================================================================================================================================================================================================================================================================================================================================================================================================================================================================================================================================================================================================================================================================================================================================================================================================================================================================================================================================================================================================================================================================================================================================================================================================================================================================================================================================================================================================================================================================================================================================================================================================================================================================================================================================================================================================================================================================================================================================================================================================================================================================================================================================================================================================================================================================================================================================================================================================================================================================================================================================================================================================================================================================================================================================================================================================================================================================================================================================================================================================================================================================================================================================================================================================================================================================================================================================================================================================================================================================================================================================================================================================================================================================================================================================================================================================================================================================================================================================================================================================================================================================================================================================================================================================================================================================================================================================================================================================================================================================================================================================================================================================================================================================================================================================================================================================================================================================================================================================================================================================================================================================================================================================================================================================================================================================================================================================================================================================================================================================================================================================================================================================================================================================================================================================================================================================================================================================================================================================================================================================================================================================================================================================================================================================================================================================================================================================================================================================================================================================================================================================================================================================================================================================================================================================================================================================================================================================================================================================================================================================================================================================================================================================================================================================================================================================================================================================================================================================================================================================================================================================================================================================================================================================================================================================================================================================================================================================================================================================================================================================================================================================================================================================================================================================================================================================================================================================================================================================================================================================================================================================================================================================================================================================================================================================================================================================================================================================================================================================================================================================================================================================================================================================================================================================================================================================================================================================================================================================================================================================================================================================================================================================================================================================================================================================================================================================================================================================================================================================================================================================================================================================================================================================================================================================================================================================================================================================================================================================================================================================================================================================================================================================================================================================================================================================================================================================================================================================================================================================================================================================================================================================================================================================================================================================================================================================================================================================================================================================================================================================================================================================================================================================================================================================================================================================================================================================================================================================================================================================================================================================================================================================================================================================================================================================================================================================================================================================================================================================================================================================================================================================================================================================================================================================================================================================================================================================================================================================================================================================================================================================================================================================================================================================================================================================================================================================================================================================================================================================================================================================================================================================================================================================================================================================================================================================================================================================================================================================================================================================================================================================================================================================================================================================================================================================================================================================================================================================================================================================================================================================================================================================================================================================================================================================================================================================================================================================================================================================================================================================================================================================================================================================================================================================================================================================================================================================================================================================================================================================================================================================================================================================================================================================================================================================================================================================================================================================================================================================================================================================================================================================================================================================================================================================================================================================================================================================================================================================================================================================================================================================================================================================================================================================================================================================================================================================================================================================================================================================================================================================================================================================================================================================================================================================================================================================================================================================================================================================================================================================================================================================================================================================================================================================================================================================================================================================================================================================================================================================================================================================================================================================================================================================================================================================================================================================================================================================================================================================================================================================================================================================================================================================================================================================================================================================================================================================================================================================================================================================================================================================================================================================================================================================================================================================================================================================================================================================================================================================================================================================================================================================================================================================================================================================================================================================================================================================================================================================================================================================================================================================================================================================================================================================================================================================================================================================================================================================================================================================================================================================================================================================================================================================================================================================================================================================================================================================================================================================================================================================================================================================================================================================================================================================================================================================================================================================================================================================================================================================================================================================================================================================================================================================================================================================================================================================================================================================================================================================================================================================================================================================================================================================================================================================================================================================================================================================================================================================================================================================================================================================================================================================================================================================================================================================================================================================================================================================================================================================================================================================================================================================================================================================================================================================================================================================================================================================================================================================================================================================================================================================================================================================================================================================================================================================================================================================================================================================================================================================================================================================================================================================================================================================================================================================================================================================================================================================================================================================================================================================================================================================================================================================================================================================================================================================================================================================================================================================================================================================================================================================================================================================================================================================================================================================================================================================================================================================================================================================================================================================================================================================================================================================================================================================================================================================================================================================================================================================================================================================================================================================================================================================================================================================================================================================================================================================================================================================================================================================================================================================================================================================================================================================================================================================================================================================================================================================================================================================================================================================================================================================================================================================================================================================================================================================================================================================================================================================================================================================================================================================================================================================================================================================================================================================================================================================================================================================================================================================================================================================================================================================================================================================================================================================================================================================================================================================================================================================================================================================================================================================================================================================================================================================================================================================================================================================================================================================================================================================================================================================================================================================================================================================================================================================================================================================================================================================================================================================================================================================================================================================================================================================================================================================================================================================================================================================================================================================================================================================================================================================================================================================================================================================================================================================================================================================================================================================================================================================================================================================================================================================================================================================================================================================================================================================================================================================================================================================================================================================================================================================================================================================================================================================================================================================================================================================================================================================================================================================================================================================================================================================================================================================================================================================================================================================================================================================================================================================================================================================================================================================================================================================================================================================================================================================================================================================================================================================================================================================================================================================================================================================================================================================================================================================================================================================================================================================================================================================================================================================================================================================================================================================================================================================================================================================================================================================================================================================================================================================================================================================================================================================================================================================================================================================================================================================================================================================================================================================================================================================================================================================================================================================================================================================================================================================================================================================================================================================================================================================================================================================================================================================================================================================================================================================================================================================================================================================================================================================================================================================================================================================================================================================================================================================================================================================================================================================================================================================================================================================================================================================================================================================================================================================================================================================================================================================================================================================================================================================================================================================================================================================================================================================================================================================================================================================================================================================================================================================================================================================================================================================================================================================================================================================================================================================================================================================================================================================================================================================================================================================================================================================================================================================================================================================================================================================================================================================================================================================================================================================================================================================================================================================================================================================================================================================================================================================================================================================================================================================================================================================================================================================================================================================================================================================================================================================================================================================================================================================================================================================================================================================================================================================================================================================================================================================================================================================================================================================================================================================================================================================================================================================================================================================================================================================================================================================================================================================================================================================================================================================================================================================================================================================================================================================================================================================================================================================================================================================================================================================================================================================================================================================================================================================================================================================================================================================================================================================================================================================================================================================================================================================================================================================================================================================================================================================================================================================================================================================================================================================================================================================================================================================================================================================================================================================================================================================================================================================================================================================================================================================================================================================================================================================================================================================================================================================================================================================================================================================================================================================================================================================================================================================================================================================================================================================================================================================================================================================================================================================================================================================================================================================================================================================================================================================================================================================================================================================================================================================================================================================================================================================================================================================================================================================================================================================================================================================================================================================================================================================================================================================================================================================================================================================================================================================================================================================================================================================================================================================================================================================================================================================================================================================================================================================================================================================================================================================================================================================================================================================================================================================================================================================================================================================================================================================================================================================================================================================================================================================================================================================================================================================================================================================================================================================================================================================================================================================================================================================================================================================================================================================================================================================================================================================================================================================================================================================================================================================================================================================================================================================================================================================================================================================================================================================================================================================================================================================================================================================================================================================================================================================================================================================================================================================================================================================================================================================================================================================================================================================================================================================================================================================================================================================================================================================================================================================================================================================================================================================================================================================================================================================================================================================================================================================================================================================================================================================================================================================================================================================================================================================================================================================================================================================================================================================================================================================================================================================================================================================================================================================================================================================================================================================================================================================================================================================================================================================================================================================================================================================================================================================================================================================================================================================================================================================================================================================================================================================================================================================================================================================================================================================================================================================================================================================================================================================================================================================================================================================================================================================================================================================================================================================================================================================================================================================================================================================================================================================================================================================================================================================================================================================================================================================================================================================================================================================================================================================================================================================================================================================================================================================================================================================================================================================================================================================================================================================================================================================================================================================================================================================================================================================================================================================================================================================================================================================================================================================================================================================================================================================================================================================================================================================================================================================================================================================================================================================================================================================================================================================================================================================================================================================================================================================================================================================================================================================================================================================================================================================================================================================================================================================================================================================================================================================================================================================================================================================================================================================================================================================================================================================================================================================================================================================================================================================================================================================================================================================================================================================================================================================================================================================================================================================================================================================================================================================================================================================================================================================================================================================================================================================================================================================================================================================================================================================================================================================================================================================================================================================================================================================================================================================================================================================================================================================================================================================================================================================================================================================================================================================================================================================================================================================================================================================================================================================================================================================================================================================================================================================================================================================================================================================================================================================================================================================================================================================================================================================================================================================================================================================================================================================================================================================================================================================================================================================================================================================================================================================================================================================================================================================================================================================================================================================================================================================================================================================================================================================================================================================================================================================================================================================================================================================================================================================================================================================================================================================================================================================================================================================================================================================================================================================================================================================================================================================================================================================================================================================================================================================================================================================================================================================================================================================================================================================================================================================================================================================================================================================================================================================================================================================================================================================================================================================================================================================================================================================================================================================================================================================================================================================================================================================================================================================================================================================================================================================================================================================================================================================================================================================================================================================================================================================================================================================================================================================================================================================================================================================================================================================================================================================================================================================================================================================================================================================================================================================================================================================================================================================================================================================================================================================================================================================================================================================================================================================================================================================================================================================================================================================================================================================================================================================================================================================================================================================================================================================================================================================================================================================================================================================================================================================================================================================================================================================================================================================================================================================================================================================================================================================================================================================================================================================================================================================================================================================================================================================================================================================================================================================================================================================================================================================================================================================================================================================================================================================================================================================================================================================================================================================================================================================================================================================================================================================================================================================================================================================================================================================================================================================================================================================================================================================================================================================================================================================================================================================================================================================================================================================================================================================================================================================================================================================================================================================================================================================================================================================================================================================================================================================================================================================================================================================================================================================================================================================================================================================================================================================================================================================================================================================================================================================================================================================================================================================================================================================================================================================================================================================================================================================================================================================================================================================================================================================================================================================================================================================================================================================================================================================================================================================================================================================================================================================================================================================================================================================================================================================================================================================================================================================================================================================================================================================================================================================================================================================================================================================================================================================================================================================================================================================================================================================================================================================================================================================================================================================================================================================================================================================================================================================================================================================================================================================================================================================================================================================================================================================================================================================================================================================================================================================================================================================================================================================================================================================================================================================================================================================================================================================================================================================================================================================================================================================================================================================================================================================================================================================================================================================================================================================================================================================================================================================================================================================================================================================================================================================================================================================================================================================================================================================================================================================================================================================================================================================================================================================================================================================================================================================================================================================================================================================================================================================================================================================================================================================================================================================================================================================================================================================================================================================================================================================================================================================================================================================================================================================================================================================================================================================================================================================================================================================================================================================================================================================================================================================================================================================================================================================================================================================================================================================================================================================================================================================================================================================================================================================================================================================================================================================================================================================================================================================================================================================================================================================================================================================================================================================================================================================================================================================================================================================================================================================================================================================================================================================================================================================================================================================================================================================================================================================================================================================================================================================================================================================================================================================================================================================================================================================================================================================================================================================================================================================================================================================================================================================================================================================================================================================================================================================================================================================================================================================================================================================================================================================================================================================================================================================================================================================================================================================================================================================================================================================================================================================================================================================================================================================================================================================================================================================================================================================================================================================================================================================================================================================================================================================================================================================================================================================================================================================================================================================================================================================================================================================================================================================================================================================================================================================================================================================================================================================================================================================================================================================================================================================================================================================================================================================================================================================================================================================================================================================================================================================================================================================================================================================================================================================================================================================================================================================================================================================================================================================================================================================================================================================================================================================================================================================================================================================================================================================================================================================================================================================================================================================================================================================================================================================================================================================================================================================================================================================================================================================================================================================================================================================================================================================================================================================================================================================================================================================================================================================================================================================================================================================================================================================================================================================================================================================================================================================================================================================================================================================================================================================================================================================================================================================================================================================================================================================================================================================================================================================================================================================================================================================================================================================================================================================================================================================================================================================================================================================================================================================================================================================================================================================================================================================================================================================================================================================================================================================================================================================================================================================================================================================================================================================================================================================================================================================================================================================================================================================================================================================================================================================================================================================================================================================================================================================================================================================================================================================================================================================================================================================================================================================================================================================================================================================================================================================================================================================================================================================================================================================================================================================================================================================================================================================================================================================================================================================================================================================================================================================================================================================================================================================================================================================================================================================================================================================================================================================================================================================================================================================================================================================================================================================================================================================================================================================================================================================================================================================================================================================================================================================================================================================================================================================================================================================================================================================================================================================================================================================================================================================================================================================================================================================================================================================================================================================================================================================================================================================================================================================================================================================================================================================================================================================================================================================================================================================================================================================================================================================================================================================================================================================================================================================================================================================================================================================================================================================================================================================================================================================================================================================================================================================================================================================================================================================================================================================================================================================================================================================================================================================================================================================================================================================================================================================================================================================================================================================================================================================================================================================================================================================================================================================================================================================================================================================================================================================================================================================================================================================================================================================================================================================================================================================================================================================================================================================================================================================================================================================================================================================================================================================================================================================================================================================================================================================================================================================================================================================================================================================================================================================================================================================================================================================================================================================================================================================================================================================================================================================================================================================================================================================================================================================================================================================================================================================================================================================================================================================================================================================================================================================================================================================================================================================================================================================================================================================================================================================================================================================================================================================================================================================================================================================================================================================================================================================================================================================================================================================================================================================================================================================================================================================================================================================================================================================================================================================================================================================================================================================================================================================================================================================================================================================================================================================================================================================================================================================================================================================================================================================================================================================================================================================================================================================================================================================================================================================================================================================================================================================================================================================================================================================================================================================================================================================================================================================================================================================================================================================================================================================================================================================================================================================================================================================================================================================================================================================================================================================================================================================================================================================================================================================================================================================================================================================================================================================================================================================================================================================================================================================================================================================================================================================================================================================================================================================================================================================================================================================================================================================================================================================================================================================================================================================================================================================================================================================================================================================================================================================================================================================================================================================================================================================================================================================================================================================================================================================================================================================================================================================================================================================================================================================================================================================================================================================================================================================================================================================================================================================================================================================================================================================================================================================================================================================================================================================================================================================================================================================================================================================================================================================================================================================================================================================================================================================================================================================================================================================================================================================================================================================================================================================================================================================================================================================================================================================================================================================================================================================================================================================================================================================================================================================================================================================================================================================================================================================================================================================================================================================================================================================================================================================================================================================================================================================================================================================================================================================================================================================================================================================================================================================================================================================================================================================================================================================================================================================================================================================================================================================================================================================================================================================================================================================================================================================================================================================================================================================================================================================================================================================================================================================================================================================================================================================================================================================================================================================================================================================================================================================================================================================================================================================================================================================================================================================================================================================================================================================================================================================================================================================================================================================================================================================================================================================================================================================================================================================================================================================================================================================================================================================================================================================================================================================================================================================================================================================================================================================================================================================================================================================================================================================================================================================================================================================================================================================================================================================================================================================================================================================================================================================================================================================================================================================================================================================================================================================================================================================================================================================================================================================================================================================================================================================================================================================================================================================================================================================================================================================================================================================================================================================================================================================================================================================================================================================================================================================================================================================================================================================================================================================================================================================================================================================================================================================================================================================================================================================================================================================================================================================================================================================================================================================================================================================================================================================================================================================================================================================================================================================================================================================================================================================================================================================================================================================================================================================================================================================================================================================================================================================================================================================================================================================================================================================================================================================================================================================================================================================================================================================================================================================================================================================================================================================================================================================================================================================================================================================================================================================================================================================================================================================================================================================================================================================================================================================================================================================================================================================================================================================================================================================================================================================================================================================================================================================================================================================================================================================================================================================================================================================================================================================================================================================================================================================================================================================================================================================================================================================================================================================================================================================================================================================================================================================================================================================================================================================================================================================================================================================================================================================================================================================================================================================================================================================================================================================================================================================================================================================================================================================================================================================================================================================================================================================================================================================================================================================================================================================================================================================================================================================================================================================================================================================================================================================================================================================================================================================================================================================================================================================================================================================================================================================================================================================================================================================================================================================================================================================================================================================================================================================================================================================================================================================================================================================================================================================================================================================================================================================================================================================================================================================================================================================================================================================================================================================================================================================================================================================================================================================================================================================================================================================================================================================================================================================================================================================================================================================================================================================================================================================================================================================================================================================================================================================================================================================================================================================================================================================================================================================================================================================================================================================================================================================================================================================================================================================================================================================================================================================================================================================================================================================================================================================================================================================================================================================================================================================================================================================================================================================================================================================================================================================================================================================================================================================================================================================================================================================================================================================================================================================================================================================================================================================================================================================================================================================================================================================================================================================================================================================================================================================================================================================] - 0s 34us/sample\n"
     ]
    }
   ],
   "source": [
    "preds_test = kmodel.predict(preprocessing.scale(X_test))"
   ]
  },
  {
   "cell_type": "code",
   "execution_count": 69,
   "metadata": {},
   "outputs": [
    {
     "name": "stdout",
     "output_type": "stream",
     "text": [
      "Test Accuracy: 87.4%\n"
     ]
    }
   ],
   "source": [
    "# preds_test = keras_model.predict(x=X_test).argmax(axis=1)\n",
    "test_acc = metric_score(golds=Y_test, preds=preds_test, metric=\"accuracy\")\n",
    "print(f\"Test Accuracy: {test_acc * 100:.1f}%\")"
   ]
  },
  {
   "cell_type": "markdown",
   "metadata": {},
   "source": [
    "87.4% of accuracy, that seems to be a pretty satisfying model, it is time to apply it to the whole dataset!"
   ]
  },
  {
   "cell_type": "markdown",
   "metadata": {},
   "source": [
    "## Predict the whole scene"
   ]
  },
  {
   "cell_type": "markdown",
   "metadata": {},
   "source": [
    "As this stage, one has a trained model with a correct test accuracy. One may apply it to the whole scene (that is composed of a much larger amount of points)."
   ]
  },
  {
   "cell_type": "code",
   "execution_count": 70,
   "metadata": {},
   "outputs": [],
   "source": [
    "clean_scene = (features\n",
    "               .drop(columns=full_cols_to_drop)\n",
    "               .drop(columns=[\"x\", \"y\", \"z\"]))"
   ]
  },
  {
   "cell_type": "code",
   "execution_count": 71,
   "metadata": {},
   "outputs": [
    {
     "name": "stderr",
     "output_type": "stream",
     "text": [
      "IOPub data rate exceeded.\n",
      "The notebook server will temporarily stop sending output\n",
      "to the client in order to avoid crashing it.\n",
      "To change this limit, set the config variable\n",
      "`--NotebookApp.iopub_data_rate_limit`.\n",
      "\n",
      "Current values:\n",
      "NotebookApp.iopub_data_rate_limit=1000000.0 (bytes/sec)\n",
      "NotebookApp.rate_limit_window=3.0 (secs)\n",
      "\n"
     ]
    }
   ],
   "source": [
    "label = kmodel.predict(preprocessing.scale(clean_scene))"
   ]
  },
  {
   "cell_type": "code",
   "execution_count": 72,
   "metadata": {},
   "outputs": [
    {
     "data": {
      "text/plain": [
       "0    225934\n",
       "1    220026\n",
       "2    226233\n",
       "dtype: int64"
      ]
     },
     "execution_count": 72,
     "metadata": {},
     "output_type": "execute_result"
    }
   ],
   "source": [
    "pd.Series(label).groupby(label).count()"
   ]
  },
  {
   "cell_type": "markdown",
   "metadata": {},
   "source": [
    "## Save the labelled point cloud"
   ]
  },
  {
   "cell_type": "markdown",
   "metadata": {},
   "source": [
    "Now one has the output labels, one may save them as a `.las` on the disk."
   ]
  },
  {
   "cell_type": "code",
   "execution_count": 73,
   "metadata": {},
   "outputs": [],
   "source": [
    "outdf = colorize_labels(features[COORDS], label, GLOSSARY)"
   ]
  },
  {
   "cell_type": "code",
   "execution_count": 74,
   "metadata": {},
   "outputs": [
    {
     "name": "stderr",
     "output_type": "stream",
     "text": [
      "[12:38:37] classification.save_labels (INFO) - Predicted labels saved into ../data/output/Pombourg/prediction/weaksup-50-200-1500-full.las\n"
     ]
    }
   ],
   "source": [
    "save_labels(outdf, DATADIR, PREFIX_NAME, NEIGHBORHOOD_SIZES, \"weaksup\", \"full\")"
   ]
  },
  {
   "cell_type": "markdown",
   "metadata": {},
   "source": [
    "Here comes an insight of the output point cloud, this is interesting, however some job still has to be done!\n",
    "\n",
    "\n",
    "Legend:\n",
    "- green: vegetation\n",
    "- grey: cliff\n",
    "- marron: scree \n",
    "\n",
    "<img src=\"../docs/images/Pombourg_weaksup-50-200-1500.png\" width=\"200px\">"
   ]
  }
 ],
 "metadata": {
  "kernelspec": {
   "display_name": "Python 3",
   "language": "python",
   "name": "python3"
  },
  "language_info": {
   "codemirror_mode": {
    "name": "ipython",
    "version": 3
   },
   "file_extension": ".py",
   "mimetype": "text/x-python",
   "name": "python",
   "nbconvert_exporter": "python",
   "pygments_lexer": "ipython3",
   "version": "3.7.3"
  }
 },
 "nbformat": 4,
 "nbformat_minor": 2
}
