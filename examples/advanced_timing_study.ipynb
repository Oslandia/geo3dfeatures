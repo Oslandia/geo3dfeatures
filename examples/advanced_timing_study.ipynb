{
 "cells": [
  {
   "cell_type": "markdown",
   "metadata": {},
   "source": [
    "# Chronométrage avancé"
   ]
  },
  {
   "cell_type": "markdown",
   "metadata": {},
   "source": [
    "Ce *notebook* a pour but de proposer des éléments approfondis à propos du chronométrage du processus de génération de features géométriques dans un nuage de points 3D."
   ]
  },
  {
   "cell_type": "markdown",
   "metadata": {},
   "source": [
    "Seront étudiés les points suivants :\n",
    "- les métriques d'accumulation, ou `pandas.DataFrame.query` *vs* `pandas.DataFrame.loc`\n",
    "- le KDtree, ou `sklearn.neighbors.KDTree` *vs* `scipy.spatial.cKDTree`"
   ]
  },
  {
   "cell_type": "markdown",
   "metadata": {},
   "source": [
    "## Introduction"
   ]
  },
  {
   "cell_type": "code",
   "execution_count": 1,
   "metadata": {},
   "outputs": [],
   "source": [
    "import pandas as pd\n",
    "import matplotlib.pyplot as plt\n",
    "import numpy as np\n",
    "from pathlib import Path\n",
    "import seaborn as sns\n",
    "\n",
    "%matplotlib inline"
   ]
  },
  {
   "cell_type": "code",
   "execution_count": 2,
   "metadata": {},
   "outputs": [],
   "source": [
    "TIMER_BASE_FILE = Path(\"..\", \"data\", \"profiling\", \"base\", \"timers\", \"timers.csv\")\n",
    "TIMER_QUERY_FILE = Path(\"..\", \"data\", \"profiling\", \"query\", \"timers\", \"timers.csv\")\n",
    "TIMER_IDX_FILE = Path(\"..\", \"data\", \"profiling\", \"accidx\", \"timers\", \"timers.csv\")\n",
    "TIMER_SCIPYTREE_FILE = Path(\"..\", \"data\", \"profiling\", \"scipytree\", \"timers\", \"timers.csv\")"
   ]
  },
  {
   "cell_type": "code",
   "execution_count": 3,
   "metadata": {},
   "outputs": [],
   "source": [
    "timers_base = pd.read_csv(TIMER_BASE_FILE)\n",
    "timers_query = pd.read_csv(TIMER_QUERY_FILE)\n",
    "timers_idx = pd.read_csv(TIMER_IDX_FILE)\n",
    "timers_scipytree = pd.read_csv(TIMER_SCIPYTREE_FILE)"
   ]
  },
  {
   "cell_type": "code",
   "execution_count": 4,
   "metadata": {},
   "outputs": [],
   "source": [
    "def extract(df, function=None, nb_points=None, nb_neighbors=None, feature_set=None):\n",
    "    \"\"\"Extraction des données relatives à la fonction 'retrieve_accumulation_features'\n",
    "    \n",
    "    Parameters\n",
    "    ----------\n",
    "    df : pandas.DataFrame\n",
    "        timers\n",
    "    function : str\n",
    "         Fonction d'intérêt\n",
    "    nb_points : int\n",
    "         Nombre de points sur lequel faire la comparaison\n",
    "    nb_neighbors : int\n",
    "         Nombre de voisins sur lequel faire la comparaison\n",
    "    feature_set : str\n",
    "         Ensemble de feature sur lequel faire la comparaison\n",
    "    Returns\n",
    "    -------\n",
    "    pandas.DataFrame\n",
    "        sous-ensemble d'enregistrements spécifiques à la fonction identifiée\n",
    "    \"\"\"\n",
    "    df_extract = df.copy()\n",
    "    if function is not None:\n",
    "        df_extract = df_extract.loc[[function in c for c in df_extract[\"function\"]]]\n",
    "    if nb_points is not None:\n",
    "        df_extract = df_extract.loc[df[\"nb_points\"] == nb_points]\n",
    "    if nb_neighbors is not None:\n",
    "        df_extract = df_extract.loc[df[\"nb_neighbors\"] == nb_neighbors]\n",
    "    if feature_set is not None:\n",
    "        df_extract = df_extract.loc[df[\"feature_set\"] == feature_set]\n",
    "    df_extract.drop([\"nb_neighbors\", \"feature_set\", \"nb_calls\"], axis=1, inplace=True)\n",
    "    return df_extract"
   ]
  },
  {
   "cell_type": "code",
   "execution_count": 5,
   "metadata": {},
   "outputs": [],
   "source": [
    "def compute_ratio(df1, df2):\n",
    "    \"\"\"Compute ratio of performances between two scenarios\n",
    "    \n",
    "    Parameters\n",
    "    ----------\n",
    "    df1 : pandas.DataFrame\n",
    "        First scenario performances\n",
    "    df2 : pandas.DataFrame\n",
    "        Second scenario performances\n",
    "    \n",
    "    Returns\n",
    "    -------\n",
    "    pandas.DataFrame\n",
    "        Compared performances\n",
    "    \"\"\"\n",
    "    df1_ = df1.set_index(\"nb_points\").copy()\n",
    "    df2_ = df2.set_index(\"nb_points\").copy()\n",
    "    df = pd.concat([df1_[[\"cum_time\"]], df2_[[\"cum_time\"]]], axis=1)\n",
    "    df.columns = [\"cum_time_1\", \"cum_time_2\"]\n",
    "    df[\"ratio\"] = df[\"cum_time_1\"] / df[\"cum_time_2\"]\n",
    "    return df"
   ]
  },
  {
   "cell_type": "markdown",
   "metadata": {},
   "source": [
    "## Métriques d'accumulation"
   ]
  },
  {
   "cell_type": "markdown",
   "metadata": {},
   "source": [
    "Cette section va permettre d'étudier un peu plus en détail la fonction `retrieve_accumulation_features`. Cette fonction est la plus longue du processus de calcul des features géométriques dans un nuage de point 3D. Elle était initialement implémentée à l'aide de la méthode `pandas.DataFrame.query(.)`. Nous proposons ici de comparer cette implémentation avec l'accesseur plus classique `pandas.DataFrame.loc[.]`."
   ]
  },
  {
   "cell_type": "code",
   "execution_count": 6,
   "metadata": {},
   "outputs": [],
   "source": [
    "retrieve_base = extract(timers_base, function=\"retrieve\", nb_neighbors=50, feature_set=\"full\")"
   ]
  },
  {
   "cell_type": "code",
   "execution_count": 7,
   "metadata": {},
   "outputs": [],
   "source": [
    "retrieve_query = extract(timers_query, function=\"retrieve\", nb_neighbors=50, feature_set=\"full\")"
   ]
  },
  {
   "cell_type": "code",
   "execution_count": 8,
   "metadata": {},
   "outputs": [
    {
     "data": {
      "text/html": [
       "<div>\n",
       "<style scoped>\n",
       "    .dataframe tbody tr th:only-of-type {\n",
       "        vertical-align: middle;\n",
       "    }\n",
       "\n",
       "    .dataframe tbody tr th {\n",
       "        vertical-align: top;\n",
       "    }\n",
       "\n",
       "    .dataframe thead th {\n",
       "        text-align: right;\n",
       "    }\n",
       "</style>\n",
       "<table border=\"1\" class=\"dataframe\">\n",
       "  <thead>\n",
       "    <tr style=\"text-align: right;\">\n",
       "      <th></th>\n",
       "      <th>cum_time_1</th>\n",
       "      <th>cum_time_2</th>\n",
       "      <th>ratio</th>\n",
       "    </tr>\n",
       "    <tr>\n",
       "      <th>nb_points</th>\n",
       "      <th></th>\n",
       "      <th></th>\n",
       "      <th></th>\n",
       "    </tr>\n",
       "  </thead>\n",
       "  <tbody>\n",
       "    <tr>\n",
       "      <th>50000</th>\n",
       "      <td>168.319060</td>\n",
       "      <td>275.738380</td>\n",
       "      <td>0.610430</td>\n",
       "    </tr>\n",
       "    <tr>\n",
       "      <th>5000</th>\n",
       "      <td>16.287677</td>\n",
       "      <td>25.943182</td>\n",
       "      <td>0.627821</td>\n",
       "    </tr>\n",
       "    <tr>\n",
       "      <th>100000</th>\n",
       "      <td>378.940976</td>\n",
       "      <td>589.922543</td>\n",
       "      <td>0.642357</td>\n",
       "    </tr>\n",
       "    <tr>\n",
       "      <th>1000</th>\n",
       "      <td>3.083841</td>\n",
       "      <td>4.828300</td>\n",
       "      <td>0.638701</td>\n",
       "    </tr>\n",
       "    <tr>\n",
       "      <th>10000</th>\n",
       "      <td>33.095040</td>\n",
       "      <td>51.726613</td>\n",
       "      <td>0.639807</td>\n",
       "    </tr>\n",
       "  </tbody>\n",
       "</table>\n",
       "</div>"
      ],
      "text/plain": [
       "           cum_time_1  cum_time_2     ratio\n",
       "nb_points                                  \n",
       "50000      168.319060  275.738380  0.610430\n",
       "5000        16.287677   25.943182  0.627821\n",
       "100000     378.940976  589.922543  0.642357\n",
       "1000         3.083841    4.828300  0.638701\n",
       "10000       33.095040   51.726613  0.639807"
      ]
     },
     "execution_count": 8,
     "metadata": {},
     "output_type": "execute_result"
    }
   ],
   "source": [
    "compute_ratio(retrieve_base, retrieve_query)"
   ]
  },
  {
   "cell_type": "markdown",
   "metadata": {},
   "source": [
    "Au vu de ces chiffres, il s'avère que l'accesseur `pandas.DataFrame.loc[.]` est plus rapide que la méthode `pandas.DataFrame.query(.)`, et permet une réduction du temps de calcul d'environ 35 à 40%."
   ]
  },
  {
   "cell_type": "markdown",
   "metadata": {},
   "source": [
    "### Accession directe"
   ]
  },
  {
   "cell_type": "markdown",
   "metadata": {},
   "source": [
    "Il s'avère en fait que la méthode `accumulation_2d_neighborhood(.)` préserve l'ordre des points, et même plus, inclut les coordonnées des points du nuage. Il suffit ainsi d'itérer sur cette structure plutôt que sur le nuage de point simple."
   ]
  },
  {
   "cell_type": "code",
   "execution_count": 9,
   "metadata": {},
   "outputs": [],
   "source": [
    "retrieve_full_base = extract(timers_base, function=\"all_features\", nb_neighbors=50, feature_set=\"full\")"
   ]
  },
  {
   "cell_type": "code",
   "execution_count": 10,
   "metadata": {},
   "outputs": [],
   "source": [
    "retrieve_full_idx = extract(timers_idx, function=\"all_features\", nb_neighbors=50, feature_set=\"full\")"
   ]
  },
  {
   "cell_type": "code",
   "execution_count": 11,
   "metadata": {},
   "outputs": [
    {
     "data": {
      "text/html": [
       "<div>\n",
       "<style scoped>\n",
       "    .dataframe tbody tr th:only-of-type {\n",
       "        vertical-align: middle;\n",
       "    }\n",
       "\n",
       "    .dataframe tbody tr th {\n",
       "        vertical-align: top;\n",
       "    }\n",
       "\n",
       "    .dataframe thead th {\n",
       "        text-align: right;\n",
       "    }\n",
       "</style>\n",
       "<table border=\"1\" class=\"dataframe\">\n",
       "  <thead>\n",
       "    <tr style=\"text-align: right;\">\n",
       "      <th></th>\n",
       "      <th>cum_time_1</th>\n",
       "      <th>cum_time_2</th>\n",
       "      <th>ratio</th>\n",
       "    </tr>\n",
       "    <tr>\n",
       "      <th>nb_points</th>\n",
       "      <th></th>\n",
       "      <th></th>\n",
       "      <th></th>\n",
       "    </tr>\n",
       "  </thead>\n",
       "  <tbody>\n",
       "    <tr>\n",
       "      <th>1000</th>\n",
       "      <td>NaN</td>\n",
       "      <td>4.300485</td>\n",
       "      <td>NaN</td>\n",
       "    </tr>\n",
       "    <tr>\n",
       "      <th>5000</th>\n",
       "      <td>5.259709</td>\n",
       "      <td>22.618200</td>\n",
       "      <td>0.232543</td>\n",
       "    </tr>\n",
       "    <tr>\n",
       "      <th>10000</th>\n",
       "      <td>10.958623</td>\n",
       "      <td>46.072779</td>\n",
       "      <td>0.237855</td>\n",
       "    </tr>\n",
       "    <tr>\n",
       "      <th>50000</th>\n",
       "      <td>59.683575</td>\n",
       "      <td>233.397269</td>\n",
       "      <td>0.255717</td>\n",
       "    </tr>\n",
       "    <tr>\n",
       "      <th>100000</th>\n",
       "      <td>118.700419</td>\n",
       "      <td>518.431784</td>\n",
       "      <td>0.228961</td>\n",
       "    </tr>\n",
       "  </tbody>\n",
       "</table>\n",
       "</div>"
      ],
      "text/plain": [
       "           cum_time_1  cum_time_2     ratio\n",
       "nb_points                                  \n",
       "1000              NaN    4.300485       NaN\n",
       "5000         5.259709   22.618200  0.232543\n",
       "10000       10.958623   46.072779  0.237855\n",
       "50000       59.683575  233.397269  0.255717\n",
       "100000     118.700419  518.431784  0.228961"
      ]
     },
     "execution_count": 11,
     "metadata": {},
     "output_type": "execute_result"
    }
   ],
   "source": [
    "compute_ratio(retrieve_full_idx, retrieve_full_base)"
   ]
  },
  {
   "cell_type": "markdown",
   "metadata": {},
   "source": [
    "L'accession directe via le nuage de point \"amélioré\" par les features d'accumulation est ainsi environ 6 fois plus rapide (seulement 16-17% du temps pris par la version avec l'accesseur `df.loc[.]`..."
   ]
  },
  {
   "cell_type": "markdown",
   "metadata": {},
   "source": [
    "## KDTree"
   ]
  },
  {
   "cell_type": "markdown",
   "metadata": {},
   "source": [
    "Cette seconde partie a pour but d'évaluer différentes fonctions pour le calcul du KDTree, et son requêtage pour reconstituer le voisinage de chaque point évalué. Deux options techniques sont ici comparées :\n",
    "- le KDTree de `scikit-learn` ;\n",
    "- le KDTree de `scipy` implémenté à partir de Cython (il existe aussi une version Python standard)."
   ]
  },
  {
   "cell_type": "markdown",
   "metadata": {},
   "source": [
    "#### Construction du KDTree"
   ]
  },
  {
   "cell_type": "code",
   "execution_count": 12,
   "metadata": {},
   "outputs": [],
   "source": [
    "skl_compute = extract(timers_base, function=\"compute_tree\", nb_neighbors=50, feature_set=\"alphabeta\")\n",
    "scipy_compute = extract(timers_scipytree, function=\"compute_tree\", nb_neighbors=50, feature_set=\"alphabeta\")"
   ]
  },
  {
   "cell_type": "code",
   "execution_count": 13,
   "metadata": {},
   "outputs": [
    {
     "data": {
      "text/html": [
       "<div>\n",
       "<style scoped>\n",
       "    .dataframe tbody tr th:only-of-type {\n",
       "        vertical-align: middle;\n",
       "    }\n",
       "\n",
       "    .dataframe tbody tr th {\n",
       "        vertical-align: top;\n",
       "    }\n",
       "\n",
       "    .dataframe thead th {\n",
       "        text-align: right;\n",
       "    }\n",
       "</style>\n",
       "<table border=\"1\" class=\"dataframe\">\n",
       "  <thead>\n",
       "    <tr style=\"text-align: right;\">\n",
       "      <th></th>\n",
       "      <th>cum_time_1</th>\n",
       "      <th>cum_time_2</th>\n",
       "      <th>ratio</th>\n",
       "    </tr>\n",
       "    <tr>\n",
       "      <th>nb_points</th>\n",
       "      <th></th>\n",
       "      <th></th>\n",
       "      <th></th>\n",
       "    </tr>\n",
       "  </thead>\n",
       "  <tbody>\n",
       "    <tr>\n",
       "      <th>1000</th>\n",
       "      <td>0.000183</td>\n",
       "      <td>0.000177</td>\n",
       "      <td>1.033898</td>\n",
       "    </tr>\n",
       "    <tr>\n",
       "      <th>5000</th>\n",
       "      <td>0.000627</td>\n",
       "      <td>0.000665</td>\n",
       "      <td>0.942857</td>\n",
       "    </tr>\n",
       "    <tr>\n",
       "      <th>10000</th>\n",
       "      <td>0.001347</td>\n",
       "      <td>0.002076</td>\n",
       "      <td>0.648844</td>\n",
       "    </tr>\n",
       "    <tr>\n",
       "      <th>50000</th>\n",
       "      <td>0.011829</td>\n",
       "      <td>0.013384</td>\n",
       "      <td>0.883816</td>\n",
       "    </tr>\n",
       "    <tr>\n",
       "      <th>100000</th>\n",
       "      <td>0.030741</td>\n",
       "      <td>0.032120</td>\n",
       "      <td>0.957067</td>\n",
       "    </tr>\n",
       "    <tr>\n",
       "      <th>500000</th>\n",
       "      <td>NaN</td>\n",
       "      <td>0.414903</td>\n",
       "      <td>NaN</td>\n",
       "    </tr>\n",
       "    <tr>\n",
       "      <th>1000000</th>\n",
       "      <td>NaN</td>\n",
       "      <td>1.396491</td>\n",
       "      <td>NaN</td>\n",
       "    </tr>\n",
       "  </tbody>\n",
       "</table>\n",
       "</div>"
      ],
      "text/plain": [
       "           cum_time_1  cum_time_2     ratio\n",
       "nb_points                                  \n",
       "1000         0.000183    0.000177  1.033898\n",
       "5000         0.000627    0.000665  0.942857\n",
       "10000        0.001347    0.002076  0.648844\n",
       "50000        0.011829    0.013384  0.883816\n",
       "100000       0.030741    0.032120  0.957067\n",
       "500000            NaN    0.414903       NaN\n",
       "1000000           NaN    1.396491       NaN"
      ]
     },
     "execution_count": 13,
     "metadata": {},
     "output_type": "execute_result"
    }
   ],
   "source": [
    "compute_ratio(skl_compute, scipy_compute)"
   ]
  },
  {
   "cell_type": "markdown",
   "metadata": {},
   "source": [
    "Les performances des deux KDTree sont assez proches l'une de l'autre, on note cependant que le KDTree de `scikit-learn` est légèrement plus rapide à construire que celui de `scipy`."
   ]
  },
  {
   "cell_type": "markdown",
   "metadata": {},
   "source": [
    "#### Requêtage du KDTree"
   ]
  },
  {
   "cell_type": "code",
   "execution_count": 14,
   "metadata": {},
   "outputs": [],
   "source": [
    "skl_query = extract(timers_base, function=\"build_neighborhood\", nb_neighbors=50, feature_set=\"alphabeta\")\n",
    "scipy_query = extract(timers_scipytree, function=\"build_neighborhood\", nb_neighbors=50, feature_set=\"alphabeta\")"
   ]
  },
  {
   "cell_type": "code",
   "execution_count": 15,
   "metadata": {},
   "outputs": [
    {
     "data": {
      "text/html": [
       "<div>\n",
       "<style scoped>\n",
       "    .dataframe tbody tr th:only-of-type {\n",
       "        vertical-align: middle;\n",
       "    }\n",
       "\n",
       "    .dataframe tbody tr th {\n",
       "        vertical-align: top;\n",
       "    }\n",
       "\n",
       "    .dataframe thead th {\n",
       "        text-align: right;\n",
       "    }\n",
       "</style>\n",
       "<table border=\"1\" class=\"dataframe\">\n",
       "  <thead>\n",
       "    <tr style=\"text-align: right;\">\n",
       "      <th></th>\n",
       "      <th>cum_time_1</th>\n",
       "      <th>cum_time_2</th>\n",
       "      <th>ratio</th>\n",
       "    </tr>\n",
       "    <tr>\n",
       "      <th>nb_points</th>\n",
       "      <th></th>\n",
       "      <th></th>\n",
       "      <th></th>\n",
       "    </tr>\n",
       "  </thead>\n",
       "  <tbody>\n",
       "    <tr>\n",
       "      <th>1000</th>\n",
       "      <td>0.131815</td>\n",
       "      <td>0.112442</td>\n",
       "      <td>1.172293</td>\n",
       "    </tr>\n",
       "    <tr>\n",
       "      <th>5000</th>\n",
       "      <td>0.836286</td>\n",
       "      <td>0.570470</td>\n",
       "      <td>1.465960</td>\n",
       "    </tr>\n",
       "    <tr>\n",
       "      <th>10000</th>\n",
       "      <td>1.610228</td>\n",
       "      <td>1.153717</td>\n",
       "      <td>1.395687</td>\n",
       "    </tr>\n",
       "    <tr>\n",
       "      <th>50000</th>\n",
       "      <td>10.432209</td>\n",
       "      <td>6.676162</td>\n",
       "      <td>1.562606</td>\n",
       "    </tr>\n",
       "    <tr>\n",
       "      <th>100000</th>\n",
       "      <td>20.581425</td>\n",
       "      <td>14.000602</td>\n",
       "      <td>1.470039</td>\n",
       "    </tr>\n",
       "    <tr>\n",
       "      <th>500000</th>\n",
       "      <td>NaN</td>\n",
       "      <td>84.370041</td>\n",
       "      <td>NaN</td>\n",
       "    </tr>\n",
       "    <tr>\n",
       "      <th>1000000</th>\n",
       "      <td>NaN</td>\n",
       "      <td>172.671911</td>\n",
       "      <td>NaN</td>\n",
       "    </tr>\n",
       "  </tbody>\n",
       "</table>\n",
       "</div>"
      ],
      "text/plain": [
       "           cum_time_1  cum_time_2     ratio\n",
       "nb_points                                  \n",
       "1000         0.131815    0.112442  1.172293\n",
       "5000         0.836286    0.570470  1.465960\n",
       "10000        1.610228    1.153717  1.395687\n",
       "50000       10.432209    6.676162  1.562606\n",
       "100000      20.581425   14.000602  1.470039\n",
       "500000            NaN   84.370041       NaN\n",
       "1000000           NaN  172.671911       NaN"
      ]
     },
     "execution_count": 15,
     "metadata": {},
     "output_type": "execute_result"
    }
   ],
   "source": [
    "compute_ratio(skl_query, scipy_query)"
   ]
  },
  {
   "cell_type": "markdown",
   "metadata": {},
   "source": [
    "Au contraire de l'étape de construction, il semble que le requêtage est significativement plus lent avec `scikit-learn` : entre 17 et 56% de plus sur l'ensemble des itérations, et cette différence semble d'ailleurs s'accentuer avec le nombre de points considérés."
   ]
  },
  {
   "cell_type": "code",
   "execution_count": null,
   "metadata": {},
   "outputs": [],
   "source": []
  }
 ],
 "metadata": {
  "kernelspec": {
   "display_name": "Python 3",
   "language": "python",
   "name": "python3"
  },
  "language_info": {
   "codemirror_mode": {
    "name": "ipython",
    "version": 3
   },
   "file_extension": ".py",
   "mimetype": "text/x-python",
   "name": "python",
   "nbconvert_exporter": "python",
   "pygments_lexer": "ipython3",
   "version": "3.7.0b3"
  }
 },
 "nbformat": 4,
 "nbformat_minor": 2
}
