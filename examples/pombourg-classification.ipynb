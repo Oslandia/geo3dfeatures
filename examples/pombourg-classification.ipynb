{
 "cells": [
  {
   "cell_type": "markdown",
   "metadata": {},
   "source": [
    "# Classification pour Pombourg (supervisé)"
   ]
  },
  {
   "cell_type": "markdown",
   "metadata": {},
   "source": [
    "Il faut au préalable extraire les /features/ pour tous les échantillons labélisés."
   ]
  },
  {
   "cell_type": "markdown",
   "metadata": {},
   "source": [
    "## Imports"
   ]
  },
  {
   "cell_type": "code",
   "execution_count": 1,
   "metadata": {},
   "outputs": [],
   "source": [
    "%matplotlib inline"
   ]
  },
  {
   "cell_type": "code",
   "execution_count": 2,
   "metadata": {},
   "outputs": [],
   "source": [
    "from pathlib import Path"
   ]
  },
  {
   "cell_type": "code",
   "execution_count": 3,
   "metadata": {},
   "outputs": [],
   "source": [
    "import numpy as np\n",
    "import pandas as pd"
   ]
  },
  {
   "cell_type": "code",
   "execution_count": 4,
   "metadata": {},
   "outputs": [],
   "source": [
    "from sklearn.model_selection import train_test_split\n",
    "from sklearn.model_selection import cross_validate, cross_val_score\n",
    "from sklearn.pipeline import make_pipeline\n",
    "from sklearn import preprocessing\n",
    "\n",
    "from sklearn.linear_model import LogisticRegression, LogisticRegressionCV"
   ]
  },
  {
   "cell_type": "code",
   "execution_count": 5,
   "metadata": {},
   "outputs": [],
   "source": [
    "import matplotlib\n",
    "from matplotlib import pyplot as plt\n",
    "import seaborn as sns"
   ]
  },
  {
   "cell_type": "code",
   "execution_count": 6,
   "metadata": {},
   "outputs": [],
   "source": [
    "plt.style.use(\"seaborn-notebook\")"
   ]
  },
  {
   "cell_type": "code",
   "execution_count": 64,
   "metadata": {},
   "outputs": [],
   "source": [
    "from geo3dfeatures.io import las as read_las\n",
    "from geo3dfeatures.extract import compute_tree, request_tree, extract\n",
    "from geo3dfeatures.features import max_normalize, sum_normalize\n",
    "from geo3dfeatures.tools.kmean import load_features"
   ]
  },
  {
   "cell_type": "markdown",
   "metadata": {},
   "source": [
    "## Données"
   ]
  },
  {
   "cell_type": "code",
   "execution_count": 8,
   "metadata": {},
   "outputs": [],
   "source": [
    "PREFIX_NAME = \"Pombourg\"\n",
    "SCENE_FILE = PREFIX_NAME + \".las\"\n",
    "EBOULIS_FILE = PREFIX_NAME + \"_eboulis.las\"\n",
    "VEGETATION_FILE = PREFIX_NAME + \"_vegetation.las\"\n",
    "FALAISE_FILE = PREFIX_NAME + \"_falaise.las\""
   ]
  },
  {
   "cell_type": "code",
   "execution_count": 9,
   "metadata": {},
   "outputs": [],
   "source": [
    "DATADIR = Path(\"/home/dag/data/geolithe-univers/workspace\")"
   ]
  },
  {
   "cell_type": "code",
   "execution_count": 10,
   "metadata": {},
   "outputs": [],
   "source": [
    "LABELS = {\"eboulis\": 0,\n",
    "          \"falaise\": 1,\n",
    "          \"vegetation\": 2}"
   ]
  },
  {
   "cell_type": "code",
   "execution_count": 11,
   "metadata": {},
   "outputs": [],
   "source": [
    "# Labels des coordonnées\n",
    "COORDS = list(\"xyz\")\n",
    "# Labels du channel RGB (couleurs)\n",
    "COULEURS = list(\"rgb\")"
   ]
  },
  {
   "cell_type": "code",
   "execution_count": 12,
   "metadata": {},
   "outputs": [],
   "source": [
    "rawdata = read_las(DATADIR / \"input\" / SCENE_FILE)\n",
    "rawdata = pd.DataFrame(rawdata, columns=list(\"xyzrgb\"))"
   ]
  },
  {
   "cell_type": "code",
   "execution_count": 13,
   "metadata": {},
   "outputs": [
    {
     "name": "stdout",
     "output_type": "stream",
     "text": [
      "dimension:  (672193, 6)\n"
     ]
    },
    {
     "data": {
      "text/html": [
       "<div>\n",
       "<style scoped>\n",
       "    .dataframe tbody tr th:only-of-type {\n",
       "        vertical-align: middle;\n",
       "    }\n",
       "\n",
       "    .dataframe tbody tr th {\n",
       "        vertical-align: top;\n",
       "    }\n",
       "\n",
       "    .dataframe thead th {\n",
       "        text-align: right;\n",
       "    }\n",
       "</style>\n",
       "<table border=\"1\" class=\"dataframe\">\n",
       "  <thead>\n",
       "    <tr style=\"text-align: right;\">\n",
       "      <th></th>\n",
       "      <th>x</th>\n",
       "      <th>y</th>\n",
       "      <th>z</th>\n",
       "      <th>r</th>\n",
       "      <th>g</th>\n",
       "      <th>b</th>\n",
       "    </tr>\n",
       "  </thead>\n",
       "  <tbody>\n",
       "    <tr>\n",
       "      <th>0</th>\n",
       "      <td>1.977540e+06</td>\n",
       "      <td>5.242311e+06</td>\n",
       "      <td>902.684203</td>\n",
       "      <td>128.0</td>\n",
       "      <td>88.0</td>\n",
       "      <td>75.0</td>\n",
       "    </tr>\n",
       "    <tr>\n",
       "      <th>1</th>\n",
       "      <td>1.977540e+06</td>\n",
       "      <td>5.242311e+06</td>\n",
       "      <td>902.674986</td>\n",
       "      <td>117.0</td>\n",
       "      <td>78.0</td>\n",
       "      <td>66.0</td>\n",
       "    </tr>\n",
       "    <tr>\n",
       "      <th>2</th>\n",
       "      <td>1.977540e+06</td>\n",
       "      <td>5.242311e+06</td>\n",
       "      <td>902.731627</td>\n",
       "      <td>111.0</td>\n",
       "      <td>73.0</td>\n",
       "      <td>62.0</td>\n",
       "    </tr>\n",
       "    <tr>\n",
       "      <th>3</th>\n",
       "      <td>1.977538e+06</td>\n",
       "      <td>5.242330e+06</td>\n",
       "      <td>893.093306</td>\n",
       "      <td>147.0</td>\n",
       "      <td>135.0</td>\n",
       "      <td>131.0</td>\n",
       "    </tr>\n",
       "    <tr>\n",
       "      <th>4</th>\n",
       "      <td>1.977538e+06</td>\n",
       "      <td>5.242330e+06</td>\n",
       "      <td>893.049910</td>\n",
       "      <td>149.0</td>\n",
       "      <td>137.0</td>\n",
       "      <td>133.0</td>\n",
       "    </tr>\n",
       "  </tbody>\n",
       "</table>\n",
       "</div>"
      ],
      "text/plain": [
       "              x             y           z      r      g      b\n",
       "0  1.977540e+06  5.242311e+06  902.684203  128.0   88.0   75.0\n",
       "1  1.977540e+06  5.242311e+06  902.674986  117.0   78.0   66.0\n",
       "2  1.977540e+06  5.242311e+06  902.731627  111.0   73.0   62.0\n",
       "3  1.977538e+06  5.242330e+06  893.093306  147.0  135.0  131.0\n",
       "4  1.977538e+06  5.242330e+06  893.049910  149.0  137.0  133.0"
      ]
     },
     "execution_count": 13,
     "metadata": {},
     "output_type": "execute_result"
    }
   ],
   "source": [
    "print(\"dimension: \", rawdata.shape)\n",
    "rawdata.head()"
   ]
  },
  {
   "cell_type": "markdown",
   "metadata": {},
   "source": [
    "## Lecture des features pour n=50 200 1500"
   ]
  },
  {
   "cell_type": "code",
   "execution_count": 14,
   "metadata": {},
   "outputs": [
    {
     "name": "stderr",
     "output_type": "stream",
     "text": [
      "[11:45:46] kmean.load_features (INFO) - Recover features stored in /home/dag/data/geolithe-univers/workspace/output/Pombourg/features/features.h5\n",
      "[11:45:46] utils._init_num_threads (INFO) - NumExpr defaulting to 4 threads.\n"
     ]
    }
   ],
   "source": [
    "features = load_features(DATADIR, PREFIX_NAME, [50, 200, 1500])"
   ]
  },
  {
   "cell_type": "code",
   "execution_count": 15,
   "metadata": {},
   "outputs": [
    {
     "data": {
      "text/plain": [
       "(672193, 63)"
      ]
     },
     "execution_count": 15,
     "metadata": {},
     "output_type": "execute_result"
    }
   ],
   "source": [
    "features.shape"
   ]
  },
  {
   "cell_type": "code",
   "execution_count": 16,
   "metadata": {},
   "outputs": [
    {
     "data": {
      "text/html": [
       "<div>\n",
       "<style scoped>\n",
       "    .dataframe tbody tr th:only-of-type {\n",
       "        vertical-align: middle;\n",
       "    }\n",
       "\n",
       "    .dataframe tbody tr th {\n",
       "        vertical-align: top;\n",
       "    }\n",
       "\n",
       "    .dataframe thead th {\n",
       "        text-align: right;\n",
       "    }\n",
       "</style>\n",
       "<table border=\"1\" class=\"dataframe\">\n",
       "  <thead>\n",
       "    <tr style=\"text-align: right;\">\n",
       "      <th></th>\n",
       "      <th>x</th>\n",
       "      <th>y</th>\n",
       "      <th>z</th>\n",
       "      <th>alpha_50</th>\n",
       "      <th>beta_50</th>\n",
       "      <th>radius_50</th>\n",
       "      <th>z_range_50</th>\n",
       "      <th>std_dev_50</th>\n",
       "      <th>density_50</th>\n",
       "      <th>verticality_50</th>\n",
       "      <th>...</th>\n",
       "      <th>planarity_1500</th>\n",
       "      <th>scattering_1500</th>\n",
       "      <th>omnivariance_1500</th>\n",
       "      <th>anisotropy_1500</th>\n",
       "      <th>eigenentropy_1500</th>\n",
       "      <th>eigenvalue_sum_1500</th>\n",
       "      <th>radius_2D_1500</th>\n",
       "      <th>density_2D_1500</th>\n",
       "      <th>eigenvalue_sum_2D_1500</th>\n",
       "      <th>eigenvalue_ratio_2D_1500</th>\n",
       "    </tr>\n",
       "  </thead>\n",
       "  <tbody>\n",
       "    <tr>\n",
       "      <th>0</th>\n",
       "      <td>1.977525e+06</td>\n",
       "      <td>5.242324e+06</td>\n",
       "      <td>891.317748</td>\n",
       "      <td>0.334604</td>\n",
       "      <td>0.664243</td>\n",
       "      <td>2.055300</td>\n",
       "      <td>0.292404</td>\n",
       "      <td>0.085410</td>\n",
       "      <td>1.429846</td>\n",
       "      <td>0.312858</td>\n",
       "      <td>...</td>\n",
       "      <td>0.349891</td>\n",
       "      <td>0.001678</td>\n",
       "      <td>0.061972</td>\n",
       "      <td>0.998322</td>\n",
       "      <td>0.582007</td>\n",
       "      <td>1122.339474</td>\n",
       "      <td>2.042213</td>\n",
       "      <td>114.635222</td>\n",
       "      <td>917.769528</td>\n",
       "      <td>0.274770</td>\n",
       "    </tr>\n",
       "    <tr>\n",
       "      <th>1</th>\n",
       "      <td>1.977525e+06</td>\n",
       "      <td>5.242324e+06</td>\n",
       "      <td>891.319029</td>\n",
       "      <td>0.345110</td>\n",
       "      <td>0.653892</td>\n",
       "      <td>2.030211</td>\n",
       "      <td>0.279770</td>\n",
       "      <td>0.082896</td>\n",
       "      <td>1.483513</td>\n",
       "      <td>0.315099</td>\n",
       "      <td>...</td>\n",
       "      <td>0.360852</td>\n",
       "      <td>0.001681</td>\n",
       "      <td>0.062153</td>\n",
       "      <td>0.998319</td>\n",
       "      <td>0.588088</td>\n",
       "      <td>1113.190733</td>\n",
       "      <td>2.001808</td>\n",
       "      <td>119.309563</td>\n",
       "      <td>913.282079</td>\n",
       "      <td>0.279151</td>\n",
       "    </tr>\n",
       "    <tr>\n",
       "      <th>2</th>\n",
       "      <td>1.977525e+06</td>\n",
       "      <td>5.242324e+06</td>\n",
       "      <td>891.354063</td>\n",
       "      <td>0.305694</td>\n",
       "      <td>0.692340</td>\n",
       "      <td>2.015489</td>\n",
       "      <td>0.298752</td>\n",
       "      <td>0.088161</td>\n",
       "      <td>1.516258</td>\n",
       "      <td>0.308114</td>\n",
       "      <td>...</td>\n",
       "      <td>0.354059</td>\n",
       "      <td>0.001692</td>\n",
       "      <td>0.062200</td>\n",
       "      <td>0.998308</td>\n",
       "      <td>0.584418</td>\n",
       "      <td>1117.264330</td>\n",
       "      <td>1.995458</td>\n",
       "      <td>120.070114</td>\n",
       "      <td>911.133084</td>\n",
       "      <td>0.280125</td>\n",
       "    </tr>\n",
       "    <tr>\n",
       "      <th>3</th>\n",
       "      <td>1.977525e+06</td>\n",
       "      <td>5.242324e+06</td>\n",
       "      <td>891.390135</td>\n",
       "      <td>0.295625</td>\n",
       "      <td>0.702156</td>\n",
       "      <td>1.980571</td>\n",
       "      <td>0.312424</td>\n",
       "      <td>0.092636</td>\n",
       "      <td>1.597878</td>\n",
       "      <td>0.304651</td>\n",
       "      <td>...</td>\n",
       "      <td>0.356062</td>\n",
       "      <td>0.001723</td>\n",
       "      <td>0.062601</td>\n",
       "      <td>0.998277</td>\n",
       "      <td>0.585683</td>\n",
       "      <td>1114.302199</td>\n",
       "      <td>1.969498</td>\n",
       "      <td>123.256208</td>\n",
       "      <td>904.931612</td>\n",
       "      <td>0.285944</td>\n",
       "    </tr>\n",
       "    <tr>\n",
       "      <th>4</th>\n",
       "      <td>1.977525e+06</td>\n",
       "      <td>5.242324e+06</td>\n",
       "      <td>891.310728</td>\n",
       "      <td>0.335228</td>\n",
       "      <td>0.663748</td>\n",
       "      <td>2.011791</td>\n",
       "      <td>0.271698</td>\n",
       "      <td>0.080073</td>\n",
       "      <td>1.524637</td>\n",
       "      <td>0.316415</td>\n",
       "      <td>...</td>\n",
       "      <td>0.361747</td>\n",
       "      <td>0.001637</td>\n",
       "      <td>0.061615</td>\n",
       "      <td>0.998363</td>\n",
       "      <td>0.588348</td>\n",
       "      <td>1113.519679</td>\n",
       "      <td>2.010107</td>\n",
       "      <td>118.326412</td>\n",
       "      <td>918.530668</td>\n",
       "      <td>0.275069</td>\n",
       "    </tr>\n",
       "  </tbody>\n",
       "</table>\n",
       "<p>5 rows × 63 columns</p>\n",
       "</div>"
      ],
      "text/plain": [
       "              x             y           z  alpha_50   beta_50  radius_50  \\\n",
       "0  1.977525e+06  5.242324e+06  891.317748  0.334604  0.664243   2.055300   \n",
       "1  1.977525e+06  5.242324e+06  891.319029  0.345110  0.653892   2.030211   \n",
       "2  1.977525e+06  5.242324e+06  891.354063  0.305694  0.692340   2.015489   \n",
       "3  1.977525e+06  5.242324e+06  891.390135  0.295625  0.702156   1.980571   \n",
       "4  1.977525e+06  5.242324e+06  891.310728  0.335228  0.663748   2.011791   \n",
       "\n",
       "   z_range_50  std_dev_50  density_50  verticality_50  \\\n",
       "0    0.292404    0.085410    1.429846        0.312858   \n",
       "1    0.279770    0.082896    1.483513        0.315099   \n",
       "2    0.298752    0.088161    1.516258        0.308114   \n",
       "3    0.312424    0.092636    1.597878        0.304651   \n",
       "4    0.271698    0.080073    1.524637        0.316415   \n",
       "\n",
       "             ...             planarity_1500  scattering_1500  \\\n",
       "0            ...                   0.349891         0.001678   \n",
       "1            ...                   0.360852         0.001681   \n",
       "2            ...                   0.354059         0.001692   \n",
       "3            ...                   0.356062         0.001723   \n",
       "4            ...                   0.361747         0.001637   \n",
       "\n",
       "   omnivariance_1500  anisotropy_1500  eigenentropy_1500  eigenvalue_sum_1500  \\\n",
       "0           0.061972         0.998322           0.582007          1122.339474   \n",
       "1           0.062153         0.998319           0.588088          1113.190733   \n",
       "2           0.062200         0.998308           0.584418          1117.264330   \n",
       "3           0.062601         0.998277           0.585683          1114.302199   \n",
       "4           0.061615         0.998363           0.588348          1113.519679   \n",
       "\n",
       "   radius_2D_1500  density_2D_1500  eigenvalue_sum_2D_1500  \\\n",
       "0        2.042213       114.635222              917.769528   \n",
       "1        2.001808       119.309563              913.282079   \n",
       "2        1.995458       120.070114              911.133084   \n",
       "3        1.969498       123.256208              904.931612   \n",
       "4        2.010107       118.326412              918.530668   \n",
       "\n",
       "   eigenvalue_ratio_2D_1500  \n",
       "0                  0.274770  \n",
       "1                  0.279151  \n",
       "2                  0.280125  \n",
       "3                  0.285944  \n",
       "4                  0.275069  \n",
       "\n",
       "[5 rows x 63 columns]"
      ]
     },
     "execution_count": 16,
     "metadata": {},
     "output_type": "execute_result"
    }
   ],
   "source": [
    "features.head()"
   ]
  },
  {
   "cell_type": "markdown",
   "metadata": {},
   "source": [
    "## Features sur les échantillons\n",
    "\n",
    "On souhaite calculer toutes les *features* sur l'ensemble des échantillons en prenant en considération la totalité de la scène.\n",
    "\n",
    "On veut aussi calculer ces *features* pour différentes valeurs de \"proches voisins\"."
   ]
  },
  {
   "cell_type": "markdown",
   "metadata": {},
   "source": [
    "### Études des features par label (hdf5)\n",
    "\n",
    "On a extrait des features dans autant de voisinage et autant de classe dans des fichiers CSV. Puis rassembler l'ensemble des valeurs dans des fichiers hdf5.\n",
    "\n",
    "On souhaite comparer des profils de certaines features en fonction de la distance (resp. du nombre de voisins) par type de classe : **falaise**, **route** et **vegetation**"
   ]
  },
  {
   "cell_type": "code",
   "execution_count": 17,
   "metadata": {},
   "outputs": [],
   "source": [
    "VOISINS_NUM = [10, 20, 30, 50, 100, 200, 500, 1000, 1500, 2000]"
   ]
  },
  {
   "cell_type": "code",
   "execution_count": 25,
   "metadata": {},
   "outputs": [],
   "source": [
    "KEY_H5_FORMAT = \"/num_{:04d}\"\n",
    "\n",
    "def concat_columns(filepath, neighbors):\n",
    "    \"Pour une série de nb de voisins données, on veut concaténer toutes les colonnes\"\n",
    "    no_rename = [\"x\", \"y\", \"z\", \"r\", \"g\", \"b\"]\n",
    "    with pd.HDFStore(filepath, mode=\"r\") as store:\n",
    "        # loop on the possible number of neighbors and concatenate features\n",
    "        # we have to sort each dataframe in order to align each point x,y,z\n",
    "        num_neighbor = neighbors[0]\n",
    "        key = KEY_H5_FORMAT.format(num_neighbor)\n",
    "        df = store[key]\n",
    "        df.sort_values(by=list(\"xyz\"), inplace=True)\n",
    "        cols = [x for x in df if x not in no_rename]\n",
    "        df.rename(columns={key: key + \"_\" + str(num_neighbor) for key in cols}, inplace=True)\n",
    "        df.index = pd.Index(range(df.shape[0]))\n",
    "        dataframes = [df]\n",
    "        for num_neighbor in neighbors[1:]:\n",
    "            key = KEY_H5_FORMAT.format(num_neighbor)\n",
    "            newdf = store[key]\n",
    "            newdf.drop(columns=[\"r\", \"g\", \"b\"], inplace=True)\n",
    "            newdf.sort_values(by=list(\"xyz\"), inplace=True)\n",
    "            newdf.drop(columns=[\"x\", \"y\", \"z\"], inplace=True)\n",
    "            newdf.rename(columns={key: key + \"_\" + str(num_neighbor) for key in cols}, inplace=True)\n",
    "            newdf.index = pd.Index(range(newdf.shape[0]))\n",
    "            dataframes.append(newdf)\n",
    "\n",
    "    return pd.concat(dataframes, axis=\"columns\")"
   ]
  },
  {
   "cell_type": "code",
   "execution_count": 19,
   "metadata": {},
   "outputs": [
    {
     "data": {
      "text/plain": [
       "{10: '/num_0010',\n",
       " 20: '/num_0020',\n",
       " 30: '/num_0030',\n",
       " 50: '/num_0050',\n",
       " 100: '/num_0100',\n",
       " 200: '/num_0200',\n",
       " 500: '/num_0500',\n",
       " 1000: '/num_1000',\n",
       " 1500: '/num_1500',\n",
       " 2000: '/num_2000'}"
      ]
     },
     "execution_count": 19,
     "metadata": {},
     "output_type": "execute_result"
    }
   ],
   "source": [
    "KEYS = {i: \"/num_{:04d}\".format(i) for i in VOISINS_NUM}\n",
    "KEYS"
   ]
  },
  {
   "cell_type": "code",
   "execution_count": 20,
   "metadata": {},
   "outputs": [],
   "source": [
    "# vegetation_store = pd.HDFStore(\"pombourg-vegetation-features.h5\", \"r\")\n",
    "# falaise_store = pd.HDFStore(\"pombourg-falaise-features.h5\", \"r\")\n",
    "# eboulis_store = pd.HDFStore(\"pombourg-eboulis-features.h5\", \"r\")"
   ]
  },
  {
   "cell_type": "code",
   "execution_count": 21,
   "metadata": {},
   "outputs": [],
   "source": [
    "dfveg = concat_columns(\"pombourg-vegetation-features.h5\", [50, 200, 1500])"
   ]
  },
  {
   "cell_type": "code",
   "execution_count": 22,
   "metadata": {},
   "outputs": [],
   "source": [
    "dffalaise = concat_columns(\"pombourg-falaise-features.h5\", [50, 200, 1500])"
   ]
  },
  {
   "cell_type": "code",
   "execution_count": 23,
   "metadata": {},
   "outputs": [],
   "source": [
    "dfeboulis = concat_columns(\"pombourg-eboulis-features.h5\", [50, 200, 1500])"
   ]
  },
  {
   "cell_type": "code",
   "execution_count": 24,
   "metadata": {},
   "outputs": [
    {
     "data": {
      "text/plain": [
       "{'eboulis': 0, 'falaise': 1, 'vegetation': 2}"
      ]
     },
     "execution_count": 24,
     "metadata": {},
     "output_type": "execute_result"
    }
   ],
   "source": [
    "LABELS"
   ]
  },
  {
   "cell_type": "code",
   "execution_count": 26,
   "metadata": {},
   "outputs": [],
   "source": [
    "# on attribut le label à chaque échantillon\n",
    "dfeboulis[\"label\"] = 0\n",
    "dffalaise[\"label\"] = 1\n",
    "dfveg[\"label\"] = 2"
   ]
  },
  {
   "cell_type": "code",
   "execution_count": 27,
   "metadata": {},
   "outputs": [],
   "source": [
    "# on met tout ça dans un seul DataFrame\n",
    "datasets = pd.concat([dfeboulis, dffalaise, dfveg], axis=0)"
   ]
  },
  {
   "cell_type": "code",
   "execution_count": 28,
   "metadata": {},
   "outputs": [
    {
     "data": {
      "text/plain": [
       "(73651, 73)"
      ]
     },
     "execution_count": 28,
     "metadata": {},
     "output_type": "execute_result"
    }
   ],
   "source": [
    "datasets.shape"
   ]
  },
  {
   "cell_type": "code",
   "execution_count": 29,
   "metadata": {},
   "outputs": [
    {
     "data": {
      "text/html": [
       "<div>\n",
       "<style scoped>\n",
       "    .dataframe tbody tr th:only-of-type {\n",
       "        vertical-align: middle;\n",
       "    }\n",
       "\n",
       "    .dataframe tbody tr th {\n",
       "        vertical-align: top;\n",
       "    }\n",
       "\n",
       "    .dataframe thead th {\n",
       "        text-align: right;\n",
       "    }\n",
       "</style>\n",
       "<table border=\"1\" class=\"dataframe\">\n",
       "  <thead>\n",
       "    <tr style=\"text-align: right;\">\n",
       "      <th></th>\n",
       "      <th>x</th>\n",
       "      <th>y</th>\n",
       "      <th>z</th>\n",
       "      <th>alpha_50</th>\n",
       "      <th>beta_50</th>\n",
       "      <th>radius_50</th>\n",
       "      <th>z_range_50</th>\n",
       "      <th>std_dev_50</th>\n",
       "      <th>density_50</th>\n",
       "      <th>verticality_50</th>\n",
       "      <th>...</th>\n",
       "      <th>eigenentropy_1500</th>\n",
       "      <th>eigenvalue_sum_1500</th>\n",
       "      <th>radius_2D_1500</th>\n",
       "      <th>density_2D_1500</th>\n",
       "      <th>eigenvalue_sum_2D_1500</th>\n",
       "      <th>eigenvalue_ratio_2D_1500</th>\n",
       "      <th>bin_density_1500</th>\n",
       "      <th>bin_z_range_1500</th>\n",
       "      <th>bin_z_std_1500</th>\n",
       "      <th>label</th>\n",
       "    </tr>\n",
       "  </thead>\n",
       "  <tbody>\n",
       "    <tr>\n",
       "      <th>0</th>\n",
       "      <td>1.977537e+06</td>\n",
       "      <td>5.242329e+06</td>\n",
       "      <td>893.466154</td>\n",
       "      <td>0.102856</td>\n",
       "      <td>0.888538</td>\n",
       "      <td>0.213368</td>\n",
       "      <td>0.376617</td>\n",
       "      <td>0.105810</td>\n",
       "      <td>1277.996295</td>\n",
       "      <td>0.868071</td>\n",
       "      <td>...</td>\n",
       "      <td>0.790406</td>\n",
       "      <td>933.068215</td>\n",
       "      <td>1.133958</td>\n",
       "      <td>371.814129</td>\n",
       "      <td>521.100299</td>\n",
       "      <td>0.092416</td>\n",
       "      <td>746.0</td>\n",
       "      <td>0.308615</td>\n",
       "      <td>1.521789</td>\n",
       "      <td>0</td>\n",
       "    </tr>\n",
       "    <tr>\n",
       "      <th>1</th>\n",
       "      <td>1.977537e+06</td>\n",
       "      <td>5.242329e+06</td>\n",
       "      <td>893.412794</td>\n",
       "      <td>0.114306</td>\n",
       "      <td>0.877906</td>\n",
       "      <td>0.221938</td>\n",
       "      <td>0.397675</td>\n",
       "      <td>0.110456</td>\n",
       "      <td>1135.577646</td>\n",
       "      <td>0.925616</td>\n",
       "      <td>...</td>\n",
       "      <td>0.783676</td>\n",
       "      <td>943.017294</td>\n",
       "      <td>1.147080</td>\n",
       "      <td>363.356412</td>\n",
       "      <td>518.349456</td>\n",
       "      <td>0.077285</td>\n",
       "      <td>746.0</td>\n",
       "      <td>0.308615</td>\n",
       "      <td>1.521789</td>\n",
       "      <td>0</td>\n",
       "    </tr>\n",
       "    <tr>\n",
       "      <th>2</th>\n",
       "      <td>1.977537e+06</td>\n",
       "      <td>5.242329e+06</td>\n",
       "      <td>893.350233</td>\n",
       "      <td>0.069191</td>\n",
       "      <td>0.921435</td>\n",
       "      <td>0.225106</td>\n",
       "      <td>0.400131</td>\n",
       "      <td>0.109770</td>\n",
       "      <td>1088.308161</td>\n",
       "      <td>0.973620</td>\n",
       "      <td>...</td>\n",
       "      <td>0.776052</td>\n",
       "      <td>953.072758</td>\n",
       "      <td>1.147944</td>\n",
       "      <td>362.809773</td>\n",
       "      <td>517.876294</td>\n",
       "      <td>0.062526</td>\n",
       "      <td>746.0</td>\n",
       "      <td>0.308615</td>\n",
       "      <td>1.521789</td>\n",
       "      <td>0</td>\n",
       "    </tr>\n",
       "    <tr>\n",
       "      <th>3</th>\n",
       "      <td>1.977537e+06</td>\n",
       "      <td>5.242329e+06</td>\n",
       "      <td>893.513106</td>\n",
       "      <td>0.086685</td>\n",
       "      <td>0.903080</td>\n",
       "      <td>0.210424</td>\n",
       "      <td>0.364487</td>\n",
       "      <td>0.106054</td>\n",
       "      <td>1332.374959</td>\n",
       "      <td>0.817127</td>\n",
       "      <td>...</td>\n",
       "      <td>0.794486</td>\n",
       "      <td>929.007483</td>\n",
       "      <td>1.142140</td>\n",
       "      <td>366.506293</td>\n",
       "      <td>531.257561</td>\n",
       "      <td>0.103562</td>\n",
       "      <td>746.0</td>\n",
       "      <td>0.308615</td>\n",
       "      <td>1.521789</td>\n",
       "      <td>0</td>\n",
       "    </tr>\n",
       "    <tr>\n",
       "      <th>4</th>\n",
       "      <td>1.977537e+06</td>\n",
       "      <td>5.242329e+06</td>\n",
       "      <td>893.286024</td>\n",
       "      <td>0.041353</td>\n",
       "      <td>0.950119</td>\n",
       "      <td>0.228971</td>\n",
       "      <td>0.415848</td>\n",
       "      <td>0.113795</td>\n",
       "      <td>1034.121211</td>\n",
       "      <td>0.970630</td>\n",
       "      <td>...</td>\n",
       "      <td>0.767715</td>\n",
       "      <td>963.596787</td>\n",
       "      <td>1.146678</td>\n",
       "      <td>363.611172</td>\n",
       "      <td>511.831757</td>\n",
       "      <td>0.050390</td>\n",
       "      <td>746.0</td>\n",
       "      <td>0.308615</td>\n",
       "      <td>1.521789</td>\n",
       "      <td>0</td>\n",
       "    </tr>\n",
       "  </tbody>\n",
       "</table>\n",
       "<p>5 rows × 73 columns</p>\n",
       "</div>"
      ],
      "text/plain": [
       "              x             y           z  alpha_50   beta_50  radius_50  \\\n",
       "0  1.977537e+06  5.242329e+06  893.466154  0.102856  0.888538   0.213368   \n",
       "1  1.977537e+06  5.242329e+06  893.412794  0.114306  0.877906   0.221938   \n",
       "2  1.977537e+06  5.242329e+06  893.350233  0.069191  0.921435   0.225106   \n",
       "3  1.977537e+06  5.242329e+06  893.513106  0.086685  0.903080   0.210424   \n",
       "4  1.977537e+06  5.242329e+06  893.286024  0.041353  0.950119   0.228971   \n",
       "\n",
       "   z_range_50  std_dev_50   density_50  verticality_50  ...    \\\n",
       "0    0.376617    0.105810  1277.996295        0.868071  ...     \n",
       "1    0.397675    0.110456  1135.577646        0.925616  ...     \n",
       "2    0.400131    0.109770  1088.308161        0.973620  ...     \n",
       "3    0.364487    0.106054  1332.374959        0.817127  ...     \n",
       "4    0.415848    0.113795  1034.121211        0.970630  ...     \n",
       "\n",
       "   eigenentropy_1500  eigenvalue_sum_1500  radius_2D_1500  density_2D_1500  \\\n",
       "0           0.790406           933.068215        1.133958       371.814129   \n",
       "1           0.783676           943.017294        1.147080       363.356412   \n",
       "2           0.776052           953.072758        1.147944       362.809773   \n",
       "3           0.794486           929.007483        1.142140       366.506293   \n",
       "4           0.767715           963.596787        1.146678       363.611172   \n",
       "\n",
       "   eigenvalue_sum_2D_1500  eigenvalue_ratio_2D_1500  bin_density_1500  \\\n",
       "0              521.100299                  0.092416             746.0   \n",
       "1              518.349456                  0.077285             746.0   \n",
       "2              517.876294                  0.062526             746.0   \n",
       "3              531.257561                  0.103562             746.0   \n",
       "4              511.831757                  0.050390             746.0   \n",
       "\n",
       "   bin_z_range_1500  bin_z_std_1500  label  \n",
       "0          0.308615        1.521789      0  \n",
       "1          0.308615        1.521789      0  \n",
       "2          0.308615        1.521789      0  \n",
       "3          0.308615        1.521789      0  \n",
       "4          0.308615        1.521789      0  \n",
       "\n",
       "[5 rows x 73 columns]"
      ]
     },
     "execution_count": 29,
     "metadata": {},
     "output_type": "execute_result"
    }
   ],
   "source": [
    "datasets.head()"
   ]
  },
  {
   "cell_type": "markdown",
   "metadata": {},
   "source": [
    "### Data shuffle & petit clean-up"
   ]
  },
  {
   "cell_type": "code",
   "execution_count": 30,
   "metadata": {},
   "outputs": [
    {
     "data": {
      "text/plain": [
       "Index(['x', 'y', 'z', 'alpha_50', 'beta_50', 'radius_50', 'z_range_50',\n",
       "       'std_dev_50', 'density_50', 'verticality_50', 'curvature_change_50',\n",
       "       'linearity_50', 'planarity_50', 'scattering_50', 'omnivariance_50',\n",
       "       'anisotropy_50', 'eigenentropy_50', 'eigenvalue_sum_50', 'radius_2D_50',\n",
       "       'density_2D_50', 'eigenvalue_sum_2D_50', 'eigenvalue_ratio_2D_50',\n",
       "       'bin_density_50', 'bin_z_range_50', 'bin_z_std_50', 'r', 'g', 'b',\n",
       "       'alpha_200', 'beta_200', 'radius_200', 'z_range_200', 'std_dev_200',\n",
       "       'density_200', 'verticality_200', 'curvature_change_200',\n",
       "       'linearity_200', 'planarity_200', 'scattering_200', 'omnivariance_200',\n",
       "       'anisotropy_200', 'eigenentropy_200', 'eigenvalue_sum_200',\n",
       "       'radius_2D_200', 'density_2D_200', 'eigenvalue_sum_2D_200',\n",
       "       'eigenvalue_ratio_2D_200', 'bin_density_200', 'bin_z_range_200',\n",
       "       'bin_z_std_200', 'alpha_1500', 'beta_1500', 'radius_1500',\n",
       "       'z_range_1500', 'std_dev_1500', 'density_1500', 'verticality_1500',\n",
       "       'curvature_change_1500', 'linearity_1500', 'planarity_1500',\n",
       "       'scattering_1500', 'omnivariance_1500', 'anisotropy_1500',\n",
       "       'eigenentropy_1500', 'eigenvalue_sum_1500', 'radius_2D_1500',\n",
       "       'density_2D_1500', 'eigenvalue_sum_2D_1500', 'eigenvalue_ratio_2D_1500',\n",
       "       'bin_density_1500', 'bin_z_range_1500', 'bin_z_std_1500', 'label'],\n",
       "      dtype='object')"
      ]
     },
     "execution_count": 30,
     "metadata": {},
     "output_type": "execute_result"
    }
   ],
   "source": [
    "datasets.columns"
   ]
  },
  {
   "cell_type": "code",
   "execution_count": 31,
   "metadata": {},
   "outputs": [],
   "source": [
    "# on shuffle un peu tout ça\n",
    "datasets = datasets.sample(frac=1.)"
   ]
  },
  {
   "cell_type": "code",
   "execution_count": 32,
   "metadata": {},
   "outputs": [
    {
     "data": {
      "text/html": [
       "<div>\n",
       "<style scoped>\n",
       "    .dataframe tbody tr th:only-of-type {\n",
       "        vertical-align: middle;\n",
       "    }\n",
       "\n",
       "    .dataframe tbody tr th {\n",
       "        vertical-align: top;\n",
       "    }\n",
       "\n",
       "    .dataframe thead th {\n",
       "        text-align: right;\n",
       "    }\n",
       "</style>\n",
       "<table border=\"1\" class=\"dataframe\">\n",
       "  <thead>\n",
       "    <tr style=\"text-align: right;\">\n",
       "      <th></th>\n",
       "      <th>x</th>\n",
       "      <th>y</th>\n",
       "      <th>z</th>\n",
       "      <th>alpha_50</th>\n",
       "      <th>beta_50</th>\n",
       "      <th>radius_50</th>\n",
       "      <th>z_range_50</th>\n",
       "      <th>std_dev_50</th>\n",
       "      <th>density_50</th>\n",
       "      <th>verticality_50</th>\n",
       "      <th>...</th>\n",
       "      <th>eigenentropy_1500</th>\n",
       "      <th>eigenvalue_sum_1500</th>\n",
       "      <th>radius_2D_1500</th>\n",
       "      <th>density_2D_1500</th>\n",
       "      <th>eigenvalue_sum_2D_1500</th>\n",
       "      <th>eigenvalue_ratio_2D_1500</th>\n",
       "      <th>bin_density_1500</th>\n",
       "      <th>bin_z_range_1500</th>\n",
       "      <th>bin_z_std_1500</th>\n",
       "      <th>label</th>\n",
       "    </tr>\n",
       "  </thead>\n",
       "  <tbody>\n",
       "    <tr>\n",
       "      <th>26</th>\n",
       "      <td>1.977541e+06</td>\n",
       "      <td>5.242310e+06</td>\n",
       "      <td>906.977934</td>\n",
       "      <td>0.055589</td>\n",
       "      <td>0.943918</td>\n",
       "      <td>0.197631</td>\n",
       "      <td>0.333862</td>\n",
       "      <td>0.089334</td>\n",
       "      <td>1608.224234</td>\n",
       "      <td>0.527626</td>\n",
       "      <td>...</td>\n",
       "      <td>0.697107</td>\n",
       "      <td>811.731317</td>\n",
       "      <td>1.032571</td>\n",
       "      <td>448.415050</td>\n",
       "      <td>495.121143</td>\n",
       "      <td>0.206157</td>\n",
       "      <td>1147.0</td>\n",
       "      <td>0.626740</td>\n",
       "      <td>2.679443</td>\n",
       "      <td>1</td>\n",
       "    </tr>\n",
       "    <tr>\n",
       "      <th>14490</th>\n",
       "      <td>1.977561e+06</td>\n",
       "      <td>5.242287e+06</td>\n",
       "      <td>934.439032</td>\n",
       "      <td>0.264057</td>\n",
       "      <td>0.582961</td>\n",
       "      <td>0.382175</td>\n",
       "      <td>0.539627</td>\n",
       "      <td>0.163701</td>\n",
       "      <td>222.395819</td>\n",
       "      <td>0.595541</td>\n",
       "      <td>...</td>\n",
       "      <td>0.819631</td>\n",
       "      <td>3586.974887</td>\n",
       "      <td>2.172144</td>\n",
       "      <td>101.331150</td>\n",
       "      <td>3013.936403</td>\n",
       "      <td>0.422097</td>\n",
       "      <td>177.0</td>\n",
       "      <td>0.343492</td>\n",
       "      <td>1.376404</td>\n",
       "      <td>2</td>\n",
       "    </tr>\n",
       "    <tr>\n",
       "      <th>10355</th>\n",
       "      <td>1.977558e+06</td>\n",
       "      <td>5.242286e+06</td>\n",
       "      <td>933.964423</td>\n",
       "      <td>0.058667</td>\n",
       "      <td>0.891091</td>\n",
       "      <td>0.320800</td>\n",
       "      <td>0.486099</td>\n",
       "      <td>0.128339</td>\n",
       "      <td>376.019715</td>\n",
       "      <td>0.434515</td>\n",
       "      <td>...</td>\n",
       "      <td>0.845437</td>\n",
       "      <td>2550.948356</td>\n",
       "      <td>1.877664</td>\n",
       "      <td>135.607619</td>\n",
       "      <td>1849.379067</td>\n",
       "      <td>0.494107</td>\n",
       "      <td>780.0</td>\n",
       "      <td>1.068848</td>\n",
       "      <td>3.659027</td>\n",
       "      <td>2</td>\n",
       "    </tr>\n",
       "    <tr>\n",
       "      <th>21880</th>\n",
       "      <td>1.977544e+06</td>\n",
       "      <td>5.242328e+06</td>\n",
       "      <td>898.548949</td>\n",
       "      <td>0.040644</td>\n",
       "      <td>0.931116</td>\n",
       "      <td>0.179876</td>\n",
       "      <td>0.134354</td>\n",
       "      <td>0.034608</td>\n",
       "      <td>2133.003876</td>\n",
       "      <td>0.066047</td>\n",
       "      <td>...</td>\n",
       "      <td>0.860191</td>\n",
       "      <td>549.003304</td>\n",
       "      <td>0.855635</td>\n",
       "      <td>653.044590</td>\n",
       "      <td>474.831210</td>\n",
       "      <td>0.737394</td>\n",
       "      <td>1057.0</td>\n",
       "      <td>0.209751</td>\n",
       "      <td>0.835526</td>\n",
       "      <td>0</td>\n",
       "    </tr>\n",
       "    <tr>\n",
       "      <th>29740</th>\n",
       "      <td>1.977548e+06</td>\n",
       "      <td>5.242311e+06</td>\n",
       "      <td>912.366087</td>\n",
       "      <td>0.078451</td>\n",
       "      <td>0.920908</td>\n",
       "      <td>0.184410</td>\n",
       "      <td>0.326294</td>\n",
       "      <td>0.087877</td>\n",
       "      <td>1979.541286</td>\n",
       "      <td>0.569688</td>\n",
       "      <td>...</td>\n",
       "      <td>0.696517</td>\n",
       "      <td>830.069680</td>\n",
       "      <td>1.053649</td>\n",
       "      <td>430.653296</td>\n",
       "      <td>481.286475</td>\n",
       "      <td>0.192294</td>\n",
       "      <td>1331.0</td>\n",
       "      <td>0.686180</td>\n",
       "      <td>3.137115</td>\n",
       "      <td>1</td>\n",
       "    </tr>\n",
       "  </tbody>\n",
       "</table>\n",
       "<p>5 rows × 73 columns</p>\n",
       "</div>"
      ],
      "text/plain": [
       "                  x             y           z  alpha_50   beta_50  radius_50  \\\n",
       "26     1.977541e+06  5.242310e+06  906.977934  0.055589  0.943918   0.197631   \n",
       "14490  1.977561e+06  5.242287e+06  934.439032  0.264057  0.582961   0.382175   \n",
       "10355  1.977558e+06  5.242286e+06  933.964423  0.058667  0.891091   0.320800   \n",
       "21880  1.977544e+06  5.242328e+06  898.548949  0.040644  0.931116   0.179876   \n",
       "29740  1.977548e+06  5.242311e+06  912.366087  0.078451  0.920908   0.184410   \n",
       "\n",
       "       z_range_50  std_dev_50   density_50  verticality_50  ...    \\\n",
       "26       0.333862    0.089334  1608.224234        0.527626  ...     \n",
       "14490    0.539627    0.163701   222.395819        0.595541  ...     \n",
       "10355    0.486099    0.128339   376.019715        0.434515  ...     \n",
       "21880    0.134354    0.034608  2133.003876        0.066047  ...     \n",
       "29740    0.326294    0.087877  1979.541286        0.569688  ...     \n",
       "\n",
       "       eigenentropy_1500  eigenvalue_sum_1500  radius_2D_1500  \\\n",
       "26              0.697107           811.731317        1.032571   \n",
       "14490           0.819631          3586.974887        2.172144   \n",
       "10355           0.845437          2550.948356        1.877664   \n",
       "21880           0.860191           549.003304        0.855635   \n",
       "29740           0.696517           830.069680        1.053649   \n",
       "\n",
       "       density_2D_1500  eigenvalue_sum_2D_1500  eigenvalue_ratio_2D_1500  \\\n",
       "26          448.415050              495.121143                  0.206157   \n",
       "14490       101.331150             3013.936403                  0.422097   \n",
       "10355       135.607619             1849.379067                  0.494107   \n",
       "21880       653.044590              474.831210                  0.737394   \n",
       "29740       430.653296              481.286475                  0.192294   \n",
       "\n",
       "       bin_density_1500  bin_z_range_1500  bin_z_std_1500  label  \n",
       "26               1147.0          0.626740        2.679443      1  \n",
       "14490             177.0          0.343492        1.376404      2  \n",
       "10355             780.0          1.068848        3.659027      2  \n",
       "21880            1057.0          0.209751        0.835526      0  \n",
       "29740            1331.0          0.686180        3.137115      1  \n",
       "\n",
       "[5 rows x 73 columns]"
      ]
     },
     "execution_count": 32,
     "metadata": {},
     "output_type": "execute_result"
    }
   ],
   "source": [
    "datasets.head()"
   ]
  },
  {
   "cell_type": "markdown",
   "metadata": {},
   "source": [
    "On va retirer quelques colonnes (des /features/ qui nous semblent trop redondantes ou corrélées). Il vaut mieux éviter la multicolinéarité."
   ]
  },
  {
   "cell_type": "code",
   "execution_count": 33,
   "metadata": {},
   "outputs": [
    {
     "data": {
      "text/plain": [
       "['bin_z_range_50',\n",
       " 'bin_z_range_200',\n",
       " 'bin_z_range_1500',\n",
       " 'bin_z_std_50',\n",
       " 'bin_z_std_200',\n",
       " 'bin_z_std_1500',\n",
       " 'bin_density_50',\n",
       " 'bin_density_200',\n",
       " 'bin_density_1500',\n",
       " 'planarity_50',\n",
       " 'planarity_200',\n",
       " 'planarity_1500',\n",
       " 'eigenvalue_ratio_2D_50',\n",
       " 'eigenvalue_ratio_2D_200',\n",
       " 'eigenvalue_ratio_2D_1500',\n",
       " 'eigenvalue_sum_2D_50',\n",
       " 'eigenvalue_sum_2D_200',\n",
       " 'eigenvalue_sum_2D_1500',\n",
       " 'eigenvalue_sum_50',\n",
       " 'eigenvalue_sum_200',\n",
       " 'eigenvalue_sum_1500',\n",
       " 'radius_2D_50',\n",
       " 'radius_2D_200',\n",
       " 'radius_2D_1500',\n",
       " 'std_dev_50',\n",
       " 'std_dev_200',\n",
       " 'std_dev_1500',\n",
       " 'density_2D_50',\n",
       " 'density_2D_200',\n",
       " 'density_2D_1500',\n",
       " 'scattering_50',\n",
       " 'scattering_200',\n",
       " 'scattering_1500',\n",
       " 'omnivariance_50',\n",
       " 'omnivariance_200',\n",
       " 'omnivariance_1500',\n",
       " 'curvature_change_50',\n",
       " 'curvature_change_200',\n",
       " 'curvature_change_1500']"
      ]
     },
     "execution_count": 33,
     "metadata": {},
     "output_type": "execute_result"
    }
   ],
   "source": [
    "# celles qui sont corrélées à certaines, les z- accumulation features, etc.\n",
    "def complete_with_voisin(name, neighbors):\n",
    "    \"on complète juste le nom de la features avec le suffix '_{num_voisin}'\"\n",
    "    return [name + \"_{}\".format(x) for x in neighbors]\n",
    "\n",
    "drop_cols = [\"bin_z_range\", \"bin_z_std\", \"bin_density\", \"planarity\", \"eigenvalue_ratio_2D\",\n",
    "             \"eigenvalue_sum_2D\", \"eigenvalue_sum\", \"radius_2D\", \"std_dev\", \"density_2D\",\n",
    "             \"scattering\", \"omnivariance\", \"curvature_change\"]\n",
    "full_cols_to_drop = sum((complete_with_voisin(x, [50, 200, 1500]) for x in drop_cols), [])\n",
    "full_cols_to_drop"
   ]
  },
  {
   "cell_type": "code",
   "execution_count": 34,
   "metadata": {},
   "outputs": [],
   "source": [
    "clean_dataset = (datasets.drop(columns=full_cols_to_drop)\n",
    "                 .drop(columns=[\"x\", \"y\", \"z\"]))"
   ]
  },
  {
   "cell_type": "code",
   "execution_count": 35,
   "metadata": {},
   "outputs": [
    {
     "name": "stdout",
     "output_type": "stream",
     "text": [
      "(73651, 31)\n"
     ]
    },
    {
     "data": {
      "text/html": [
       "<div>\n",
       "<style scoped>\n",
       "    .dataframe tbody tr th:only-of-type {\n",
       "        vertical-align: middle;\n",
       "    }\n",
       "\n",
       "    .dataframe tbody tr th {\n",
       "        vertical-align: top;\n",
       "    }\n",
       "\n",
       "    .dataframe thead th {\n",
       "        text-align: right;\n",
       "    }\n",
       "</style>\n",
       "<table border=\"1\" class=\"dataframe\">\n",
       "  <thead>\n",
       "    <tr style=\"text-align: right;\">\n",
       "      <th></th>\n",
       "      <th>alpha_50</th>\n",
       "      <th>beta_50</th>\n",
       "      <th>radius_50</th>\n",
       "      <th>z_range_50</th>\n",
       "      <th>density_50</th>\n",
       "      <th>verticality_50</th>\n",
       "      <th>linearity_50</th>\n",
       "      <th>anisotropy_50</th>\n",
       "      <th>eigenentropy_50</th>\n",
       "      <th>r</th>\n",
       "      <th>...</th>\n",
       "      <th>alpha_1500</th>\n",
       "      <th>beta_1500</th>\n",
       "      <th>radius_1500</th>\n",
       "      <th>z_range_1500</th>\n",
       "      <th>density_1500</th>\n",
       "      <th>verticality_1500</th>\n",
       "      <th>linearity_1500</th>\n",
       "      <th>anisotropy_1500</th>\n",
       "      <th>eigenentropy_1500</th>\n",
       "      <th>label</th>\n",
       "    </tr>\n",
       "  </thead>\n",
       "  <tbody>\n",
       "    <tr>\n",
       "      <th>26</th>\n",
       "      <td>0.055589</td>\n",
       "      <td>0.943918</td>\n",
       "      <td>0.197631</td>\n",
       "      <td>0.333862</td>\n",
       "      <td>1608.224234</td>\n",
       "      <td>0.527626</td>\n",
       "      <td>0.105340</td>\n",
       "      <td>0.999689</td>\n",
       "      <td>0.693083</td>\n",
       "      <td>138.0</td>\n",
       "      <td>...</td>\n",
       "      <td>0.013373</td>\n",
       "      <td>0.985086</td>\n",
       "      <td>1.035869</td>\n",
       "      <td>1.827591</td>\n",
       "      <td>322.601531</td>\n",
       "      <td>0.541394</td>\n",
       "      <td>0.026406</td>\n",
       "      <td>0.998985</td>\n",
       "      <td>0.697107</td>\n",
       "      <td>1</td>\n",
       "    </tr>\n",
       "    <tr>\n",
       "      <th>14490</th>\n",
       "      <td>0.264057</td>\n",
       "      <td>0.582961</td>\n",
       "      <td>0.382175</td>\n",
       "      <td>0.539627</td>\n",
       "      <td>222.395819</td>\n",
       "      <td>0.595541</td>\n",
       "      <td>0.435355</td>\n",
       "      <td>0.915925</td>\n",
       "      <td>0.822007</td>\n",
       "      <td>168.0</td>\n",
       "      <td>...</td>\n",
       "      <td>0.309395</td>\n",
       "      <td>0.520960</td>\n",
       "      <td>2.181910</td>\n",
       "      <td>2.752838</td>\n",
       "      <td>34.519989</td>\n",
       "      <td>0.166851</td>\n",
       "      <td>0.493908</td>\n",
       "      <td>0.909729</td>\n",
       "      <td>0.819631</td>\n",
       "      <td>2</td>\n",
       "    </tr>\n",
       "    <tr>\n",
       "      <th>10355</th>\n",
       "      <td>0.058667</td>\n",
       "      <td>0.891091</td>\n",
       "      <td>0.320800</td>\n",
       "      <td>0.486099</td>\n",
       "      <td>376.019715</td>\n",
       "      <td>0.434515</td>\n",
       "      <td>0.112614</td>\n",
       "      <td>0.967853</td>\n",
       "      <td>0.764882</td>\n",
       "      <td>101.0</td>\n",
       "      <td>...</td>\n",
       "      <td>0.037227</td>\n",
       "      <td>0.826901</td>\n",
       "      <td>1.880699</td>\n",
       "      <td>3.499130</td>\n",
       "      <td>53.904330</td>\n",
       "      <td>0.322411</td>\n",
       "      <td>0.075059</td>\n",
       "      <td>0.908682</td>\n",
       "      <td>0.845437</td>\n",
       "      <td>2</td>\n",
       "    </tr>\n",
       "    <tr>\n",
       "      <th>21880</th>\n",
       "      <td>0.040644</td>\n",
       "      <td>0.931116</td>\n",
       "      <td>0.179876</td>\n",
       "      <td>0.134354</td>\n",
       "      <td>2133.003876</td>\n",
       "      <td>0.066047</td>\n",
       "      <td>0.078825</td>\n",
       "      <td>0.981743</td>\n",
       "      <td>0.739077</td>\n",
       "      <td>171.0</td>\n",
       "      <td>...</td>\n",
       "      <td>0.089524</td>\n",
       "      <td>0.750427</td>\n",
       "      <td>0.858390</td>\n",
       "      <td>0.931305</td>\n",
       "      <td>566.927551</td>\n",
       "      <td>0.105756</td>\n",
       "      <td>0.172797</td>\n",
       "      <td>0.897025</td>\n",
       "      <td>0.860191</td>\n",
       "      <td>0</td>\n",
       "    </tr>\n",
       "    <tr>\n",
       "      <th>29740</th>\n",
       "      <td>0.078451</td>\n",
       "      <td>0.920908</td>\n",
       "      <td>0.184410</td>\n",
       "      <td>0.326294</td>\n",
       "      <td>1979.541286</td>\n",
       "      <td>0.569688</td>\n",
       "      <td>0.145516</td>\n",
       "      <td>0.999603</td>\n",
       "      <td>0.691940</td>\n",
       "      <td>151.0</td>\n",
       "      <td>...</td>\n",
       "      <td>0.026951</td>\n",
       "      <td>0.971644</td>\n",
       "      <td>1.062733</td>\n",
       "      <td>1.897278</td>\n",
       "      <td>298.750669</td>\n",
       "      <td>0.574021</td>\n",
       "      <td>0.052511</td>\n",
       "      <td>0.999088</td>\n",
       "      <td>0.696517</td>\n",
       "      <td>1</td>\n",
       "    </tr>\n",
       "  </tbody>\n",
       "</table>\n",
       "<p>5 rows × 31 columns</p>\n",
       "</div>"
      ],
      "text/plain": [
       "       alpha_50   beta_50  radius_50  z_range_50   density_50  verticality_50  \\\n",
       "26     0.055589  0.943918   0.197631    0.333862  1608.224234        0.527626   \n",
       "14490  0.264057  0.582961   0.382175    0.539627   222.395819        0.595541   \n",
       "10355  0.058667  0.891091   0.320800    0.486099   376.019715        0.434515   \n",
       "21880  0.040644  0.931116   0.179876    0.134354  2133.003876        0.066047   \n",
       "29740  0.078451  0.920908   0.184410    0.326294  1979.541286        0.569688   \n",
       "\n",
       "       linearity_50  anisotropy_50  eigenentropy_50      r  ...    alpha_1500  \\\n",
       "26         0.105340       0.999689         0.693083  138.0  ...      0.013373   \n",
       "14490      0.435355       0.915925         0.822007  168.0  ...      0.309395   \n",
       "10355      0.112614       0.967853         0.764882  101.0  ...      0.037227   \n",
       "21880      0.078825       0.981743         0.739077  171.0  ...      0.089524   \n",
       "29740      0.145516       0.999603         0.691940  151.0  ...      0.026951   \n",
       "\n",
       "       beta_1500  radius_1500  z_range_1500  density_1500  verticality_1500  \\\n",
       "26      0.985086     1.035869      1.827591    322.601531          0.541394   \n",
       "14490   0.520960     2.181910      2.752838     34.519989          0.166851   \n",
       "10355   0.826901     1.880699      3.499130     53.904330          0.322411   \n",
       "21880   0.750427     0.858390      0.931305    566.927551          0.105756   \n",
       "29740   0.971644     1.062733      1.897278    298.750669          0.574021   \n",
       "\n",
       "       linearity_1500  anisotropy_1500  eigenentropy_1500  label  \n",
       "26           0.026406         0.998985           0.697107      1  \n",
       "14490        0.493908         0.909729           0.819631      2  \n",
       "10355        0.075059         0.908682           0.845437      2  \n",
       "21880        0.172797         0.897025           0.860191      0  \n",
       "29740        0.052511         0.999088           0.696517      1  \n",
       "\n",
       "[5 rows x 31 columns]"
      ]
     },
     "execution_count": 35,
     "metadata": {},
     "output_type": "execute_result"
    }
   ],
   "source": [
    "print(clean_dataset.shape)\n",
    "clean_dataset.head()"
   ]
  },
  {
   "cell_type": "code",
   "execution_count": 36,
   "metadata": {},
   "outputs": [
    {
     "data": {
      "text/plain": [
       "Index(['alpha_50', 'beta_50', 'radius_50', 'z_range_50', 'density_50',\n",
       "       'verticality_50', 'linearity_50', 'anisotropy_50', 'eigenentropy_50',\n",
       "       'r', 'g', 'b', 'alpha_200', 'beta_200', 'radius_200', 'z_range_200',\n",
       "       'density_200', 'verticality_200', 'linearity_200', 'anisotropy_200',\n",
       "       'eigenentropy_200', 'alpha_1500', 'beta_1500', 'radius_1500',\n",
       "       'z_range_1500', 'density_1500', 'verticality_1500', 'linearity_1500',\n",
       "       'anisotropy_1500', 'eigenentropy_1500', 'label'],\n",
       "      dtype='object')"
      ]
     },
     "execution_count": 36,
     "metadata": {},
     "output_type": "execute_result"
    }
   ],
   "source": [
    "clean_dataset.columns"
   ]
  },
  {
   "cell_type": "markdown",
   "metadata": {},
   "source": [
    "### Entrainement / Regression Logistique"
   ]
  },
  {
   "cell_type": "code",
   "execution_count": 38,
   "metadata": {},
   "outputs": [],
   "source": [
    "# notre modèle\n",
    "lr = LogisticRegression(random_state=42, solver=\"lbfgs\", multi_class=\"multinomial\", max_iter=200)"
   ]
  },
  {
   "cell_type": "code",
   "execution_count": 39,
   "metadata": {},
   "outputs": [],
   "source": [
    "#  notre classifier qui est une composition d'une normalisation + logistic regression\n",
    "clf = make_pipeline(preprocessing.MinMaxScaler(), lr)"
   ]
  },
  {
   "cell_type": "code",
   "execution_count": 40,
   "metadata": {},
   "outputs": [
    {
     "name": "stderr",
     "output_type": "stream",
     "text": [
      "[11:51:17] warnings._showwarnmsg (WARNING) - /home/dag/.local/share/virtualenvs/geo3d/lib/python3.7/site-packages/sklearn/linear_model/logistic.py:947: ConvergenceWarning: lbfgs failed to converge. Increase the number of iterations.\n",
      "  \"of iterations.\", ConvergenceWarning)\n",
      "\n",
      "[11:51:24] warnings._showwarnmsg (WARNING) - /home/dag/.local/share/virtualenvs/geo3d/lib/python3.7/site-packages/sklearn/linear_model/logistic.py:947: ConvergenceWarning: lbfgs failed to converge. Increase the number of iterations.\n",
      "  \"of iterations.\", ConvergenceWarning)\n",
      "\n",
      "[11:51:33] warnings._showwarnmsg (WARNING) - /home/dag/.local/share/virtualenvs/geo3d/lib/python3.7/site-packages/sklearn/linear_model/logistic.py:947: ConvergenceWarning: lbfgs failed to converge. Increase the number of iterations.\n",
      "  \"of iterations.\", ConvergenceWarning)\n",
      "\n",
      "[11:51:41] warnings._showwarnmsg (WARNING) - /home/dag/.local/share/virtualenvs/geo3d/lib/python3.7/site-packages/sklearn/linear_model/logistic.py:947: ConvergenceWarning: lbfgs failed to converge. Increase the number of iterations.\n",
      "  \"of iterations.\", ConvergenceWarning)\n",
      "\n",
      "[11:51:49] warnings._showwarnmsg (WARNING) - /home/dag/.local/share/virtualenvs/geo3d/lib/python3.7/site-packages/sklearn/linear_model/logistic.py:947: ConvergenceWarning: lbfgs failed to converge. Increase the number of iterations.\n",
      "  \"of iterations.\", ConvergenceWarning)\n",
      "\n"
     ]
    }
   ],
   "source": [
    "# Cross-validation. ici cv=5, i.e. qu'on va entrainer/tester 5 fois de suite avec des jeux train/test différents (et stratifiés)\n",
    "scores = cross_val_score(clf, clean_dataset.drop(columns=\"label\"), clean_dataset[\"label\"], cv=5)"
   ]
  },
  {
   "cell_type": "code",
   "execution_count": 43,
   "metadata": {},
   "outputs": [
    {
     "data": {
      "text/plain": [
       "array([0.99823501, 0.99884589, 0.99816701, 0.99891378, 0.99911745])"
      ]
     },
     "execution_count": 43,
     "metadata": {},
     "output_type": "execute_result"
    }
   ],
   "source": [
    "# scores de précision pour chaque cross-validation\n",
    "scores\n",
    "# très proche de 1!!! Overfitting ??"
   ]
  },
  {
   "cell_type": "code",
   "execution_count": 44,
   "metadata": {},
   "outputs": [
    {
     "name": "stderr",
     "output_type": "stream",
     "text": [
      "[11:52:43] warnings._showwarnmsg (WARNING) - /home/dag/.local/share/virtualenvs/geo3d/lib/python3.7/site-packages/sklearn/linear_model/logistic.py:947: ConvergenceWarning: lbfgs failed to converge. Increase the number of iterations.\n",
      "  \"of iterations.\", ConvergenceWarning)\n",
      "\n"
     ]
    },
    {
     "data": {
      "text/plain": [
       "Pipeline(memory=None,\n",
       "         steps=[('minmaxscaler', MinMaxScaler(copy=True, feature_range=(0, 1))),\n",
       "                ('logisticregression',\n",
       "                 LogisticRegression(C=1.0, class_weight=None, dual=False,\n",
       "                                    fit_intercept=True, intercept_scaling=1,\n",
       "                                    l1_ratio=None, max_iter=200,\n",
       "                                    multi_class='multinomial', n_jobs=None,\n",
       "                                    penalty='l2', random_state=42,\n",
       "                                    solver='lbfgs', tol=0.0001, verbose=0,\n",
       "                                    warm_start=False))],\n",
       "         verbose=False)"
      ]
     },
     "execution_count": 44,
     "metadata": {},
     "output_type": "execute_result"
    }
   ],
   "source": [
    "# on entraine la totalité du classifier sur tout le jeu.\n",
    "clf.fit(clean_dataset.drop(columns=\"label\"), clean_dataset[\"label\"])"
   ]
  },
  {
   "cell_type": "code",
   "execution_count": 47,
   "metadata": {},
   "outputs": [
    {
     "data": {
      "text/plain": [
       "array([1, 2, 2, 0, 1])"
      ]
     },
     "execution_count": 47,
     "metadata": {},
     "output_type": "execute_result"
    }
   ],
   "source": [
    "# exemple de prédiction des labels pour 5 points de la scène\n",
    "clf.predict(clean_dataset.drop(columns=\"label\").iloc[:5])"
   ]
  },
  {
   "cell_type": "code",
   "execution_count": 48,
   "metadata": {},
   "outputs": [
    {
     "data": {
      "text/plain": [
       "array([[2.15912377e-03, 9.97811748e-01, 2.91279335e-05],\n",
       "       [4.64874332e-03, 3.26550420e-16, 9.95351257e-01],\n",
       "       [3.52132892e-05, 4.16764003e-05, 9.99923110e-01],\n",
       "       [9.99999367e-01, 1.87517032e-12, 6.32711369e-07],\n",
       "       [4.74440072e-03, 9.95244001e-01, 1.15985651e-05]])"
      ]
     },
     "execution_count": 48,
     "metadata": {},
     "output_type": "execute_result"
    }
   ],
   "source": [
    "# exemple de prédiction de **proba** pour 5 points de la scène\n",
    "clf.predict_proba(clean_dataset.drop(columns=\"label\").iloc[:5])"
   ]
  },
  {
   "cell_type": "markdown",
   "metadata": {},
   "source": [
    "### Sérialisation du modèle d'apprentissage"
   ]
  },
  {
   "cell_type": "code",
   "execution_count": 34,
   "metadata": {},
   "outputs": [],
   "source": [
    "import pickle\n",
    "# from joblib import dump"
   ]
  },
  {
   "cell_type": "code",
   "execution_count": 35,
   "metadata": {},
   "outputs": [],
   "source": [
    "with open(\"model-pombourg.pkl\", \"wb\") as fobj:\n",
    "    pickle.dump(clf, fobj)"
   ]
  },
  {
   "cell_type": "markdown",
   "metadata": {},
   "source": [
    "### Prédiction sur l'ensemble de la scène"
   ]
  },
  {
   "cell_type": "markdown",
   "metadata": {},
   "source": [
    "On essaie avec l'ensemble de la scène. Il faut avoir les mêmes colonnes et dans le même sens et normaliser tout pareil."
   ]
  },
  {
   "cell_type": "code",
   "execution_count": 49,
   "metadata": {},
   "outputs": [
    {
     "data": {
      "text/plain": [
       "['planarity_50',\n",
       " 'planarity_200',\n",
       " 'planarity_1500',\n",
       " 'eigenvalue_ratio_2D_50',\n",
       " 'eigenvalue_ratio_2D_200',\n",
       " 'eigenvalue_ratio_2D_1500',\n",
       " 'eigenvalue_sum_2D_50',\n",
       " 'eigenvalue_sum_2D_200',\n",
       " 'eigenvalue_sum_2D_1500',\n",
       " 'eigenvalue_sum_50',\n",
       " 'eigenvalue_sum_200',\n",
       " 'eigenvalue_sum_1500',\n",
       " 'radius_2D_50',\n",
       " 'radius_2D_200',\n",
       " 'radius_2D_1500',\n",
       " 'std_dev_50',\n",
       " 'std_dev_200',\n",
       " 'std_dev_1500',\n",
       " 'density_2D_50',\n",
       " 'density_2D_200',\n",
       " 'density_2D_1500',\n",
       " 'scattering_50',\n",
       " 'scattering_200',\n",
       " 'scattering_1500',\n",
       " 'omnivariance_50',\n",
       " 'omnivariance_200',\n",
       " 'omnivariance_1500',\n",
       " 'curvature_change_50',\n",
       " 'curvature_change_200',\n",
       " 'curvature_change_1500']"
      ]
     },
     "execution_count": 49,
     "metadata": {},
     "output_type": "execute_result"
    }
   ],
   "source": [
    "drop_cols = [\"planarity\", \"eigenvalue_ratio_2D\",\n",
    "            \"eigenvalue_sum_2D\", \"eigenvalue_sum\", \"radius_2D\", \"std_dev\", \"density_2D\",\n",
    "             \"scattering\", \"omnivariance\", \"curvature_change\"]\n",
    "dataset_cols_to_drop = sum((complete_with_voisin(x, [50, 200, 1500]) for x in drop_cols), [])\n",
    "dataset_cols_to_drop"
   ]
  },
  {
   "cell_type": "code",
   "execution_count": 50,
   "metadata": {},
   "outputs": [],
   "source": [
    "cdf = features.drop(columns=dataset_cols_to_drop).drop(columns=[\"x\", \"y\", \"z\"])"
   ]
  },
  {
   "cell_type": "code",
   "execution_count": 51,
   "metadata": {},
   "outputs": [
    {
     "data": {
      "text/plain": [
       "(672193, 30)"
      ]
     },
     "execution_count": 51,
     "metadata": {},
     "output_type": "execute_result"
    }
   ],
   "source": [
    "cdf.shape"
   ]
  },
  {
   "cell_type": "code",
   "execution_count": 52,
   "metadata": {},
   "outputs": [
    {
     "data": {
      "text/plain": [
       "Index(['alpha_50', 'beta_50', 'radius_50', 'z_range_50', 'density_50',\n",
       "       'verticality_50', 'linearity_50', 'anisotropy_50', 'eigenentropy_50',\n",
       "       'r', 'g', 'b', 'alpha_200', 'beta_200', 'radius_200', 'z_range_200',\n",
       "       'density_200', 'verticality_200', 'linearity_200', 'anisotropy_200',\n",
       "       'eigenentropy_200', 'alpha_1500', 'beta_1500', 'radius_1500',\n",
       "       'z_range_1500', 'density_1500', 'verticality_1500', 'linearity_1500',\n",
       "       'anisotropy_1500', 'eigenentropy_1500'],\n",
       "      dtype='object')"
      ]
     },
     "execution_count": 52,
     "metadata": {},
     "output_type": "execute_result"
    }
   ],
   "source": [
    "cdf.columns"
   ]
  },
  {
   "cell_type": "code",
   "execution_count": 53,
   "metadata": {},
   "outputs": [
    {
     "data": {
      "text/plain": [
       "True"
      ]
     },
     "execution_count": 53,
     "metadata": {},
     "output_type": "execute_result"
    }
   ],
   "source": [
    "set(cdf.columns) == set(clean_dataset.drop(columns=\"label\").columns)"
   ]
  },
  {
   "cell_type": "code",
   "execution_count": 54,
   "metadata": {},
   "outputs": [],
   "source": [
    "# normalement, on n'a pas besoin de normaliser chaque features puisque mon classifier est\n",
    "# un pipeline (minmax + log reg)\n",
    "# for name in cdf:\n",
    "#    cdf[name] = max_normalize(cdf[name])"
   ]
  },
  {
   "cell_type": "code",
   "execution_count": 55,
   "metadata": {},
   "outputs": [
    {
     "data": {
      "text/plain": [
       "array([2, 2, 2, 2, 2, 2, 2, 2, 2, 2])"
      ]
     },
     "execution_count": 55,
     "metadata": {},
     "output_type": "execute_result"
    }
   ],
   "source": [
    "clf.predict(cdf.values[:10, :])"
   ]
  },
  {
   "cell_type": "code",
   "execution_count": 56,
   "metadata": {},
   "outputs": [],
   "source": [
    "features[\"label\"] = clf.predict(cdf.values)"
   ]
  },
  {
   "cell_type": "code",
   "execution_count": 57,
   "metadata": {},
   "outputs": [
    {
     "data": {
      "text/plain": [
       "(672193, 64)"
      ]
     },
     "execution_count": 57,
     "metadata": {},
     "output_type": "execute_result"
    }
   ],
   "source": [
    "features.shape"
   ]
  },
  {
   "cell_type": "code",
   "execution_count": 59,
   "metadata": {},
   "outputs": [
    {
     "data": {
      "text/plain": [
       "label\n",
       "0    331598\n",
       "1    219066\n",
       "2    121529\n",
       "Name: label, dtype: int64"
      ]
     },
     "execution_count": 59,
     "metadata": {},
     "output_type": "execute_result"
    }
   ],
   "source": [
    "# Répartition des labels dans la scène total\n",
    "features.groupby(\"label\")[\"label\"].count()"
   ]
  },
  {
   "cell_type": "code",
   "execution_count": 65,
   "metadata": {},
   "outputs": [],
   "source": [
    "def colorize_clusters(points, labels, colors):\n",
    "    \"\"\"Associated a (r, g, b) color for each record of a dataframe, depending\n",
    "    on the cluster id\n",
    "\n",
    "    Parameters\n",
    "    ----------\n",
    "    points : pandas.DataFrame\n",
    "        Set of (x, y, z) points\n",
    "    labels : np.array or pd.Series\n",
    "    colors : dict\n",
    "        Each label, one color\n",
    "\n",
    "    Returns\n",
    "    -------\n",
    "    pandas.DataFrame\n",
    "        Colorized points, i.e. set of (x, y, z, r, g, b) clustered points\n",
    "    \"\"\"\n",
    "    colors = np.array([colors[l] for l in labels]) * 256\n",
    "    colors = pd.DataFrame(colors, columns=[\"r\", \"g\", \"b\"], dtype=np.uint8)\n",
    "    return points.join(colors)"
   ]
  },
  {
   "cell_type": "code",
   "execution_count": 61,
   "metadata": {},
   "outputs": [
    {
     "data": {
      "image/png": "[encoded data removed]",
      "text/plain": [
       "<Figure size 720x72 with 1 Axes>"
      ]
     },
     "metadata": {
      "needs_background": "light"
     },
     "output_type": "display_data"
    }
   ],
   "source": [
    "sns.palplot(sns.color_palette(\"colorblind\"))"
   ]
  },
  {
   "cell_type": "code",
   "execution_count": 63,
   "metadata": {},
   "outputs": [
    {
     "name": "stdout",
     "output_type": "stream",
     "text": [
      "{'eboulis': 0, 'falaise': 1, 'vegetation': 2}\n"
     ]
    },
    {
     "data": {
      "text/plain": [
       "{0: (0.5803921568627451, 0.5803921568627451, 0.5803921568627451),\n",
       " 1: (0.00392156862745098, 0.45098039215686275, 0.6980392156862745),\n",
       " 2: (0.00784313725490196, 0.6196078431372549, 0.45098039215686275)}"
      ]
     },
     "execution_count": 63,
     "metadata": {},
     "output_type": "execute_result"
    }
   ],
   "source": [
    "print(LABELS)\n",
    "palette = sns.color_palette(\"colorblind\")\n",
    "colors = {0: palette[7],  # éboulis / gris\n",
    "          1: palette[0],  # falaise / bleu\n",
    "          2: palette[2]}  # végétation / vert\n",
    "colors"
   ]
  },
  {
   "cell_type": "code",
   "execution_count": 67,
   "metadata": {},
   "outputs": [],
   "source": [
    "outdf = colorize_clusters(features[COORDS], features[\"label\"], colors)"
   ]
  },
  {
   "cell_type": "code",
   "execution_count": 68,
   "metadata": {},
   "outputs": [],
   "source": [
    "def savelas(input_file, data, output_file):\n",
    "    import laspy\n",
    "    with laspy.file.File(input_file, mode=\"r\") as input_las:\n",
    "        outfile = laspy.file.File(\n",
    "            output_file, mode=\"w\", header=input_las.header\n",
    "        )\n",
    "        outfile.x = data.x\n",
    "        outfile.y = data.y\n",
    "        outfile.z = data.z\n",
    "        outfile.red = data.r\n",
    "        outfile.green = data.g\n",
    "        outfile.blue = data.b\n",
    "        outfile.close()"
   ]
  },
  {
   "cell_type": "markdown",
   "metadata": {},
   "source": [
    "On enregistre la scène avec la couleur pour chaque label dans un .las"
   ]
  },
  {
   "cell_type": "code",
   "execution_count": 69,
   "metadata": {},
   "outputs": [],
   "source": [
    "savelas(DATADIR / \"input\" / SCENE_FILE, outdf, \"pombourg-segmentation.las\")"
   ]
  }
 ],
 "metadata": {
  "kernelspec": {
   "display_name": "Python 3",
   "language": "python",
   "name": "python3"
  },
  "language_info": {
   "codemirror_mode": {
    "name": "ipython",
    "version": 3
   },
   "file_extension": ".py",
   "mimetype": "text/x-python",
   "name": "python",
   "nbconvert_exporter": "python",
   "pygments_lexer": "ipython3",
   "version": "3.7.4"
  }
 },
 "nbformat": 4,
 "nbformat_minor": 2
}
