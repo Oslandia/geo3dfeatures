{
 "cells": [
  {
   "cell_type": "markdown",
   "metadata": {},
   "source": [
    "# Supervised learning - Pombourg dataset"
   ]
  },
  {
   "cell_type": "markdown",
   "metadata": {},
   "source": [
    "This notebook will be dedicated to the supervised classification of `(x, y, z)` points within the `Pombourg` dataset. As a prerequisite, the geometric features must be extracted for the point cloud as well as for every class sample with the following commands:\n",
    "\n",
    "```sh\n",
    "geo3d featurize -d data -i Pombourg.las -c r g b -t 500 -n 50 200 1500\n",
    "geo3d featurize --label-scene -d data -i Pombourg_vegetation.las -c r g b -t 500 -n 50 200 1500\n",
    "geo3d featurize --label-scene -d data -i Pombourg_falaise.las -c r g b -t 500 -n 50 200 1500\n",
    "geo3d featurize --label-scene -d data -i Pombourg_eboulis.las -c r g b -t 500 -n 50 200 1500\n",
    "```"
   ]
  },
  {
   "cell_type": "markdown",
   "metadata": {},
   "source": [
    "As a reminder, the `Pombourg` dataset is composed of vegetation at the top, a large cliff at the middle of the scene, and some screes at the bottom; it looks as follows:\n",
    "<img src=\"../docs/images/pombourg.png\" width=\"250px\">"
   ]
  },
  {
   "cell_type": "markdown",
   "metadata": {},
   "source": [
    "## Imports"
   ]
  },
  {
   "cell_type": "code",
   "execution_count": 1,
   "metadata": {},
   "outputs": [],
   "source": [
    "%matplotlib inline"
   ]
  },
  {
   "cell_type": "code",
   "execution_count": 2,
   "metadata": {},
   "outputs": [],
   "source": [
    "from pathlib import Path\n",
    "import pickle"
   ]
  },
  {
   "cell_type": "code",
   "execution_count": 3,
   "metadata": {},
   "outputs": [],
   "source": [
    "import numpy as np\n",
    "import pandas as pd"
   ]
  },
  {
   "cell_type": "code",
   "execution_count": 4,
   "metadata": {},
   "outputs": [],
   "source": [
    "from sklearn.linear_model import LogisticRegression\n",
    "from sklearn.model_selection import cross_val_score\n",
    "from sklearn.pipeline import make_pipeline\n",
    "from sklearn.preprocessing import MinMaxScaler"
   ]
  },
  {
   "cell_type": "code",
   "execution_count": 5,
   "metadata": {},
   "outputs": [],
   "source": [
    "import matplotlib\n",
    "from matplotlib import pyplot as plt\n",
    "import seaborn as sns"
   ]
  },
  {
   "cell_type": "code",
   "execution_count": 6,
   "metadata": {},
   "outputs": [],
   "source": [
    "plt.style.use(\"seaborn-notebook\")"
   ]
  },
  {
   "cell_type": "code",
   "execution_count": 7,
   "metadata": {},
   "outputs": [],
   "source": [
    "from geo3dfeatures.classification import colorize_labels, train_predictive_model\n",
    "from geo3dfeatures.extract import compute_tree, request_tree, extract\n",
    "from geo3dfeatures.features import max_normalize, sum_normalize\n",
    "from geo3dfeatures.io import load_features, read_las, write_las"
   ]
  },
  {
   "cell_type": "markdown",
   "metadata": {},
   "source": [
    "## Global parameter setting"
   ]
  },
  {
   "cell_type": "markdown",
   "metadata": {},
   "source": [
    "The file of interest must be set up for further data loading."
   ]
  },
  {
   "cell_type": "code",
   "execution_count": 8,
   "metadata": {},
   "outputs": [],
   "source": [
    "PREFIX_NAME = \"Pombourg\"\n",
    "SCENE_FILE = PREFIX_NAME + \".las\"\n",
    "EBOULIS_FILE = PREFIX_NAME + \"_eboulis.las\"\n",
    "VEGETATION_FILE = PREFIX_NAME + \"_vegetation.las\"\n",
    "FALAISE_FILE = PREFIX_NAME + \"_falaise.las\"\n",
    "DATADIR = Path(\"..\", \"data\")"
   ]
  },
  {
   "cell_type": "code",
   "execution_count": 9,
   "metadata": {},
   "outputs": [],
   "source": [
    "NEIGHBORHOOD_SIZES = [50, 200, 1500]"
   ]
  },
  {
   "cell_type": "markdown",
   "metadata": {},
   "source": [
    "Some data column names (point coordinates, and RGB channels) are provided as follows:"
   ]
  },
  {
   "cell_type": "code",
   "execution_count": 10,
   "metadata": {},
   "outputs": [],
   "source": [
    "COORDS = list(\"xyz\")\n",
    "COULEURS = list(\"rgb\")"
   ]
  },
  {
   "cell_type": "markdown",
   "metadata": {},
   "source": [
    "Then we define the labels for this dataset."
   ]
  },
  {
   "cell_type": "code",
   "execution_count": 11,
   "metadata": {},
   "outputs": [],
   "source": [
    "LABELS = {\"eboulis\": 0,\n",
    "          \"falaise\": 1,\n",
    "          \"vegetation\": 2}"
   ]
  },
  {
   "cell_type": "markdown",
   "metadata": {},
   "source": [
    "## Data loading"
   ]
  },
  {
   "cell_type": "markdown",
   "metadata": {},
   "source": [
    "### Raw point cloud"
   ]
  },
  {
   "cell_type": "code",
   "execution_count": 12,
   "metadata": {},
   "outputs": [],
   "source": [
    "input_file_path = DATADIR / \"input\" / SCENE_FILE"
   ]
  },
  {
   "cell_type": "code",
   "execution_count": 13,
   "metadata": {},
   "outputs": [],
   "source": [
    "rawdata = read_las(input_file_path)\n",
    "rawdata = pd.DataFrame(rawdata, columns=list(\"xyzrgb\"))"
   ]
  },
  {
   "cell_type": "code",
   "execution_count": 14,
   "metadata": {},
   "outputs": [
    {
     "name": "stdout",
     "output_type": "stream",
     "text": [
      "Raw data dimension:  (672193, 6)\n"
     ]
    },
    {
     "data": {
      "text/html": [
       "<div>\n",
       "<style scoped>\n",
       "    .dataframe tbody tr th:only-of-type {\n",
       "        vertical-align: middle;\n",
       "    }\n",
       "\n",
       "    .dataframe tbody tr th {\n",
       "        vertical-align: top;\n",
       "    }\n",
       "\n",
       "    .dataframe thead th {\n",
       "        text-align: right;\n",
       "    }\n",
       "</style>\n",
       "<table border=\"1\" class=\"dataframe\">\n",
       "  <thead>\n",
       "    <tr style=\"text-align: right;\">\n",
       "      <th></th>\n",
       "      <th>x</th>\n",
       "      <th>y</th>\n",
       "      <th>z</th>\n",
       "      <th>r</th>\n",
       "      <th>g</th>\n",
       "      <th>b</th>\n",
       "    </tr>\n",
       "  </thead>\n",
       "  <tbody>\n",
       "    <tr>\n",
       "      <th>0</th>\n",
       "      <td>1.977540e+06</td>\n",
       "      <td>5.242311e+06</td>\n",
       "      <td>902.684203</td>\n",
       "      <td>128.0</td>\n",
       "      <td>88.0</td>\n",
       "      <td>75.0</td>\n",
       "    </tr>\n",
       "    <tr>\n",
       "      <th>1</th>\n",
       "      <td>1.977540e+06</td>\n",
       "      <td>5.242311e+06</td>\n",
       "      <td>902.674986</td>\n",
       "      <td>117.0</td>\n",
       "      <td>78.0</td>\n",
       "      <td>66.0</td>\n",
       "    </tr>\n",
       "    <tr>\n",
       "      <th>2</th>\n",
       "      <td>1.977540e+06</td>\n",
       "      <td>5.242311e+06</td>\n",
       "      <td>902.731627</td>\n",
       "      <td>111.0</td>\n",
       "      <td>73.0</td>\n",
       "      <td>62.0</td>\n",
       "    </tr>\n",
       "    <tr>\n",
       "      <th>3</th>\n",
       "      <td>1.977538e+06</td>\n",
       "      <td>5.242330e+06</td>\n",
       "      <td>893.093306</td>\n",
       "      <td>147.0</td>\n",
       "      <td>135.0</td>\n",
       "      <td>131.0</td>\n",
       "    </tr>\n",
       "    <tr>\n",
       "      <th>4</th>\n",
       "      <td>1.977538e+06</td>\n",
       "      <td>5.242330e+06</td>\n",
       "      <td>893.049910</td>\n",
       "      <td>149.0</td>\n",
       "      <td>137.0</td>\n",
       "      <td>133.0</td>\n",
       "    </tr>\n",
       "  </tbody>\n",
       "</table>\n",
       "</div>"
      ],
      "text/plain": [
       "              x             y           z      r      g      b\n",
       "0  1.977540e+06  5.242311e+06  902.684203  128.0   88.0   75.0\n",
       "1  1.977540e+06  5.242311e+06  902.674986  117.0   78.0   66.0\n",
       "2  1.977540e+06  5.242311e+06  902.731627  111.0   73.0   62.0\n",
       "3  1.977538e+06  5.242330e+06  893.093306  147.0  135.0  131.0\n",
       "4  1.977538e+06  5.242330e+06  893.049910  149.0  137.0  133.0"
      ]
     },
     "execution_count": 14,
     "metadata": {},
     "output_type": "execute_result"
    }
   ],
   "source": [
    "print(\"Raw data dimension: \", rawdata.shape)\n",
    "rawdata.head()"
   ]
  },
  {
   "cell_type": "markdown",
   "metadata": {},
   "source": [
    "### Geometric features for the whole point cloud"
   ]
  },
  {
   "cell_type": "markdown",
   "metadata": {},
   "source": [
    "The data is loaded for three different neighborhood sizes (50, 200, 1500). We further consider this dataset as the *testing* dataset."
   ]
  },
  {
   "cell_type": "code",
   "execution_count": 15,
   "metadata": {},
   "outputs": [
    {
     "name": "stderr",
     "output_type": "stream",
     "text": [
      "[09:12:23] io.load_features (INFO) - Recover features stored in ../data/output/Pombourg/features/features.h5\n",
      "[09:12:23] utils._init_num_threads (INFO) - NumExpr defaulting to 4 threads.\n"
     ]
    }
   ],
   "source": [
    "features = load_features(DATADIR, PREFIX_NAME, NEIGHBORHOOD_SIZES)"
   ]
  },
  {
   "cell_type": "code",
   "execution_count": 16,
   "metadata": {},
   "outputs": [
    {
     "name": "stdout",
     "output_type": "stream",
     "text": [
      "Feature dimension:  (672193, 63)\n"
     ]
    },
    {
     "data": {
      "text/html": [
       "<div>\n",
       "<style scoped>\n",
       "    .dataframe tbody tr th:only-of-type {\n",
       "        vertical-align: middle;\n",
       "    }\n",
       "\n",
       "    .dataframe tbody tr th {\n",
       "        vertical-align: top;\n",
       "    }\n",
       "\n",
       "    .dataframe thead th {\n",
       "        text-align: right;\n",
       "    }\n",
       "</style>\n",
       "<table border=\"1\" class=\"dataframe\">\n",
       "  <thead>\n",
       "    <tr style=\"text-align: right;\">\n",
       "      <th></th>\n",
       "      <th>x</th>\n",
       "      <th>y</th>\n",
       "      <th>z</th>\n",
       "      <th>alpha_50</th>\n",
       "      <th>beta_50</th>\n",
       "      <th>radius_50</th>\n",
       "      <th>z_range_50</th>\n",
       "      <th>std_dev_50</th>\n",
       "      <th>density_50</th>\n",
       "      <th>verticality_50</th>\n",
       "      <th>...</th>\n",
       "      <th>planarity_1500</th>\n",
       "      <th>scattering_1500</th>\n",
       "      <th>omnivariance_1500</th>\n",
       "      <th>anisotropy_1500</th>\n",
       "      <th>eigenentropy_1500</th>\n",
       "      <th>eigenvalue_sum_1500</th>\n",
       "      <th>radius_2D_1500</th>\n",
       "      <th>density_2D_1500</th>\n",
       "      <th>eigenvalue_sum_2D_1500</th>\n",
       "      <th>eigenvalue_ratio_2D_1500</th>\n",
       "    </tr>\n",
       "  </thead>\n",
       "  <tbody>\n",
       "    <tr>\n",
       "      <th>0</th>\n",
       "      <td>1.977525e+06</td>\n",
       "      <td>5.242324e+06</td>\n",
       "      <td>891.317748</td>\n",
       "      <td>0.334604</td>\n",
       "      <td>0.664243</td>\n",
       "      <td>1.733842</td>\n",
       "      <td>0.292404</td>\n",
       "      <td>0.085410</td>\n",
       "      <td>2.381697</td>\n",
       "      <td>0.312858</td>\n",
       "      <td>...</td>\n",
       "      <td>0.349891</td>\n",
       "      <td>0.001678</td>\n",
       "      <td>0.061972</td>\n",
       "      <td>0.998322</td>\n",
       "      <td>0.582007</td>\n",
       "      <td>1122.339474</td>\n",
       "      <td>2.042213</td>\n",
       "      <td>114.635222</td>\n",
       "      <td>917.769528</td>\n",
       "      <td>0.274770</td>\n",
       "    </tr>\n",
       "    <tr>\n",
       "      <th>1</th>\n",
       "      <td>1.977525e+06</td>\n",
       "      <td>5.242324e+06</td>\n",
       "      <td>891.319029</td>\n",
       "      <td>0.345110</td>\n",
       "      <td>0.653892</td>\n",
       "      <td>1.709429</td>\n",
       "      <td>0.279770</td>\n",
       "      <td>0.082896</td>\n",
       "      <td>2.485200</td>\n",
       "      <td>0.315099</td>\n",
       "      <td>...</td>\n",
       "      <td>0.360852</td>\n",
       "      <td>0.001681</td>\n",
       "      <td>0.062153</td>\n",
       "      <td>0.998319</td>\n",
       "      <td>0.588088</td>\n",
       "      <td>1113.190733</td>\n",
       "      <td>2.001808</td>\n",
       "      <td>119.309563</td>\n",
       "      <td>913.282079</td>\n",
       "      <td>0.279151</td>\n",
       "    </tr>\n",
       "    <tr>\n",
       "      <th>2</th>\n",
       "      <td>1.977525e+06</td>\n",
       "      <td>5.242324e+06</td>\n",
       "      <td>891.354063</td>\n",
       "      <td>0.305694</td>\n",
       "      <td>0.692340</td>\n",
       "      <td>1.693528</td>\n",
       "      <td>0.298752</td>\n",
       "      <td>0.088161</td>\n",
       "      <td>2.555864</td>\n",
       "      <td>0.308114</td>\n",
       "      <td>...</td>\n",
       "      <td>0.354059</td>\n",
       "      <td>0.001692</td>\n",
       "      <td>0.062200</td>\n",
       "      <td>0.998308</td>\n",
       "      <td>0.584418</td>\n",
       "      <td>1117.264330</td>\n",
       "      <td>1.995458</td>\n",
       "      <td>120.070114</td>\n",
       "      <td>911.133084</td>\n",
       "      <td>0.280125</td>\n",
       "    </tr>\n",
       "    <tr>\n",
       "      <th>3</th>\n",
       "      <td>1.977525e+06</td>\n",
       "      <td>5.242324e+06</td>\n",
       "      <td>891.390135</td>\n",
       "      <td>0.295625</td>\n",
       "      <td>0.702156</td>\n",
       "      <td>1.661859</td>\n",
       "      <td>0.312424</td>\n",
       "      <td>0.092636</td>\n",
       "      <td>2.704780</td>\n",
       "      <td>0.304651</td>\n",
       "      <td>...</td>\n",
       "      <td>0.356062</td>\n",
       "      <td>0.001723</td>\n",
       "      <td>0.062601</td>\n",
       "      <td>0.998277</td>\n",
       "      <td>0.585683</td>\n",
       "      <td>1114.302199</td>\n",
       "      <td>1.969498</td>\n",
       "      <td>123.256208</td>\n",
       "      <td>904.931612</td>\n",
       "      <td>0.285944</td>\n",
       "    </tr>\n",
       "    <tr>\n",
       "      <th>4</th>\n",
       "      <td>1.977525e+06</td>\n",
       "      <td>5.242324e+06</td>\n",
       "      <td>891.310728</td>\n",
       "      <td>0.335228</td>\n",
       "      <td>0.663748</td>\n",
       "      <td>1.687403</td>\n",
       "      <td>0.271698</td>\n",
       "      <td>0.080073</td>\n",
       "      <td>2.583795</td>\n",
       "      <td>0.316415</td>\n",
       "      <td>...</td>\n",
       "      <td>0.361747</td>\n",
       "      <td>0.001637</td>\n",
       "      <td>0.061615</td>\n",
       "      <td>0.998363</td>\n",
       "      <td>0.588348</td>\n",
       "      <td>1113.519679</td>\n",
       "      <td>2.010107</td>\n",
       "      <td>118.326412</td>\n",
       "      <td>918.530668</td>\n",
       "      <td>0.275069</td>\n",
       "    </tr>\n",
       "  </tbody>\n",
       "</table>\n",
       "<p>5 rows × 63 columns</p>\n",
       "</div>"
      ],
      "text/plain": [
       "              x             y           z  alpha_50   beta_50  radius_50  \\\n",
       "0  1.977525e+06  5.242324e+06  891.317748  0.334604  0.664243   1.733842   \n",
       "1  1.977525e+06  5.242324e+06  891.319029  0.345110  0.653892   1.709429   \n",
       "2  1.977525e+06  5.242324e+06  891.354063  0.305694  0.692340   1.693528   \n",
       "3  1.977525e+06  5.242324e+06  891.390135  0.295625  0.702156   1.661859   \n",
       "4  1.977525e+06  5.242324e+06  891.310728  0.335228  0.663748   1.687403   \n",
       "\n",
       "   z_range_50  std_dev_50  density_50  verticality_50  \\\n",
       "0    0.292404    0.085410    2.381697        0.312858   \n",
       "1    0.279770    0.082896    2.485200        0.315099   \n",
       "2    0.298752    0.088161    2.555864        0.308114   \n",
       "3    0.312424    0.092636    2.704780        0.304651   \n",
       "4    0.271698    0.080073    2.583795        0.316415   \n",
       "\n",
       "             ...             planarity_1500  scattering_1500  \\\n",
       "0            ...                   0.349891         0.001678   \n",
       "1            ...                   0.360852         0.001681   \n",
       "2            ...                   0.354059         0.001692   \n",
       "3            ...                   0.356062         0.001723   \n",
       "4            ...                   0.361747         0.001637   \n",
       "\n",
       "   omnivariance_1500  anisotropy_1500  eigenentropy_1500  eigenvalue_sum_1500  \\\n",
       "0           0.061972         0.998322           0.582007          1122.339474   \n",
       "1           0.062153         0.998319           0.588088          1113.190733   \n",
       "2           0.062200         0.998308           0.584418          1117.264330   \n",
       "3           0.062601         0.998277           0.585683          1114.302199   \n",
       "4           0.061615         0.998363           0.588348          1113.519679   \n",
       "\n",
       "   radius_2D_1500  density_2D_1500  eigenvalue_sum_2D_1500  \\\n",
       "0        2.042213       114.635222              917.769528   \n",
       "1        2.001808       119.309563              913.282079   \n",
       "2        1.995458       120.070114              911.133084   \n",
       "3        1.969498       123.256208              904.931612   \n",
       "4        2.010107       118.326412              918.530668   \n",
       "\n",
       "   eigenvalue_ratio_2D_1500  \n",
       "0                  0.274770  \n",
       "1                  0.279151  \n",
       "2                  0.280125  \n",
       "3                  0.285944  \n",
       "4                  0.275069  \n",
       "\n",
       "[5 rows x 63 columns]"
      ]
     },
     "execution_count": 16,
     "metadata": {},
     "output_type": "execute_result"
    }
   ],
   "source": [
    "print(\"Feature dimension: \", features.shape)\n",
    "features.head()"
   ]
  },
  {
   "cell_type": "markdown",
   "metadata": {},
   "source": [
    "### Geometric features for the class samples"
   ]
  },
  {
   "cell_type": "markdown",
   "metadata": {},
   "source": [
    "Parallely, we compute the geometric features for every class samples, by considering the whole scene for the kd-tree querying. A set of three neighborhood sizes is used in this way. We consider this composed dataset as the *training* dataset (labels are known by definition)."
   ]
  },
  {
   "cell_type": "code",
   "execution_count": 17,
   "metadata": {},
   "outputs": [
    {
     "name": "stderr",
     "output_type": "stream",
     "text": [
      "[09:12:37] io.load_features (INFO) - Recover features stored in ../data/output/Pombourg/features/features_vegetation.h5\n",
      "[09:12:38] io.load_features (INFO) - Recover features stored in ../data/output/Pombourg/features/features_falaise.h5\n",
      "[09:12:40] io.load_features (INFO) - Recover features stored in ../data/output/Pombourg/features/features_eboulis.h5\n"
     ]
    }
   ],
   "source": [
    "dfveg = load_features(DATADIR, PREFIX_NAME, NEIGHBORHOOD_SIZES, \"vegetation\")\n",
    "dffalaise = load_features(DATADIR, PREFIX_NAME, NEIGHBORHOOD_SIZES, \"falaise\")\n",
    "dfeboulis = load_features(DATADIR, PREFIX_NAME, NEIGHBORHOOD_SIZES, \"eboulis\")"
   ]
  },
  {
   "cell_type": "markdown",
   "metadata": {},
   "source": [
    "Each sample dataset is associated with its corresponding label:"
   ]
  },
  {
   "cell_type": "code",
   "execution_count": 18,
   "metadata": {},
   "outputs": [],
   "source": [
    "dfeboulis[\"label\"] = LABELS[\"eboulis\"]\n",
    "dffalaise[\"label\"] = LABELS[\"falaise\"]\n",
    "dfveg[\"label\"] = LABELS[\"vegetation\"]"
   ]
  },
  {
   "cell_type": "markdown",
   "metadata": {},
   "source": [
    "Then we can concatenate all the sample datasets in one single dataframe."
   ]
  },
  {
   "cell_type": "code",
   "execution_count": 19,
   "metadata": {},
   "outputs": [],
   "source": [
    "datasets = pd.concat([dfeboulis, dffalaise, dfveg], axis=0)"
   ]
  },
  {
   "cell_type": "code",
   "execution_count": 20,
   "metadata": {},
   "outputs": [
    {
     "name": "stdout",
     "output_type": "stream",
     "text": [
      "Dataset shape:  (73651, 64)\n"
     ]
    },
    {
     "data": {
      "text/html": [
       "<div>\n",
       "<style scoped>\n",
       "    .dataframe tbody tr th:only-of-type {\n",
       "        vertical-align: middle;\n",
       "    }\n",
       "\n",
       "    .dataframe tbody tr th {\n",
       "        vertical-align: top;\n",
       "    }\n",
       "\n",
       "    .dataframe thead th {\n",
       "        text-align: right;\n",
       "    }\n",
       "</style>\n",
       "<table border=\"1\" class=\"dataframe\">\n",
       "  <thead>\n",
       "    <tr style=\"text-align: right;\">\n",
       "      <th></th>\n",
       "      <th>x</th>\n",
       "      <th>y</th>\n",
       "      <th>z</th>\n",
       "      <th>alpha_50</th>\n",
       "      <th>beta_50</th>\n",
       "      <th>radius_50</th>\n",
       "      <th>z_range_50</th>\n",
       "      <th>std_dev_50</th>\n",
       "      <th>density_50</th>\n",
       "      <th>verticality_50</th>\n",
       "      <th>...</th>\n",
       "      <th>scattering_1500</th>\n",
       "      <th>omnivariance_1500</th>\n",
       "      <th>anisotropy_1500</th>\n",
       "      <th>eigenentropy_1500</th>\n",
       "      <th>eigenvalue_sum_1500</th>\n",
       "      <th>radius_2D_1500</th>\n",
       "      <th>density_2D_1500</th>\n",
       "      <th>eigenvalue_sum_2D_1500</th>\n",
       "      <th>eigenvalue_ratio_2D_1500</th>\n",
       "      <th>label</th>\n",
       "    </tr>\n",
       "  </thead>\n",
       "  <tbody>\n",
       "    <tr>\n",
       "      <th>0</th>\n",
       "      <td>1.977537e+06</td>\n",
       "      <td>5.242329e+06</td>\n",
       "      <td>893.466154</td>\n",
       "      <td>0.102856</td>\n",
       "      <td>0.888538</td>\n",
       "      <td>1.302015</td>\n",
       "      <td>0.376617</td>\n",
       "      <td>0.105810</td>\n",
       "      <td>5.624278</td>\n",
       "      <td>0.868071</td>\n",
       "      <td>...</td>\n",
       "      <td>0.048439</td>\n",
       "      <td>0.182927</td>\n",
       "      <td>0.951561</td>\n",
       "      <td>0.790406</td>\n",
       "      <td>933.068215</td>\n",
       "      <td>1.133958</td>\n",
       "      <td>371.814129</td>\n",
       "      <td>521.100299</td>\n",
       "      <td>0.092416</td>\n",
       "      <td>0</td>\n",
       "    </tr>\n",
       "    <tr>\n",
       "      <th>1</th>\n",
       "      <td>1.977537e+06</td>\n",
       "      <td>5.242329e+06</td>\n",
       "      <td>893.412794</td>\n",
       "      <td>0.114306</td>\n",
       "      <td>0.877906</td>\n",
       "      <td>1.304379</td>\n",
       "      <td>0.397675</td>\n",
       "      <td>0.110456</td>\n",
       "      <td>5.593758</td>\n",
       "      <td>0.925616</td>\n",
       "      <td>...</td>\n",
       "      <td>0.043961</td>\n",
       "      <td>0.177248</td>\n",
       "      <td>0.956039</td>\n",
       "      <td>0.783676</td>\n",
       "      <td>943.017294</td>\n",
       "      <td>1.147080</td>\n",
       "      <td>363.356412</td>\n",
       "      <td>518.349456</td>\n",
       "      <td>0.077285</td>\n",
       "      <td>0</td>\n",
       "    </tr>\n",
       "    <tr>\n",
       "      <th>2</th>\n",
       "      <td>1.977537e+06</td>\n",
       "      <td>5.242329e+06</td>\n",
       "      <td>893.350233</td>\n",
       "      <td>0.069191</td>\n",
       "      <td>0.921435</td>\n",
       "      <td>1.308555</td>\n",
       "      <td>0.400131</td>\n",
       "      <td>0.109770</td>\n",
       "      <td>5.540366</td>\n",
       "      <td>0.973620</td>\n",
       "      <td>...</td>\n",
       "      <td>0.039202</td>\n",
       "      <td>0.170937</td>\n",
       "      <td>0.960798</td>\n",
       "      <td>0.776052</td>\n",
       "      <td>953.072758</td>\n",
       "      <td>1.147944</td>\n",
       "      <td>362.809773</td>\n",
       "      <td>517.876294</td>\n",
       "      <td>0.062526</td>\n",
       "      <td>0</td>\n",
       "    </tr>\n",
       "    <tr>\n",
       "      <th>3</th>\n",
       "      <td>1.977537e+06</td>\n",
       "      <td>5.242329e+06</td>\n",
       "      <td>893.513106</td>\n",
       "      <td>0.086685</td>\n",
       "      <td>0.903080</td>\n",
       "      <td>1.304417</td>\n",
       "      <td>0.364487</td>\n",
       "      <td>0.106054</td>\n",
       "      <td>5.593269</td>\n",
       "      <td>0.817127</td>\n",
       "      <td>...</td>\n",
       "      <td>0.051292</td>\n",
       "      <td>0.186419</td>\n",
       "      <td>0.948708</td>\n",
       "      <td>0.794486</td>\n",
       "      <td>929.007483</td>\n",
       "      <td>1.142140</td>\n",
       "      <td>366.506293</td>\n",
       "      <td>531.257561</td>\n",
       "      <td>0.103562</td>\n",
       "      <td>0</td>\n",
       "    </tr>\n",
       "    <tr>\n",
       "      <th>4</th>\n",
       "      <td>1.977537e+06</td>\n",
       "      <td>5.242329e+06</td>\n",
       "      <td>893.286024</td>\n",
       "      <td>0.041353</td>\n",
       "      <td>0.950119</td>\n",
       "      <td>1.309976</td>\n",
       "      <td>0.415848</td>\n",
       "      <td>0.113795</td>\n",
       "      <td>5.522358</td>\n",
       "      <td>0.970630</td>\n",
       "      <td>...</td>\n",
       "      <td>0.034028</td>\n",
       "      <td>0.163037</td>\n",
       "      <td>0.965972</td>\n",
       "      <td>0.767715</td>\n",
       "      <td>963.596787</td>\n",
       "      <td>1.146678</td>\n",
       "      <td>363.611172</td>\n",
       "      <td>511.831757</td>\n",
       "      <td>0.050390</td>\n",
       "      <td>0</td>\n",
       "    </tr>\n",
       "  </tbody>\n",
       "</table>\n",
       "<p>5 rows × 64 columns</p>\n",
       "</div>"
      ],
      "text/plain": [
       "              x             y           z  alpha_50   beta_50  radius_50  \\\n",
       "0  1.977537e+06  5.242329e+06  893.466154  0.102856  0.888538   1.302015   \n",
       "1  1.977537e+06  5.242329e+06  893.412794  0.114306  0.877906   1.304379   \n",
       "2  1.977537e+06  5.242329e+06  893.350233  0.069191  0.921435   1.308555   \n",
       "3  1.977537e+06  5.242329e+06  893.513106  0.086685  0.903080   1.304417   \n",
       "4  1.977537e+06  5.242329e+06  893.286024  0.041353  0.950119   1.309976   \n",
       "\n",
       "   z_range_50  std_dev_50  density_50  verticality_50  ...    scattering_1500  \\\n",
       "0    0.376617    0.105810    5.624278        0.868071  ...           0.048439   \n",
       "1    0.397675    0.110456    5.593758        0.925616  ...           0.043961   \n",
       "2    0.400131    0.109770    5.540366        0.973620  ...           0.039202   \n",
       "3    0.364487    0.106054    5.593269        0.817127  ...           0.051292   \n",
       "4    0.415848    0.113795    5.522358        0.970630  ...           0.034028   \n",
       "\n",
       "   omnivariance_1500  anisotropy_1500  eigenentropy_1500  eigenvalue_sum_1500  \\\n",
       "0           0.182927         0.951561           0.790406           933.068215   \n",
       "1           0.177248         0.956039           0.783676           943.017294   \n",
       "2           0.170937         0.960798           0.776052           953.072758   \n",
       "3           0.186419         0.948708           0.794486           929.007483   \n",
       "4           0.163037         0.965972           0.767715           963.596787   \n",
       "\n",
       "   radius_2D_1500  density_2D_1500  eigenvalue_sum_2D_1500  \\\n",
       "0        1.133958       371.814129              521.100299   \n",
       "1        1.147080       363.356412              518.349456   \n",
       "2        1.147944       362.809773              517.876294   \n",
       "3        1.142140       366.506293              531.257561   \n",
       "4        1.146678       363.611172              511.831757   \n",
       "\n",
       "   eigenvalue_ratio_2D_1500  label  \n",
       "0                  0.092416      0  \n",
       "1                  0.077285      0  \n",
       "2                  0.062526      0  \n",
       "3                  0.103562      0  \n",
       "4                  0.050390      0  \n",
       "\n",
       "[5 rows x 64 columns]"
      ]
     },
     "execution_count": 20,
     "metadata": {},
     "output_type": "execute_result"
    }
   ],
   "source": [
    "print(\"Dataset shape: \", datasets.shape)\n",
    "datasets.head()"
   ]
  },
  {
   "cell_type": "markdown",
   "metadata": {},
   "source": [
    "### Data shuffling and cleaning-up"
   ]
  },
  {
   "cell_type": "markdown",
   "metadata": {},
   "source": [
    "The training dataframe is shuffled so as to remove spatial location patterns:"
   ]
  },
  {
   "cell_type": "code",
   "execution_count": 21,
   "metadata": {},
   "outputs": [],
   "source": [
    "datasets = datasets.sample(frac=1.)"
   ]
  },
  {
   "cell_type": "code",
   "execution_count": 22,
   "metadata": {},
   "outputs": [
    {
     "data": {
      "text/plain": [
       "Index(['x', 'y', 'z', 'alpha_50', 'beta_50', 'radius_50', 'z_range_50',\n",
       "       'std_dev_50', 'density_50', 'verticality_50', 'curvature_change_50',\n",
       "       'linearity_50', 'planarity_50', 'scattering_50', 'omnivariance_50',\n",
       "       'anisotropy_50', 'eigenentropy_50', 'eigenvalue_sum_50', 'radius_2D_50',\n",
       "       'density_2D_50', 'eigenvalue_sum_2D_50', 'eigenvalue_ratio_2D_50', 'r',\n",
       "       'g', 'b', 'alpha_200', 'beta_200', 'radius_200', 'z_range_200',\n",
       "       'std_dev_200', 'density_200', 'verticality_200', 'curvature_change_200',\n",
       "       'linearity_200', 'planarity_200', 'scattering_200', 'omnivariance_200',\n",
       "       'anisotropy_200', 'eigenentropy_200', 'eigenvalue_sum_200',\n",
       "       'radius_2D_200', 'density_2D_200', 'eigenvalue_sum_2D_200',\n",
       "       'eigenvalue_ratio_2D_200', 'alpha_1500', 'beta_1500', 'radius_1500',\n",
       "       'z_range_1500', 'std_dev_1500', 'density_1500', 'verticality_1500',\n",
       "       'curvature_change_1500', 'linearity_1500', 'planarity_1500',\n",
       "       'scattering_1500', 'omnivariance_1500', 'anisotropy_1500',\n",
       "       'eigenentropy_1500', 'eigenvalue_sum_1500', 'radius_2D_1500',\n",
       "       'density_2D_1500', 'eigenvalue_sum_2D_1500', 'eigenvalue_ratio_2D_1500',\n",
       "       'label'],\n",
       "      dtype='object')"
      ]
     },
     "execution_count": 22,
     "metadata": {},
     "output_type": "execute_result"
    }
   ],
   "source": [
    "datasets.columns"
   ]
  },
  {
   "cell_type": "markdown",
   "metadata": {},
   "source": [
    "As we aim at applying supervised learning algorithms that may be impacted by colinearity between features, we must drop a few columns from the initial dataset. To have an insight of which column to remove based on colinearities, please consider the [notebook dedicated to the Pombourg point cloud](./features-study/pombourg-features-study.ipynb)."
   ]
  },
  {
   "cell_type": "code",
   "execution_count": 23,
   "metadata": {},
   "outputs": [
    {
     "data": {
      "text/plain": [
       "['planarity_50',\n",
       " 'planarity_200',\n",
       " 'planarity_1500',\n",
       " 'eigenvalue_ratio_2D_50',\n",
       " 'eigenvalue_ratio_2D_200',\n",
       " 'eigenvalue_ratio_2D_1500',\n",
       " 'eigenvalue_sum_2D_50',\n",
       " 'eigenvalue_sum_2D_200',\n",
       " 'eigenvalue_sum_2D_1500',\n",
       " 'eigenvalue_sum_50',\n",
       " 'eigenvalue_sum_200',\n",
       " 'eigenvalue_sum_1500',\n",
       " 'radius_2D_50',\n",
       " 'radius_2D_200',\n",
       " 'radius_2D_1500',\n",
       " 'std_dev_50',\n",
       " 'std_dev_200',\n",
       " 'std_dev_1500',\n",
       " 'density_2D_50',\n",
       " 'density_2D_200',\n",
       " 'density_2D_1500',\n",
       " 'scattering_50',\n",
       " 'scattering_200',\n",
       " 'scattering_1500',\n",
       " 'omnivariance_50',\n",
       " 'omnivariance_200',\n",
       " 'omnivariance_1500',\n",
       " 'curvature_change_50',\n",
       " 'curvature_change_200',\n",
       " 'curvature_change_1500']"
      ]
     },
     "execution_count": 23,
     "metadata": {},
     "output_type": "execute_result"
    }
   ],
   "source": [
    "def complete_with_voisin(name, neighbors):\n",
    "    \"on complète juste le nom de la features avec le suffix '_{num_voisin}'\"\n",
    "    return [name + \"_{}\".format(x) for x in neighbors]\n",
    "\n",
    "drop_cols = [\"planarity\", \"eigenvalue_ratio_2D\",\n",
    "             \"eigenvalue_sum_2D\", \"eigenvalue_sum\", \"radius_2D\", \"std_dev\", \"density_2D\",\n",
    "             \"scattering\", \"omnivariance\", \"curvature_change\"]\n",
    "full_cols_to_drop = sum((complete_with_voisin(x, NEIGHBORHOOD_SIZES) for x in drop_cols), [])\n",
    "full_cols_to_drop"
   ]
  },
  {
   "cell_type": "code",
   "execution_count": 24,
   "metadata": {},
   "outputs": [],
   "source": [
    "clean_dataset = (datasets\n",
    "                 .drop(columns=full_cols_to_drop)\n",
    "                 .drop(columns=[\"x\", \"y\", \"z\"]))"
   ]
  },
  {
   "cell_type": "code",
   "execution_count": 25,
   "metadata": {},
   "outputs": [
    {
     "name": "stdout",
     "output_type": "stream",
     "text": [
      "Clean dataset shape:  (73651, 31)\n"
     ]
    },
    {
     "data": {
      "text/html": [
       "<div>\n",
       "<style scoped>\n",
       "    .dataframe tbody tr th:only-of-type {\n",
       "        vertical-align: middle;\n",
       "    }\n",
       "\n",
       "    .dataframe tbody tr th {\n",
       "        vertical-align: top;\n",
       "    }\n",
       "\n",
       "    .dataframe thead th {\n",
       "        text-align: right;\n",
       "    }\n",
       "</style>\n",
       "<table border=\"1\" class=\"dataframe\">\n",
       "  <thead>\n",
       "    <tr style=\"text-align: right;\">\n",
       "      <th></th>\n",
       "      <th>alpha_50</th>\n",
       "      <th>beta_50</th>\n",
       "      <th>radius_50</th>\n",
       "      <th>z_range_50</th>\n",
       "      <th>density_50</th>\n",
       "      <th>verticality_50</th>\n",
       "      <th>linearity_50</th>\n",
       "      <th>anisotropy_50</th>\n",
       "      <th>eigenentropy_50</th>\n",
       "      <th>r</th>\n",
       "      <th>...</th>\n",
       "      <th>alpha_1500</th>\n",
       "      <th>beta_1500</th>\n",
       "      <th>radius_1500</th>\n",
       "      <th>z_range_1500</th>\n",
       "      <th>density_1500</th>\n",
       "      <th>verticality_1500</th>\n",
       "      <th>linearity_1500</th>\n",
       "      <th>anisotropy_1500</th>\n",
       "      <th>eigenentropy_1500</th>\n",
       "      <th>label</th>\n",
       "    </tr>\n",
       "  </thead>\n",
       "  <tbody>\n",
       "    <tr>\n",
       "      <th>12665</th>\n",
       "      <td>0.082103</td>\n",
       "      <td>0.880281</td>\n",
       "      <td>0.951455</td>\n",
       "      <td>0.194321</td>\n",
       "      <td>14.412839</td>\n",
       "      <td>0.325004</td>\n",
       "      <td>0.153525</td>\n",
       "      <td>0.976554</td>\n",
       "      <td>0.748405</td>\n",
       "      <td>137.0</td>\n",
       "      <td>...</td>\n",
       "      <td>0.031513</td>\n",
       "      <td>0.915188</td>\n",
       "      <td>0.951455</td>\n",
       "      <td>1.315033</td>\n",
       "      <td>416.309322</td>\n",
       "      <td>0.358822</td>\n",
       "      <td>0.062171</td>\n",
       "      <td>0.964949</td>\n",
       "      <td>0.769541</td>\n",
       "      <td>0</td>\n",
       "    </tr>\n",
       "    <tr>\n",
       "      <th>1495</th>\n",
       "      <td>0.225413</td>\n",
       "      <td>0.709760</td>\n",
       "      <td>2.351138</td>\n",
       "      <td>0.656555</td>\n",
       "      <td>0.955170</td>\n",
       "      <td>0.447645</td>\n",
       "      <td>0.374502</td>\n",
       "      <td>0.964099</td>\n",
       "      <td>0.756203</td>\n",
       "      <td>90.0</td>\n",
       "      <td>...</td>\n",
       "      <td>0.282138</td>\n",
       "      <td>0.369747</td>\n",
       "      <td>2.351138</td>\n",
       "      <td>3.279282</td>\n",
       "      <td>27.589713</td>\n",
       "      <td>0.218893</td>\n",
       "      <td>0.483901</td>\n",
       "      <td>0.800981</td>\n",
       "      <td>0.925849</td>\n",
       "      <td>2</td>\n",
       "    </tr>\n",
       "    <tr>\n",
       "      <th>12155</th>\n",
       "      <td>0.030587</td>\n",
       "      <td>0.855611</td>\n",
       "      <td>2.649703</td>\n",
       "      <td>0.393295</td>\n",
       "      <td>0.667303</td>\n",
       "      <td>0.179135</td>\n",
       "      <td>0.061626</td>\n",
       "      <td>0.923571</td>\n",
       "      <td>0.827689</td>\n",
       "      <td>96.0</td>\n",
       "      <td>...</td>\n",
       "      <td>0.301049</td>\n",
       "      <td>0.450215</td>\n",
       "      <td>2.649703</td>\n",
       "      <td>3.049515</td>\n",
       "      <td>19.274794</td>\n",
       "      <td>0.128553</td>\n",
       "      <td>0.494278</td>\n",
       "      <td>0.863871</td>\n",
       "      <td>0.871162</td>\n",
       "      <td>2</td>\n",
       "    </tr>\n",
       "    <tr>\n",
       "      <th>12576</th>\n",
       "      <td>0.002399</td>\n",
       "      <td>0.996820</td>\n",
       "      <td>1.174867</td>\n",
       "      <td>0.303528</td>\n",
       "      <td>7.655060</td>\n",
       "      <td>0.560398</td>\n",
       "      <td>0.004787</td>\n",
       "      <td>0.999480</td>\n",
       "      <td>0.695373</td>\n",
       "      <td>153.0</td>\n",
       "      <td>...</td>\n",
       "      <td>0.004454</td>\n",
       "      <td>0.992919</td>\n",
       "      <td>1.174867</td>\n",
       "      <td>1.800156</td>\n",
       "      <td>221.113452</td>\n",
       "      <td>0.556144</td>\n",
       "      <td>0.008876</td>\n",
       "      <td>0.998255</td>\n",
       "      <td>0.699570</td>\n",
       "      <td>1</td>\n",
       "    </tr>\n",
       "    <tr>\n",
       "      <th>3197</th>\n",
       "      <td>0.143414</td>\n",
       "      <td>0.815117</td>\n",
       "      <td>2.606179</td>\n",
       "      <td>0.283356</td>\n",
       "      <td>0.701297</td>\n",
       "      <td>0.070569</td>\n",
       "      <td>0.253922</td>\n",
       "      <td>0.975526</td>\n",
       "      <td>0.746010</td>\n",
       "      <td>125.0</td>\n",
       "      <td>...</td>\n",
       "      <td>0.015467</td>\n",
       "      <td>0.718864</td>\n",
       "      <td>2.606179</td>\n",
       "      <td>3.689117</td>\n",
       "      <td>20.256693</td>\n",
       "      <td>0.386318</td>\n",
       "      <td>0.033373</td>\n",
       "      <td>0.808921</td>\n",
       "      <td>0.930818</td>\n",
       "      <td>2</td>\n",
       "    </tr>\n",
       "  </tbody>\n",
       "</table>\n",
       "<p>5 rows × 31 columns</p>\n",
       "</div>"
      ],
      "text/plain": [
       "       alpha_50   beta_50  radius_50  z_range_50  density_50  verticality_50  \\\n",
       "12665  0.082103  0.880281   0.951455    0.194321   14.412839        0.325004   \n",
       "1495   0.225413  0.709760   2.351138    0.656555    0.955170        0.447645   \n",
       "12155  0.030587  0.855611   2.649703    0.393295    0.667303        0.179135   \n",
       "12576  0.002399  0.996820   1.174867    0.303528    7.655060        0.560398   \n",
       "3197   0.143414  0.815117   2.606179    0.283356    0.701297        0.070569   \n",
       "\n",
       "       linearity_50  anisotropy_50  eigenentropy_50      r  ...    alpha_1500  \\\n",
       "12665      0.153525       0.976554         0.748405  137.0  ...      0.031513   \n",
       "1495       0.374502       0.964099         0.756203   90.0  ...      0.282138   \n",
       "12155      0.061626       0.923571         0.827689   96.0  ...      0.301049   \n",
       "12576      0.004787       0.999480         0.695373  153.0  ...      0.004454   \n",
       "3197       0.253922       0.975526         0.746010  125.0  ...      0.015467   \n",
       "\n",
       "       beta_1500  radius_1500  z_range_1500  density_1500  verticality_1500  \\\n",
       "12665   0.915188     0.951455      1.315033    416.309322          0.358822   \n",
       "1495    0.369747     2.351138      3.279282     27.589713          0.218893   \n",
       "12155   0.450215     2.649703      3.049515     19.274794          0.128553   \n",
       "12576   0.992919     1.174867      1.800156    221.113452          0.556144   \n",
       "3197    0.718864     2.606179      3.689117     20.256693          0.386318   \n",
       "\n",
       "       linearity_1500  anisotropy_1500  eigenentropy_1500  label  \n",
       "12665        0.062171         0.964949           0.769541      0  \n",
       "1495         0.483901         0.800981           0.925849      2  \n",
       "12155        0.494278         0.863871           0.871162      2  \n",
       "12576        0.008876         0.998255           0.699570      1  \n",
       "3197         0.033373         0.808921           0.930818      2  \n",
       "\n",
       "[5 rows x 31 columns]"
      ]
     },
     "execution_count": 25,
     "metadata": {},
     "output_type": "execute_result"
    }
   ],
   "source": [
    "print(\"Clean dataset shape: \", clean_dataset.shape)\n",
    "clean_dataset.head()"
   ]
  },
  {
   "cell_type": "markdown",
   "metadata": {},
   "source": [
    "### Logistic regression"
   ]
  },
  {
   "cell_type": "markdown",
   "metadata": {},
   "source": [
    "We will train a logistic regression model for predict the 3D point label, starting from our set of geometric features. This is a fairly classic example of supervised learning model, where explaining variables should not be correlated. In the following code, the final classifier is actually a pipeline that combines a simple scaler and the previous logistic regression."
   ]
  },
  {
   "cell_type": "code",
   "execution_count": 26,
   "metadata": {},
   "outputs": [
    {
     "name": "stderr",
     "output_type": "stream",
     "text": [
      "[09:12:54] warnings._showwarnmsg (WARNING) - /home/rde/.virtualenvs/univers/lib/python3.7/site-packages/sklearn/linear_model/logistic.py:947: ConvergenceWarning: lbfgs failed to converge. Increase the number of iterations.\n",
      "  \"of iterations.\", ConvergenceWarning)\n",
      "\n"
     ]
    }
   ],
   "source": [
    "clf = train_predictive_model(\n",
    "    clean_dataset.drop(columns=\"label\"), clean_dataset[\"label\"], seed=42\n",
    ")"
   ]
  },
  {
   "cell_type": "markdown",
   "metadata": {},
   "source": [
    "In order to test the robustness of the model, we cross-validate it with 5 different subsamples."
   ]
  },
  {
   "cell_type": "code",
   "execution_count": 27,
   "metadata": {},
   "outputs": [
    {
     "name": "stderr",
     "output_type": "stream",
     "text": [
      "[09:13:03] warnings._showwarnmsg (WARNING) - /home/rde/.virtualenvs/univers/lib/python3.7/site-packages/sklearn/linear_model/logistic.py:947: ConvergenceWarning: lbfgs failed to converge. Increase the number of iterations.\n",
      "  \"of iterations.\", ConvergenceWarning)\n",
      "\n",
      "[09:13:12] warnings._showwarnmsg (WARNING) - /home/rde/.virtualenvs/univers/lib/python3.7/site-packages/sklearn/linear_model/logistic.py:947: ConvergenceWarning: lbfgs failed to converge. Increase the number of iterations.\n",
      "  \"of iterations.\", ConvergenceWarning)\n",
      "\n",
      "[09:13:22] warnings._showwarnmsg (WARNING) - /home/rde/.virtualenvs/univers/lib/python3.7/site-packages/sklearn/linear_model/logistic.py:947: ConvergenceWarning: lbfgs failed to converge. Increase the number of iterations.\n",
      "  \"of iterations.\", ConvergenceWarning)\n",
      "\n",
      "[09:13:31] warnings._showwarnmsg (WARNING) - /home/rde/.virtualenvs/univers/lib/python3.7/site-packages/sklearn/linear_model/logistic.py:947: ConvergenceWarning: lbfgs failed to converge. Increase the number of iterations.\n",
      "  \"of iterations.\", ConvergenceWarning)\n",
      "\n",
      "[09:13:40] warnings._showwarnmsg (WARNING) - /home/rde/.virtualenvs/univers/lib/python3.7/site-packages/sklearn/linear_model/logistic.py:947: ConvergenceWarning: lbfgs failed to converge. Increase the number of iterations.\n",
      "  \"of iterations.\", ConvergenceWarning)\n",
      "\n"
     ]
    }
   ],
   "source": [
    "scores = cross_val_score(clf, clean_dataset.drop(columns=\"label\"), clean_dataset[\"label\"], cv=5)"
   ]
  },
  {
   "cell_type": "markdown",
   "metadata": {},
   "source": [
    "The precision scores are really close to 1, that meaning we may overfit our data..."
   ]
  },
  {
   "cell_type": "code",
   "execution_count": 28,
   "metadata": {},
   "outputs": [
    {
     "data": {
      "text/plain": [
       "array([0.99775983, 0.99871012, 0.99871012, 0.99911745, 0.99864223])"
      ]
     },
     "execution_count": 28,
     "metadata": {},
     "output_type": "execute_result"
    }
   ],
   "source": [
    "scores"
   ]
  },
  {
   "cell_type": "markdown",
   "metadata": {},
   "source": [
    "We can train the classifier on the whole dataset, and then, predict the labels for random points:"
   ]
  },
  {
   "cell_type": "code",
   "execution_count": 29,
   "metadata": {},
   "outputs": [
    {
     "name": "stdout",
     "output_type": "stream",
     "text": [
      "Random point classes:  [0 2 2 1 2]\n",
      "Predicted point classes:  [0 2 2 1 2]\n"
     ]
    },
    {
     "data": {
      "text/plain": [
       "array([[9.99940567e-01, 5.93652562e-05, 6.82012886e-08],\n",
       "       [3.24881745e-06, 5.10585271e-20, 9.99996751e-01],\n",
       "       [6.49745904e-06, 5.38911114e-17, 9.99993503e-01],\n",
       "       [9.85622572e-04, 9.99013230e-01, 1.14773319e-06],\n",
       "       [1.44003340e-07, 4.24729580e-09, 9.99999852e-01]])"
      ]
     },
     "execution_count": 29,
     "metadata": {},
     "output_type": "execute_result"
    }
   ],
   "source": [
    "print(\"Random point classes: \", clean_dataset[\"label\"].iloc[:5].values)\n",
    "print(\"Predicted point classes: \", clf.predict(clean_dataset.drop(columns=\"label\").iloc[:5]))\n",
    "clf.predict_proba(clean_dataset.drop(columns=\"label\").iloc[:5])"
   ]
  },
  {
   "cell_type": "markdown",
   "metadata": {},
   "source": [
    "### Learning model serialization"
   ]
  },
  {
   "cell_type": "markdown",
   "metadata": {},
   "source": [
    "We can save the model on the file system for further usage."
   ]
  },
  {
   "cell_type": "code",
   "execution_count": 30,
   "metadata": {},
   "outputs": [],
   "source": [
    "with open(\"model-pombourg.pkl\", \"wb\") as fobj:\n",
    "    pickle.dump(clf, fobj)"
   ]
  },
  {
   "cell_type": "markdown",
   "metadata": {},
   "source": [
    "### Prediction on the whole scene"
   ]
  },
  {
   "cell_type": "markdown",
   "metadata": {},
   "source": [
    "In order to predict all the labels, we have to standardize the column organization to make it similar as those which was used to build the model."
   ]
  },
  {
   "cell_type": "code",
   "execution_count": 31,
   "metadata": {},
   "outputs": [],
   "source": [
    "drop_cols = [\"planarity\", \"eigenvalue_ratio_2D\",\n",
    "            \"eigenvalue_sum_2D\", \"eigenvalue_sum\", \"radius_2D\", \"std_dev\", \"density_2D\",\n",
    "             \"scattering\", \"omnivariance\", \"curvature_change\"]\n",
    "dataset_cols_to_drop = sum((complete_with_voisin(x, NEIGHBORHOOD_SIZES) for x in drop_cols), [])"
   ]
  },
  {
   "cell_type": "code",
   "execution_count": 32,
   "metadata": {},
   "outputs": [],
   "source": [
    "cdf = features.drop(columns=dataset_cols_to_drop).drop(columns=[\"x\", \"y\", \"z\"])"
   ]
  },
  {
   "cell_type": "code",
   "execution_count": 33,
   "metadata": {},
   "outputs": [
    {
     "data": {
      "text/plain": [
       "(672193, 30)"
      ]
     },
     "execution_count": 33,
     "metadata": {},
     "output_type": "execute_result"
    }
   ],
   "source": [
    "cdf.shape"
   ]
  },
  {
   "cell_type": "code",
   "execution_count": 34,
   "metadata": {},
   "outputs": [
    {
     "data": {
      "text/plain": [
       "True"
      ]
     },
     "execution_count": 34,
     "metadata": {},
     "output_type": "execute_result"
    }
   ],
   "source": [
    "set(cdf.columns) == set(clean_dataset.drop(columns=\"label\").columns)"
   ]
  },
  {
   "cell_type": "code",
   "execution_count": 35,
   "metadata": {},
   "outputs": [],
   "source": [
    "features[\"label\"] = clf.predict(cdf.values)"
   ]
  },
  {
   "cell_type": "markdown",
   "metadata": {},
   "source": [
    "The point labels repartition in the whole scene are as follows:"
   ]
  },
  {
   "cell_type": "code",
   "execution_count": 36,
   "metadata": {},
   "outputs": [
    {
     "data": {
      "text/plain": [
       "label\n",
       "0    375325\n",
       "1    226272\n",
       "2     70596\n",
       "Name: label, dtype: int64"
      ]
     },
     "execution_count": 36,
     "metadata": {},
     "output_type": "execute_result"
    }
   ],
   "source": [
    "features.groupby(\"label\")[\"label\"].count()"
   ]
  },
  {
   "cell_type": "code",
   "execution_count": 37,
   "metadata": {},
   "outputs": [
    {
     "name": "stdout",
     "output_type": "stream",
     "text": [
      "{'eboulis': 0, 'falaise': 1, 'vegetation': 2}\n"
     ]
    }
   ],
   "source": [
    "print(LABELS)"
   ]
  },
  {
   "cell_type": "code",
   "execution_count": 38,
   "metadata": {},
   "outputs": [
    {
     "data": {
      "image/png": "[encoded data removed]",
      "text/plain": [
       "<Figure size 720x72 with 1 Axes>"
      ]
     },
     "metadata": {
      "needs_background": "light"
     },
     "output_type": "display_data"
    }
   ],
   "source": [
    "palette = sns.color_palette(\"colorblind\")\n",
    "sns.palplot(palette)"
   ]
  },
  {
   "cell_type": "code",
   "execution_count": 39,
   "metadata": {},
   "outputs": [],
   "source": [
    "colors = [palette[7],  # scree / gray\n",
    "          palette[0],  # cliff / blue\n",
    "          palette[2]]  # vegetation / green"
   ]
  },
  {
   "cell_type": "code",
   "execution_count": 40,
   "metadata": {},
   "outputs": [],
   "source": [
    "outdf = colorize_labels(features[COORDS], features[\"label\"], colors)"
   ]
  },
  {
   "cell_type": "code",
   "execution_count": 41,
   "metadata": {},
   "outputs": [],
   "source": [
    "output_file_path = DATADIR / \"output\" / PREFIX_NAME / \"classification\"\n",
    "output_file_path.mkdir(exist_ok=\"True\")\n",
    "write_las(outdf, input_file_path, output_file_path / \"pombourg-classification.las\")"
   ]
  },
  {
   "cell_type": "code",
   "execution_count": null,
   "metadata": {},
   "outputs": [],
   "source": []
  }
 ],
 "metadata": {
  "kernelspec": {
   "display_name": "Python 3",
   "language": "python",
   "name": "python3"
  },
  "language_info": {
   "codemirror_mode": {
    "name": "ipython",
    "version": 3
   },
   "file_extension": ".py",
   "mimetype": "text/x-python",
   "name": "python",
   "nbconvert_exporter": "python",
   "pygments_lexer": "ipython3",
   "version": "3.7.3"
  }
 },
 "nbformat": 4,
 "nbformat_minor": 2
}
