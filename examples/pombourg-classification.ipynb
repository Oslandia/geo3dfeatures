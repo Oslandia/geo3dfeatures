{
 "cells": [
  {
   "cell_type": "markdown",
   "metadata": {},
   "source": [
    "# Supervised learning - Pombourg dataset"
   ]
  },
  {
   "cell_type": "markdown",
   "metadata": {},
   "source": [
    "This notebook will be dedicated to the supervised classification of `(x, y, z)` points within the `Pombourg` dataset. As a prerequisite, the geometric features must be extracted for the point cloud as well as for every class sample with the following commands:\n",
    "\n",
    "```sh\n",
    "geo3d featurize -d data -i Pombourg.las -c r g b -t 500 -n 50 200 1500\n",
    "geo3d featurize --label-scene -d data -i Pombourg_vegetation.las -c r g b -t 500 -n 50 200 1500\n",
    "geo3d featurize --label-scene -d data -i Pombourg_falaise.las -c r g b -t 500 -n 50 200 1500\n",
    "geo3d featurize --label-scene -d data -i Pombourg_eboulis.las -c r g b -t 500 -n 50 200 1500\n",
    "```"
   ]
  },
  {
   "cell_type": "markdown",
   "metadata": {},
   "source": [
    "As a reminder, the `Pombourg` dataset is composed of vegetation at the top, a large cliff at the middle of the scene, and some screes at the bottom; it looks as follows:\n",
    "<img src=\"../docs/images/pombourg.png\" width=\"250px\">"
   ]
  },
  {
   "cell_type": "markdown",
   "metadata": {},
   "source": [
    "## Imports"
   ]
  },
  {
   "cell_type": "code",
   "execution_count": 1,
   "metadata": {},
   "outputs": [],
   "source": [
    "%matplotlib inline"
   ]
  },
  {
   "cell_type": "code",
   "execution_count": 2,
   "metadata": {},
   "outputs": [],
   "source": [
    "from pathlib import Path\n",
    "import pickle"
   ]
  },
  {
   "cell_type": "code",
   "execution_count": 3,
   "metadata": {},
   "outputs": [],
   "source": [
    "import numpy as np\n",
    "import pandas as pd"
   ]
  },
  {
   "cell_type": "code",
   "execution_count": 4,
   "metadata": {},
   "outputs": [],
   "source": [
    "from sklearn.linear_model import LogisticRegression\n",
    "from sklearn.model_selection import cross_val_score\n",
    "from sklearn.pipeline import make_pipeline\n",
    "from sklearn.preprocessing import MinMaxScaler"
   ]
  },
  {
   "cell_type": "code",
   "execution_count": 5,
   "metadata": {},
   "outputs": [],
   "source": [
    "import matplotlib\n",
    "from matplotlib import pyplot as plt\n",
    "import seaborn as sns"
   ]
  },
  {
   "cell_type": "code",
   "execution_count": 6,
   "metadata": {},
   "outputs": [],
   "source": [
    "plt.style.use(\"seaborn-notebook\")"
   ]
  },
  {
   "cell_type": "code",
   "execution_count": 7,
   "metadata": {},
   "outputs": [],
   "source": [
    "from geo3dfeatures.classification import colorize_labels, train_predictive_model\n",
    "from geo3dfeatures.extract import compute_tree, request_tree, extract\n",
    "from geo3dfeatures.features import max_normalize, sum_normalize\n",
    "from geo3dfeatures.io import load_features, read_las, write_las"
   ]
  },
  {
   "cell_type": "markdown",
   "metadata": {},
   "source": [
    "## Global parameter setting"
   ]
  },
  {
   "cell_type": "markdown",
   "metadata": {},
   "source": [
    "The file of interest must be set up for further data loading."
   ]
  },
  {
   "cell_type": "code",
   "execution_count": 8,
   "metadata": {},
   "outputs": [],
   "source": [
    "PREFIX_NAME = \"Pombourg\"\n",
    "SCENE_FILE = PREFIX_NAME + \".las\"\n",
    "EBOULIS_FILE = PREFIX_NAME + \"_eboulis.las\"\n",
    "VEGETATION_FILE = PREFIX_NAME + \"_vegetation.las\"\n",
    "FALAISE_FILE = PREFIX_NAME + \"_falaise.las\"\n",
    "DATADIR = Path(\"..\", \"data\")"
   ]
  },
  {
   "cell_type": "code",
   "execution_count": 9,
   "metadata": {},
   "outputs": [],
   "source": [
    "NEIGHBORHOOD_SIZES = [50, 200, 1500]"
   ]
  },
  {
   "cell_type": "markdown",
   "metadata": {},
   "source": [
    "Some data column names (point coordinates, and RGB channels) are provided as follows:"
   ]
  },
  {
   "cell_type": "code",
   "execution_count": 10,
   "metadata": {},
   "outputs": [],
   "source": [
    "COORDS = list(\"xyz\")\n",
    "COULEURS = list(\"rgb\")"
   ]
  },
  {
   "cell_type": "markdown",
   "metadata": {},
   "source": [
    "Then we define the labels for this dataset."
   ]
  },
  {
   "cell_type": "code",
   "execution_count": 11,
   "metadata": {},
   "outputs": [],
   "source": [
    "LABELS = {\"eboulis\": 0,\n",
    "          \"falaise\": 1,\n",
    "          \"vegetation\": 2}"
   ]
  },
  {
   "cell_type": "markdown",
   "metadata": {},
   "source": [
    "## Data loading"
   ]
  },
  {
   "cell_type": "markdown",
   "metadata": {},
   "source": [
    "### Raw point cloud"
   ]
  },
  {
   "cell_type": "code",
   "execution_count": 12,
   "metadata": {},
   "outputs": [],
   "source": [
    "input_file_path = DATADIR / \"input\" / SCENE_FILE"
   ]
  },
  {
   "cell_type": "code",
   "execution_count": 13,
   "metadata": {},
   "outputs": [],
   "source": [
    "rawdata = read_las(input_file_path)\n",
    "rawdata = pd.DataFrame(rawdata, columns=list(\"xyzrgb\"))"
   ]
  },
  {
   "cell_type": "code",
   "execution_count": 14,
   "metadata": {},
   "outputs": [
    {
     "name": "stdout",
     "output_type": "stream",
     "text": [
      "Raw data dimension:  (672193, 6)\n"
     ]
    },
    {
     "data": {
      "text/html": [
       "<div>\n",
       "<style scoped>\n",
       "    .dataframe tbody tr th:only-of-type {\n",
       "        vertical-align: middle;\n",
       "    }\n",
       "\n",
       "    .dataframe tbody tr th {\n",
       "        vertical-align: top;\n",
       "    }\n",
       "\n",
       "    .dataframe thead th {\n",
       "        text-align: right;\n",
       "    }\n",
       "</style>\n",
       "<table border=\"1\" class=\"dataframe\">\n",
       "  <thead>\n",
       "    <tr style=\"text-align: right;\">\n",
       "      <th></th>\n",
       "      <th>x</th>\n",
       "      <th>y</th>\n",
       "      <th>z</th>\n",
       "      <th>r</th>\n",
       "      <th>g</th>\n",
       "      <th>b</th>\n",
       "    </tr>\n",
       "  </thead>\n",
       "  <tbody>\n",
       "    <tr>\n",
       "      <th>0</th>\n",
       "      <td>1.977540e+06</td>\n",
       "      <td>5.242311e+06</td>\n",
       "      <td>902.684203</td>\n",
       "      <td>128.0</td>\n",
       "      <td>88.0</td>\n",
       "      <td>75.0</td>\n",
       "    </tr>\n",
       "    <tr>\n",
       "      <th>1</th>\n",
       "      <td>1.977540e+06</td>\n",
       "      <td>5.242311e+06</td>\n",
       "      <td>902.674986</td>\n",
       "      <td>117.0</td>\n",
       "      <td>78.0</td>\n",
       "      <td>66.0</td>\n",
       "    </tr>\n",
       "    <tr>\n",
       "      <th>2</th>\n",
       "      <td>1.977540e+06</td>\n",
       "      <td>5.242311e+06</td>\n",
       "      <td>902.731627</td>\n",
       "      <td>111.0</td>\n",
       "      <td>73.0</td>\n",
       "      <td>62.0</td>\n",
       "    </tr>\n",
       "    <tr>\n",
       "      <th>3</th>\n",
       "      <td>1.977538e+06</td>\n",
       "      <td>5.242330e+06</td>\n",
       "      <td>893.093306</td>\n",
       "      <td>147.0</td>\n",
       "      <td>135.0</td>\n",
       "      <td>131.0</td>\n",
       "    </tr>\n",
       "    <tr>\n",
       "      <th>4</th>\n",
       "      <td>1.977538e+06</td>\n",
       "      <td>5.242330e+06</td>\n",
       "      <td>893.049910</td>\n",
       "      <td>149.0</td>\n",
       "      <td>137.0</td>\n",
       "      <td>133.0</td>\n",
       "    </tr>\n",
       "  </tbody>\n",
       "</table>\n",
       "</div>"
      ],
      "text/plain": [
       "              x             y           z      r      g      b\n",
       "0  1.977540e+06  5.242311e+06  902.684203  128.0   88.0   75.0\n",
       "1  1.977540e+06  5.242311e+06  902.674986  117.0   78.0   66.0\n",
       "2  1.977540e+06  5.242311e+06  902.731627  111.0   73.0   62.0\n",
       "3  1.977538e+06  5.242330e+06  893.093306  147.0  135.0  131.0\n",
       "4  1.977538e+06  5.242330e+06  893.049910  149.0  137.0  133.0"
      ]
     },
     "execution_count": 14,
     "metadata": {},
     "output_type": "execute_result"
    }
   ],
   "source": [
    "print(\"Raw data dimension: \", rawdata.shape)\n",
    "rawdata.head()"
   ]
  },
  {
   "cell_type": "markdown",
   "metadata": {},
   "source": [
    "### Geometric features for the whole point cloud"
   ]
  },
  {
   "cell_type": "markdown",
   "metadata": {},
   "source": [
    "The data is loaded for three different neighborhood sizes (50, 200, 1500). We further consider this dataset as the *testing* dataset."
   ]
  },
  {
   "cell_type": "code",
   "execution_count": 15,
   "metadata": {},
   "outputs": [
    {
     "name": "stderr",
     "output_type": "stream",
     "text": [
      "[16:11:27] io.load_features (INFO) - Recover features stored in ../data/output/Pombourg/features/features.h5\n",
      "[16:11:27] utils._init_num_threads (INFO) - NumExpr defaulting to 4 threads.\n"
     ]
    }
   ],
   "source": [
    "features = load_features(DATADIR, PREFIX_NAME, NEIGHBORHOOD_SIZES)"
   ]
  },
  {
   "cell_type": "code",
   "execution_count": 16,
   "metadata": {},
   "outputs": [
    {
     "name": "stdout",
     "output_type": "stream",
     "text": [
      "Feature dimension:  (672193, 63)\n"
     ]
    },
    {
     "data": {
      "text/html": [
       "<div>\n",
       "<style scoped>\n",
       "    .dataframe tbody tr th:only-of-type {\n",
       "        vertical-align: middle;\n",
       "    }\n",
       "\n",
       "    .dataframe tbody tr th {\n",
       "        vertical-align: top;\n",
       "    }\n",
       "\n",
       "    .dataframe thead th {\n",
       "        text-align: right;\n",
       "    }\n",
       "</style>\n",
       "<table border=\"1\" class=\"dataframe\">\n",
       "  <thead>\n",
       "    <tr style=\"text-align: right;\">\n",
       "      <th></th>\n",
       "      <th>x</th>\n",
       "      <th>y</th>\n",
       "      <th>z</th>\n",
       "      <th>alpha_50</th>\n",
       "      <th>beta_50</th>\n",
       "      <th>radius_50</th>\n",
       "      <th>z_range_50</th>\n",
       "      <th>std_dev_50</th>\n",
       "      <th>density_50</th>\n",
       "      <th>verticality_50</th>\n",
       "      <th>...</th>\n",
       "      <th>planarity_1500</th>\n",
       "      <th>scattering_1500</th>\n",
       "      <th>omnivariance_1500</th>\n",
       "      <th>anisotropy_1500</th>\n",
       "      <th>eigenentropy_1500</th>\n",
       "      <th>eigenvalue_sum_1500</th>\n",
       "      <th>radius_2D_1500</th>\n",
       "      <th>density_2D_1500</th>\n",
       "      <th>eigenvalue_sum_2D_1500</th>\n",
       "      <th>eigenvalue_ratio_2D_1500</th>\n",
       "    </tr>\n",
       "  </thead>\n",
       "  <tbody>\n",
       "    <tr>\n",
       "      <th>0</th>\n",
       "      <td>1.977525e+06</td>\n",
       "      <td>5.242324e+06</td>\n",
       "      <td>891.317748</td>\n",
       "      <td>0.334604</td>\n",
       "      <td>0.664243</td>\n",
       "      <td>1.733842</td>\n",
       "      <td>0.292404</td>\n",
       "      <td>0.085410</td>\n",
       "      <td>2.381697</td>\n",
       "      <td>0.312858</td>\n",
       "      <td>...</td>\n",
       "      <td>0.349891</td>\n",
       "      <td>0.001678</td>\n",
       "      <td>0.061972</td>\n",
       "      <td>0.998322</td>\n",
       "      <td>0.582007</td>\n",
       "      <td>1122.339474</td>\n",
       "      <td>2.042213</td>\n",
       "      <td>114.635222</td>\n",
       "      <td>917.769528</td>\n",
       "      <td>0.274770</td>\n",
       "    </tr>\n",
       "    <tr>\n",
       "      <th>1</th>\n",
       "      <td>1.977525e+06</td>\n",
       "      <td>5.242324e+06</td>\n",
       "      <td>891.319029</td>\n",
       "      <td>0.345110</td>\n",
       "      <td>0.653892</td>\n",
       "      <td>1.709429</td>\n",
       "      <td>0.279770</td>\n",
       "      <td>0.082896</td>\n",
       "      <td>2.485200</td>\n",
       "      <td>0.315099</td>\n",
       "      <td>...</td>\n",
       "      <td>0.360852</td>\n",
       "      <td>0.001681</td>\n",
       "      <td>0.062153</td>\n",
       "      <td>0.998319</td>\n",
       "      <td>0.588088</td>\n",
       "      <td>1113.190733</td>\n",
       "      <td>2.001808</td>\n",
       "      <td>119.309563</td>\n",
       "      <td>913.282079</td>\n",
       "      <td>0.279151</td>\n",
       "    </tr>\n",
       "    <tr>\n",
       "      <th>2</th>\n",
       "      <td>1.977525e+06</td>\n",
       "      <td>5.242324e+06</td>\n",
       "      <td>891.354063</td>\n",
       "      <td>0.305694</td>\n",
       "      <td>0.692340</td>\n",
       "      <td>1.693528</td>\n",
       "      <td>0.298752</td>\n",
       "      <td>0.088161</td>\n",
       "      <td>2.555864</td>\n",
       "      <td>0.308114</td>\n",
       "      <td>...</td>\n",
       "      <td>0.354059</td>\n",
       "      <td>0.001692</td>\n",
       "      <td>0.062200</td>\n",
       "      <td>0.998308</td>\n",
       "      <td>0.584418</td>\n",
       "      <td>1117.264330</td>\n",
       "      <td>1.995458</td>\n",
       "      <td>120.070114</td>\n",
       "      <td>911.133084</td>\n",
       "      <td>0.280125</td>\n",
       "    </tr>\n",
       "    <tr>\n",
       "      <th>3</th>\n",
       "      <td>1.977525e+06</td>\n",
       "      <td>5.242324e+06</td>\n",
       "      <td>891.390135</td>\n",
       "      <td>0.295625</td>\n",
       "      <td>0.702156</td>\n",
       "      <td>1.661859</td>\n",
       "      <td>0.312424</td>\n",
       "      <td>0.092636</td>\n",
       "      <td>2.704780</td>\n",
       "      <td>0.304651</td>\n",
       "      <td>...</td>\n",
       "      <td>0.356062</td>\n",
       "      <td>0.001723</td>\n",
       "      <td>0.062601</td>\n",
       "      <td>0.998277</td>\n",
       "      <td>0.585683</td>\n",
       "      <td>1114.302199</td>\n",
       "      <td>1.969498</td>\n",
       "      <td>123.256208</td>\n",
       "      <td>904.931612</td>\n",
       "      <td>0.285944</td>\n",
       "    </tr>\n",
       "    <tr>\n",
       "      <th>4</th>\n",
       "      <td>1.977525e+06</td>\n",
       "      <td>5.242324e+06</td>\n",
       "      <td>891.310728</td>\n",
       "      <td>0.335228</td>\n",
       "      <td>0.663748</td>\n",
       "      <td>1.687403</td>\n",
       "      <td>0.271698</td>\n",
       "      <td>0.080073</td>\n",
       "      <td>2.583795</td>\n",
       "      <td>0.316415</td>\n",
       "      <td>...</td>\n",
       "      <td>0.361747</td>\n",
       "      <td>0.001637</td>\n",
       "      <td>0.061615</td>\n",
       "      <td>0.998363</td>\n",
       "      <td>0.588348</td>\n",
       "      <td>1113.519679</td>\n",
       "      <td>2.010107</td>\n",
       "      <td>118.326412</td>\n",
       "      <td>918.530668</td>\n",
       "      <td>0.275069</td>\n",
       "    </tr>\n",
       "  </tbody>\n",
       "</table>\n",
       "<p>5 rows × 63 columns</p>\n",
       "</div>"
      ],
      "text/plain": [
       "              x             y           z  alpha_50   beta_50  radius_50  \\\n",
       "0  1.977525e+06  5.242324e+06  891.317748  0.334604  0.664243   1.733842   \n",
       "1  1.977525e+06  5.242324e+06  891.319029  0.345110  0.653892   1.709429   \n",
       "2  1.977525e+06  5.242324e+06  891.354063  0.305694  0.692340   1.693528   \n",
       "3  1.977525e+06  5.242324e+06  891.390135  0.295625  0.702156   1.661859   \n",
       "4  1.977525e+06  5.242324e+06  891.310728  0.335228  0.663748   1.687403   \n",
       "\n",
       "   z_range_50  std_dev_50  density_50  verticality_50  \\\n",
       "0    0.292404    0.085410    2.381697        0.312858   \n",
       "1    0.279770    0.082896    2.485200        0.315099   \n",
       "2    0.298752    0.088161    2.555864        0.308114   \n",
       "3    0.312424    0.092636    2.704780        0.304651   \n",
       "4    0.271698    0.080073    2.583795        0.316415   \n",
       "\n",
       "             ...             planarity_1500  scattering_1500  \\\n",
       "0            ...                   0.349891         0.001678   \n",
       "1            ...                   0.360852         0.001681   \n",
       "2            ...                   0.354059         0.001692   \n",
       "3            ...                   0.356062         0.001723   \n",
       "4            ...                   0.361747         0.001637   \n",
       "\n",
       "   omnivariance_1500  anisotropy_1500  eigenentropy_1500  eigenvalue_sum_1500  \\\n",
       "0           0.061972         0.998322           0.582007          1122.339474   \n",
       "1           0.062153         0.998319           0.588088          1113.190733   \n",
       "2           0.062200         0.998308           0.584418          1117.264330   \n",
       "3           0.062601         0.998277           0.585683          1114.302199   \n",
       "4           0.061615         0.998363           0.588348          1113.519679   \n",
       "\n",
       "   radius_2D_1500  density_2D_1500  eigenvalue_sum_2D_1500  \\\n",
       "0        2.042213       114.635222              917.769528   \n",
       "1        2.001808       119.309563              913.282079   \n",
       "2        1.995458       120.070114              911.133084   \n",
       "3        1.969498       123.256208              904.931612   \n",
       "4        2.010107       118.326412              918.530668   \n",
       "\n",
       "   eigenvalue_ratio_2D_1500  \n",
       "0                  0.274770  \n",
       "1                  0.279151  \n",
       "2                  0.280125  \n",
       "3                  0.285944  \n",
       "4                  0.275069  \n",
       "\n",
       "[5 rows x 63 columns]"
      ]
     },
     "execution_count": 16,
     "metadata": {},
     "output_type": "execute_result"
    }
   ],
   "source": [
    "print(\"Feature dimension: \", features.shape)\n",
    "features.head()"
   ]
  },
  {
   "cell_type": "markdown",
   "metadata": {},
   "source": [
    "### Geometric features for the class samples"
   ]
  },
  {
   "cell_type": "markdown",
   "metadata": {},
   "source": [
    "Parallely, we compute the geometric features for every class samples, by considering the whole scene for the kd-tree querying. A set of three neighborhood sizes is used in this way. We consider this composed dataset as the *training* dataset (labels are known by definition)."
   ]
  },
  {
   "cell_type": "code",
   "execution_count": 17,
   "metadata": {},
   "outputs": [
    {
     "name": "stderr",
     "output_type": "stream",
     "text": [
      "[16:11:42] io.load_features (INFO) - Recover features stored in ../data/output/Pombourg/features/features_vegetation.h5\n",
      "[16:11:42] io.load_features (INFO) - Recover features stored in ../data/output/Pombourg/features/features_falaise.h5\n",
      "[16:11:44] io.load_features (INFO) - Recover features stored in ../data/output/Pombourg/features/features_eboulis.h5\n"
     ]
    }
   ],
   "source": [
    "dfveg = load_features(DATADIR, PREFIX_NAME, NEIGHBORHOOD_SIZES, \"vegetation\")\n",
    "dffalaise = load_features(DATADIR, PREFIX_NAME, NEIGHBORHOOD_SIZES, \"falaise\")\n",
    "dfeboulis = load_features(DATADIR, PREFIX_NAME, NEIGHBORHOOD_SIZES, \"eboulis\")"
   ]
  },
  {
   "cell_type": "markdown",
   "metadata": {},
   "source": [
    "Each sample dataset is associated with its corresponding label:"
   ]
  },
  {
   "cell_type": "code",
   "execution_count": 18,
   "metadata": {},
   "outputs": [],
   "source": [
    "dfeboulis[\"label\"] = LABELS[\"eboulis\"]\n",
    "dffalaise[\"label\"] = LABELS[\"falaise\"]\n",
    "dfveg[\"label\"] = LABELS[\"vegetation\"]"
   ]
  },
  {
   "cell_type": "markdown",
   "metadata": {},
   "source": [
    "Then we can concatenate all the sample datasets in one single dataframe."
   ]
  },
  {
   "cell_type": "code",
   "execution_count": 19,
   "metadata": {},
   "outputs": [],
   "source": [
    "datasets = pd.concat([dfeboulis, dffalaise, dfveg], axis=0)"
   ]
  },
  {
   "cell_type": "code",
   "execution_count": 20,
   "metadata": {},
   "outputs": [
    {
     "name": "stdout",
     "output_type": "stream",
     "text": [
      "Dataset shape:  (73651, 64)\n"
     ]
    },
    {
     "data": {
      "text/html": [
       "<div>\n",
       "<style scoped>\n",
       "    .dataframe tbody tr th:only-of-type {\n",
       "        vertical-align: middle;\n",
       "    }\n",
       "\n",
       "    .dataframe tbody tr th {\n",
       "        vertical-align: top;\n",
       "    }\n",
       "\n",
       "    .dataframe thead th {\n",
       "        text-align: right;\n",
       "    }\n",
       "</style>\n",
       "<table border=\"1\" class=\"dataframe\">\n",
       "  <thead>\n",
       "    <tr style=\"text-align: right;\">\n",
       "      <th></th>\n",
       "      <th>x</th>\n",
       "      <th>y</th>\n",
       "      <th>z</th>\n",
       "      <th>alpha_50</th>\n",
       "      <th>beta_50</th>\n",
       "      <th>radius_50</th>\n",
       "      <th>z_range_50</th>\n",
       "      <th>std_dev_50</th>\n",
       "      <th>density_50</th>\n",
       "      <th>verticality_50</th>\n",
       "      <th>...</th>\n",
       "      <th>scattering_1500</th>\n",
       "      <th>omnivariance_1500</th>\n",
       "      <th>anisotropy_1500</th>\n",
       "      <th>eigenentropy_1500</th>\n",
       "      <th>eigenvalue_sum_1500</th>\n",
       "      <th>radius_2D_1500</th>\n",
       "      <th>density_2D_1500</th>\n",
       "      <th>eigenvalue_sum_2D_1500</th>\n",
       "      <th>eigenvalue_ratio_2D_1500</th>\n",
       "      <th>label</th>\n",
       "    </tr>\n",
       "  </thead>\n",
       "  <tbody>\n",
       "    <tr>\n",
       "      <th>0</th>\n",
       "      <td>1.977537e+06</td>\n",
       "      <td>5.242329e+06</td>\n",
       "      <td>893.466154</td>\n",
       "      <td>0.102856</td>\n",
       "      <td>0.888538</td>\n",
       "      <td>1.302015</td>\n",
       "      <td>0.376617</td>\n",
       "      <td>0.105810</td>\n",
       "      <td>5.624278</td>\n",
       "      <td>0.868071</td>\n",
       "      <td>...</td>\n",
       "      <td>0.048439</td>\n",
       "      <td>0.182927</td>\n",
       "      <td>0.951561</td>\n",
       "      <td>0.790406</td>\n",
       "      <td>933.068215</td>\n",
       "      <td>1.133958</td>\n",
       "      <td>371.814129</td>\n",
       "      <td>521.100299</td>\n",
       "      <td>0.092416</td>\n",
       "      <td>0</td>\n",
       "    </tr>\n",
       "    <tr>\n",
       "      <th>1</th>\n",
       "      <td>1.977537e+06</td>\n",
       "      <td>5.242329e+06</td>\n",
       "      <td>893.412794</td>\n",
       "      <td>0.114306</td>\n",
       "      <td>0.877906</td>\n",
       "      <td>1.304379</td>\n",
       "      <td>0.397675</td>\n",
       "      <td>0.110456</td>\n",
       "      <td>5.593758</td>\n",
       "      <td>0.925616</td>\n",
       "      <td>...</td>\n",
       "      <td>0.043961</td>\n",
       "      <td>0.177248</td>\n",
       "      <td>0.956039</td>\n",
       "      <td>0.783676</td>\n",
       "      <td>943.017294</td>\n",
       "      <td>1.147080</td>\n",
       "      <td>363.356412</td>\n",
       "      <td>518.349456</td>\n",
       "      <td>0.077285</td>\n",
       "      <td>0</td>\n",
       "    </tr>\n",
       "    <tr>\n",
       "      <th>2</th>\n",
       "      <td>1.977537e+06</td>\n",
       "      <td>5.242329e+06</td>\n",
       "      <td>893.350233</td>\n",
       "      <td>0.069191</td>\n",
       "      <td>0.921435</td>\n",
       "      <td>1.308555</td>\n",
       "      <td>0.400131</td>\n",
       "      <td>0.109770</td>\n",
       "      <td>5.540366</td>\n",
       "      <td>0.973620</td>\n",
       "      <td>...</td>\n",
       "      <td>0.039202</td>\n",
       "      <td>0.170937</td>\n",
       "      <td>0.960798</td>\n",
       "      <td>0.776052</td>\n",
       "      <td>953.072758</td>\n",
       "      <td>1.147944</td>\n",
       "      <td>362.809773</td>\n",
       "      <td>517.876294</td>\n",
       "      <td>0.062526</td>\n",
       "      <td>0</td>\n",
       "    </tr>\n",
       "    <tr>\n",
       "      <th>3</th>\n",
       "      <td>1.977537e+06</td>\n",
       "      <td>5.242329e+06</td>\n",
       "      <td>893.513106</td>\n",
       "      <td>0.086685</td>\n",
       "      <td>0.903080</td>\n",
       "      <td>1.304417</td>\n",
       "      <td>0.364487</td>\n",
       "      <td>0.106054</td>\n",
       "      <td>5.593269</td>\n",
       "      <td>0.817127</td>\n",
       "      <td>...</td>\n",
       "      <td>0.051292</td>\n",
       "      <td>0.186419</td>\n",
       "      <td>0.948708</td>\n",
       "      <td>0.794486</td>\n",
       "      <td>929.007483</td>\n",
       "      <td>1.142140</td>\n",
       "      <td>366.506293</td>\n",
       "      <td>531.257561</td>\n",
       "      <td>0.103562</td>\n",
       "      <td>0</td>\n",
       "    </tr>\n",
       "    <tr>\n",
       "      <th>4</th>\n",
       "      <td>1.977537e+06</td>\n",
       "      <td>5.242329e+06</td>\n",
       "      <td>893.286024</td>\n",
       "      <td>0.041353</td>\n",
       "      <td>0.950119</td>\n",
       "      <td>1.309976</td>\n",
       "      <td>0.415848</td>\n",
       "      <td>0.113795</td>\n",
       "      <td>5.522358</td>\n",
       "      <td>0.970630</td>\n",
       "      <td>...</td>\n",
       "      <td>0.034028</td>\n",
       "      <td>0.163037</td>\n",
       "      <td>0.965972</td>\n",
       "      <td>0.767715</td>\n",
       "      <td>963.596787</td>\n",
       "      <td>1.146678</td>\n",
       "      <td>363.611172</td>\n",
       "      <td>511.831757</td>\n",
       "      <td>0.050390</td>\n",
       "      <td>0</td>\n",
       "    </tr>\n",
       "  </tbody>\n",
       "</table>\n",
       "<p>5 rows × 64 columns</p>\n",
       "</div>"
      ],
      "text/plain": [
       "              x             y           z  alpha_50   beta_50  radius_50  \\\n",
       "0  1.977537e+06  5.242329e+06  893.466154  0.102856  0.888538   1.302015   \n",
       "1  1.977537e+06  5.242329e+06  893.412794  0.114306  0.877906   1.304379   \n",
       "2  1.977537e+06  5.242329e+06  893.350233  0.069191  0.921435   1.308555   \n",
       "3  1.977537e+06  5.242329e+06  893.513106  0.086685  0.903080   1.304417   \n",
       "4  1.977537e+06  5.242329e+06  893.286024  0.041353  0.950119   1.309976   \n",
       "\n",
       "   z_range_50  std_dev_50  density_50  verticality_50  ...    scattering_1500  \\\n",
       "0    0.376617    0.105810    5.624278        0.868071  ...           0.048439   \n",
       "1    0.397675    0.110456    5.593758        0.925616  ...           0.043961   \n",
       "2    0.400131    0.109770    5.540366        0.973620  ...           0.039202   \n",
       "3    0.364487    0.106054    5.593269        0.817127  ...           0.051292   \n",
       "4    0.415848    0.113795    5.522358        0.970630  ...           0.034028   \n",
       "\n",
       "   omnivariance_1500  anisotropy_1500  eigenentropy_1500  eigenvalue_sum_1500  \\\n",
       "0           0.182927         0.951561           0.790406           933.068215   \n",
       "1           0.177248         0.956039           0.783676           943.017294   \n",
       "2           0.170937         0.960798           0.776052           953.072758   \n",
       "3           0.186419         0.948708           0.794486           929.007483   \n",
       "4           0.163037         0.965972           0.767715           963.596787   \n",
       "\n",
       "   radius_2D_1500  density_2D_1500  eigenvalue_sum_2D_1500  \\\n",
       "0        1.133958       371.814129              521.100299   \n",
       "1        1.147080       363.356412              518.349456   \n",
       "2        1.147944       362.809773              517.876294   \n",
       "3        1.142140       366.506293              531.257561   \n",
       "4        1.146678       363.611172              511.831757   \n",
       "\n",
       "   eigenvalue_ratio_2D_1500  label  \n",
       "0                  0.092416      0  \n",
       "1                  0.077285      0  \n",
       "2                  0.062526      0  \n",
       "3                  0.103562      0  \n",
       "4                  0.050390      0  \n",
       "\n",
       "[5 rows x 64 columns]"
      ]
     },
     "execution_count": 20,
     "metadata": {},
     "output_type": "execute_result"
    }
   ],
   "source": [
    "print(\"Dataset shape: \", datasets.shape)\n",
    "datasets.head()"
   ]
  },
  {
   "cell_type": "markdown",
   "metadata": {},
   "source": [
    "### Data shuffling and cleaning-up"
   ]
  },
  {
   "cell_type": "markdown",
   "metadata": {},
   "source": [
    "The training dataframe is shuffled so as to remove spatial location patterns:"
   ]
  },
  {
   "cell_type": "code",
   "execution_count": 21,
   "metadata": {},
   "outputs": [],
   "source": [
    "datasets = datasets.sample(frac=1.)"
   ]
  },
  {
   "cell_type": "code",
   "execution_count": 22,
   "metadata": {},
   "outputs": [
    {
     "data": {
      "text/plain": [
       "Index(['x', 'y', 'z', 'alpha_50', 'beta_50', 'radius_50', 'z_range_50',\n",
       "       'std_dev_50', 'density_50', 'verticality_50', 'curvature_change_50',\n",
       "       'linearity_50', 'planarity_50', 'scattering_50', 'omnivariance_50',\n",
       "       'anisotropy_50', 'eigenentropy_50', 'eigenvalue_sum_50', 'radius_2D_50',\n",
       "       'density_2D_50', 'eigenvalue_sum_2D_50', 'eigenvalue_ratio_2D_50', 'r',\n",
       "       'g', 'b', 'alpha_200', 'beta_200', 'radius_200', 'z_range_200',\n",
       "       'std_dev_200', 'density_200', 'verticality_200', 'curvature_change_200',\n",
       "       'linearity_200', 'planarity_200', 'scattering_200', 'omnivariance_200',\n",
       "       'anisotropy_200', 'eigenentropy_200', 'eigenvalue_sum_200',\n",
       "       'radius_2D_200', 'density_2D_200', 'eigenvalue_sum_2D_200',\n",
       "       'eigenvalue_ratio_2D_200', 'alpha_1500', 'beta_1500', 'radius_1500',\n",
       "       'z_range_1500', 'std_dev_1500', 'density_1500', 'verticality_1500',\n",
       "       'curvature_change_1500', 'linearity_1500', 'planarity_1500',\n",
       "       'scattering_1500', 'omnivariance_1500', 'anisotropy_1500',\n",
       "       'eigenentropy_1500', 'eigenvalue_sum_1500', 'radius_2D_1500',\n",
       "       'density_2D_1500', 'eigenvalue_sum_2D_1500', 'eigenvalue_ratio_2D_1500',\n",
       "       'label'],\n",
       "      dtype='object')"
      ]
     },
     "execution_count": 22,
     "metadata": {},
     "output_type": "execute_result"
    }
   ],
   "source": [
    "datasets.columns"
   ]
  },
  {
   "cell_type": "markdown",
   "metadata": {},
   "source": [
    "As we aim at applying supervised learning algorithms that may be impacted by colinearity between features, we must drop a few columns from the initial dataset. To have an insight of which column to remove based on colinearities, please consider the [notebook dedicated to the Pombourg point cloud](./features-study/pombourg-features-study.ipynb)."
   ]
  },
  {
   "cell_type": "code",
   "execution_count": 23,
   "metadata": {},
   "outputs": [
    {
     "data": {
      "text/plain": [
       "['planarity_50',\n",
       " 'planarity_200',\n",
       " 'planarity_1500',\n",
       " 'eigenvalue_ratio_2D_50',\n",
       " 'eigenvalue_ratio_2D_200',\n",
       " 'eigenvalue_ratio_2D_1500',\n",
       " 'eigenvalue_sum_2D_50',\n",
       " 'eigenvalue_sum_2D_200',\n",
       " 'eigenvalue_sum_2D_1500',\n",
       " 'eigenvalue_sum_50',\n",
       " 'eigenvalue_sum_200',\n",
       " 'eigenvalue_sum_1500',\n",
       " 'radius_2D_50',\n",
       " 'radius_2D_200',\n",
       " 'radius_2D_1500',\n",
       " 'std_dev_50',\n",
       " 'std_dev_200',\n",
       " 'std_dev_1500',\n",
       " 'density_2D_50',\n",
       " 'density_2D_200',\n",
       " 'density_2D_1500',\n",
       " 'scattering_50',\n",
       " 'scattering_200',\n",
       " 'scattering_1500',\n",
       " 'omnivariance_50',\n",
       " 'omnivariance_200',\n",
       " 'omnivariance_1500',\n",
       " 'curvature_change_50',\n",
       " 'curvature_change_200',\n",
       " 'curvature_change_1500']"
      ]
     },
     "execution_count": 23,
     "metadata": {},
     "output_type": "execute_result"
    }
   ],
   "source": [
    "def complete_with_voisin(name, neighbors):\n",
    "    \"on complète juste le nom de la features avec le suffix '_{num_voisin}'\"\n",
    "    return [name + \"_{}\".format(x) for x in neighbors]\n",
    "\n",
    "drop_cols = [\"planarity\", \"eigenvalue_ratio_2D\",\n",
    "             \"eigenvalue_sum_2D\", \"eigenvalue_sum\", \"radius_2D\", \"std_dev\", \"density_2D\",\n",
    "             \"scattering\", \"omnivariance\", \"curvature_change\"]\n",
    "full_cols_to_drop = sum((complete_with_voisin(x, NEIGHBORHOOD_SIZES) for x in drop_cols), [])\n",
    "full_cols_to_drop"
   ]
  },
  {
   "cell_type": "code",
   "execution_count": 24,
   "metadata": {},
   "outputs": [],
   "source": [
    "clean_dataset = (datasets\n",
    "                 .drop(columns=full_cols_to_drop)\n",
    "                 .drop(columns=[\"x\", \"y\", \"z\"]))"
   ]
  },
  {
   "cell_type": "code",
   "execution_count": 25,
   "metadata": {},
   "outputs": [
    {
     "name": "stdout",
     "output_type": "stream",
     "text": [
      "Clean dataset shape:  (73651, 31)\n"
     ]
    },
    {
     "data": {
      "text/html": [
       "<div>\n",
       "<style scoped>\n",
       "    .dataframe tbody tr th:only-of-type {\n",
       "        vertical-align: middle;\n",
       "    }\n",
       "\n",
       "    .dataframe tbody tr th {\n",
       "        vertical-align: top;\n",
       "    }\n",
       "\n",
       "    .dataframe thead th {\n",
       "        text-align: right;\n",
       "    }\n",
       "</style>\n",
       "<table border=\"1\" class=\"dataframe\">\n",
       "  <thead>\n",
       "    <tr style=\"text-align: right;\">\n",
       "      <th></th>\n",
       "      <th>alpha_50</th>\n",
       "      <th>beta_50</th>\n",
       "      <th>radius_50</th>\n",
       "      <th>z_range_50</th>\n",
       "      <th>density_50</th>\n",
       "      <th>verticality_50</th>\n",
       "      <th>linearity_50</th>\n",
       "      <th>anisotropy_50</th>\n",
       "      <th>eigenentropy_50</th>\n",
       "      <th>r</th>\n",
       "      <th>...</th>\n",
       "      <th>alpha_1500</th>\n",
       "      <th>beta_1500</th>\n",
       "      <th>radius_1500</th>\n",
       "      <th>z_range_1500</th>\n",
       "      <th>density_1500</th>\n",
       "      <th>verticality_1500</th>\n",
       "      <th>linearity_1500</th>\n",
       "      <th>anisotropy_1500</th>\n",
       "      <th>eigenentropy_1500</th>\n",
       "      <th>label</th>\n",
       "    </tr>\n",
       "  </thead>\n",
       "  <tbody>\n",
       "    <tr>\n",
       "      <th>16332</th>\n",
       "      <td>0.059856</td>\n",
       "      <td>0.939642</td>\n",
       "      <td>1.214550</td>\n",
       "      <td>0.310654</td>\n",
       "      <td>6.928967</td>\n",
       "      <td>0.537966</td>\n",
       "      <td>0.112970</td>\n",
       "      <td>0.999685</td>\n",
       "      <td>0.692859</td>\n",
       "      <td>174.0</td>\n",
       "      <td>...</td>\n",
       "      <td>0.051244</td>\n",
       "      <td>0.947824</td>\n",
       "      <td>1.214550</td>\n",
       "      <td>1.857300</td>\n",
       "      <td>200.140558</td>\n",
       "      <td>0.545365</td>\n",
       "      <td>0.097520</td>\n",
       "      <td>0.999409</td>\n",
       "      <td>0.694438</td>\n",
       "      <td>1</td>\n",
       "    </tr>\n",
       "    <tr>\n",
       "      <th>12916</th>\n",
       "      <td>0.185341</td>\n",
       "      <td>0.763293</td>\n",
       "      <td>0.996799</td>\n",
       "      <td>0.233032</td>\n",
       "      <td>12.534067</td>\n",
       "      <td>0.768773</td>\n",
       "      <td>0.317305</td>\n",
       "      <td>0.970687</td>\n",
       "      <td>0.750315</td>\n",
       "      <td>167.0</td>\n",
       "      <td>...</td>\n",
       "      <td>0.069560</td>\n",
       "      <td>0.846920</td>\n",
       "      <td>0.996799</td>\n",
       "      <td>1.185410</td>\n",
       "      <td>362.041699</td>\n",
       "      <td>0.301539</td>\n",
       "      <td>0.133548</td>\n",
       "      <td>0.946550</td>\n",
       "      <td>0.798511</td>\n",
       "      <td>0</td>\n",
       "    </tr>\n",
       "    <tr>\n",
       "      <th>5135</th>\n",
       "      <td>0.063287</td>\n",
       "      <td>0.936544</td>\n",
       "      <td>1.186942</td>\n",
       "      <td>0.301422</td>\n",
       "      <td>7.423808</td>\n",
       "      <td>0.513890</td>\n",
       "      <td>0.119047</td>\n",
       "      <td>0.999894</td>\n",
       "      <td>0.691710</td>\n",
       "      <td>169.0</td>\n",
       "      <td>...</td>\n",
       "      <td>0.009350</td>\n",
       "      <td>0.990321</td>\n",
       "      <td>1.186942</td>\n",
       "      <td>1.771194</td>\n",
       "      <td>214.433831</td>\n",
       "      <td>0.519601</td>\n",
       "      <td>0.018529</td>\n",
       "      <td>0.999783</td>\n",
       "      <td>0.694136</td>\n",
       "      <td>1</td>\n",
       "    </tr>\n",
       "    <tr>\n",
       "      <th>15633</th>\n",
       "      <td>0.054607</td>\n",
       "      <td>0.939812</td>\n",
       "      <td>1.199713</td>\n",
       "      <td>0.244904</td>\n",
       "      <td>7.189229</td>\n",
       "      <td>0.326502</td>\n",
       "      <td>0.103741</td>\n",
       "      <td>0.996466</td>\n",
       "      <td>0.703918</td>\n",
       "      <td>166.0</td>\n",
       "      <td>...</td>\n",
       "      <td>0.034042</td>\n",
       "      <td>0.957867</td>\n",
       "      <td>1.199713</td>\n",
       "      <td>1.430237</td>\n",
       "      <td>207.658121</td>\n",
       "      <td>0.291905</td>\n",
       "      <td>0.066015</td>\n",
       "      <td>0.994770</td>\n",
       "      <td>0.709344</td>\n",
       "      <td>0</td>\n",
       "    </tr>\n",
       "    <tr>\n",
       "      <th>14377</th>\n",
       "      <td>0.062681</td>\n",
       "      <td>0.933825</td>\n",
       "      <td>1.195953</td>\n",
       "      <td>0.236206</td>\n",
       "      <td>7.257255</td>\n",
       "      <td>0.225639</td>\n",
       "      <td>0.118098</td>\n",
       "      <td>0.997806</td>\n",
       "      <td>0.699403</td>\n",
       "      <td>171.0</td>\n",
       "      <td>...</td>\n",
       "      <td>0.042605</td>\n",
       "      <td>0.948734</td>\n",
       "      <td>1.195953</td>\n",
       "      <td>1.416885</td>\n",
       "      <td>209.623009</td>\n",
       "      <td>0.270213</td>\n",
       "      <td>0.081955</td>\n",
       "      <td>0.994447</td>\n",
       "      <td>0.709999</td>\n",
       "      <td>0</td>\n",
       "    </tr>\n",
       "  </tbody>\n",
       "</table>\n",
       "<p>5 rows × 31 columns</p>\n",
       "</div>"
      ],
      "text/plain": [
       "       alpha_50   beta_50  radius_50  z_range_50  density_50  verticality_50  \\\n",
       "16332  0.059856  0.939642   1.214550    0.310654    6.928967        0.537966   \n",
       "12916  0.185341  0.763293   0.996799    0.233032   12.534067        0.768773   \n",
       "5135   0.063287  0.936544   1.186942    0.301422    7.423808        0.513890   \n",
       "15633  0.054607  0.939812   1.199713    0.244904    7.189229        0.326502   \n",
       "14377  0.062681  0.933825   1.195953    0.236206    7.257255        0.225639   \n",
       "\n",
       "       linearity_50  anisotropy_50  eigenentropy_50      r  ...    alpha_1500  \\\n",
       "16332      0.112970       0.999685         0.692859  174.0  ...      0.051244   \n",
       "12916      0.317305       0.970687         0.750315  167.0  ...      0.069560   \n",
       "5135       0.119047       0.999894         0.691710  169.0  ...      0.009350   \n",
       "15633      0.103741       0.996466         0.703918  166.0  ...      0.034042   \n",
       "14377      0.118098       0.997806         0.699403  171.0  ...      0.042605   \n",
       "\n",
       "       beta_1500  radius_1500  z_range_1500  density_1500  verticality_1500  \\\n",
       "16332   0.947824     1.214550      1.857300    200.140558          0.545365   \n",
       "12916   0.846920     0.996799      1.185410    362.041699          0.301539   \n",
       "5135    0.990321     1.186942      1.771194    214.433831          0.519601   \n",
       "15633   0.957867     1.199713      1.430237    207.658121          0.291905   \n",
       "14377   0.948734     1.195953      1.416885    209.623009          0.270213   \n",
       "\n",
       "       linearity_1500  anisotropy_1500  eigenentropy_1500  label  \n",
       "16332        0.097520         0.999409           0.694438      1  \n",
       "12916        0.133548         0.946550           0.798511      0  \n",
       "5135         0.018529         0.999783           0.694136      1  \n",
       "15633        0.066015         0.994770           0.709344      0  \n",
       "14377        0.081955         0.994447           0.709999      0  \n",
       "\n",
       "[5 rows x 31 columns]"
      ]
     },
     "execution_count": 25,
     "metadata": {},
     "output_type": "execute_result"
    }
   ],
   "source": [
    "print(\"Clean dataset shape: \", clean_dataset.shape)\n",
    "clean_dataset.head()"
   ]
  },
  {
   "cell_type": "markdown",
   "metadata": {},
   "source": [
    "### Logistic regression"
   ]
  },
  {
   "cell_type": "markdown",
   "metadata": {},
   "source": [
    "We will train a logistic regression model for predict the 3D point label, starting from our set of geometric features. This is a fairly classic example of supervised learning model, where explaining variables should not be correlated. In the following code, the final classifier is actually a pipeline that combines a simple scaler and the previous logistic regression."
   ]
  },
  {
   "cell_type": "code",
   "execution_count": 26,
   "metadata": {},
   "outputs": [
    {
     "name": "stderr",
     "output_type": "stream",
     "text": [
      "[16:11:58] warnings._showwarnmsg (WARNING) - /home/rde/.virtualenvs/univers/lib/python3.7/site-packages/sklearn/linear_model/logistic.py:947: ConvergenceWarning: lbfgs failed to converge. Increase the number of iterations.\n",
      "  \"of iterations.\", ConvergenceWarning)\n",
      "\n"
     ]
    }
   ],
   "source": [
    "clf = train_predictive_model(\n",
    "    clean_dataset.drop(columns=\"label\"), clean_dataset[\"label\"], seed=42\n",
    ")"
   ]
  },
  {
   "cell_type": "markdown",
   "metadata": {},
   "source": [
    "In order to test the robustness of the model, we cross-validate it with 5 different subsamples."
   ]
  },
  {
   "cell_type": "code",
   "execution_count": 27,
   "metadata": {},
   "outputs": [
    {
     "name": "stderr",
     "output_type": "stream",
     "text": [
      "[16:12:10] warnings._showwarnmsg (WARNING) - /home/rde/.virtualenvs/univers/lib/python3.7/site-packages/sklearn/linear_model/logistic.py:947: ConvergenceWarning: lbfgs failed to converge. Increase the number of iterations.\n",
      "  \"of iterations.\", ConvergenceWarning)\n",
      "\n",
      "[16:12:21] warnings._showwarnmsg (WARNING) - /home/rde/.virtualenvs/univers/lib/python3.7/site-packages/sklearn/linear_model/logistic.py:947: ConvergenceWarning: lbfgs failed to converge. Increase the number of iterations.\n",
      "  \"of iterations.\", ConvergenceWarning)\n",
      "\n",
      "[16:12:31] warnings._showwarnmsg (WARNING) - /home/rde/.virtualenvs/univers/lib/python3.7/site-packages/sklearn/linear_model/logistic.py:947: ConvergenceWarning: lbfgs failed to converge. Increase the number of iterations.\n",
      "  \"of iterations.\", ConvergenceWarning)\n",
      "\n",
      "[16:12:41] warnings._showwarnmsg (WARNING) - /home/rde/.virtualenvs/univers/lib/python3.7/site-packages/sklearn/linear_model/logistic.py:947: ConvergenceWarning: lbfgs failed to converge. Increase the number of iterations.\n",
      "  \"of iterations.\", ConvergenceWarning)\n",
      "\n",
      "[16:12:51] warnings._showwarnmsg (WARNING) - /home/rde/.virtualenvs/univers/lib/python3.7/site-packages/sklearn/linear_model/logistic.py:947: ConvergenceWarning: lbfgs failed to converge. Increase the number of iterations.\n",
      "  \"of iterations.\", ConvergenceWarning)\n",
      "\n"
     ]
    }
   ],
   "source": [
    "scores = cross_val_score(clf, clean_dataset.drop(columns=\"label\"), clean_dataset[\"label\"], cv=5)"
   ]
  },
  {
   "cell_type": "markdown",
   "metadata": {},
   "source": [
    "The precision scores are really close to 1, that meaning we may overfit our data..."
   ]
  },
  {
   "cell_type": "code",
   "execution_count": 28,
   "metadata": {},
   "outputs": [
    {
     "data": {
      "text/plain": [
       "array([0.99837078, 0.99837067, 0.99884589, 0.99884589, 0.99850645])"
      ]
     },
     "execution_count": 28,
     "metadata": {},
     "output_type": "execute_result"
    }
   ],
   "source": [
    "scores"
   ]
  },
  {
   "cell_type": "markdown",
   "metadata": {},
   "source": [
    "We can train the classifier on the whole dataset, and then, predict the labels for random points:"
   ]
  },
  {
   "cell_type": "code",
   "execution_count": 29,
   "metadata": {},
   "outputs": [
    {
     "name": "stdout",
     "output_type": "stream",
     "text": [
      "Random point classes:  [1 0 1 0 0]\n",
      "Predicted point classes:  [1 0 1 0 0]\n"
     ]
    },
    {
     "data": {
      "text/plain": [
       "array([[2.65896880e-02, 9.73392717e-01, 1.75947626e-05],\n",
       "       [9.99999846e-01, 1.31822799e-07, 2.24573608e-08],\n",
       "       [5.62791602e-03, 9.94369654e-01, 2.43015621e-06],\n",
       "       [9.72846384e-01, 2.69827589e-02, 1.70857246e-04],\n",
       "       [9.87985972e-01, 1.18963402e-02, 1.17687809e-04]])"
      ]
     },
     "execution_count": 29,
     "metadata": {},
     "output_type": "execute_result"
    }
   ],
   "source": [
    "print(\"Random point classes: \", clean_dataset[\"label\"].iloc[:5].values)\n",
    "print(\"Predicted point classes: \", clf.predict(clean_dataset.drop(columns=\"label\").iloc[:5]))\n",
    "clf.predict_proba(clean_dataset.drop(columns=\"label\").iloc[:5])"
   ]
  },
  {
   "cell_type": "markdown",
   "metadata": {},
   "source": [
    "### Learning model serialization"
   ]
  },
  {
   "cell_type": "markdown",
   "metadata": {},
   "source": [
    "We can save the model on the file system for further usage."
   ]
  },
  {
   "cell_type": "code",
   "execution_count": 30,
   "metadata": {},
   "outputs": [],
   "source": [
    "with open(\"model-pombourg.pkl\", \"wb\") as fobj:\n",
    "    pickle.dump(clf, fobj)"
   ]
  },
  {
   "cell_type": "markdown",
   "metadata": {},
   "source": [
    "### Prediction on the whole scene"
   ]
  },
  {
   "cell_type": "markdown",
   "metadata": {},
   "source": [
    "In order to predict all the labels, we have to standardize the column organization to make it similar as those which was used to build the model."
   ]
  },
  {
   "cell_type": "code",
   "execution_count": 31,
   "metadata": {},
   "outputs": [],
   "source": [
    "drop_cols = [\"planarity\", \"eigenvalue_ratio_2D\",\n",
    "            \"eigenvalue_sum_2D\", \"eigenvalue_sum\", \"radius_2D\", \"std_dev\", \"density_2D\",\n",
    "             \"scattering\", \"omnivariance\", \"curvature_change\"]\n",
    "dataset_cols_to_drop = sum((complete_with_voisin(x, NEIGHBORHOOD_SIZES) for x in drop_cols), [])"
   ]
  },
  {
   "cell_type": "code",
   "execution_count": 32,
   "metadata": {},
   "outputs": [],
   "source": [
    "cdf = features.drop(columns=dataset_cols_to_drop).drop(columns=[\"x\", \"y\", \"z\"])"
   ]
  },
  {
   "cell_type": "code",
   "execution_count": 33,
   "metadata": {},
   "outputs": [
    {
     "data": {
      "text/plain": [
       "(672193, 30)"
      ]
     },
     "execution_count": 33,
     "metadata": {},
     "output_type": "execute_result"
    }
   ],
   "source": [
    "cdf.shape"
   ]
  },
  {
   "cell_type": "code",
   "execution_count": 34,
   "metadata": {},
   "outputs": [
    {
     "data": {
      "text/plain": [
       "True"
      ]
     },
     "execution_count": 34,
     "metadata": {},
     "output_type": "execute_result"
    }
   ],
   "source": [
    "set(cdf.columns) == set(clean_dataset.drop(columns=\"label\").columns)"
   ]
  },
  {
   "cell_type": "code",
   "execution_count": 35,
   "metadata": {},
   "outputs": [],
   "source": [
    "features[\"label\"] = clf.predict(cdf.values)"
   ]
  },
  {
   "cell_type": "code",
   "execution_count": 36,
   "metadata": {},
   "outputs": [
    {
     "data": {
      "text/plain": [
       "label\n",
       "0    375437\n",
       "1    226152\n",
       "2     70604\n",
       "Name: label, dtype: int64"
      ]
     },
     "execution_count": 36,
     "metadata": {},
     "output_type": "execute_result"
    }
   ],
   "source": [
    "# Répartition des labels dans la scène total\n",
    "features.groupby(\"label\")[\"label\"].count()"
   ]
  },
  {
   "cell_type": "code",
   "execution_count": 37,
   "metadata": {},
   "outputs": [
    {
     "name": "stdout",
     "output_type": "stream",
     "text": [
      "{'eboulis': 0, 'falaise': 1, 'vegetation': 2}\n"
     ]
    }
   ],
   "source": [
    "print(LABELS)"
   ]
  },
  {
   "cell_type": "code",
   "execution_count": 38,
   "metadata": {},
   "outputs": [
    {
     "data": {
      "image/png": "[encoded data removed]",
      "text/plain": [
       "<Figure size 720x72 with 1 Axes>"
      ]
     },
     "metadata": {
      "needs_background": "light"
     },
     "output_type": "display_data"
    }
   ],
   "source": [
    "sns.palplot(sns.color_palette(\"colorblind\"))"
   ]
  },
  {
   "cell_type": "code",
   "execution_count": 39,
   "metadata": {},
   "outputs": [],
   "source": [
    "palette = sns.color_palette(\"colorblind\")\n",
    "colors = [palette[7],  # scree / gray\n",
    "          palette[0],  # cliff / blue\n",
    "          palette[2]]  # vegetation / green"
   ]
  },
  {
   "cell_type": "code",
   "execution_count": 40,
   "metadata": {},
   "outputs": [],
   "source": [
    "outdf = colorize_labels(features[COORDS], features[\"label\"], colors)"
   ]
  },
  {
   "cell_type": "code",
   "execution_count": 41,
   "metadata": {},
   "outputs": [],
   "source": [
    "output_file_path = DATADIR / \"output\" / PREFIX_NAME / \"classification\"\n",
    "output_file_path.mkdir(exist_ok=\"True\")\n",
    "write_las(outdf, output_file_path / \"pombourg-classification.las\", input_file_path)"
   ]
  },
  {
   "cell_type": "code",
   "execution_count": null,
   "metadata": {},
   "outputs": [],
   "source": []
  }
 ],
 "metadata": {
  "kernelspec": {
   "display_name": "Python 3",
   "language": "python",
   "name": "python3"
  },
  "language_info": {
   "codemirror_mode": {
    "name": "ipython",
    "version": 3
   },
   "file_extension": ".py",
   "mimetype": "text/x-python",
   "name": "python",
   "nbconvert_exporter": "python",
   "pygments_lexer": "ipython3",
   "version": "3.7.3"
  }
 },
 "nbformat": 4,
 "nbformat_minor": 2
}
